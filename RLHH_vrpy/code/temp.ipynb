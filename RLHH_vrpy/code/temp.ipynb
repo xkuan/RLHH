{
 "cells": [
  {
   "attachments": {},
   "cell_type": "markdown",
   "metadata": {},
   "source": [
    "## 启发式测试"
   ]
  },
  {
   "cell_type": "code",
   "execution_count": null,
   "metadata": {},
   "outputs": [],
   "source": [
    "import time\n",
    "from data import VCSPDataSet\n",
    "from vcsp import VehicleCrewScheduling\n",
    "from params import *\n",
    "\n",
    "data_path = '../data/shift_50_01.csv'\n",
    "data = VCSPDataSet(\n",
    "    path=data_path,\n",
    ")\n",
    "VCSP_model = VehicleCrewScheduling()\n",
    "VCSP_model.initialize(\n",
    "    data,\n",
    "    time_limit=600,\n",
    "    pricing_strategy='BestEdges2',\n",
    "    print_info=True\n",
    ")\n",
    "start = time.time()\n",
    "VCSP_model.solve()\n",
    "print('iteration:', VCSP_model.iteration)\n",
    "print('num_driver:', VCSP_model.num_driver)\n",
    "print('objval:', VCSP_model.objval)\n",
    "print(\"CG_time:\", time.time() - start)\n",
    "VCSP_model.print_solution()\n"
   ]
  },
  {
   "attachments": {},
   "cell_type": "markdown",
   "metadata": {},
   "source": [
    "## DQN-Env测试"
   ]
  },
  {
   "cell_type": "code",
   "execution_count": null,
   "metadata": {},
   "outputs": [],
   "source": [
    "import random\n",
    "from itertools import count\n",
    "import torch\n",
    "\n",
    "from CGEnv import CGEnv\n",
    "from params import *\n",
    "\n",
    "random.seed(567)\n",
    "n_actions = len(action_space)\n",
    "env = CGEnv(\"cuda\", config_test, action_space)\n",
    "state = env.reset(run_mode='train')\n",
    "for t in count():\n",
    "    action = torch.tensor([random.randrange(n_actions)], device=\"cuda\", dtype=torch.long)\n",
    "    next_state, reward, done, info = env.step(action.item())\n",
    "    print('ep:{}, t:{}, reward:{:.2f}, done:{}, objval:{:.2f}, heuristic:{}'.format(\n",
    "        1, t + 1, reward, done, info['objval'], info['pricing_strategy'],\n",
    "    ))\n",
    "    if done:\n",
    "        break"
   ]
  },
  {
   "cell_type": "markdown",
   "metadata": {},
   "source": [
    "## 获取测试案例"
   ]
  },
  {
   "cell_type": "code",
   "execution_count": 1,
   "metadata": {},
   "outputs": [],
   "source": [
    "import pandas as pd\n",
    "import numpy as np"
   ]
  },
  {
   "cell_type": "code",
   "execution_count": 2,
   "metadata": {},
   "outputs": [],
   "source": [
    "h1 = pd.read_csv(\"result/heuristc_test.csv\")\n",
    "# h1"
   ]
  },
  {
   "cell_type": "code",
   "execution_count": 3,
   "metadata": {},
   "outputs": [],
   "source": [
    "h2 = pd.read_csv(\"result/heuristc_test_r2.csv\")\n",
    "# h2"
   ]
  },
  {
   "cell_type": "code",
   "execution_count": 4,
   "metadata": {},
   "outputs": [],
   "source": [
    "h1 = h1[['instance', 'n']].drop_duplicates().values\n",
    "h2 = h2[['instance', 'n']].drop_duplicates().values"
   ]
  },
  {
   "cell_type": "code",
   "execution_count": 5,
   "metadata": {},
   "outputs": [
    {
     "name": "stdout",
     "output_type": "stream",
     "text": [
      "10 19\n"
     ]
    }
   ],
   "source": [
    "print(len(h1), len(h2))"
   ]
  },
  {
   "cell_type": "code",
   "execution_count": 6,
   "metadata": {},
   "outputs": [],
   "source": [
    "h = np.concatenate([h1, h2], axis=0)"
   ]
  },
  {
   "cell_type": "code",
   "execution_count": 7,
   "metadata": {},
   "outputs": [],
   "source": [
    "# h"
   ]
  },
  {
   "cell_type": "code",
   "execution_count": 8,
   "metadata": {},
   "outputs": [],
   "source": [
    "# np.save(\"../data/test_instances.npy\", h)"
   ]
  },
  {
   "cell_type": "markdown",
   "metadata": {},
   "source": [
    "## 结果测试"
   ]
  },
  {
   "cell_type": "code",
   "execution_count": 9,
   "metadata": {},
   "outputs": [],
   "source": [
    "result = pd.DataFrame(columns=['instance', 'n', 'iter', 'objval'])"
   ]
  },
  {
   "cell_type": "code",
   "execution_count": 10,
   "metadata": {},
   "outputs": [],
   "source": [
    "result.loc[len(result)] = [1,1,1,1]"
   ]
  },
  {
   "cell_type": "code",
   "execution_count": 11,
   "metadata": {},
   "outputs": [
    {
     "data": {
      "text/html": [
       "<div>\n",
       "<style scoped>\n",
       "    .dataframe tbody tr th:only-of-type {\n",
       "        vertical-align: middle;\n",
       "    }\n",
       "\n",
       "    .dataframe tbody tr th {\n",
       "        vertical-align: top;\n",
       "    }\n",
       "\n",
       "    .dataframe thead th {\n",
       "        text-align: right;\n",
       "    }\n",
       "</style>\n",
       "<table border=\"1\" class=\"dataframe\">\n",
       "  <thead>\n",
       "    <tr style=\"text-align: right;\">\n",
       "      <th></th>\n",
       "      <th>instance</th>\n",
       "      <th>n</th>\n",
       "      <th>iter</th>\n",
       "      <th>objval</th>\n",
       "    </tr>\n",
       "  </thead>\n",
       "  <tbody>\n",
       "    <tr>\n",
       "      <th>0</th>\n",
       "      <td>1</td>\n",
       "      <td>1</td>\n",
       "      <td>1</td>\n",
       "      <td>1</td>\n",
       "    </tr>\n",
       "  </tbody>\n",
       "</table>\n",
       "</div>"
      ],
      "text/plain": [
       "  instance  n iter objval\n",
       "0        1  1    1      1"
      ]
     },
     "execution_count": 11,
     "metadata": {},
     "output_type": "execute_result"
    }
   ],
   "source": [
    "result"
   ]
  },
  {
   "cell_type": "code",
   "execution_count": 12,
   "metadata": {},
   "outputs": [],
   "source": [
    "test_instances = np.load(\"../data/test_instances.npy\", allow_pickle=True)"
   ]
  },
  {
   "cell_type": "code",
   "execution_count": 14,
   "metadata": {},
   "outputs": [
    {
     "data": {
      "text/plain": [
       "29"
      ]
     },
     "execution_count": 14,
     "metadata": {},
     "output_type": "execute_result"
    }
   ],
   "source": [
    "len(test_instances)"
   ]
  },
  {
   "attachments": {},
   "cell_type": "markdown",
   "metadata": {},
   "source": [
    "## 合并启发式方法的结果"
   ]
  },
  {
   "cell_type": "code",
   "execution_count": 3,
   "metadata": {},
   "outputs": [],
   "source": [
    "import pandas as pd\n",
    "\n",
    "h1 = pd.read_csv(\"result/heuristic_ori.csv\")\n",
    "h2 = pd.read_csv(\"result/heuristic_add.csv\")"
   ]
  },
  {
   "cell_type": "code",
   "execution_count": 8,
   "metadata": {},
   "outputs": [
    {
     "data": {
      "text/html": [
       "<div>\n",
       "<style scoped>\n",
       "    .dataframe tbody tr th:only-of-type {\n",
       "        vertical-align: middle;\n",
       "    }\n",
       "\n",
       "    .dataframe tbody tr th {\n",
       "        vertical-align: top;\n",
       "    }\n",
       "\n",
       "    .dataframe thead th {\n",
       "        text-align: right;\n",
       "    }\n",
       "</style>\n",
       "<table border=\"1\" class=\"dataframe\">\n",
       "  <thead>\n",
       "    <tr style=\"text-align: right;\">\n",
       "      <th></th>\n",
       "      <th>No.</th>\n",
       "      <th>instance</th>\n",
       "      <th>n</th>\n",
       "      <th>method</th>\n",
       "      <th>iters</th>\n",
       "      <th>objval</th>\n",
       "      <th>time</th>\n",
       "    </tr>\n",
       "  </thead>\n",
       "  <tbody>\n",
       "    <tr>\n",
       "      <th>0</th>\n",
       "      <td>1</td>\n",
       "      <td>c208</td>\n",
       "      <td>28</td>\n",
       "      <td>BestEdges1</td>\n",
       "      <td>67</td>\n",
       "      <td>1450.3132</td>\n",
       "      <td>10.551422</td>\n",
       "    </tr>\n",
       "    <tr>\n",
       "      <th>1</th>\n",
       "      <td>1</td>\n",
       "      <td>c208</td>\n",
       "      <td>28</td>\n",
       "      <td>BestEdges2</td>\n",
       "      <td>127</td>\n",
       "      <td>993.3873</td>\n",
       "      <td>5.660862</td>\n",
       "    </tr>\n",
       "    <tr>\n",
       "      <th>3</th>\n",
       "      <td>1</td>\n",
       "      <td>c208</td>\n",
       "      <td>28</td>\n",
       "      <td>excat</td>\n",
       "      <td>52</td>\n",
       "      <td>1450.3132</td>\n",
       "      <td>33.381735</td>\n",
       "    </tr>\n",
       "    <tr>\n",
       "      <th>4</th>\n",
       "      <td>1</td>\n",
       "      <td>c208</td>\n",
       "      <td>28</td>\n",
       "      <td>Hyper</td>\n",
       "      <td>13</td>\n",
       "      <td>1245.7595</td>\n",
       "      <td>1.816167</td>\n",
       "    </tr>\n",
       "    <tr>\n",
       "      <th>5</th>\n",
       "      <td>2</td>\n",
       "      <td>c202</td>\n",
       "      <td>31</td>\n",
       "      <td>BestEdges1</td>\n",
       "      <td>1002</td>\n",
       "      <td>476.0060</td>\n",
       "      <td>93.140386</td>\n",
       "    </tr>\n",
       "    <tr>\n",
       "      <th>...</th>\n",
       "      <td>...</td>\n",
       "      <td>...</td>\n",
       "      <td>...</td>\n",
       "      <td>...</td>\n",
       "      <td>...</td>\n",
       "      <td>...</td>\n",
       "      <td>...</td>\n",
       "    </tr>\n",
       "    <tr>\n",
       "      <th>244</th>\n",
       "      <td>49</td>\n",
       "      <td>rc208</td>\n",
       "      <td>31</td>\n",
       "      <td>Hyper</td>\n",
       "      <td>4</td>\n",
       "      <td>2479.6858</td>\n",
       "      <td>599.491202</td>\n",
       "    </tr>\n",
       "    <tr>\n",
       "      <th>245</th>\n",
       "      <td>50</td>\n",
       "      <td>rc207</td>\n",
       "      <td>33</td>\n",
       "      <td>BestEdges1</td>\n",
       "      <td>49</td>\n",
       "      <td>2400.8878</td>\n",
       "      <td>49.632467</td>\n",
       "    </tr>\n",
       "    <tr>\n",
       "      <th>246</th>\n",
       "      <td>50</td>\n",
       "      <td>rc207</td>\n",
       "      <td>33</td>\n",
       "      <td>BestEdges2</td>\n",
       "      <td>70</td>\n",
       "      <td>2075.9260</td>\n",
       "      <td>67.252726</td>\n",
       "    </tr>\n",
       "    <tr>\n",
       "      <th>248</th>\n",
       "      <td>50</td>\n",
       "      <td>rc207</td>\n",
       "      <td>33</td>\n",
       "      <td>excat</td>\n",
       "      <td>44</td>\n",
       "      <td>2526.6523</td>\n",
       "      <td>303.087080</td>\n",
       "    </tr>\n",
       "    <tr>\n",
       "      <th>249</th>\n",
       "      <td>50</td>\n",
       "      <td>rc207</td>\n",
       "      <td>33</td>\n",
       "      <td>Hyper</td>\n",
       "      <td>64</td>\n",
       "      <td>2139.7454</td>\n",
       "      <td>45.441627</td>\n",
       "    </tr>\n",
       "  </tbody>\n",
       "</table>\n",
       "<p>200 rows × 7 columns</p>\n",
       "</div>"
      ],
      "text/plain": [
       "     No. instance   n      method  iters     objval        time\n",
       "0      1     c208  28  BestEdges1     67  1450.3132   10.551422\n",
       "1      1     c208  28  BestEdges2    127   993.3873    5.660862\n",
       "3      1     c208  28       excat     52  1450.3132   33.381735\n",
       "4      1     c208  28       Hyper     13  1245.7595    1.816167\n",
       "5      2     c202  31  BestEdges1   1002   476.0060   93.140386\n",
       "..   ...      ...  ..         ...    ...        ...         ...\n",
       "244   49    rc208  31       Hyper      4  2479.6858  599.491202\n",
       "245   50    rc207  33  BestEdges1     49  2400.8878   49.632467\n",
       "246   50    rc207  33  BestEdges2     70  2075.9260   67.252726\n",
       "248   50    rc207  33       excat     44  2526.6523  303.087080\n",
       "249   50    rc207  33       Hyper     64  2139.7454   45.441627\n",
       "\n",
       "[200 rows x 7 columns]"
      ]
     },
     "execution_count": 8,
     "metadata": {},
     "output_type": "execute_result"
    }
   ],
   "source": [
    "h1 = h1[h1['method'] != 'BestEdges3']\n",
    "h1.loc[h1['method'] == 'BestNodes', 'method'] = 'excat'\n",
    "h1"
   ]
  },
  {
   "cell_type": "code",
   "execution_count": 10,
   "metadata": {},
   "outputs": [
    {
     "data": {
      "text/html": [
       "<div>\n",
       "<style scoped>\n",
       "    .dataframe tbody tr th:only-of-type {\n",
       "        vertical-align: middle;\n",
       "    }\n",
       "\n",
       "    .dataframe tbody tr th {\n",
       "        vertical-align: top;\n",
       "    }\n",
       "\n",
       "    .dataframe thead th {\n",
       "        text-align: right;\n",
       "    }\n",
       "</style>\n",
       "<table border=\"1\" class=\"dataframe\">\n",
       "  <thead>\n",
       "    <tr style=\"text-align: right;\">\n",
       "      <th></th>\n",
       "      <th>No.</th>\n",
       "      <th>instance</th>\n",
       "      <th>n</th>\n",
       "      <th>method</th>\n",
       "      <th>iters</th>\n",
       "      <th>objval</th>\n",
       "      <th>time</th>\n",
       "    </tr>\n",
       "  </thead>\n",
       "  <tbody>\n",
       "    <tr>\n",
       "      <th>0</th>\n",
       "      <td>1</td>\n",
       "      <td>c208</td>\n",
       "      <td>28</td>\n",
       "      <td>BestEdges1</td>\n",
       "      <td>67</td>\n",
       "      <td>1450.3132</td>\n",
       "      <td>10.551422</td>\n",
       "    </tr>\n",
       "    <tr>\n",
       "      <th>1</th>\n",
       "      <td>1</td>\n",
       "      <td>c208</td>\n",
       "      <td>28</td>\n",
       "      <td>BestEdges2</td>\n",
       "      <td>127</td>\n",
       "      <td>993.3873</td>\n",
       "      <td>5.660862</td>\n",
       "    </tr>\n",
       "    <tr>\n",
       "      <th>0</th>\n",
       "      <td>1</td>\n",
       "      <td>c208</td>\n",
       "      <td>28</td>\n",
       "      <td>BestEdges3</td>\n",
       "      <td>72</td>\n",
       "      <td>1391.3514</td>\n",
       "      <td>6.814781</td>\n",
       "    </tr>\n",
       "    <tr>\n",
       "      <th>1</th>\n",
       "      <td>1</td>\n",
       "      <td>c208</td>\n",
       "      <td>28</td>\n",
       "      <td>BestNodes</td>\n",
       "      <td>108</td>\n",
       "      <td>1408.2438</td>\n",
       "      <td>15.223595</td>\n",
       "    </tr>\n",
       "    <tr>\n",
       "      <th>2</th>\n",
       "      <td>1</td>\n",
       "      <td>c208</td>\n",
       "      <td>28</td>\n",
       "      <td>BestPaths</td>\n",
       "      <td>91</td>\n",
       "      <td>1261.3643</td>\n",
       "      <td>33.674544</td>\n",
       "    </tr>\n",
       "    <tr>\n",
       "      <th>4</th>\n",
       "      <td>1</td>\n",
       "      <td>c208</td>\n",
       "      <td>28</td>\n",
       "      <td>Hyper</td>\n",
       "      <td>13</td>\n",
       "      <td>1245.7595</td>\n",
       "      <td>1.816167</td>\n",
       "    </tr>\n",
       "    <tr>\n",
       "      <th>3</th>\n",
       "      <td>1</td>\n",
       "      <td>c208</td>\n",
       "      <td>28</td>\n",
       "      <td>excat</td>\n",
       "      <td>52</td>\n",
       "      <td>1450.3132</td>\n",
       "      <td>33.381735</td>\n",
       "    </tr>\n",
       "    <tr>\n",
       "      <th>5</th>\n",
       "      <td>2</td>\n",
       "      <td>c202</td>\n",
       "      <td>31</td>\n",
       "      <td>BestEdges1</td>\n",
       "      <td>1002</td>\n",
       "      <td>476.0060</td>\n",
       "      <td>93.140386</td>\n",
       "    </tr>\n",
       "    <tr>\n",
       "      <th>6</th>\n",
       "      <td>2</td>\n",
       "      <td>c202</td>\n",
       "      <td>31</td>\n",
       "      <td>BestEdges2</td>\n",
       "      <td>627</td>\n",
       "      <td>404.6036</td>\n",
       "      <td>36.896697</td>\n",
       "    </tr>\n",
       "    <tr>\n",
       "      <th>3</th>\n",
       "      <td>2</td>\n",
       "      <td>c202</td>\n",
       "      <td>31</td>\n",
       "      <td>BestEdges3</td>\n",
       "      <td>1183</td>\n",
       "      <td>300.6880</td>\n",
       "      <td>134.168279</td>\n",
       "    </tr>\n",
       "  </tbody>\n",
       "</table>\n",
       "</div>"
      ],
      "text/plain": [
       "   No. instance   n      method  iters     objval        time\n",
       "0    1     c208  28  BestEdges1     67  1450.3132   10.551422\n",
       "1    1     c208  28  BestEdges2    127   993.3873    5.660862\n",
       "0    1     c208  28  BestEdges3     72  1391.3514    6.814781\n",
       "1    1     c208  28   BestNodes    108  1408.2438   15.223595\n",
       "2    1     c208  28   BestPaths     91  1261.3643   33.674544\n",
       "4    1     c208  28       Hyper     13  1245.7595    1.816167\n",
       "3    1     c208  28       excat     52  1450.3132   33.381735\n",
       "5    2     c202  31  BestEdges1   1002   476.0060   93.140386\n",
       "6    2     c202  31  BestEdges2    627   404.6036   36.896697\n",
       "3    2     c202  31  BestEdges3   1183   300.6880  134.168279"
      ]
     },
     "execution_count": 10,
     "metadata": {},
     "output_type": "execute_result"
    }
   ],
   "source": [
    "h = pd.concat([h1, h2]).sort_values(['No.', 'method'])\n",
    "h.head(10)"
   ]
  },
  {
   "cell_type": "code",
   "execution_count": 11,
   "metadata": {},
   "outputs": [],
   "source": [
    "h.to_csv('result/heuristic.csv', index=False)"
   ]
  },
  {
   "cell_type": "code",
   "execution_count": null,
   "metadata": {},
   "outputs": [],
   "source": []
  },
  {
   "attachments": {},
   "cell_type": "markdown",
   "metadata": {},
   "source": [
    "## PPT图片"
   ]
  },
  {
   "attachments": {},
   "cell_type": "markdown",
   "metadata": {},
   "source": [
    "[python基础 - networkx 绘图总结](https://blog.csdn.net/qq_19446965/article/details/106745837)"
   ]
  },
  {
   "cell_type": "code",
   "execution_count": 1,
   "metadata": {},
   "outputs": [],
   "source": [
    "import numpy as np\n",
    "import pandas as pd\n",
    "import networkx as nx\n",
    "from matplotlib import pyplot as plt\n",
    "import matplotlib\n",
    "%matplotlib inline\n",
    "%config InlineBackend.figure_format = 'svg'\n",
    "\n",
    "# 设置matplotlib正常显示中文和负号\n",
    "matplotlib.rcParams['font.sans-serif']=['SimHei']   # 用黑体显示中文\n",
    "matplotlib.rcParams['axes.unicode_minus']=False     # 正常显示负号"
   ]
  },
  {
   "attachments": {},
   "cell_type": "markdown",
   "metadata": {},
   "source": [
    "### 约简定价网络"
   ]
  },
  {
   "cell_type": "code",
   "execution_count": 13,
   "metadata": {},
   "outputs": [
    {
     "data": {
      "image/svg+xml": "<?xml version=\"1.0\" encoding=\"utf-8\" standalone=\"no\"?>\n<!DOCTYPE svg PUBLIC \"-//W3C//DTD SVG 1.1//EN\"\n  \"http://www.w3.org/Graphics/SVG/1.1/DTD/svg11.dtd\">\n<svg xmlns:xlink=\"http://www.w3.org/1999/xlink\" width=\"475.2pt\" height=\"360pt\" viewBox=\"0 0 475.2 360\" xmlns=\"http://www.w3.org/2000/svg\" version=\"1.1\">\n <metadata>\n  <rdf:RDF xmlns:dc=\"http://purl.org/dc/elements/1.1/\" xmlns:cc=\"http://creativecommons.org/ns#\" xmlns:rdf=\"http://www.w3.org/1999/02/22-rdf-syntax-ns#\">\n   <cc:Work>\n    <dc:type rdf:resource=\"http://purl.org/dc/dcmitype/StillImage\"/>\n    <dc:date>2022-10-16T10:59:10.969984</dc:date>\n    <dc:format>image/svg+xml</dc:format>\n    <dc:creator>\n     <cc:Agent>\n      <dc:title>Matplotlib v3.5.3, https://matplotlib.org/</dc:title>\n     </cc:Agent>\n    </dc:creator>\n   </cc:Work>\n  </rdf:RDF>\n </metadata>\n <defs>\n  <style type=\"text/css\">*{stroke-linejoin: round; stroke-linecap: butt}</style>\n </defs>\n <g id=\"figure_1\">\n  <g id=\"patch_1\">\n   <path d=\"M 0 360 \nL 475.2 360 \nL 475.2 0 \nL 0 0 \nz\n\" style=\"fill: #ffffff\"/>\n  </g>\n  <g id=\"axes_1\">\n   <g id=\"LineCollection_1\">\n    <path d=\"M 107.358488 274.093645 \nL 242.656747 169.78965 \n\" clip-path=\"url(#p59919be08b)\" style=\"fill: none; stroke: #f7fbff; stroke-width: 2\"/>\n    <path d=\"M 107.358488 274.093645 \nL 307.915745 37.190083 \n\" clip-path=\"url(#p59919be08b)\" style=\"fill: none; stroke: #f0f6fd; stroke-width: 2\"/>\n    <path d=\"M 107.358488 274.093645 \nL 428.013223 128.773348 \n\" clip-path=\"url(#p59919be08b)\" style=\"fill: none; stroke: #e9f2fa; stroke-width: 2\"/>\n    <path d=\"M 107.358488 274.093645 \nL 47.186777 157.189687 \n\" clip-path=\"url(#p59919be08b)\" style=\"fill: none; stroke: #e1edf8; stroke-width: 2\"/>\n    <path d=\"M 107.358488 274.093645 \nL 400.708749 254.588714 \n\" clip-path=\"url(#p59919be08b)\" style=\"fill: none; stroke: #dae8f6; stroke-width: 2\"/>\n    <path d=\"M 107.358488 274.093645 \nL 137.931554 47.587247 \n\" clip-path=\"url(#p59919be08b)\" style=\"fill: none; stroke: #d3e3f3; stroke-width: 2\"/>\n    <path d=\"M 107.358488 274.093645 \nL 259.78017 322.809917 \n\" clip-path=\"url(#p59919be08b)\" style=\"fill: none; stroke: #ccdff1; stroke-width: 2\"/>\n    <path d=\"M 242.656747 169.78965 \nL 307.915745 37.190083 \n\" clip-path=\"url(#p59919be08b)\" style=\"fill: none; stroke: #c3daee; stroke-width: 2\"/>\n    <path d=\"M 242.656747 169.78965 \nL 428.013223 128.773348 \n\" clip-path=\"url(#p59919be08b)\" style=\"fill: none; stroke: #b8d5ea; stroke-width: 2\"/>\n    <path d=\"M 242.656747 169.78965 \nL 47.186777 157.189687 \n\" clip-path=\"url(#p59919be08b)\" style=\"fill: none; stroke: #abd0e6; stroke-width: 2\"/>\n    <path d=\"M 242.656747 169.78965 \nL 400.708749 254.588714 \n\" clip-path=\"url(#p59919be08b)\" style=\"fill: none; stroke: #a0cbe2; stroke-width: 2\"/>\n    <path d=\"M 242.656747 169.78965 \nL 137.931554 47.587247 \n\" clip-path=\"url(#p59919be08b)\" style=\"fill: none; stroke: #91c3de; stroke-width: 2\"/>\n    <path d=\"M 242.656747 169.78965 \nL 259.78017 322.809917 \n\" clip-path=\"url(#p59919be08b)\" style=\"fill: none; stroke: #82bbdb; stroke-width: 2\"/>\n    <path d=\"M 307.915745 37.190083 \nL 428.013223 128.773348 \n\" clip-path=\"url(#p59919be08b)\" style=\"fill: none; stroke: #72b2d8; stroke-width: 2\"/>\n    <path d=\"M 307.915745 37.190083 \nL 47.186777 157.189687 \n\" clip-path=\"url(#p59919be08b)\" style=\"fill: none; stroke: #65aad4; stroke-width: 2\"/>\n    <path d=\"M 307.915745 37.190083 \nL 400.708749 254.588714 \n\" clip-path=\"url(#p59919be08b)\" style=\"fill: none; stroke: #58a1cf; stroke-width: 2\"/>\n    <path d=\"M 307.915745 37.190083 \nL 137.931554 47.587247 \n\" clip-path=\"url(#p59919be08b)\" style=\"fill: none; stroke: #4d99ca; stroke-width: 2\"/>\n    <path d=\"M 307.915745 37.190083 \nL 259.78017 322.809917 \n\" clip-path=\"url(#p59919be08b)\" style=\"fill: none; stroke: #4090c5; stroke-width: 2\"/>\n    <path d=\"M 428.013223 128.773348 \nL 47.186777 157.189687 \n\" clip-path=\"url(#p59919be08b)\" style=\"fill: none; stroke: #3787c0; stroke-width: 2\"/>\n    <path d=\"M 428.013223 128.773348 \nL 400.708749 254.588714 \n\" clip-path=\"url(#p59919be08b)\" style=\"fill: none; stroke: #2d7dbb; stroke-width: 2\"/>\n    <path d=\"M 428.013223 128.773348 \nL 137.931554 47.587247 \n\" clip-path=\"url(#p59919be08b)\" style=\"fill: none; stroke: #2373b6; stroke-width: 2\"/>\n    <path d=\"M 428.013223 128.773348 \nL 259.78017 322.809917 \n\" clip-path=\"url(#p59919be08b)\" style=\"fill: none; stroke: #1b69af; stroke-width: 2\"/>\n    <path d=\"M 47.186777 157.189687 \nL 400.708749 254.588714 \n\" clip-path=\"url(#p59919be08b)\" style=\"fill: none; stroke: #1460a8; stroke-width: 2\"/>\n    <path d=\"M 47.186777 157.189687 \nL 137.931554 47.587247 \n\" clip-path=\"url(#p59919be08b)\" style=\"fill: none; stroke: #0c56a0; stroke-width: 2\"/>\n    <path d=\"M 47.186777 157.189687 \nL 259.78017 322.809917 \n\" clip-path=\"url(#p59919be08b)\" style=\"fill: none; stroke: #084d96; stroke-width: 2\"/>\n    <path d=\"M 400.708749 254.588714 \nL 137.931554 47.587247 \n\" clip-path=\"url(#p59919be08b)\" style=\"fill: none; stroke: #084387; stroke-width: 2\"/>\n    <path d=\"M 400.708749 254.588714 \nL 259.78017 322.809917 \n\" clip-path=\"url(#p59919be08b)\" style=\"fill: none; stroke: #083979; stroke-width: 2\"/>\n    <path d=\"M 137.931554 47.587247 \nL 259.78017 322.809917 \n\" clip-path=\"url(#p59919be08b)\" style=\"fill: none; stroke: #08306b; stroke-width: 2\"/>\n   </g>\n   <g id=\"PathCollection_1\">\n    <defs>\n     <path id=\"C0_0_eb6e75f991\" d=\"M 0 8.660254 \nC 2.296726 8.660254 4.499694 7.747755 6.123724 6.123724 \nC 7.747755 4.499694 8.660254 2.296726 8.660254 -0 \nC 8.660254 -2.296726 7.747755 -4.499694 6.123724 -6.123724 \nC 4.499694 -7.747755 2.296726 -8.660254 0 -8.660254 \nC -2.296726 -8.660254 -4.499694 -7.747755 -6.123724 -6.123724 \nC -7.747755 -4.499694 -8.660254 -2.296726 -8.660254 0 \nC -8.660254 2.296726 -7.747755 4.499694 -6.123724 6.123724 \nC -4.499694 7.747755 -2.296726 8.660254 0 8.660254 \nz\n\"/>\n    </defs>\n    <g clip-path=\"url(#p59919be08b)\">\n     <use xlink:href=\"#C0_0_eb6e75f991\" x=\"107.358488\" y=\"274.093645\" style=\"fill: #a0cbe2; stroke: #a0cbe2\"/>\n    </g>\n    <g clip-path=\"url(#p59919be08b)\">\n     <use xlink:href=\"#C0_0_eb6e75f991\" x=\"242.656747\" y=\"169.78965\" style=\"fill: #a0cbe2; stroke: #a0cbe2\"/>\n    </g>\n    <g clip-path=\"url(#p59919be08b)\">\n     <use xlink:href=\"#C0_0_eb6e75f991\" x=\"307.915745\" y=\"37.190083\" style=\"fill: #a0cbe2; stroke: #a0cbe2\"/>\n    </g>\n    <g clip-path=\"url(#p59919be08b)\">\n     <use xlink:href=\"#C0_0_eb6e75f991\" x=\"428.013223\" y=\"128.773348\" style=\"fill: #a0cbe2; stroke: #a0cbe2\"/>\n    </g>\n    <g clip-path=\"url(#p59919be08b)\">\n     <use xlink:href=\"#C0_0_eb6e75f991\" x=\"47.186777\" y=\"157.189687\" style=\"fill: #a0cbe2; stroke: #a0cbe2\"/>\n    </g>\n    <g clip-path=\"url(#p59919be08b)\">\n     <use xlink:href=\"#C0_0_eb6e75f991\" x=\"400.708749\" y=\"254.588714\" style=\"fill: #a0cbe2; stroke: #a0cbe2\"/>\n    </g>\n    <g clip-path=\"url(#p59919be08b)\">\n     <use xlink:href=\"#C0_0_eb6e75f991\" x=\"137.931554\" y=\"47.587247\" style=\"fill: #a0cbe2; stroke: #a0cbe2\"/>\n    </g>\n    <g clip-path=\"url(#p59919be08b)\">\n     <use xlink:href=\"#C0_0_eb6e75f991\" x=\"259.78017\" y=\"322.809917\" style=\"fill: #ff0000; stroke: #ff0000\"/>\n    </g>\n   </g>\n  </g>\n </g>\n <defs>\n  <clipPath id=\"p59919be08b\">\n   <rect x=\"7.2\" y=\"7.2\" width=\"460.8\" height=\"345.6\"/>\n  </clipPath>\n </defs>\n</svg>\n",
      "text/plain": [
       "<Figure size 640x480 with 1 Axes>"
      ]
     },
     "metadata": {},
     "output_type": "display_data"
    }
   ],
   "source": [
    "n = 8\n",
    "G = nx.complete_graph(n)\n",
    "pos = nx.spring_layout(G)  # 布局为中心放射状\n",
    "edge_colors = range(len(G.edges()))\n",
    "node_colors = ['#A0CBE2']*(n-1)\n",
    "node_colors.append(\"red\")\n",
    "nx.draw(G, pos, node_color=node_colors, edge_color=edge_colors, width=2, edge_cmap=plt.cm.Blues, with_labels=False)\n",
    "plt.show()"
   ]
  },
  {
   "cell_type": "code",
   "execution_count": 15,
   "metadata": {},
   "outputs": [
    {
     "data": {
      "image/svg+xml": "<?xml version=\"1.0\" encoding=\"utf-8\" standalone=\"no\"?>\n<!DOCTYPE svg PUBLIC \"-//W3C//DTD SVG 1.1//EN\"\n  \"http://www.w3.org/Graphics/SVG/1.1/DTD/svg11.dtd\">\n<svg xmlns:xlink=\"http://www.w3.org/1999/xlink\" width=\"475.2pt\" height=\"360pt\" viewBox=\"0 0 475.2 360\" xmlns=\"http://www.w3.org/2000/svg\" version=\"1.1\">\n <metadata>\n  <rdf:RDF xmlns:dc=\"http://purl.org/dc/elements/1.1/\" xmlns:cc=\"http://creativecommons.org/ns#\" xmlns:rdf=\"http://www.w3.org/1999/02/22-rdf-syntax-ns#\">\n   <cc:Work>\n    <dc:type rdf:resource=\"http://purl.org/dc/dcmitype/StillImage\"/>\n    <dc:date>2022-10-16T11:15:03.669788</dc:date>\n    <dc:format>image/svg+xml</dc:format>\n    <dc:creator>\n     <cc:Agent>\n      <dc:title>Matplotlib v3.5.3, https://matplotlib.org/</dc:title>\n     </cc:Agent>\n    </dc:creator>\n   </cc:Work>\n  </rdf:RDF>\n </metadata>\n <defs>\n  <style type=\"text/css\">*{stroke-linejoin: round; stroke-linecap: butt}</style>\n </defs>\n <g id=\"figure_1\">\n  <g id=\"patch_1\">\n   <path d=\"M 0 360 \nL 475.2 360 \nL 475.2 0 \nL 0 0 \nz\n\" style=\"fill: #ffffff\"/>\n  </g>\n  <g id=\"axes_1\">\n   <g id=\"LineCollection_1\">\n    <path d=\"M 107.358488 274.093645 \nL 242.656747 169.78965 \n\" clip-path=\"url(#pce76517d41)\" style=\"fill: none; stroke: #f7fbff; stroke-width: 2\"/>\n    <path d=\"M 107.358488 274.093645 \nL 307.915745 37.190083 \n\" clip-path=\"url(#pce76517d41)\" style=\"fill: none; stroke: #f0f6fd; stroke-width: 2\"/>\n    <path d=\"M 107.358488 274.093645 \nL 428.013223 128.773348 \n\" clip-path=\"url(#pce76517d41)\" style=\"fill: none; stroke: #e9f2fa; stroke-width: 2\"/>\n    <path d=\"M 107.358488 274.093645 \nL 47.186777 157.189687 \n\" clip-path=\"url(#pce76517d41)\" style=\"fill: none; stroke: #e1edf8; stroke-width: 2\"/>\n    <path d=\"M 107.358488 274.093645 \nL 400.708749 254.588714 \n\" clip-path=\"url(#pce76517d41)\" style=\"fill: none; stroke: #dae8f6; stroke-width: 2\"/>\n    <path d=\"M 107.358488 274.093645 \nL 137.931554 47.587247 \n\" clip-path=\"url(#pce76517d41)\" style=\"fill: none; stroke: #d3e3f3; stroke-width: 2\"/>\n    <path d=\"M 107.358488 274.093645 \nL 259.78017 322.809917 \n\" clip-path=\"url(#pce76517d41)\" style=\"fill: none; stroke: #ccdff1; stroke-width: 2\"/>\n    <path d=\"M 242.656747 169.78965 \nL 307.915745 37.190083 \n\" clip-path=\"url(#pce76517d41)\" style=\"fill: none; stroke: #c3daee; stroke-width: 2\"/>\n    <path d=\"M 242.656747 169.78965 \nL 428.013223 128.773348 \n\" clip-path=\"url(#pce76517d41)\" style=\"fill: none; stroke: #b8d5ea; stroke-width: 2\"/>\n    <path d=\"M 242.656747 169.78965 \nL 47.186777 157.189687 \n\" clip-path=\"url(#pce76517d41)\" style=\"fill: none; stroke: #abd0e6; stroke-width: 2\"/>\n    <path d=\"M 242.656747 169.78965 \nL 400.708749 254.588714 \n\" clip-path=\"url(#pce76517d41)\" style=\"fill: none; stroke: #a0cbe2; stroke-width: 2\"/>\n    <path d=\"M 242.656747 169.78965 \nL 137.931554 47.587247 \n\" clip-path=\"url(#pce76517d41)\" style=\"fill: none; stroke: #91c3de; stroke-width: 2\"/>\n    <path d=\"M 242.656747 169.78965 \nL 259.78017 322.809917 \n\" clip-path=\"url(#pce76517d41)\" style=\"fill: none; stroke: #82bbdb; stroke-width: 2\"/>\n    <path d=\"M 307.915745 37.190083 \nL 428.013223 128.773348 \n\" clip-path=\"url(#pce76517d41)\" style=\"fill: none; stroke: #72b2d8; stroke-width: 2\"/>\n    <path d=\"M 307.915745 37.190083 \nL 47.186777 157.189687 \n\" clip-path=\"url(#pce76517d41)\" style=\"fill: none; stroke: #65aad4; stroke-width: 2\"/>\n    <path d=\"M 307.915745 37.190083 \nL 400.708749 254.588714 \n\" clip-path=\"url(#pce76517d41)\" style=\"fill: none; stroke: #58a1cf; stroke-width: 2\"/>\n    <path d=\"M 307.915745 37.190083 \nL 137.931554 47.587247 \n\" clip-path=\"url(#pce76517d41)\" style=\"fill: none; stroke: #4d99ca; stroke-width: 2\"/>\n    <path d=\"M 307.915745 37.190083 \nL 259.78017 322.809917 \n\" clip-path=\"url(#pce76517d41)\" style=\"fill: none; stroke: #4090c5; stroke-width: 2\"/>\n    <path d=\"M 428.013223 128.773348 \nL 47.186777 157.189687 \n\" clip-path=\"url(#pce76517d41)\" style=\"fill: none; stroke: #3787c0; stroke-width: 2\"/>\n    <path d=\"M 428.013223 128.773348 \nL 400.708749 254.588714 \n\" clip-path=\"url(#pce76517d41)\" style=\"fill: none; stroke: #2d7dbb; stroke-width: 2\"/>\n    <path d=\"M 428.013223 128.773348 \nL 137.931554 47.587247 \n\" clip-path=\"url(#pce76517d41)\" style=\"fill: none; stroke: #2373b6; stroke-width: 2\"/>\n    <path d=\"M 428.013223 128.773348 \nL 259.78017 322.809917 \n\" clip-path=\"url(#pce76517d41)\" style=\"fill: none; stroke: #1b69af; stroke-width: 2\"/>\n    <path d=\"M 47.186777 157.189687 \nL 400.708749 254.588714 \n\" clip-path=\"url(#pce76517d41)\" style=\"fill: none; stroke: #1460a8; stroke-width: 2\"/>\n    <path d=\"M 47.186777 157.189687 \nL 137.931554 47.587247 \n\" clip-path=\"url(#pce76517d41)\" style=\"fill: none; stroke: #0c56a0; stroke-width: 2\"/>\n    <path d=\"M 47.186777 157.189687 \nL 259.78017 322.809917 \n\" clip-path=\"url(#pce76517d41)\" style=\"fill: none; stroke: #084d96; stroke-width: 2\"/>\n    <path d=\"M 400.708749 254.588714 \nL 137.931554 47.587247 \n\" clip-path=\"url(#pce76517d41)\" style=\"fill: none; stroke: #084387; stroke-width: 2\"/>\n    <path d=\"M 400.708749 254.588714 \nL 259.78017 322.809917 \n\" clip-path=\"url(#pce76517d41)\" style=\"fill: none; stroke: #083979; stroke-width: 2\"/>\n    <path d=\"M 137.931554 47.587247 \nL 259.78017 322.809917 \n\" clip-path=\"url(#pce76517d41)\" style=\"fill: none; stroke: #08306b; stroke-width: 2\"/>\n   </g>\n   <g id=\"PathCollection_1\">\n    <defs>\n     <path id=\"C0_0_fa6f47b25e\" d=\"M 0 8.660254 \nC 2.296726 8.660254 4.499694 7.747755 6.123724 6.123724 \nC 7.747755 4.499694 8.660254 2.296726 8.660254 -0 \nC 8.660254 -2.296726 7.747755 -4.499694 6.123724 -6.123724 \nC 4.499694 -7.747755 2.296726 -8.660254 0 -8.660254 \nC -2.296726 -8.660254 -4.499694 -7.747755 -6.123724 -6.123724 \nC -7.747755 -4.499694 -8.660254 -2.296726 -8.660254 0 \nC -8.660254 2.296726 -7.747755 4.499694 -6.123724 6.123724 \nC -4.499694 7.747755 -2.296726 8.660254 0 8.660254 \nz\n\"/>\n    </defs>\n    <g clip-path=\"url(#pce76517d41)\">\n     <use xlink:href=\"#C0_0_fa6f47b25e\" x=\"107.358488\" y=\"274.093645\" style=\"fill: #a0cbe2; stroke: #a0cbe2\"/>\n    </g>\n    <g clip-path=\"url(#pce76517d41)\">\n     <use xlink:href=\"#C0_0_fa6f47b25e\" x=\"242.656747\" y=\"169.78965\" style=\"fill: #a0cbe2; stroke: #a0cbe2\"/>\n    </g>\n    <g clip-path=\"url(#pce76517d41)\">\n     <use xlink:href=\"#C0_0_fa6f47b25e\" x=\"307.915745\" y=\"37.190083\" style=\"fill: #a0cbe2; stroke: #a0cbe2\"/>\n    </g>\n    <g clip-path=\"url(#pce76517d41)\">\n     <use xlink:href=\"#C0_0_fa6f47b25e\" x=\"428.013223\" y=\"128.773348\" style=\"fill: #a0cbe2; stroke: #a0cbe2\"/>\n    </g>\n    <g clip-path=\"url(#pce76517d41)\">\n     <use xlink:href=\"#C0_0_fa6f47b25e\" x=\"47.186777\" y=\"157.189687\" style=\"fill: #a0cbe2; stroke: #a0cbe2\"/>\n    </g>\n    <g clip-path=\"url(#pce76517d41)\">\n     <use xlink:href=\"#C0_0_fa6f47b25e\" x=\"400.708749\" y=\"254.588714\" style=\"fill: #a0cbe2; stroke: #a0cbe2\"/>\n    </g>\n    <g clip-path=\"url(#pce76517d41)\">\n     <use xlink:href=\"#C0_0_fa6f47b25e\" x=\"137.931554\" y=\"47.587247\" style=\"fill: #a0cbe2; stroke: #a0cbe2\"/>\n    </g>\n    <g clip-path=\"url(#pce76517d41)\">\n     <use xlink:href=\"#C0_0_fa6f47b25e\" x=\"259.78017\" y=\"322.809917\" style=\"fill: #ff0000; stroke: #ff0000\"/>\n    </g>\n   </g>\n   <g id=\"text_1\">\n    <g clip-path=\"url(#pce76517d41)\">\n     <!-- 0 -->\n     <g transform=\"translate(104.358488 277.468645)scale(0.12 -0.12)\">\n      <defs>\n       <path id=\"SimHei-30\" d=\"M 225 2537 \nQ 250 3200 412 3587 \nQ 575 3975 875 4225 \nQ 1175 4475 1612 4475 \nQ 2050 4475 2375 4112 \nQ 2700 3750 2800 3200 \nQ 2900 2650 2862 1937 \nQ 2825 1225 2612 775 \nQ 2400 325 1975 150 \nQ 1550 -25 1125 187 \nQ 700 400 525 750 \nQ 350 1100 275 1487 \nQ 200 1875 225 2537 \nz\nM 750 2687 \nQ 675 2000 800 1462 \nQ 925 925 1212 700 \nQ 1500 475 1800 612 \nQ 2100 750 2237 1162 \nQ 2375 1575 2375 2062 \nQ 2375 2550 2337 2950 \nQ 2300 3350 2112 3675 \nQ 1925 4000 1612 4012 \nQ 1300 4025 1062 3700 \nQ 825 3375 750 2687 \nz\n\" transform=\"scale(0.015625)\"/>\n      </defs>\n      <use xlink:href=\"#SimHei-30\"/>\n     </g>\n    </g>\n   </g>\n   <g id=\"text_2\">\n    <g clip-path=\"url(#pce76517d41)\">\n     <!-- 1 -->\n     <g transform=\"translate(239.656747 173.16465)scale(0.12 -0.12)\">\n      <defs>\n       <path id=\"SimHei-31\" d=\"M 1400 3600 \nQ 1075 3275 575 2975 \nL 575 3450 \nQ 1200 3875 1600 4450 \nL 1900 4450 \nL 1900 150 \nL 1400 150 \nL 1400 3600 \nz\n\" transform=\"scale(0.015625)\"/>\n      </defs>\n      <use xlink:href=\"#SimHei-31\"/>\n     </g>\n    </g>\n   </g>\n   <g id=\"text_3\">\n    <g clip-path=\"url(#pce76517d41)\">\n     <!-- 2 -->\n     <g transform=\"translate(304.915745 40.565083)scale(0.12 -0.12)\">\n      <defs>\n       <path id=\"SimHei-32\" d=\"M 300 250 \nQ 325 625 650 925 \nQ 975 1225 1475 1862 \nQ 1975 2500 2125 2850 \nQ 2275 3200 2237 3450 \nQ 2200 3700 2000 3862 \nQ 1800 4025 1537 4000 \nQ 1275 3975 1037 3800 \nQ 800 3625 675 3275 \nL 200 3350 \nQ 400 3925 712 4187 \nQ 1025 4450 1450 4475 \nQ 1700 4500 1900 4462 \nQ 2100 4425 2312 4287 \nQ 2525 4150 2662 3875 \nQ 2800 3600 2762 3212 \nQ 2725 2825 2375 2287 \nQ 2025 1750 1025 600 \nL 2825 600 \nL 2825 150 \nL 300 150 \nL 300 250 \nz\n\" transform=\"scale(0.015625)\"/>\n      </defs>\n      <use xlink:href=\"#SimHei-32\"/>\n     </g>\n    </g>\n   </g>\n   <g id=\"text_4\">\n    <g clip-path=\"url(#pce76517d41)\">\n     <!-- 3 -->\n     <g transform=\"translate(425.013223 132.148348)scale(0.12 -0.12)\">\n      <defs>\n       <path id=\"SimHei-33\" d=\"M 250 1225 \nL 700 1300 \nQ 800 975 1025 762 \nQ 1250 550 1587 562 \nQ 1925 575 2125 837 \nQ 2325 1100 2300 1437 \nQ 2275 1775 2037 1962 \nQ 1800 2150 1275 2225 \nL 1275 2550 \nQ 1800 2600 2037 2825 \nQ 2275 3050 2250 3412 \nQ 2225 3775 1925 3937 \nQ 1625 4100 1287 3975 \nQ 950 3850 750 3275 \nL 300 3350 \nQ 450 3800 712 4100 \nQ 975 4400 1425 4450 \nQ 1875 4500 2212 4337 \nQ 2550 4175 2687 3837 \nQ 2825 3500 2725 3100 \nQ 2625 2700 2150 2400 \nQ 2500 2250 2687 1950 \nQ 2875 1650 2812 1162 \nQ 2750 675 2375 375 \nQ 2000 75 1525 87 \nQ 1050 100 700 387 \nQ 350 675 250 1225 \nz\n\" transform=\"scale(0.015625)\"/>\n      </defs>\n      <use xlink:href=\"#SimHei-33\"/>\n     </g>\n    </g>\n   </g>\n   <g id=\"text_5\">\n    <g clip-path=\"url(#pce76517d41)\">\n     <!-- 4 -->\n     <g transform=\"translate(44.186777 160.564687)scale(0.12 -0.12)\">\n      <defs>\n       <path id=\"SimHei-34\" d=\"M 2000 1100 \nL 75 1100 \nL 75 1525 \nL 2100 4450 \nL 2475 4450 \nL 2475 1525 \nL 3075 1525 \nL 3075 1100 \nL 2475 1100 \nL 2475 150 \nL 2000 150 \nL 2000 1100 \nz\nM 2000 1525 \nL 2000 3500 \nL 600 1525 \nL 2000 1525 \nz\n\" transform=\"scale(0.015625)\"/>\n      </defs>\n      <use xlink:href=\"#SimHei-34\"/>\n     </g>\n    </g>\n   </g>\n   <g id=\"text_6\">\n    <g clip-path=\"url(#pce76517d41)\">\n     <!-- 5 -->\n     <g transform=\"translate(397.708749 257.963714)scale(0.12 -0.12)\">\n      <defs>\n       <path id=\"SimHei-35\" d=\"M 550 1325 \nQ 725 650 1150 575 \nQ 1575 500 1837 662 \nQ 2100 825 2212 1087 \nQ 2325 1350 2312 1675 \nQ 2300 2000 2137 2225 \nQ 1975 2450 1725 2525 \nQ 1475 2600 1162 2525 \nQ 850 2450 650 2175 \nL 225 2225 \nQ 275 2375 700 4375 \nL 2675 4375 \nL 2675 3925 \nL 1075 3925 \nQ 950 3250 825 2850 \nQ 1200 3025 1525 3012 \nQ 1850 3000 2150 2862 \nQ 2450 2725 2587 2487 \nQ 2725 2250 2787 2012 \nQ 2850 1775 2837 1500 \nQ 2825 1225 2725 937 \nQ 2625 650 2425 462 \nQ 2225 275 1937 162 \nQ 1650 50 1275 75 \nQ 900 100 562 350 \nQ 225 600 100 1200 \nL 550 1325 \nz\n\" transform=\"scale(0.015625)\"/>\n      </defs>\n      <use xlink:href=\"#SimHei-35\"/>\n     </g>\n    </g>\n   </g>\n   <g id=\"text_7\">\n    <g clip-path=\"url(#pce76517d41)\">\n     <!-- 6 -->\n     <g transform=\"translate(134.931554 50.962247)scale(0.12 -0.12)\">\n      <defs>\n       <path id=\"SimHei-36\" d=\"M 250 1612 \nQ 275 1975 387 2225 \nQ 500 2475 725 2850 \nL 1750 4450 \nL 2325 4450 \nL 1275 2800 \nQ 1950 2975 2350 2750 \nQ 2750 2525 2887 2237 \nQ 3025 1950 3037 1612 \nQ 3050 1275 2937 950 \nQ 2825 625 2537 362 \nQ 2250 100 1737 75 \nQ 1225 50 862 262 \nQ 500 475 362 862 \nQ 225 1250 250 1612 \nz\nM 1025 787 \nQ 1250 550 1625 525 \nQ 2000 500 2250 775 \nQ 2500 1050 2500 1575 \nQ 2500 2100 2187 2300 \nQ 1875 2500 1487 2450 \nQ 1100 2400 925 2075 \nQ 750 1750 775 1387 \nQ 800 1025 1025 787 \nz\n\" transform=\"scale(0.015625)\"/>\n      </defs>\n      <use xlink:href=\"#SimHei-36\"/>\n     </g>\n    </g>\n   </g>\n   <g id=\"text_8\">\n    <g clip-path=\"url(#pce76517d41)\">\n     <!-- 7 -->\n     <g transform=\"translate(256.78017 326.184917)scale(0.12 -0.12)\">\n      <defs>\n       <path id=\"SimHei-37\" d=\"M 850 150 \nQ 1300 2050 2425 3925 \nL 275 3925 \nL 275 4375 \nL 2950 4375 \nL 2950 3950 \nQ 1775 2050 1400 150 \nL 850 150 \nz\n\" transform=\"scale(0.015625)\"/>\n      </defs>\n      <use xlink:href=\"#SimHei-37\"/>\n     </g>\n    </g>\n   </g>\n  </g>\n </g>\n <defs>\n  <clipPath id=\"pce76517d41\">\n   <rect x=\"7.2\" y=\"7.2\" width=\"460.8\" height=\"345.6\"/>\n  </clipPath>\n </defs>\n</svg>\n",
      "text/plain": [
       "<Figure size 640x480 with 1 Axes>"
      ]
     },
     "metadata": {},
     "output_type": "display_data"
    }
   ],
   "source": [
    "nx.draw(G, pos, node_color=node_colors, edge_color=edge_colors, width=2, edge_cmap=plt.cm.Blues, with_labels=True)\n",
    "plt.show()"
   ]
  },
  {
   "attachments": {},
   "cell_type": "markdown",
   "metadata": {},
   "source": [
    "### 按照权值进行筛选"
   ]
  },
  {
   "cell_type": "code",
   "execution_count": 2,
   "metadata": {},
   "outputs": [],
   "source": [
    "import random"
   ]
  },
  {
   "cell_type": "code",
   "execution_count": 10,
   "metadata": {},
   "outputs": [],
   "source": [
    "n = 8\n",
    "G = nx.complete_graph(n)\n",
    "pos = nx.spring_layout(G)\n",
    "node_colors = ['red']\n",
    "node_colors.extend(['#A0CBE2']*(n-1))\n",
    "random.seed(523)\n",
    "for i, j in G.edges():\n",
    "    weight = random.random()\n",
    "    if i == 0 or j == 0:\n",
    "        weight = min(1, weight + 0.3)\n",
    "    G[i][j]['weight'] = weight"
   ]
  },
  {
   "cell_type": "code",
   "execution_count": 11,
   "metadata": {},
   "outputs": [
    {
     "data": {
      "image/svg+xml": "<?xml version=\"1.0\" encoding=\"utf-8\" standalone=\"no\"?>\n<!DOCTYPE svg PUBLIC \"-//W3C//DTD SVG 1.1//EN\"\n  \"http://www.w3.org/Graphics/SVG/1.1/DTD/svg11.dtd\">\n<svg xmlns:xlink=\"http://www.w3.org/1999/xlink\" width=\"475.2pt\" height=\"360pt\" viewBox=\"0 0 475.2 360\" xmlns=\"http://www.w3.org/2000/svg\" version=\"1.1\">\n <metadata>\n  <rdf:RDF xmlns:dc=\"http://purl.org/dc/elements/1.1/\" xmlns:cc=\"http://creativecommons.org/ns#\" xmlns:rdf=\"http://www.w3.org/1999/02/22-rdf-syntax-ns#\">\n   <cc:Work>\n    <dc:type rdf:resource=\"http://purl.org/dc/dcmitype/StillImage\"/>\n    <dc:date>2022-10-19T22:26:23.444464</dc:date>\n    <dc:format>image/svg+xml</dc:format>\n    <dc:creator>\n     <cc:Agent>\n      <dc:title>Matplotlib v3.5.3, https://matplotlib.org/</dc:title>\n     </cc:Agent>\n    </dc:creator>\n   </cc:Work>\n  </rdf:RDF>\n </metadata>\n <defs>\n  <style type=\"text/css\">*{stroke-linejoin: round; stroke-linecap: butt}</style>\n </defs>\n <g id=\"figure_1\">\n  <g id=\"patch_1\">\n   <path d=\"M 0 360 \nL 475.2 360 \nL 475.2 0 \nL 0 0 \nz\n\" style=\"fill: #ffffff\"/>\n  </g>\n  <g id=\"axes_1\">\n   <g id=\"LineCollection_1\">\n    <path d=\"M 47.186777 224.743067 \nL 236.731682 186.111894 \n\" clip-path=\"url(#pc2efd3e408)\" style=\"fill: none; stroke: #08306b; stroke-width: 2\"/>\n    <path d=\"M 47.186777 224.743067 \nL 428.013223 209.951836 \n\" clip-path=\"url(#pc2efd3e408)\" style=\"fill: none; stroke: #083471; stroke-width: 2\"/>\n    <path d=\"M 47.186777 224.743067 \nL 384.343195 84.415374 \n\" clip-path=\"url(#pc2efd3e408)\" style=\"fill: none; stroke: #4f9bcb; stroke-width: 2\"/>\n    <path d=\"M 47.186777 224.743067 \nL 331.294995 317.220151 \n\" clip-path=\"url(#pc2efd3e408)\" style=\"fill: none; stroke: #125ea6; stroke-width: 2\"/>\n    <path d=\"M 47.186777 224.743067 \nL 76.719965 96.169169 \n\" clip-path=\"url(#pc2efd3e408)\" style=\"fill: none; stroke: #7fb9da; stroke-width: 2\"/>\n    <path d=\"M 47.186777 224.743067 \nL 226.698962 37.190083 \n\" clip-path=\"url(#pc2efd3e408)\" style=\"fill: none; stroke: #79b5d9; stroke-width: 2\"/>\n    <path d=\"M 47.186777 224.743067 \nL 159.842754 322.809917 \n\" clip-path=\"url(#pc2efd3e408)\" style=\"fill: none; stroke: #08306b; stroke-width: 2\"/>\n    <path d=\"M 236.731682 186.111894 \nL 428.013223 209.951836 \n\" clip-path=\"url(#pc2efd3e408)\" style=\"fill: none; stroke: #539ecd; stroke-width: 2\"/>\n    <path d=\"M 236.731682 186.111894 \nL 384.343195 84.415374 \n\" clip-path=\"url(#pc2efd3e408)\" style=\"fill: none; stroke: #60a7d2; stroke-width: 2\"/>\n    <path d=\"M 236.731682 186.111894 \nL 331.294995 317.220151 \n\" clip-path=\"url(#pc2efd3e408)\" style=\"fill: none; stroke: #f7fbff; stroke-width: 2\"/>\n    <path d=\"M 236.731682 186.111894 \nL 76.719965 96.169169 \n\" clip-path=\"url(#pc2efd3e408)\" style=\"fill: none; stroke: #2575b7; stroke-width: 2\"/>\n    <path d=\"M 236.731682 186.111894 \nL 226.698962 37.190083 \n\" clip-path=\"url(#pc2efd3e408)\" style=\"fill: none; stroke: #084a91; stroke-width: 2\"/>\n    <path d=\"M 236.731682 186.111894 \nL 159.842754 322.809917 \n\" clip-path=\"url(#pc2efd3e408)\" style=\"fill: none; stroke: #1c6bb0; stroke-width: 2\"/>\n    <path d=\"M 428.013223 209.951836 \nL 384.343195 84.415374 \n\" clip-path=\"url(#pc2efd3e408)\" style=\"fill: none; stroke: #a4cce3; stroke-width: 2\"/>\n    <path d=\"M 428.013223 209.951836 \nL 331.294995 317.220151 \n\" clip-path=\"url(#pc2efd3e408)\" style=\"fill: none; stroke: #0b559f; stroke-width: 2\"/>\n    <path d=\"M 428.013223 209.951836 \nL 76.719965 96.169169 \n\" clip-path=\"url(#pc2efd3e408)\" style=\"fill: none; stroke: #77b5d9; stroke-width: 2\"/>\n    <path d=\"M 428.013223 209.951836 \nL 226.698962 37.190083 \n\" clip-path=\"url(#pc2efd3e408)\" style=\"fill: none; stroke: #6caed6; stroke-width: 2\"/>\n    <path d=\"M 428.013223 209.951836 \nL 159.842754 322.809917 \n\" clip-path=\"url(#pc2efd3e408)\" style=\"fill: none; stroke: #1562a9; stroke-width: 2\"/>\n    <path d=\"M 384.343195 84.415374 \nL 331.294995 317.220151 \n\" clip-path=\"url(#pc2efd3e408)\" style=\"fill: none; stroke: #c7dbef; stroke-width: 2\"/>\n    <path d=\"M 384.343195 84.415374 \nL 76.719965 96.169169 \n\" clip-path=\"url(#pc2efd3e408)\" style=\"fill: none; stroke: #3080bd; stroke-width: 2\"/>\n    <path d=\"M 384.343195 84.415374 \nL 226.698962 37.190083 \n\" clip-path=\"url(#pc2efd3e408)\" style=\"fill: none; stroke: #d0e2f2; stroke-width: 2\"/>\n    <path d=\"M 384.343195 84.415374 \nL 159.842754 322.809917 \n\" clip-path=\"url(#pc2efd3e408)\" style=\"fill: none; stroke: #1966ad; stroke-width: 2\"/>\n    <path d=\"M 331.294995 317.220151 \nL 76.719965 96.169169 \n\" clip-path=\"url(#pc2efd3e408)\" style=\"fill: none; stroke: #c6dbef; stroke-width: 2\"/>\n    <path d=\"M 331.294995 317.220151 \nL 226.698962 37.190083 \n\" clip-path=\"url(#pc2efd3e408)\" style=\"fill: none; stroke: #d9e7f5; stroke-width: 2\"/>\n    <path d=\"M 331.294995 317.220151 \nL 159.842754 322.809917 \n\" clip-path=\"url(#pc2efd3e408)\" style=\"fill: none; stroke: #b9d6ea; stroke-width: 2\"/>\n    <path d=\"M 76.719965 96.169169 \nL 226.698962 37.190083 \n\" clip-path=\"url(#pc2efd3e408)\" style=\"fill: none; stroke: #cfe1f2; stroke-width: 2\"/>\n    <path d=\"M 76.719965 96.169169 \nL 159.842754 322.809917 \n\" clip-path=\"url(#pc2efd3e408)\" style=\"fill: none; stroke: #c8dcf0; stroke-width: 2\"/>\n    <path d=\"M 226.698962 37.190083 \nL 159.842754 322.809917 \n\" clip-path=\"url(#pc2efd3e408)\" style=\"fill: none; stroke: #4a98c9; stroke-width: 2\"/>\n   </g>\n   <g id=\"PathCollection_1\">\n    <defs>\n     <path id=\"C0_0_c3aff48267\" d=\"M 0 8.660254 \nC 2.296726 8.660254 4.499694 7.747755 6.123724 6.123724 \nC 7.747755 4.499694 8.660254 2.296726 8.660254 -0 \nC 8.660254 -2.296726 7.747755 -4.499694 6.123724 -6.123724 \nC 4.499694 -7.747755 2.296726 -8.660254 0 -8.660254 \nC -2.296726 -8.660254 -4.499694 -7.747755 -6.123724 -6.123724 \nC -7.747755 -4.499694 -8.660254 -2.296726 -8.660254 0 \nC -8.660254 2.296726 -7.747755 4.499694 -6.123724 6.123724 \nC -4.499694 7.747755 -2.296726 8.660254 0 8.660254 \nz\n\"/>\n    </defs>\n    <g clip-path=\"url(#pc2efd3e408)\">\n     <use xlink:href=\"#C0_0_c3aff48267\" x=\"47.186777\" y=\"224.743067\" style=\"fill: #ff0000; stroke: #ff0000\"/>\n    </g>\n    <g clip-path=\"url(#pc2efd3e408)\">\n     <use xlink:href=\"#C0_0_c3aff48267\" x=\"236.731682\" y=\"186.111894\" style=\"fill: #a0cbe2; stroke: #a0cbe2\"/>\n    </g>\n    <g clip-path=\"url(#pc2efd3e408)\">\n     <use xlink:href=\"#C0_0_c3aff48267\" x=\"428.013223\" y=\"209.951836\" style=\"fill: #a0cbe2; stroke: #a0cbe2\"/>\n    </g>\n    <g clip-path=\"url(#pc2efd3e408)\">\n     <use xlink:href=\"#C0_0_c3aff48267\" x=\"384.343195\" y=\"84.415374\" style=\"fill: #a0cbe2; stroke: #a0cbe2\"/>\n    </g>\n    <g clip-path=\"url(#pc2efd3e408)\">\n     <use xlink:href=\"#C0_0_c3aff48267\" x=\"331.294995\" y=\"317.220151\" style=\"fill: #a0cbe2; stroke: #a0cbe2\"/>\n    </g>\n    <g clip-path=\"url(#pc2efd3e408)\">\n     <use xlink:href=\"#C0_0_c3aff48267\" x=\"76.719965\" y=\"96.169169\" style=\"fill: #a0cbe2; stroke: #a0cbe2\"/>\n    </g>\n    <g clip-path=\"url(#pc2efd3e408)\">\n     <use xlink:href=\"#C0_0_c3aff48267\" x=\"226.698962\" y=\"37.190083\" style=\"fill: #a0cbe2; stroke: #a0cbe2\"/>\n    </g>\n    <g clip-path=\"url(#pc2efd3e408)\">\n     <use xlink:href=\"#C0_0_c3aff48267\" x=\"159.842754\" y=\"322.809917\" style=\"fill: #a0cbe2; stroke: #a0cbe2\"/>\n    </g>\n   </g>\n   <g id=\"text_1\">\n    <g clip-path=\"url(#pc2efd3e408)\">\n     <!-- 0 -->\n     <g transform=\"translate(44.186777 228.118067)scale(0.12 -0.12)\">\n      <defs>\n       <path id=\"SimHei-30\" d=\"M 225 2537 \nQ 250 3200 412 3587 \nQ 575 3975 875 4225 \nQ 1175 4475 1612 4475 \nQ 2050 4475 2375 4112 \nQ 2700 3750 2800 3200 \nQ 2900 2650 2862 1937 \nQ 2825 1225 2612 775 \nQ 2400 325 1975 150 \nQ 1550 -25 1125 187 \nQ 700 400 525 750 \nQ 350 1100 275 1487 \nQ 200 1875 225 2537 \nz\nM 750 2687 \nQ 675 2000 800 1462 \nQ 925 925 1212 700 \nQ 1500 475 1800 612 \nQ 2100 750 2237 1162 \nQ 2375 1575 2375 2062 \nQ 2375 2550 2337 2950 \nQ 2300 3350 2112 3675 \nQ 1925 4000 1612 4012 \nQ 1300 4025 1062 3700 \nQ 825 3375 750 2687 \nz\n\" transform=\"scale(0.015625)\"/>\n      </defs>\n      <use xlink:href=\"#SimHei-30\"/>\n     </g>\n    </g>\n   </g>\n   <g id=\"text_2\">\n    <g clip-path=\"url(#pc2efd3e408)\">\n     <!-- 1 -->\n     <g transform=\"translate(233.731682 189.486894)scale(0.12 -0.12)\">\n      <defs>\n       <path id=\"SimHei-31\" d=\"M 1400 3600 \nQ 1075 3275 575 2975 \nL 575 3450 \nQ 1200 3875 1600 4450 \nL 1900 4450 \nL 1900 150 \nL 1400 150 \nL 1400 3600 \nz\n\" transform=\"scale(0.015625)\"/>\n      </defs>\n      <use xlink:href=\"#SimHei-31\"/>\n     </g>\n    </g>\n   </g>\n   <g id=\"text_3\">\n    <g clip-path=\"url(#pc2efd3e408)\">\n     <!-- 2 -->\n     <g transform=\"translate(425.013223 213.326836)scale(0.12 -0.12)\">\n      <defs>\n       <path id=\"SimHei-32\" d=\"M 300 250 \nQ 325 625 650 925 \nQ 975 1225 1475 1862 \nQ 1975 2500 2125 2850 \nQ 2275 3200 2237 3450 \nQ 2200 3700 2000 3862 \nQ 1800 4025 1537 4000 \nQ 1275 3975 1037 3800 \nQ 800 3625 675 3275 \nL 200 3350 \nQ 400 3925 712 4187 \nQ 1025 4450 1450 4475 \nQ 1700 4500 1900 4462 \nQ 2100 4425 2312 4287 \nQ 2525 4150 2662 3875 \nQ 2800 3600 2762 3212 \nQ 2725 2825 2375 2287 \nQ 2025 1750 1025 600 \nL 2825 600 \nL 2825 150 \nL 300 150 \nL 300 250 \nz\n\" transform=\"scale(0.015625)\"/>\n      </defs>\n      <use xlink:href=\"#SimHei-32\"/>\n     </g>\n    </g>\n   </g>\n   <g id=\"text_4\">\n    <g clip-path=\"url(#pc2efd3e408)\">\n     <!-- 3 -->\n     <g transform=\"translate(381.343195 87.790374)scale(0.12 -0.12)\">\n      <defs>\n       <path id=\"SimHei-33\" d=\"M 250 1225 \nL 700 1300 \nQ 800 975 1025 762 \nQ 1250 550 1587 562 \nQ 1925 575 2125 837 \nQ 2325 1100 2300 1437 \nQ 2275 1775 2037 1962 \nQ 1800 2150 1275 2225 \nL 1275 2550 \nQ 1800 2600 2037 2825 \nQ 2275 3050 2250 3412 \nQ 2225 3775 1925 3937 \nQ 1625 4100 1287 3975 \nQ 950 3850 750 3275 \nL 300 3350 \nQ 450 3800 712 4100 \nQ 975 4400 1425 4450 \nQ 1875 4500 2212 4337 \nQ 2550 4175 2687 3837 \nQ 2825 3500 2725 3100 \nQ 2625 2700 2150 2400 \nQ 2500 2250 2687 1950 \nQ 2875 1650 2812 1162 \nQ 2750 675 2375 375 \nQ 2000 75 1525 87 \nQ 1050 100 700 387 \nQ 350 675 250 1225 \nz\n\" transform=\"scale(0.015625)\"/>\n      </defs>\n      <use xlink:href=\"#SimHei-33\"/>\n     </g>\n    </g>\n   </g>\n   <g id=\"text_5\">\n    <g clip-path=\"url(#pc2efd3e408)\">\n     <!-- 4 -->\n     <g transform=\"translate(328.294995 320.595151)scale(0.12 -0.12)\">\n      <defs>\n       <path id=\"SimHei-34\" d=\"M 2000 1100 \nL 75 1100 \nL 75 1525 \nL 2100 4450 \nL 2475 4450 \nL 2475 1525 \nL 3075 1525 \nL 3075 1100 \nL 2475 1100 \nL 2475 150 \nL 2000 150 \nL 2000 1100 \nz\nM 2000 1525 \nL 2000 3500 \nL 600 1525 \nL 2000 1525 \nz\n\" transform=\"scale(0.015625)\"/>\n      </defs>\n      <use xlink:href=\"#SimHei-34\"/>\n     </g>\n    </g>\n   </g>\n   <g id=\"text_6\">\n    <g clip-path=\"url(#pc2efd3e408)\">\n     <!-- 5 -->\n     <g transform=\"translate(73.719965 99.544169)scale(0.12 -0.12)\">\n      <defs>\n       <path id=\"SimHei-35\" d=\"M 550 1325 \nQ 725 650 1150 575 \nQ 1575 500 1837 662 \nQ 2100 825 2212 1087 \nQ 2325 1350 2312 1675 \nQ 2300 2000 2137 2225 \nQ 1975 2450 1725 2525 \nQ 1475 2600 1162 2525 \nQ 850 2450 650 2175 \nL 225 2225 \nQ 275 2375 700 4375 \nL 2675 4375 \nL 2675 3925 \nL 1075 3925 \nQ 950 3250 825 2850 \nQ 1200 3025 1525 3012 \nQ 1850 3000 2150 2862 \nQ 2450 2725 2587 2487 \nQ 2725 2250 2787 2012 \nQ 2850 1775 2837 1500 \nQ 2825 1225 2725 937 \nQ 2625 650 2425 462 \nQ 2225 275 1937 162 \nQ 1650 50 1275 75 \nQ 900 100 562 350 \nQ 225 600 100 1200 \nL 550 1325 \nz\n\" transform=\"scale(0.015625)\"/>\n      </defs>\n      <use xlink:href=\"#SimHei-35\"/>\n     </g>\n    </g>\n   </g>\n   <g id=\"text_7\">\n    <g clip-path=\"url(#pc2efd3e408)\">\n     <!-- 6 -->\n     <g transform=\"translate(223.698962 40.565083)scale(0.12 -0.12)\">\n      <defs>\n       <path id=\"SimHei-36\" d=\"M 250 1612 \nQ 275 1975 387 2225 \nQ 500 2475 725 2850 \nL 1750 4450 \nL 2325 4450 \nL 1275 2800 \nQ 1950 2975 2350 2750 \nQ 2750 2525 2887 2237 \nQ 3025 1950 3037 1612 \nQ 3050 1275 2937 950 \nQ 2825 625 2537 362 \nQ 2250 100 1737 75 \nQ 1225 50 862 262 \nQ 500 475 362 862 \nQ 225 1250 250 1612 \nz\nM 1025 787 \nQ 1250 550 1625 525 \nQ 2000 500 2250 775 \nQ 2500 1050 2500 1575 \nQ 2500 2100 2187 2300 \nQ 1875 2500 1487 2450 \nQ 1100 2400 925 2075 \nQ 750 1750 775 1387 \nQ 800 1025 1025 787 \nz\n\" transform=\"scale(0.015625)\"/>\n      </defs>\n      <use xlink:href=\"#SimHei-36\"/>\n     </g>\n    </g>\n   </g>\n   <g id=\"text_8\">\n    <g clip-path=\"url(#pc2efd3e408)\">\n     <!-- 7 -->\n     <g transform=\"translate(156.842754 326.184917)scale(0.12 -0.12)\">\n      <defs>\n       <path id=\"SimHei-37\" d=\"M 850 150 \nQ 1300 2050 2425 3925 \nL 275 3925 \nL 275 4375 \nL 2950 4375 \nL 2950 3950 \nQ 1775 2050 1400 150 \nL 850 150 \nz\n\" transform=\"scale(0.015625)\"/>\n      </defs>\n      <use xlink:href=\"#SimHei-37\"/>\n     </g>\n    </g>\n   </g>\n  </g>\n </g>\n <defs>\n  <clipPath id=\"pc2efd3e408\">\n   <rect x=\"7.2\" y=\"7.2\" width=\"460.8\" height=\"345.6\"/>\n  </clipPath>\n </defs>\n</svg>\n",
      "text/plain": [
       "<Figure size 640x480 with 1 Axes>"
      ]
     },
     "metadata": {},
     "output_type": "display_data"
    }
   ],
   "source": [
    "edges, weights = zip(*nx.get_edge_attributes(G,'weight').items())\n",
    "nx.draw(G, pos, node_color=node_colors, edge_color=weights, width=2, edge_cmap=plt.cm.Blues, with_labels=True)\n",
    "plt.show()"
   ]
  },
  {
   "cell_type": "code",
   "execution_count": 24,
   "metadata": {},
   "outputs": [
    {
     "data": {
      "image/svg+xml": "<?xml version=\"1.0\" encoding=\"utf-8\" standalone=\"no\"?>\n<!DOCTYPE svg PUBLIC \"-//W3C//DTD SVG 1.1//EN\"\n  \"http://www.w3.org/Graphics/SVG/1.1/DTD/svg11.dtd\">\n<svg xmlns:xlink=\"http://www.w3.org/1999/xlink\" width=\"475.2pt\" height=\"360pt\" viewBox=\"0 0 475.2 360\" xmlns=\"http://www.w3.org/2000/svg\" version=\"1.1\">\n <metadata>\n  <rdf:RDF xmlns:dc=\"http://purl.org/dc/elements/1.1/\" xmlns:cc=\"http://creativecommons.org/ns#\" xmlns:rdf=\"http://www.w3.org/1999/02/22-rdf-syntax-ns#\">\n   <cc:Work>\n    <dc:type rdf:resource=\"http://purl.org/dc/dcmitype/StillImage\"/>\n    <dc:date>2022-10-19T22:33:32.867748</dc:date>\n    <dc:format>image/svg+xml</dc:format>\n    <dc:creator>\n     <cc:Agent>\n      <dc:title>Matplotlib v3.5.3, https://matplotlib.org/</dc:title>\n     </cc:Agent>\n    </dc:creator>\n   </cc:Work>\n  </rdf:RDF>\n </metadata>\n <defs>\n  <style type=\"text/css\">*{stroke-linejoin: round; stroke-linecap: butt}</style>\n </defs>\n <g id=\"figure_1\">\n  <g id=\"patch_1\">\n   <path d=\"M 0 360 \nL 475.2 360 \nL 475.2 0 \nL 0 0 \nz\n\" style=\"fill: #ffffff\"/>\n  </g>\n  <g id=\"axes_1\">\n   <g id=\"LineCollection_1\">\n    <path d=\"M 47.186777 224.743067 \nL 236.731682 186.111894 \n\" clip-path=\"url(#pee6a10b0e9)\" style=\"fill: none; stroke: #a0cbe2; stroke-width: 2\"/>\n    <path d=\"M 47.186777 224.743067 \nL 428.013223 209.951836 \n\" clip-path=\"url(#pee6a10b0e9)\" style=\"fill: none; stroke: #a0cbe2; stroke-width: 2\"/>\n    <path d=\"M 47.186777 224.743067 \nL 384.343195 84.415374 \n\" clip-path=\"url(#pee6a10b0e9)\" style=\"fill: none; stroke: #a0cbe2; stroke-width: 2\"/>\n    <path d=\"M 47.186777 224.743067 \nL 331.294995 317.220151 \n\" clip-path=\"url(#pee6a10b0e9)\" style=\"fill: none; stroke: #a0cbe2; stroke-width: 2\"/>\n    <path d=\"M 47.186777 224.743067 \nL 159.842754 322.809917 \n\" clip-path=\"url(#pee6a10b0e9)\" style=\"fill: none; stroke: #a0cbe2; stroke-width: 2\"/>\n    <path d=\"M 236.731682 186.111894 \nL 428.013223 209.951836 \n\" clip-path=\"url(#pee6a10b0e9)\" style=\"fill: none; stroke: #a0cbe2; stroke-width: 2\"/>\n    <path d=\"M 236.731682 186.111894 \nL 384.343195 84.415374 \n\" clip-path=\"url(#pee6a10b0e9)\" style=\"fill: none; stroke: #a0cbe2; stroke-width: 2\"/>\n    <path d=\"M 236.731682 186.111894 \nL 76.719965 96.169169 \n\" clip-path=\"url(#pee6a10b0e9)\" style=\"fill: none; stroke: #a0cbe2; stroke-width: 2\"/>\n    <path d=\"M 236.731682 186.111894 \nL 226.698962 37.190083 \n\" clip-path=\"url(#pee6a10b0e9)\" style=\"fill: none; stroke: #a0cbe2; stroke-width: 2\"/>\n    <path d=\"M 236.731682 186.111894 \nL 159.842754 322.809917 \n\" clip-path=\"url(#pee6a10b0e9)\" style=\"fill: none; stroke: #a0cbe2; stroke-width: 2\"/>\n    <path d=\"M 428.013223 209.951836 \nL 331.294995 317.220151 \n\" clip-path=\"url(#pee6a10b0e9)\" style=\"fill: none; stroke: #a0cbe2; stroke-width: 2\"/>\n    <path d=\"M 428.013223 209.951836 \nL 226.698962 37.190083 \n\" clip-path=\"url(#pee6a10b0e9)\" style=\"fill: none; stroke: #a0cbe2; stroke-width: 2\"/>\n    <path d=\"M 428.013223 209.951836 \nL 159.842754 322.809917 \n\" clip-path=\"url(#pee6a10b0e9)\" style=\"fill: none; stroke: #a0cbe2; stroke-width: 2\"/>\n    <path d=\"M 384.343195 84.415374 \nL 76.719965 96.169169 \n\" clip-path=\"url(#pee6a10b0e9)\" style=\"fill: none; stroke: #a0cbe2; stroke-width: 2\"/>\n    <path d=\"M 384.343195 84.415374 \nL 159.842754 322.809917 \n\" clip-path=\"url(#pee6a10b0e9)\" style=\"fill: none; stroke: #a0cbe2; stroke-width: 2\"/>\n    <path d=\"M 226.698962 37.190083 \nL 159.842754 322.809917 \n\" clip-path=\"url(#pee6a10b0e9)\" style=\"fill: none; stroke: #a0cbe2; stroke-width: 2\"/>\n    <path d=\"M 47.186777 224.743067 \nL 236.731682 186.111894 \n\" clip-path=\"url(#pee6a10b0e9)\" style=\"fill: none; stroke: #ff1493; stroke-width: 2\"/>\n    <path d=\"M 236.731682 186.111894 \nL 226.698962 37.190083 \n\" clip-path=\"url(#pee6a10b0e9)\" style=\"fill: none; stroke: #ff1493; stroke-width: 2\"/>\n    <path d=\"M 226.698962 37.190083 \nL 159.842754 322.809917 \n\" clip-path=\"url(#pee6a10b0e9)\" style=\"fill: none; stroke: #ff1493; stroke-width: 2\"/>\n    <path d=\"M 159.842754 322.809917 \nL 47.186777 224.743067 \n\" clip-path=\"url(#pee6a10b0e9)\" style=\"fill: none; stroke: #ff1493; stroke-width: 2\"/>\n   </g>\n   <g id=\"PathCollection_1\">\n    <defs>\n     <path id=\"C0_0_5ba16b5a24\" d=\"M 0 8.660254 \nC 2.296726 8.660254 4.499694 7.747755 6.123724 6.123724 \nC 7.747755 4.499694 8.660254 2.296726 8.660254 -0 \nC 8.660254 -2.296726 7.747755 -4.499694 6.123724 -6.123724 \nC 4.499694 -7.747755 2.296726 -8.660254 0 -8.660254 \nC -2.296726 -8.660254 -4.499694 -7.747755 -6.123724 -6.123724 \nC -7.747755 -4.499694 -8.660254 -2.296726 -8.660254 0 \nC -8.660254 2.296726 -7.747755 4.499694 -6.123724 6.123724 \nC -4.499694 7.747755 -2.296726 8.660254 0 8.660254 \nz\n\"/>\n    </defs>\n    <g clip-path=\"url(#pee6a10b0e9)\">\n     <use xlink:href=\"#C0_0_5ba16b5a24\" x=\"47.186777\" y=\"224.743067\" style=\"fill: #ff0000; stroke: #ff0000\"/>\n    </g>\n    <g clip-path=\"url(#pee6a10b0e9)\">\n     <use xlink:href=\"#C0_0_5ba16b5a24\" x=\"236.731682\" y=\"186.111894\" style=\"fill: #a0cbe2; stroke: #a0cbe2\"/>\n    </g>\n    <g clip-path=\"url(#pee6a10b0e9)\">\n     <use xlink:href=\"#C0_0_5ba16b5a24\" x=\"428.013223\" y=\"209.951836\" style=\"fill: #a0cbe2; stroke: #a0cbe2\"/>\n    </g>\n    <g clip-path=\"url(#pee6a10b0e9)\">\n     <use xlink:href=\"#C0_0_5ba16b5a24\" x=\"384.343195\" y=\"84.415374\" style=\"fill: #a0cbe2; stroke: #a0cbe2\"/>\n    </g>\n    <g clip-path=\"url(#pee6a10b0e9)\">\n     <use xlink:href=\"#C0_0_5ba16b5a24\" x=\"331.294995\" y=\"317.220151\" style=\"fill: #a0cbe2; stroke: #a0cbe2\"/>\n    </g>\n    <g clip-path=\"url(#pee6a10b0e9)\">\n     <use xlink:href=\"#C0_0_5ba16b5a24\" x=\"76.719965\" y=\"96.169169\" style=\"fill: #a0cbe2; stroke: #a0cbe2\"/>\n    </g>\n    <g clip-path=\"url(#pee6a10b0e9)\">\n     <use xlink:href=\"#C0_0_5ba16b5a24\" x=\"226.698962\" y=\"37.190083\" style=\"fill: #a0cbe2; stroke: #a0cbe2\"/>\n    </g>\n    <g clip-path=\"url(#pee6a10b0e9)\">\n     <use xlink:href=\"#C0_0_5ba16b5a24\" x=\"159.842754\" y=\"322.809917\" style=\"fill: #a0cbe2; stroke: #a0cbe2\"/>\n    </g>\n   </g>\n   <g id=\"text_1\">\n    <g clip-path=\"url(#pee6a10b0e9)\">\n     <!-- 0 -->\n     <g transform=\"translate(44.186777 228.118067)scale(0.12 -0.12)\">\n      <defs>\n       <path id=\"SimHei-30\" d=\"M 225 2537 \nQ 250 3200 412 3587 \nQ 575 3975 875 4225 \nQ 1175 4475 1612 4475 \nQ 2050 4475 2375 4112 \nQ 2700 3750 2800 3200 \nQ 2900 2650 2862 1937 \nQ 2825 1225 2612 775 \nQ 2400 325 1975 150 \nQ 1550 -25 1125 187 \nQ 700 400 525 750 \nQ 350 1100 275 1487 \nQ 200 1875 225 2537 \nz\nM 750 2687 \nQ 675 2000 800 1462 \nQ 925 925 1212 700 \nQ 1500 475 1800 612 \nQ 2100 750 2237 1162 \nQ 2375 1575 2375 2062 \nQ 2375 2550 2337 2950 \nQ 2300 3350 2112 3675 \nQ 1925 4000 1612 4012 \nQ 1300 4025 1062 3700 \nQ 825 3375 750 2687 \nz\n\" transform=\"scale(0.015625)\"/>\n      </defs>\n      <use xlink:href=\"#SimHei-30\"/>\n     </g>\n    </g>\n   </g>\n   <g id=\"text_2\">\n    <g clip-path=\"url(#pee6a10b0e9)\">\n     <!-- 1 -->\n     <g transform=\"translate(233.731682 189.486894)scale(0.12 -0.12)\">\n      <defs>\n       <path id=\"SimHei-31\" d=\"M 1400 3600 \nQ 1075 3275 575 2975 \nL 575 3450 \nQ 1200 3875 1600 4450 \nL 1900 4450 \nL 1900 150 \nL 1400 150 \nL 1400 3600 \nz\n\" transform=\"scale(0.015625)\"/>\n      </defs>\n      <use xlink:href=\"#SimHei-31\"/>\n     </g>\n    </g>\n   </g>\n   <g id=\"text_3\">\n    <g clip-path=\"url(#pee6a10b0e9)\">\n     <!-- 2 -->\n     <g transform=\"translate(425.013223 213.326836)scale(0.12 -0.12)\">\n      <defs>\n       <path id=\"SimHei-32\" d=\"M 300 250 \nQ 325 625 650 925 \nQ 975 1225 1475 1862 \nQ 1975 2500 2125 2850 \nQ 2275 3200 2237 3450 \nQ 2200 3700 2000 3862 \nQ 1800 4025 1537 4000 \nQ 1275 3975 1037 3800 \nQ 800 3625 675 3275 \nL 200 3350 \nQ 400 3925 712 4187 \nQ 1025 4450 1450 4475 \nQ 1700 4500 1900 4462 \nQ 2100 4425 2312 4287 \nQ 2525 4150 2662 3875 \nQ 2800 3600 2762 3212 \nQ 2725 2825 2375 2287 \nQ 2025 1750 1025 600 \nL 2825 600 \nL 2825 150 \nL 300 150 \nL 300 250 \nz\n\" transform=\"scale(0.015625)\"/>\n      </defs>\n      <use xlink:href=\"#SimHei-32\"/>\n     </g>\n    </g>\n   </g>\n   <g id=\"text_4\">\n    <g clip-path=\"url(#pee6a10b0e9)\">\n     <!-- 3 -->\n     <g transform=\"translate(381.343195 87.790374)scale(0.12 -0.12)\">\n      <defs>\n       <path id=\"SimHei-33\" d=\"M 250 1225 \nL 700 1300 \nQ 800 975 1025 762 \nQ 1250 550 1587 562 \nQ 1925 575 2125 837 \nQ 2325 1100 2300 1437 \nQ 2275 1775 2037 1962 \nQ 1800 2150 1275 2225 \nL 1275 2550 \nQ 1800 2600 2037 2825 \nQ 2275 3050 2250 3412 \nQ 2225 3775 1925 3937 \nQ 1625 4100 1287 3975 \nQ 950 3850 750 3275 \nL 300 3350 \nQ 450 3800 712 4100 \nQ 975 4400 1425 4450 \nQ 1875 4500 2212 4337 \nQ 2550 4175 2687 3837 \nQ 2825 3500 2725 3100 \nQ 2625 2700 2150 2400 \nQ 2500 2250 2687 1950 \nQ 2875 1650 2812 1162 \nQ 2750 675 2375 375 \nQ 2000 75 1525 87 \nQ 1050 100 700 387 \nQ 350 675 250 1225 \nz\n\" transform=\"scale(0.015625)\"/>\n      </defs>\n      <use xlink:href=\"#SimHei-33\"/>\n     </g>\n    </g>\n   </g>\n   <g id=\"text_5\">\n    <g clip-path=\"url(#pee6a10b0e9)\">\n     <!-- 4 -->\n     <g transform=\"translate(328.294995 320.595151)scale(0.12 -0.12)\">\n      <defs>\n       <path id=\"SimHei-34\" d=\"M 2000 1100 \nL 75 1100 \nL 75 1525 \nL 2100 4450 \nL 2475 4450 \nL 2475 1525 \nL 3075 1525 \nL 3075 1100 \nL 2475 1100 \nL 2475 150 \nL 2000 150 \nL 2000 1100 \nz\nM 2000 1525 \nL 2000 3500 \nL 600 1525 \nL 2000 1525 \nz\n\" transform=\"scale(0.015625)\"/>\n      </defs>\n      <use xlink:href=\"#SimHei-34\"/>\n     </g>\n    </g>\n   </g>\n   <g id=\"text_6\">\n    <g clip-path=\"url(#pee6a10b0e9)\">\n     <!-- 5 -->\n     <g transform=\"translate(73.719965 99.544169)scale(0.12 -0.12)\">\n      <defs>\n       <path id=\"SimHei-35\" d=\"M 550 1325 \nQ 725 650 1150 575 \nQ 1575 500 1837 662 \nQ 2100 825 2212 1087 \nQ 2325 1350 2312 1675 \nQ 2300 2000 2137 2225 \nQ 1975 2450 1725 2525 \nQ 1475 2600 1162 2525 \nQ 850 2450 650 2175 \nL 225 2225 \nQ 275 2375 700 4375 \nL 2675 4375 \nL 2675 3925 \nL 1075 3925 \nQ 950 3250 825 2850 \nQ 1200 3025 1525 3012 \nQ 1850 3000 2150 2862 \nQ 2450 2725 2587 2487 \nQ 2725 2250 2787 2012 \nQ 2850 1775 2837 1500 \nQ 2825 1225 2725 937 \nQ 2625 650 2425 462 \nQ 2225 275 1937 162 \nQ 1650 50 1275 75 \nQ 900 100 562 350 \nQ 225 600 100 1200 \nL 550 1325 \nz\n\" transform=\"scale(0.015625)\"/>\n      </defs>\n      <use xlink:href=\"#SimHei-35\"/>\n     </g>\n    </g>\n   </g>\n   <g id=\"text_7\">\n    <g clip-path=\"url(#pee6a10b0e9)\">\n     <!-- 6 -->\n     <g transform=\"translate(223.698962 40.565083)scale(0.12 -0.12)\">\n      <defs>\n       <path id=\"SimHei-36\" d=\"M 250 1612 \nQ 275 1975 387 2225 \nQ 500 2475 725 2850 \nL 1750 4450 \nL 2325 4450 \nL 1275 2800 \nQ 1950 2975 2350 2750 \nQ 2750 2525 2887 2237 \nQ 3025 1950 3037 1612 \nQ 3050 1275 2937 950 \nQ 2825 625 2537 362 \nQ 2250 100 1737 75 \nQ 1225 50 862 262 \nQ 500 475 362 862 \nQ 225 1250 250 1612 \nz\nM 1025 787 \nQ 1250 550 1625 525 \nQ 2000 500 2250 775 \nQ 2500 1050 2500 1575 \nQ 2500 2100 2187 2300 \nQ 1875 2500 1487 2450 \nQ 1100 2400 925 2075 \nQ 750 1750 775 1387 \nQ 800 1025 1025 787 \nz\n\" transform=\"scale(0.015625)\"/>\n      </defs>\n      <use xlink:href=\"#SimHei-36\"/>\n     </g>\n    </g>\n   </g>\n   <g id=\"text_8\">\n    <g clip-path=\"url(#pee6a10b0e9)\">\n     <!-- 7 -->\n     <g transform=\"translate(156.842754 326.184917)scale(0.12 -0.12)\">\n      <defs>\n       <path id=\"SimHei-37\" d=\"M 850 150 \nQ 1300 2050 2425 3925 \nL 275 3925 \nL 275 4375 \nL 2950 4375 \nL 2950 3950 \nQ 1775 2050 1400 150 \nL 850 150 \nz\n\" transform=\"scale(0.015625)\"/>\n      </defs>\n      <use xlink:href=\"#SimHei-37\"/>\n     </g>\n    </g>\n   </g>\n  </g>\n </g>\n <defs>\n  <clipPath id=\"pee6a10b0e9\">\n   <rect x=\"7.2\" y=\"7.2\" width=\"460.8\" height=\"345.6\"/>\n  </clipPath>\n </defs>\n</svg>\n",
      "text/plain": [
       "<Figure size 640x480 with 1 Axes>"
      ]
     },
     "metadata": {},
     "output_type": "display_data"
    }
   ],
   "source": [
    "thres = 0.5\n",
    "elarge=[(u,v) for (u,v,d) in G.edges(data=True) if d['weight'] > thres]\n",
    "shortest_path = [(0,1), (1,6), (6,7), (7,0)]\n",
    "edge_color = ['#A0CBE2'] * len(elarge) + ['#FF1493'] * len(shortest_path) \n",
    "nx.draw(G, pos, node_color=node_colors, edgelist=elarge + shortest_path, width=2, edge_color=edge_color, with_labels=True)\n",
    "plt.show()"
   ]
  },
  {
   "cell_type": "code",
   "execution_count": 21,
   "metadata": {},
   "outputs": [
    {
     "data": {
      "image/svg+xml": "<?xml version=\"1.0\" encoding=\"utf-8\" standalone=\"no\"?>\n<!DOCTYPE svg PUBLIC \"-//W3C//DTD SVG 1.1//EN\"\n  \"http://www.w3.org/Graphics/SVG/1.1/DTD/svg11.dtd\">\n<svg xmlns:xlink=\"http://www.w3.org/1999/xlink\" width=\"475.2pt\" height=\"360pt\" viewBox=\"0 0 475.2 360\" xmlns=\"http://www.w3.org/2000/svg\" version=\"1.1\">\n <metadata>\n  <rdf:RDF xmlns:dc=\"http://purl.org/dc/elements/1.1/\" xmlns:cc=\"http://creativecommons.org/ns#\" xmlns:rdf=\"http://www.w3.org/1999/02/22-rdf-syntax-ns#\">\n   <cc:Work>\n    <dc:type rdf:resource=\"http://purl.org/dc/dcmitype/StillImage\"/>\n    <dc:date>2022-10-19T22:32:12.843362</dc:date>\n    <dc:format>image/svg+xml</dc:format>\n    <dc:creator>\n     <cc:Agent>\n      <dc:title>Matplotlib v3.5.3, https://matplotlib.org/</dc:title>\n     </cc:Agent>\n    </dc:creator>\n   </cc:Work>\n  </rdf:RDF>\n </metadata>\n <defs>\n  <style type=\"text/css\">*{stroke-linejoin: round; stroke-linecap: butt}</style>\n </defs>\n <g id=\"figure_1\">\n  <g id=\"patch_1\">\n   <path d=\"M 0 360 \nL 475.2 360 \nL 475.2 0 \nL 0 0 \nz\n\" style=\"fill: #ffffff\"/>\n  </g>\n  <g id=\"axes_1\">\n   <g id=\"LineCollection_1\">\n    <path d=\"M 47.186777 224.743067 \nL 236.731682 186.111894 \n\" clip-path=\"url(#p9340992654)\" style=\"fill: none; stroke: #a0cbe2; stroke-width: 2\"/>\n    <path d=\"M 47.186777 224.743067 \nL 428.013223 209.951836 \n\" clip-path=\"url(#p9340992654)\" style=\"fill: none; stroke: #a0cbe2; stroke-width: 2\"/>\n    <path d=\"M 47.186777 224.743067 \nL 331.294995 317.220151 \n\" clip-path=\"url(#p9340992654)\" style=\"fill: none; stroke: #a0cbe2; stroke-width: 2\"/>\n    <path d=\"M 47.186777 224.743067 \nL 159.842754 322.809917 \n\" clip-path=\"url(#p9340992654)\" style=\"fill: none; stroke: #a0cbe2; stroke-width: 2\"/>\n    <path d=\"M 236.731682 186.111894 \nL 76.719965 96.169169 \n\" clip-path=\"url(#p9340992654)\" style=\"fill: none; stroke: #a0cbe2; stroke-width: 2\"/>\n    <path d=\"M 236.731682 186.111894 \nL 226.698962 37.190083 \n\" clip-path=\"url(#p9340992654)\" style=\"fill: none; stroke: #a0cbe2; stroke-width: 2\"/>\n    <path d=\"M 236.731682 186.111894 \nL 159.842754 322.809917 \n\" clip-path=\"url(#p9340992654)\" style=\"fill: none; stroke: #a0cbe2; stroke-width: 2\"/>\n    <path d=\"M 428.013223 209.951836 \nL 331.294995 317.220151 \n\" clip-path=\"url(#p9340992654)\" style=\"fill: none; stroke: #a0cbe2; stroke-width: 2\"/>\n    <path d=\"M 428.013223 209.951836 \nL 159.842754 322.809917 \n\" clip-path=\"url(#p9340992654)\" style=\"fill: none; stroke: #a0cbe2; stroke-width: 2\"/>\n    <path d=\"M 384.343195 84.415374 \nL 159.842754 322.809917 \n\" clip-path=\"url(#p9340992654)\" style=\"fill: none; stroke: #a0cbe2; stroke-width: 2\"/>\n   </g>\n   <g id=\"PathCollection_1\">\n    <defs>\n     <path id=\"C0_0_c6b51a6f51\" d=\"M 0 8.660254 \nC 2.296726 8.660254 4.499694 7.747755 6.123724 6.123724 \nC 7.747755 4.499694 8.660254 2.296726 8.660254 -0 \nC 8.660254 -2.296726 7.747755 -4.499694 6.123724 -6.123724 \nC 4.499694 -7.747755 2.296726 -8.660254 0 -8.660254 \nC -2.296726 -8.660254 -4.499694 -7.747755 -6.123724 -6.123724 \nC -7.747755 -4.499694 -8.660254 -2.296726 -8.660254 0 \nC -8.660254 2.296726 -7.747755 4.499694 -6.123724 6.123724 \nC -4.499694 7.747755 -2.296726 8.660254 0 8.660254 \nz\n\"/>\n    </defs>\n    <g clip-path=\"url(#p9340992654)\">\n     <use xlink:href=\"#C0_0_c6b51a6f51\" x=\"47.186777\" y=\"224.743067\" style=\"fill: #ff0000; stroke: #ff0000\"/>\n    </g>\n    <g clip-path=\"url(#p9340992654)\">\n     <use xlink:href=\"#C0_0_c6b51a6f51\" x=\"236.731682\" y=\"186.111894\" style=\"fill: #a0cbe2; stroke: #a0cbe2\"/>\n    </g>\n    <g clip-path=\"url(#p9340992654)\">\n     <use xlink:href=\"#C0_0_c6b51a6f51\" x=\"428.013223\" y=\"209.951836\" style=\"fill: #a0cbe2; stroke: #a0cbe2\"/>\n    </g>\n    <g clip-path=\"url(#p9340992654)\">\n     <use xlink:href=\"#C0_0_c6b51a6f51\" x=\"384.343195\" y=\"84.415374\" style=\"fill: #a0cbe2; stroke: #a0cbe2\"/>\n    </g>\n    <g clip-path=\"url(#p9340992654)\">\n     <use xlink:href=\"#C0_0_c6b51a6f51\" x=\"331.294995\" y=\"317.220151\" style=\"fill: #a0cbe2; stroke: #a0cbe2\"/>\n    </g>\n    <g clip-path=\"url(#p9340992654)\">\n     <use xlink:href=\"#C0_0_c6b51a6f51\" x=\"76.719965\" y=\"96.169169\" style=\"fill: #a0cbe2; stroke: #a0cbe2\"/>\n    </g>\n    <g clip-path=\"url(#p9340992654)\">\n     <use xlink:href=\"#C0_0_c6b51a6f51\" x=\"226.698962\" y=\"37.190083\" style=\"fill: #a0cbe2; stroke: #a0cbe2\"/>\n    </g>\n    <g clip-path=\"url(#p9340992654)\">\n     <use xlink:href=\"#C0_0_c6b51a6f51\" x=\"159.842754\" y=\"322.809917\" style=\"fill: #a0cbe2; stroke: #a0cbe2\"/>\n    </g>\n   </g>\n   <g id=\"text_1\">\n    <g clip-path=\"url(#p9340992654)\">\n     <!-- 0 -->\n     <g transform=\"translate(44.186777 228.118067)scale(0.12 -0.12)\">\n      <defs>\n       <path id=\"SimHei-30\" d=\"M 225 2537 \nQ 250 3200 412 3587 \nQ 575 3975 875 4225 \nQ 1175 4475 1612 4475 \nQ 2050 4475 2375 4112 \nQ 2700 3750 2800 3200 \nQ 2900 2650 2862 1937 \nQ 2825 1225 2612 775 \nQ 2400 325 1975 150 \nQ 1550 -25 1125 187 \nQ 700 400 525 750 \nQ 350 1100 275 1487 \nQ 200 1875 225 2537 \nz\nM 750 2687 \nQ 675 2000 800 1462 \nQ 925 925 1212 700 \nQ 1500 475 1800 612 \nQ 2100 750 2237 1162 \nQ 2375 1575 2375 2062 \nQ 2375 2550 2337 2950 \nQ 2300 3350 2112 3675 \nQ 1925 4000 1612 4012 \nQ 1300 4025 1062 3700 \nQ 825 3375 750 2687 \nz\n\" transform=\"scale(0.015625)\"/>\n      </defs>\n      <use xlink:href=\"#SimHei-30\"/>\n     </g>\n    </g>\n   </g>\n   <g id=\"text_2\">\n    <g clip-path=\"url(#p9340992654)\">\n     <!-- 1 -->\n     <g transform=\"translate(233.731682 189.486894)scale(0.12 -0.12)\">\n      <defs>\n       <path id=\"SimHei-31\" d=\"M 1400 3600 \nQ 1075 3275 575 2975 \nL 575 3450 \nQ 1200 3875 1600 4450 \nL 1900 4450 \nL 1900 150 \nL 1400 150 \nL 1400 3600 \nz\n\" transform=\"scale(0.015625)\"/>\n      </defs>\n      <use xlink:href=\"#SimHei-31\"/>\n     </g>\n    </g>\n   </g>\n   <g id=\"text_3\">\n    <g clip-path=\"url(#p9340992654)\">\n     <!-- 2 -->\n     <g transform=\"translate(425.013223 213.326836)scale(0.12 -0.12)\">\n      <defs>\n       <path id=\"SimHei-32\" d=\"M 300 250 \nQ 325 625 650 925 \nQ 975 1225 1475 1862 \nQ 1975 2500 2125 2850 \nQ 2275 3200 2237 3450 \nQ 2200 3700 2000 3862 \nQ 1800 4025 1537 4000 \nQ 1275 3975 1037 3800 \nQ 800 3625 675 3275 \nL 200 3350 \nQ 400 3925 712 4187 \nQ 1025 4450 1450 4475 \nQ 1700 4500 1900 4462 \nQ 2100 4425 2312 4287 \nQ 2525 4150 2662 3875 \nQ 2800 3600 2762 3212 \nQ 2725 2825 2375 2287 \nQ 2025 1750 1025 600 \nL 2825 600 \nL 2825 150 \nL 300 150 \nL 300 250 \nz\n\" transform=\"scale(0.015625)\"/>\n      </defs>\n      <use xlink:href=\"#SimHei-32\"/>\n     </g>\n    </g>\n   </g>\n   <g id=\"text_4\">\n    <g clip-path=\"url(#p9340992654)\">\n     <!-- 3 -->\n     <g transform=\"translate(381.343195 87.790374)scale(0.12 -0.12)\">\n      <defs>\n       <path id=\"SimHei-33\" d=\"M 250 1225 \nL 700 1300 \nQ 800 975 1025 762 \nQ 1250 550 1587 562 \nQ 1925 575 2125 837 \nQ 2325 1100 2300 1437 \nQ 2275 1775 2037 1962 \nQ 1800 2150 1275 2225 \nL 1275 2550 \nQ 1800 2600 2037 2825 \nQ 2275 3050 2250 3412 \nQ 2225 3775 1925 3937 \nQ 1625 4100 1287 3975 \nQ 950 3850 750 3275 \nL 300 3350 \nQ 450 3800 712 4100 \nQ 975 4400 1425 4450 \nQ 1875 4500 2212 4337 \nQ 2550 4175 2687 3837 \nQ 2825 3500 2725 3100 \nQ 2625 2700 2150 2400 \nQ 2500 2250 2687 1950 \nQ 2875 1650 2812 1162 \nQ 2750 675 2375 375 \nQ 2000 75 1525 87 \nQ 1050 100 700 387 \nQ 350 675 250 1225 \nz\n\" transform=\"scale(0.015625)\"/>\n      </defs>\n      <use xlink:href=\"#SimHei-33\"/>\n     </g>\n    </g>\n   </g>\n   <g id=\"text_5\">\n    <g clip-path=\"url(#p9340992654)\">\n     <!-- 4 -->\n     <g transform=\"translate(328.294995 320.595151)scale(0.12 -0.12)\">\n      <defs>\n       <path id=\"SimHei-34\" d=\"M 2000 1100 \nL 75 1100 \nL 75 1525 \nL 2100 4450 \nL 2475 4450 \nL 2475 1525 \nL 3075 1525 \nL 3075 1100 \nL 2475 1100 \nL 2475 150 \nL 2000 150 \nL 2000 1100 \nz\nM 2000 1525 \nL 2000 3500 \nL 600 1525 \nL 2000 1525 \nz\n\" transform=\"scale(0.015625)\"/>\n      </defs>\n      <use xlink:href=\"#SimHei-34\"/>\n     </g>\n    </g>\n   </g>\n   <g id=\"text_6\">\n    <g clip-path=\"url(#p9340992654)\">\n     <!-- 5 -->\n     <g transform=\"translate(73.719965 99.544169)scale(0.12 -0.12)\">\n      <defs>\n       <path id=\"SimHei-35\" d=\"M 550 1325 \nQ 725 650 1150 575 \nQ 1575 500 1837 662 \nQ 2100 825 2212 1087 \nQ 2325 1350 2312 1675 \nQ 2300 2000 2137 2225 \nQ 1975 2450 1725 2525 \nQ 1475 2600 1162 2525 \nQ 850 2450 650 2175 \nL 225 2225 \nQ 275 2375 700 4375 \nL 2675 4375 \nL 2675 3925 \nL 1075 3925 \nQ 950 3250 825 2850 \nQ 1200 3025 1525 3012 \nQ 1850 3000 2150 2862 \nQ 2450 2725 2587 2487 \nQ 2725 2250 2787 2012 \nQ 2850 1775 2837 1500 \nQ 2825 1225 2725 937 \nQ 2625 650 2425 462 \nQ 2225 275 1937 162 \nQ 1650 50 1275 75 \nQ 900 100 562 350 \nQ 225 600 100 1200 \nL 550 1325 \nz\n\" transform=\"scale(0.015625)\"/>\n      </defs>\n      <use xlink:href=\"#SimHei-35\"/>\n     </g>\n    </g>\n   </g>\n   <g id=\"text_7\">\n    <g clip-path=\"url(#p9340992654)\">\n     <!-- 6 -->\n     <g transform=\"translate(223.698962 40.565083)scale(0.12 -0.12)\">\n      <defs>\n       <path id=\"SimHei-36\" d=\"M 250 1612 \nQ 275 1975 387 2225 \nQ 500 2475 725 2850 \nL 1750 4450 \nL 2325 4450 \nL 1275 2800 \nQ 1950 2975 2350 2750 \nQ 2750 2525 2887 2237 \nQ 3025 1950 3037 1612 \nQ 3050 1275 2937 950 \nQ 2825 625 2537 362 \nQ 2250 100 1737 75 \nQ 1225 50 862 262 \nQ 500 475 362 862 \nQ 225 1250 250 1612 \nz\nM 1025 787 \nQ 1250 550 1625 525 \nQ 2000 500 2250 775 \nQ 2500 1050 2500 1575 \nQ 2500 2100 2187 2300 \nQ 1875 2500 1487 2450 \nQ 1100 2400 925 2075 \nQ 750 1750 775 1387 \nQ 800 1025 1025 787 \nz\n\" transform=\"scale(0.015625)\"/>\n      </defs>\n      <use xlink:href=\"#SimHei-36\"/>\n     </g>\n    </g>\n   </g>\n   <g id=\"text_8\">\n    <g clip-path=\"url(#p9340992654)\">\n     <!-- 7 -->\n     <g transform=\"translate(156.842754 326.184917)scale(0.12 -0.12)\">\n      <defs>\n       <path id=\"SimHei-37\" d=\"M 850 150 \nQ 1300 2050 2425 3925 \nL 275 3925 \nL 275 4375 \nL 2950 4375 \nL 2950 3950 \nQ 1775 2050 1400 150 \nL 850 150 \nz\n\" transform=\"scale(0.015625)\"/>\n      </defs>\n      <use xlink:href=\"#SimHei-37\"/>\n     </g>\n    </g>\n   </g>\n  </g>\n </g>\n <defs>\n  <clipPath id=\"p9340992654\">\n   <rect x=\"7.2\" y=\"7.2\" width=\"460.8\" height=\"345.6\"/>\n  </clipPath>\n </defs>\n</svg>\n",
      "text/plain": [
       "<Figure size 640x480 with 1 Axes>"
      ]
     },
     "metadata": {},
     "output_type": "display_data"
    }
   ],
   "source": [
    "thres = 0.7\n",
    "elarge=[(u,v) for (u,v,d) in G.edges(data=True) if d['weight'] > thres]\n",
    "nx.draw(G, pos, node_color=node_colors, edgelist=elarge, width=2, edge_color='#A0CBE2', with_labels=True)\n",
    "plt.show()"
   ]
  },
  {
   "cell_type": "code",
   "execution_count": 18,
   "metadata": {},
   "outputs": [
    {
     "data": {
      "image/svg+xml": "<?xml version=\"1.0\" encoding=\"utf-8\" standalone=\"no\"?>\n<!DOCTYPE svg PUBLIC \"-//W3C//DTD SVG 1.1//EN\"\n  \"http://www.w3.org/Graphics/SVG/1.1/DTD/svg11.dtd\">\n<svg xmlns:xlink=\"http://www.w3.org/1999/xlink\" width=\"475.2pt\" height=\"360pt\" viewBox=\"0 0 475.2 360\" xmlns=\"http://www.w3.org/2000/svg\" version=\"1.1\">\n <metadata>\n  <rdf:RDF xmlns:dc=\"http://purl.org/dc/elements/1.1/\" xmlns:cc=\"http://creativecommons.org/ns#\" xmlns:rdf=\"http://www.w3.org/1999/02/22-rdf-syntax-ns#\">\n   <cc:Work>\n    <dc:type rdf:resource=\"http://purl.org/dc/dcmitype/StillImage\"/>\n    <dc:date>2022-10-19T22:29:35.829261</dc:date>\n    <dc:format>image/svg+xml</dc:format>\n    <dc:creator>\n     <cc:Agent>\n      <dc:title>Matplotlib v3.5.3, https://matplotlib.org/</dc:title>\n     </cc:Agent>\n    </dc:creator>\n   </cc:Work>\n  </rdf:RDF>\n </metadata>\n <defs>\n  <style type=\"text/css\">*{stroke-linejoin: round; stroke-linecap: butt}</style>\n </defs>\n <g id=\"figure_1\">\n  <g id=\"patch_1\">\n   <path d=\"M 0 360 \nL 475.2 360 \nL 475.2 0 \nL 0 0 \nz\n\" style=\"fill: #ffffff\"/>\n  </g>\n  <g id=\"axes_1\">\n   <g id=\"LineCollection_1\">\n    <path d=\"M 38.317288 224.743067 \nL 241.75396 186.111894 \n\" clip-path=\"url(#p1d32799af9)\" style=\"fill: none; stroke: #a0cbe2; stroke-width: 2\"/>\n    <path d=\"M 241.75396 186.111894 \nL 230.985941 37.190083 \n\" clip-path=\"url(#p1d32799af9)\" style=\"fill: none; stroke: #a0cbe2; stroke-width: 2\"/>\n    <path d=\"M 230.985941 37.190083 \nL 159.229834 322.809917 \n\" clip-path=\"url(#p1d32799af9)\" style=\"fill: none; stroke: #a0cbe2; stroke-width: 2\"/>\n    <path d=\"M 159.229834 322.809917 \nL 38.317288 224.743067 \n\" clip-path=\"url(#p1d32799af9)\" style=\"fill: none; stroke: #a0cbe2; stroke-width: 2\"/>\n   </g>\n   <g id=\"PathCollection_1\">\n    <defs>\n     <path id=\"C0_0_15f9474f12\" d=\"M 0 8.660254 \nC 2.296726 8.660254 4.499694 7.747755 6.123724 6.123724 \nC 7.747755 4.499694 8.660254 2.296726 8.660254 -0 \nC 8.660254 -2.296726 7.747755 -4.499694 6.123724 -6.123724 \nC 4.499694 -7.747755 2.296726 -8.660254 0 -8.660254 \nC -2.296726 -8.660254 -4.499694 -7.747755 -6.123724 -6.123724 \nC -7.747755 -4.499694 -8.660254 -2.296726 -8.660254 0 \nC -8.660254 2.296726 -7.747755 4.499694 -6.123724 6.123724 \nC -4.499694 7.747755 -2.296726 8.660254 0 8.660254 \nz\n\"/>\n    </defs>\n    <g clip-path=\"url(#p1d32799af9)\">\n     <use xlink:href=\"#C0_0_15f9474f12\" x=\"38.317288\" y=\"224.743067\" style=\"fill: #ff0000; stroke: #ff0000\"/>\n    </g>\n    <g clip-path=\"url(#p1d32799af9)\">\n     <use xlink:href=\"#C0_0_15f9474f12\" x=\"241.75396\" y=\"186.111894\" style=\"fill: #a0cbe2; stroke: #a0cbe2\"/>\n    </g>\n    <g clip-path=\"url(#p1d32799af9)\">\n     <use xlink:href=\"#C0_0_15f9474f12\" x=\"447.054545\" y=\"209.951836\" style=\"fill: #a0cbe2; stroke: #a0cbe2\"/>\n    </g>\n    <g clip-path=\"url(#p1d32799af9)\">\n     <use xlink:href=\"#C0_0_15f9474f12\" x=\"400.183937\" y=\"84.415374\" style=\"fill: #a0cbe2; stroke: #a0cbe2\"/>\n    </g>\n    <g clip-path=\"url(#p1d32799af9)\">\n     <use xlink:href=\"#C0_0_15f9474f12\" x=\"343.247828\" y=\"317.220151\" style=\"fill: #a0cbe2; stroke: #a0cbe2\"/>\n    </g>\n    <g clip-path=\"url(#p1d32799af9)\">\n     <use xlink:href=\"#C0_0_15f9474f12\" x=\"70.014967\" y=\"96.169169\" style=\"fill: #a0cbe2; stroke: #a0cbe2\"/>\n    </g>\n    <g clip-path=\"url(#p1d32799af9)\">\n     <use xlink:href=\"#C0_0_15f9474f12\" x=\"230.985941\" y=\"37.190083\" style=\"fill: #a0cbe2; stroke: #a0cbe2\"/>\n    </g>\n    <g clip-path=\"url(#p1d32799af9)\">\n     <use xlink:href=\"#C0_0_15f9474f12\" x=\"159.229834\" y=\"322.809917\" style=\"fill: #a0cbe2; stroke: #a0cbe2\"/>\n    </g>\n   </g>\n   <g id=\"text_1\">\n    <g clip-path=\"url(#p1d32799af9)\">\n     <!-- 0 -->\n     <g transform=\"translate(35.317288 228.118067)scale(0.12 -0.12)\">\n      <defs>\n       <path id=\"SimHei-30\" d=\"M 225 2537 \nQ 250 3200 412 3587 \nQ 575 3975 875 4225 \nQ 1175 4475 1612 4475 \nQ 2050 4475 2375 4112 \nQ 2700 3750 2800 3200 \nQ 2900 2650 2862 1937 \nQ 2825 1225 2612 775 \nQ 2400 325 1975 150 \nQ 1550 -25 1125 187 \nQ 700 400 525 750 \nQ 350 1100 275 1487 \nQ 200 1875 225 2537 \nz\nM 750 2687 \nQ 675 2000 800 1462 \nQ 925 925 1212 700 \nQ 1500 475 1800 612 \nQ 2100 750 2237 1162 \nQ 2375 1575 2375 2062 \nQ 2375 2550 2337 2950 \nQ 2300 3350 2112 3675 \nQ 1925 4000 1612 4012 \nQ 1300 4025 1062 3700 \nQ 825 3375 750 2687 \nz\n\" transform=\"scale(0.015625)\"/>\n      </defs>\n      <use xlink:href=\"#SimHei-30\"/>\n     </g>\n    </g>\n   </g>\n   <g id=\"text_2\">\n    <g clip-path=\"url(#p1d32799af9)\">\n     <!-- 1 -->\n     <g transform=\"translate(238.75396 189.486894)scale(0.12 -0.12)\">\n      <defs>\n       <path id=\"SimHei-31\" d=\"M 1400 3600 \nQ 1075 3275 575 2975 \nL 575 3450 \nQ 1200 3875 1600 4450 \nL 1900 4450 \nL 1900 150 \nL 1400 150 \nL 1400 3600 \nz\n\" transform=\"scale(0.015625)\"/>\n      </defs>\n      <use xlink:href=\"#SimHei-31\"/>\n     </g>\n    </g>\n   </g>\n   <g id=\"text_3\">\n    <g clip-path=\"url(#p1d32799af9)\">\n     <!-- 2 -->\n     <g transform=\"translate(444.054545 213.326836)scale(0.12 -0.12)\">\n      <defs>\n       <path id=\"SimHei-32\" d=\"M 300 250 \nQ 325 625 650 925 \nQ 975 1225 1475 1862 \nQ 1975 2500 2125 2850 \nQ 2275 3200 2237 3450 \nQ 2200 3700 2000 3862 \nQ 1800 4025 1537 4000 \nQ 1275 3975 1037 3800 \nQ 800 3625 675 3275 \nL 200 3350 \nQ 400 3925 712 4187 \nQ 1025 4450 1450 4475 \nQ 1700 4500 1900 4462 \nQ 2100 4425 2312 4287 \nQ 2525 4150 2662 3875 \nQ 2800 3600 2762 3212 \nQ 2725 2825 2375 2287 \nQ 2025 1750 1025 600 \nL 2825 600 \nL 2825 150 \nL 300 150 \nL 300 250 \nz\n\" transform=\"scale(0.015625)\"/>\n      </defs>\n      <use xlink:href=\"#SimHei-32\"/>\n     </g>\n    </g>\n   </g>\n   <g id=\"text_4\">\n    <g clip-path=\"url(#p1d32799af9)\">\n     <!-- 3 -->\n     <g transform=\"translate(397.183937 87.790374)scale(0.12 -0.12)\">\n      <defs>\n       <path id=\"SimHei-33\" d=\"M 250 1225 \nL 700 1300 \nQ 800 975 1025 762 \nQ 1250 550 1587 562 \nQ 1925 575 2125 837 \nQ 2325 1100 2300 1437 \nQ 2275 1775 2037 1962 \nQ 1800 2150 1275 2225 \nL 1275 2550 \nQ 1800 2600 2037 2825 \nQ 2275 3050 2250 3412 \nQ 2225 3775 1925 3937 \nQ 1625 4100 1287 3975 \nQ 950 3850 750 3275 \nL 300 3350 \nQ 450 3800 712 4100 \nQ 975 4400 1425 4450 \nQ 1875 4500 2212 4337 \nQ 2550 4175 2687 3837 \nQ 2825 3500 2725 3100 \nQ 2625 2700 2150 2400 \nQ 2500 2250 2687 1950 \nQ 2875 1650 2812 1162 \nQ 2750 675 2375 375 \nQ 2000 75 1525 87 \nQ 1050 100 700 387 \nQ 350 675 250 1225 \nz\n\" transform=\"scale(0.015625)\"/>\n      </defs>\n      <use xlink:href=\"#SimHei-33\"/>\n     </g>\n    </g>\n   </g>\n   <g id=\"text_5\">\n    <g clip-path=\"url(#p1d32799af9)\">\n     <!-- 4 -->\n     <g transform=\"translate(340.247828 320.595151)scale(0.12 -0.12)\">\n      <defs>\n       <path id=\"SimHei-34\" d=\"M 2000 1100 \nL 75 1100 \nL 75 1525 \nL 2100 4450 \nL 2475 4450 \nL 2475 1525 \nL 3075 1525 \nL 3075 1100 \nL 2475 1100 \nL 2475 150 \nL 2000 150 \nL 2000 1100 \nz\nM 2000 1525 \nL 2000 3500 \nL 600 1525 \nL 2000 1525 \nz\n\" transform=\"scale(0.015625)\"/>\n      </defs>\n      <use xlink:href=\"#SimHei-34\"/>\n     </g>\n    </g>\n   </g>\n   <g id=\"text_6\">\n    <g clip-path=\"url(#p1d32799af9)\">\n     <!-- 5 -->\n     <g transform=\"translate(67.014967 99.544169)scale(0.12 -0.12)\">\n      <defs>\n       <path id=\"SimHei-35\" d=\"M 550 1325 \nQ 725 650 1150 575 \nQ 1575 500 1837 662 \nQ 2100 825 2212 1087 \nQ 2325 1350 2312 1675 \nQ 2300 2000 2137 2225 \nQ 1975 2450 1725 2525 \nQ 1475 2600 1162 2525 \nQ 850 2450 650 2175 \nL 225 2225 \nQ 275 2375 700 4375 \nL 2675 4375 \nL 2675 3925 \nL 1075 3925 \nQ 950 3250 825 2850 \nQ 1200 3025 1525 3012 \nQ 1850 3000 2150 2862 \nQ 2450 2725 2587 2487 \nQ 2725 2250 2787 2012 \nQ 2850 1775 2837 1500 \nQ 2825 1225 2725 937 \nQ 2625 650 2425 462 \nQ 2225 275 1937 162 \nQ 1650 50 1275 75 \nQ 900 100 562 350 \nQ 225 600 100 1200 \nL 550 1325 \nz\n\" transform=\"scale(0.015625)\"/>\n      </defs>\n      <use xlink:href=\"#SimHei-35\"/>\n     </g>\n    </g>\n   </g>\n   <g id=\"text_7\">\n    <g clip-path=\"url(#p1d32799af9)\">\n     <!-- 6 -->\n     <g transform=\"translate(227.985941 40.565083)scale(0.12 -0.12)\">\n      <defs>\n       <path id=\"SimHei-36\" d=\"M 250 1612 \nQ 275 1975 387 2225 \nQ 500 2475 725 2850 \nL 1750 4450 \nL 2325 4450 \nL 1275 2800 \nQ 1950 2975 2350 2750 \nQ 2750 2525 2887 2237 \nQ 3025 1950 3037 1612 \nQ 3050 1275 2937 950 \nQ 2825 625 2537 362 \nQ 2250 100 1737 75 \nQ 1225 50 862 262 \nQ 500 475 362 862 \nQ 225 1250 250 1612 \nz\nM 1025 787 \nQ 1250 550 1625 525 \nQ 2000 500 2250 775 \nQ 2500 1050 2500 1575 \nQ 2500 2100 2187 2300 \nQ 1875 2500 1487 2450 \nQ 1100 2400 925 2075 \nQ 750 1750 775 1387 \nQ 800 1025 1025 787 \nz\n\" transform=\"scale(0.015625)\"/>\n      </defs>\n      <use xlink:href=\"#SimHei-36\"/>\n     </g>\n    </g>\n   </g>\n   <g id=\"text_8\">\n    <g clip-path=\"url(#p1d32799af9)\">\n     <!-- 7 -->\n     <g transform=\"translate(156.229834 326.184917)scale(0.12 -0.12)\">\n      <defs>\n       <path id=\"SimHei-37\" d=\"M 850 150 \nQ 1300 2050 2425 3925 \nL 275 3925 \nL 275 4375 \nL 2950 4375 \nL 2950 3950 \nQ 1775 2050 1400 150 \nL 850 150 \nz\n\" transform=\"scale(0.015625)\"/>\n      </defs>\n      <use xlink:href=\"#SimHei-37\"/>\n     </g>\n    </g>\n   </g>\n  </g>\n </g>\n <defs>\n  <clipPath id=\"p1d32799af9\">\n   <rect x=\"7.2\" y=\"7.2\" width=\"460.8\" height=\"345.6\"/>\n  </clipPath>\n </defs>\n</svg>\n",
      "text/plain": [
       "<Figure size 640x480 with 1 Axes>"
      ]
     },
     "metadata": {},
     "output_type": "display_data"
    }
   ],
   "source": [
    "nx.draw(G, pos, node_color=node_colors, edgelist=shortest_path, width=2, edge_color='#A0CBE2', with_labels=True)\n",
    "plt.show()"
   ]
  },
  {
   "attachments": {},
   "cell_type": "markdown",
   "metadata": {},
   "source": [
    "### Solomon数据集展示"
   ]
  },
  {
   "cell_type": "code",
   "execution_count": 54,
   "metadata": {},
   "outputs": [],
   "source": [
    "from data import SolomonDataSet"
   ]
  },
  {
   "cell_type": "code",
   "execution_count": 77,
   "metadata": {},
   "outputs": [],
   "source": [
    "instance_name = 'c101'\n",
    "n = 25\n",
    "data_path = f'../data/100/{instance_name}.txt'\n",
    "data = SolomonDataSet(path=data_path, n_vertices=n)\n",
    "G = data.G"
   ]
  },
  {
   "cell_type": "code",
   "execution_count": 95,
   "metadata": {},
   "outputs": [
    {
     "data": {
      "image/svg+xml": "<?xml version=\"1.0\" encoding=\"utf-8\" standalone=\"no\"?>\n<!DOCTYPE svg PUBLIC \"-//W3C//DTD SVG 1.1//EN\"\n  \"http://www.w3.org/Graphics/SVG/1.1/DTD/svg11.dtd\">\n<svg xmlns:xlink=\"http://www.w3.org/1999/xlink\" width=\"475.2pt\" height=\"377.990625pt\" viewBox=\"0 0 475.2 377.990625\" xmlns=\"http://www.w3.org/2000/svg\" version=\"1.1\">\n <metadata>\n  <rdf:RDF xmlns:dc=\"http://purl.org/dc/elements/1.1/\" xmlns:cc=\"http://creativecommons.org/ns#\" xmlns:rdf=\"http://www.w3.org/1999/02/22-rdf-syntax-ns#\">\n   <cc:Work>\n    <dc:type rdf:resource=\"http://purl.org/dc/dcmitype/StillImage\"/>\n    <dc:date>2022-10-17T15:51:01.809810</dc:date>\n    <dc:format>image/svg+xml</dc:format>\n    <dc:creator>\n     <cc:Agent>\n      <dc:title>Matplotlib v3.5.3, https://matplotlib.org/</dc:title>\n     </cc:Agent>\n    </dc:creator>\n   </cc:Work>\n  </rdf:RDF>\n </metadata>\n <defs>\n  <style type=\"text/css\">*{stroke-linejoin: round; stroke-linecap: butt}</style>\n </defs>\n <g id=\"figure_1\">\n  <g id=\"patch_1\">\n   <path d=\"M 0 377.990625 \nL 475.2 377.990625 \nL 475.2 0 \nL 0 0 \nz\n\" style=\"fill: #ffffff\"/>\n  </g>\n  <g id=\"axes_1\">\n   <g id=\"PathCollection_1\">\n    <defs>\n     <path id=\"C0_0_0d69433a35\" d=\"M 0 8.660254 \nC 2.296726 8.660254 4.499694 7.747755 6.123724 6.123724 \nC 7.747755 4.499694 8.660254 2.296726 8.660254 -0 \nC 8.660254 -2.296726 7.747755 -4.499694 6.123724 -6.123724 \nC 4.499694 -7.747755 2.296726 -8.660254 0 -8.660254 \nC -2.296726 -8.660254 -4.499694 -7.747755 -6.123724 -6.123724 \nC -7.747755 -4.499694 -8.660254 -2.296726 -8.660254 0 \nC -8.660254 2.296726 -7.747755 4.499694 -6.123724 6.123724 \nC -4.499694 7.747755 -2.296726 8.660254 0 8.660254 \nz\n\"/>\n    </defs>\n    <g clip-path=\"url(#p2286eb69b6)\">\n     <use xlink:href=\"#C0_0_0d69433a35\" x=\"377.236364\" y=\"355.081534\" style=\"fill: #a0cbe2; stroke: #a0cbe2\"/>\n    </g>\n    <g clip-path=\"url(#p2286eb69b6)\">\n     <use xlink:href=\"#C0_0_0d69433a35\" x=\"377.236364\" y=\"355.081534\" style=\"fill: #ff0000; stroke: #ff0000\"/>\n    </g>\n    <g clip-path=\"url(#p2286eb69b6)\">\n     <use xlink:href=\"#C0_0_0d69433a35\" x=\"447.054545\" y=\"193.502313\" style=\"fill: #a0cbe2; stroke: #a0cbe2\"/>\n    </g>\n    <g clip-path=\"url(#p2286eb69b6)\">\n     <use xlink:href=\"#C0_0_0d69433a35\" x=\"447.054545\" y=\"175.549067\" style=\"fill: #a0cbe2; stroke: #a0cbe2\"/>\n    </g>\n    <g clip-path=\"url(#p2286eb69b6)\">\n     <use xlink:href=\"#C0_0_0d69433a35\" x=\"405.163636\" y=\"211.45556\" style=\"fill: #a0cbe2; stroke: #a0cbe2\"/>\n    </g>\n    <g clip-path=\"url(#p2286eb69b6)\">\n     <use xlink:href=\"#C0_0_0d69433a35\" x=\"405.163636\" y=\"193.502313\" style=\"fill: #a0cbe2; stroke: #a0cbe2\"/>\n    </g>\n    <g clip-path=\"url(#p2286eb69b6)\">\n     <use xlink:href=\"#C0_0_0d69433a35\" x=\"405.163636\" y=\"220.432183\" style=\"fill: #a0cbe2; stroke: #a0cbe2\"/>\n    </g>\n    <g clip-path=\"url(#p2286eb69b6)\">\n     <use xlink:href=\"#C0_0_0d69433a35\" x=\"377.236364\" y=\"184.52569\" style=\"fill: #a0cbe2; stroke: #a0cbe2\"/>\n    </g>\n    <g clip-path=\"url(#p2286eb69b6)\">\n     <use xlink:href=\"#C0_0_0d69433a35\" x=\"377.236364\" y=\"211.45556\" style=\"fill: #a0cbe2; stroke: #a0cbe2\"/>\n    </g>\n    <g clip-path=\"url(#p2286eb69b6)\">\n     <use xlink:href=\"#C0_0_0d69433a35\" x=\"349.309091\" y=\"193.502313\" style=\"fill: #a0cbe2; stroke: #a0cbe2\"/>\n    </g>\n    <g clip-path=\"url(#p2286eb69b6)\">\n     <use xlink:href=\"#C0_0_0d69433a35\" x=\"349.309091\" y=\"175.549067\" style=\"fill: #a0cbe2; stroke: #a0cbe2\"/>\n    </g>\n    <g clip-path=\"url(#p2286eb69b6)\">\n     <use xlink:href=\"#C0_0_0d69433a35\" x=\"307.418182\" y=\"211.45556\" style=\"fill: #a0cbe2; stroke: #a0cbe2\"/>\n    </g>\n    <g clip-path=\"url(#p2286eb69b6)\">\n     <use xlink:href=\"#C0_0_0d69433a35\" x=\"307.418182\" y=\"184.52569\" style=\"fill: #a0cbe2; stroke: #a0cbe2\"/>\n    </g>\n    <g clip-path=\"url(#p2286eb69b6)\">\n     <use xlink:href=\"#C0_0_0d69433a35\" x=\"167.781818\" y=\"40.899716\" style=\"fill: #a0cbe2; stroke: #a0cbe2\"/>\n    </g>\n    <g clip-path=\"url(#p2286eb69b6)\">\n     <use xlink:href=\"#C0_0_0d69433a35\" x=\"125.890909\" y=\"130.66595\" style=\"fill: #a0cbe2; stroke: #a0cbe2\"/>\n    </g>\n    <g clip-path=\"url(#p2286eb69b6)\">\n     <use xlink:href=\"#C0_0_0d69433a35\" x=\"125.890909\" y=\"40.899716\" style=\"fill: #a0cbe2; stroke: #a0cbe2\"/>\n    </g>\n    <g clip-path=\"url(#p2286eb69b6)\">\n     <use xlink:href=\"#C0_0_0d69433a35\" x=\"97.963636\" y=\"85.782833\" style=\"fill: #a0cbe2; stroke: #a0cbe2\"/>\n    </g>\n    <g clip-path=\"url(#p2286eb69b6)\">\n     <use xlink:href=\"#C0_0_0d69433a35\" x=\"97.963636\" y=\"40.899716\" style=\"fill: #a0cbe2; stroke: #a0cbe2\"/>\n    </g>\n    <g clip-path=\"url(#p2286eb69b6)\">\n     <use xlink:href=\"#C0_0_0d69433a35\" x=\"70.036364\" y=\"130.66595\" style=\"fill: #a0cbe2; stroke: #a0cbe2\"/>\n    </g>\n    <g clip-path=\"url(#p2286eb69b6)\">\n     <use xlink:href=\"#C0_0_0d69433a35\" x=\"28.145455\" y=\"130.66595\" style=\"fill: #a0cbe2; stroke: #a0cbe2\"/>\n    </g>\n    <g clip-path=\"url(#p2286eb69b6)\">\n     <use xlink:href=\"#C0_0_0d69433a35\" x=\"28.145455\" y=\"85.782833\" style=\"fill: #a0cbe2; stroke: #a0cbe2\"/>\n    </g>\n    <g clip-path=\"url(#p2286eb69b6)\">\n     <use xlink:href=\"#C0_0_0d69433a35\" x=\"237.6\" y=\"355.081534\" style=\"fill: #a0cbe2; stroke: #a0cbe2\"/>\n    </g>\n    <g clip-path=\"url(#p2286eb69b6)\">\n     <use xlink:href=\"#C0_0_0d69433a35\" x=\"237.6\" y=\"337.128287\" style=\"fill: #a0cbe2; stroke: #a0cbe2\"/>\n    </g>\n    <g clip-path=\"url(#p2286eb69b6)\">\n     <use xlink:href=\"#C0_0_0d69433a35\" x=\"209.672727\" y=\"337.128287\" style=\"fill: #a0cbe2; stroke: #a0cbe2\"/>\n    </g>\n    <g clip-path=\"url(#p2286eb69b6)\">\n     <use xlink:href=\"#C0_0_0d69433a35\" x=\"209.672727\" y=\"310.198417\" style=\"fill: #a0cbe2; stroke: #a0cbe2\"/>\n    </g>\n    <g clip-path=\"url(#p2286eb69b6)\">\n     <use xlink:href=\"#C0_0_0d69433a35\" x=\"167.781818\" y=\"355.081534\" style=\"fill: #a0cbe2; stroke: #a0cbe2\"/>\n    </g>\n    <g clip-path=\"url(#p2286eb69b6)\">\n     <use xlink:href=\"#C0_0_0d69433a35\" x=\"167.781818\" y=\"337.128287\" style=\"fill: #a0cbe2; stroke: #a0cbe2\"/>\n    </g>\n   </g>\n   <g id=\"text_1\">\n    <!-- c101, n=25 -->\n    <g transform=\"translate(197.639062 19.190625)scale(0.15 -0.15)\">\n     <defs>\n      <path id=\"MicrosoftYaHei-63\" d=\"M 2934 156 \nQ 2538 -81 1978 -81 \nQ 1228 -81 772 400 \nQ 316 881 316 1647 \nQ 316 2497 808 3017 \nQ 1300 3538 2125 3538 \nQ 2600 3538 2938 3369 \nL 2938 2763 \nQ 2572 3031 2125 3031 \nQ 1600 3031 1270 2667 \nQ 941 2303 941 1697 \nQ 941 1100 1252 762 \nQ 1563 425 2091 425 \nQ 2538 425 2934 719 \nL 2934 156 \nz\n\" transform=\"scale(0.015625)\"/>\n      <path id=\"MicrosoftYaHei-31\" d=\"M 1781 0 \nL 1781 4141 \nQ 1638 3997 1295 3819 \nQ 953 3641 663 3569 \nL 663 4169 \nQ 1047 4275 1484 4508 \nQ 1922 4741 2156 4947 \nL 2388 4947 \nL 2388 0 \nL 1781 0 \nz\n\" transform=\"scale(0.015625)\"/>\n      <path id=\"MicrosoftYaHei-30\" d=\"M 284 2325 \nQ 284 3606 709 4264 \nQ 1134 4922 1941 4922 \nQ 3478 4922 3478 2441 \nQ 3478 1216 3045 567 \nQ 2613 -81 1831 -81 \nQ 1094 -81 689 534 \nQ 284 1150 284 2325 \nz\nM 909 2353 \nQ 909 425 1888 425 \nQ 2850 425 2850 2384 \nQ 2850 4413 1906 4413 \nQ 909 4413 909 2353 \nz\n\" transform=\"scale(0.015625)\"/>\n      <path id=\"MicrosoftYaHei-2c\" d=\"M 1109 778 \nL 575 -888 \nL 131 -888 \nL 519 778 \nL 1109 778 \nz\n\" transform=\"scale(0.015625)\"/>\n      <path id=\"MicrosoftYaHei-20\" transform=\"scale(0.015625)\"/>\n      <path id=\"MicrosoftYaHei-6e\" d=\"M 3469 0 \nL 2859 0 \nL 2859 1966 \nQ 2859 3031 2081 3031 \nQ 1678 3031 1418 2731 \nQ 1159 2431 1159 1972 \nL 1159 0 \nL 547 0 \nL 547 3456 \nL 1159 3456 \nL 1159 2884 \nL 1172 2884 \nQ 1563 3538 2306 3538 \nQ 2875 3538 3172 3173 \nQ 3469 2809 3469 2113 \nL 3469 0 \nz\n\" transform=\"scale(0.015625)\"/>\n      <path id=\"MicrosoftYaHei-3d\" d=\"M 3972 2497 \nL 788 2497 \nL 788 2969 \nL 3972 2969 \nL 3972 2497 \nz\nM 3972 1053 \nL 788 1053 \nL 788 1525 \nL 3972 1525 \nL 3972 1053 \nz\n\" transform=\"scale(0.015625)\"/>\n      <path id=\"MicrosoftYaHei-32\" d=\"M 2666 3572 \nQ 2666 3963 2419 4186 \nQ 2172 4409 1747 4409 \nQ 1447 4409 1140 4256 \nQ 834 4103 569 3819 \nL 569 4413 \nQ 806 4659 1107 4790 \nQ 1409 4922 1816 4922 \nQ 2472 4922 2872 4570 \nQ 3272 4219 3272 3619 \nQ 3272 3084 3026 2693 \nQ 2781 2303 2188 1894 \nQ 1581 1475 1376 1294 \nQ 1172 1113 1090 947 \nQ 1009 781 1009 544 \nL 3416 544 \nL 3416 0 \nL 372 0 \nL 372 241 \nQ 372 659 486 951 \nQ 600 1244 862 1520 \nQ 1125 1797 1681 2184 \nQ 2250 2584 2458 2886 \nQ 2666 3188 2666 3572 \nz\n\" transform=\"scale(0.015625)\"/>\n      <path id=\"MicrosoftYaHei-35\" d=\"M 3294 1494 \nQ 3294 784 2823 350 \nQ 2353 -84 1559 -84 \nQ 878 -84 544 119 \nL 544 744 \nQ 1034 425 1544 425 \nQ 2050 425 2361 704 \nQ 2672 984 2672 1447 \nQ 2672 1909 2348 2167 \nQ 2025 2425 1434 2425 \nQ 978 2425 613 2384 \nL 791 4841 \nL 3053 4841 \nL 3053 4303 \nL 1306 4303 \nL 1206 2931 \nL 1647 2950 \nQ 2416 2950 2855 2567 \nQ 3294 2184 3294 1494 \nz\n\" transform=\"scale(0.015625)\"/>\n     </defs>\n     <use xlink:href=\"#MicrosoftYaHei-63\"/>\n     <use xlink:href=\"#MicrosoftYaHei-31\" x=\"50.146484\"/>\n     <use xlink:href=\"#MicrosoftYaHei-30\" x=\"108.789062\"/>\n     <use xlink:href=\"#MicrosoftYaHei-31\" x=\"167.431641\"/>\n     <use xlink:href=\"#MicrosoftYaHei-2c\" x=\"226.074219\"/>\n     <use xlink:href=\"#MicrosoftYaHei-20\" x=\"250.146484\"/>\n     <use xlink:href=\"#MicrosoftYaHei-6e\" x=\"279.736328\"/>\n     <use xlink:href=\"#MicrosoftYaHei-3d\" x=\"341.357422\"/>\n     <use xlink:href=\"#MicrosoftYaHei-32\" x=\"415.527344\"/>\n     <use xlink:href=\"#MicrosoftYaHei-35\" x=\"474.169922\"/>\n    </g>\n   </g>\n  </g>\n </g>\n <defs>\n  <clipPath id=\"p2286eb69b6\">\n   <rect x=\"7.2\" y=\"25.190625\" width=\"460.8\" height=\"345.6\"/>\n  </clipPath>\n </defs>\n</svg>\n",
      "text/plain": [
       "<Figure size 640x480 with 1 Axes>"
      ]
     },
     "metadata": {},
     "output_type": "display_data"
    }
   ],
   "source": [
    "node_position = {v:(d['x'], d['y']) for (v, d) in G.nodes(data=True)}\n",
    "node_colors = ['#A0CBE2']*(n+2)\n",
    "node_colors[1] = 'red'\n",
    "nx.draw(G, pos=node_position, node_color=node_colors, edgelist=[])\n",
    "plt.rcParams.update({'font.size': 15})     #设置图例字体大小\n",
    "plt.title(f\"{instance_name}, n={n}\", fontproperties=\"Microsoft YaHei\")  # Times New Roman\n",
    "plt.show()"
   ]
  },
  {
   "cell_type": "code",
   "execution_count": 134,
   "metadata": {},
   "outputs": [],
   "source": [
    "def plot_node(instance_name, n, node_size=100, font_size=15):\n",
    "    data_path = f'../data/100/{instance_name}.txt'\n",
    "    data = SolomonDataSet(path=data_path, n_vertices=n)\n",
    "    G = data.G\n",
    "    node_position = {v:(d['x'], d['y']) for (v, d) in G.nodes(data=True)}\n",
    "    node_colors = ['#A0CBE2']*(n+2)\n",
    "    node_colors[1] = 'red'\n",
    "    nx.draw(G, pos=node_position, node_color=node_colors, edgelist=[], node_size=node_size)\n",
    "    plt.rcParams.update({'font.size': font_size})     #设置图例字体大小\n",
    "    plt.title(f\"{instance_name}, n={n}\", fontproperties=\"Microsoft YaHei\")  # Times New Roman\n",
    "    plt.savefig(f\"F:/Users/Documents/汇报/img/{instance_name}_{n}.png\", bbox_inches=\"tight\")\n",
    "    plt.show()"
   ]
  },
  {
   "cell_type": "code",
   "execution_count": 135,
   "metadata": {},
   "outputs": [
    {
     "data": {
      "image/svg+xml": "<?xml version=\"1.0\" encoding=\"utf-8\" standalone=\"no\"?>\n<!DOCTYPE svg PUBLIC \"-//W3C//DTD SVG 1.1//EN\"\n  \"http://www.w3.org/Graphics/SVG/1.1/DTD/svg11.dtd\">\n<svg xmlns:xlink=\"http://www.w3.org/1999/xlink\" width=\"475.2pt\" height=\"385.984375pt\" viewBox=\"0 0 475.2 385.984375\" xmlns=\"http://www.w3.org/2000/svg\" version=\"1.1\">\n <metadata>\n  <rdf:RDF xmlns:dc=\"http://purl.org/dc/elements/1.1/\" xmlns:cc=\"http://creativecommons.org/ns#\" xmlns:rdf=\"http://www.w3.org/1999/02/22-rdf-syntax-ns#\">\n   <cc:Work>\n    <dc:type rdf:resource=\"http://purl.org/dc/dcmitype/StillImage\"/>\n    <dc:date>2022-10-17T17:26:09.330777</dc:date>\n    <dc:format>image/svg+xml</dc:format>\n    <dc:creator>\n     <cc:Agent>\n      <dc:title>Matplotlib v3.5.3, https://matplotlib.org/</dc:title>\n     </cc:Agent>\n    </dc:creator>\n   </cc:Work>\n  </rdf:RDF>\n </metadata>\n <defs>\n  <style type=\"text/css\">*{stroke-linejoin: round; stroke-linecap: butt}</style>\n </defs>\n <g id=\"figure_1\">\n  <g id=\"patch_1\">\n   <path d=\"M 0 385.984375 \nL 475.2 385.984375 \nL 475.2 0 \nL 0 0 \nz\n\" style=\"fill: #ffffff\"/>\n  </g>\n  <g id=\"axes_1\">\n   <g id=\"PathCollection_1\">\n    <defs>\n     <path id=\"C0_0_46b596a082\" d=\"M 0 3.535534 \nC 0.937635 3.535534 1.836992 3.163008 2.5 2.5 \nC 3.163008 1.836992 3.535534 0.937635 3.535534 -0 \nC 3.535534 -0.937635 3.163008 -1.836992 2.5 -2.5 \nC 1.836992 -3.163008 0.937635 -3.535534 0 -3.535534 \nC -0.937635 -3.535534 -1.836992 -3.163008 -2.5 -2.5 \nC -3.163008 -1.836992 -3.535534 -0.937635 -3.535534 0 \nC -3.535534 0.937635 -3.163008 1.836992 -2.5 2.5 \nC -1.836992 3.163008 -0.937635 3.535534 0 3.535534 \nz\n\"/>\n    </defs>\n    <g clip-path=\"url(#p4e96b086b6)\">\n     <use xlink:href=\"#C0_0_46b596a082\" x=\"204.52823\" y=\"186.348011\" style=\"fill: #a0cbe2; stroke: #a0cbe2\"/>\n    </g>\n    <g clip-path=\"url(#p4e96b086b6)\">\n     <use xlink:href=\"#C0_0_46b596a082\" x=\"204.52823\" y=\"186.348011\" style=\"fill: #ff0000; stroke: #ff0000\"/>\n    </g>\n    <g clip-path=\"url(#p4e96b086b6)\">\n     <use xlink:href=\"#C0_0_46b596a082\" x=\"226.576077\" y=\"115.657102\" style=\"fill: #a0cbe2; stroke: #a0cbe2\"/>\n    </g>\n    <g clip-path=\"url(#p4e96b086b6)\">\n     <use xlink:href=\"#C0_0_46b596a082\" x=\"226.576077\" y=\"107.802557\" style=\"fill: #a0cbe2; stroke: #a0cbe2\"/>\n    </g>\n    <g clip-path=\"url(#p4e96b086b6)\">\n     <use xlink:href=\"#C0_0_46b596a082\" x=\"213.347368\" y=\"123.511648\" style=\"fill: #a0cbe2; stroke: #a0cbe2\"/>\n    </g>\n    <g clip-path=\"url(#p4e96b086b6)\">\n     <use xlink:href=\"#C0_0_46b596a082\" x=\"213.347368\" y=\"115.657102\" style=\"fill: #a0cbe2; stroke: #a0cbe2\"/>\n    </g>\n    <g clip-path=\"url(#p4e96b086b6)\">\n     <use xlink:href=\"#C0_0_46b596a082\" x=\"213.347368\" y=\"127.43892\" style=\"fill: #a0cbe2; stroke: #a0cbe2\"/>\n    </g>\n    <g clip-path=\"url(#p4e96b086b6)\">\n     <use xlink:href=\"#C0_0_46b596a082\" x=\"204.52823\" y=\"111.72983\" style=\"fill: #a0cbe2; stroke: #a0cbe2\"/>\n    </g>\n    <g clip-path=\"url(#p4e96b086b6)\">\n     <use xlink:href=\"#C0_0_46b596a082\" x=\"204.52823\" y=\"123.511648\" style=\"fill: #a0cbe2; stroke: #a0cbe2\"/>\n    </g>\n    <g clip-path=\"url(#p4e96b086b6)\">\n     <use xlink:href=\"#C0_0_46b596a082\" x=\"195.709091\" y=\"115.657102\" style=\"fill: #a0cbe2; stroke: #a0cbe2\"/>\n    </g>\n    <g clip-path=\"url(#p4e96b086b6)\">\n     <use xlink:href=\"#C0_0_46b596a082\" x=\"195.709091\" y=\"107.802557\" style=\"fill: #a0cbe2; stroke: #a0cbe2\"/>\n    </g>\n    <g clip-path=\"url(#p4e96b086b6)\">\n     <use xlink:href=\"#C0_0_46b596a082\" x=\"182.480383\" y=\"123.511648\" style=\"fill: #a0cbe2; stroke: #a0cbe2\"/>\n    </g>\n    <g clip-path=\"url(#p4e96b086b6)\">\n     <use xlink:href=\"#C0_0_46b596a082\" x=\"182.480383\" y=\"111.72983\" style=\"fill: #a0cbe2; stroke: #a0cbe2\"/>\n    </g>\n    <g clip-path=\"url(#p4e96b086b6)\">\n     <use xlink:href=\"#C0_0_46b596a082\" x=\"138.384689\" y=\"48.893466\" style=\"fill: #a0cbe2; stroke: #a0cbe2\"/>\n    </g>\n    <g clip-path=\"url(#p4e96b086b6)\">\n     <use xlink:href=\"#C0_0_46b596a082\" x=\"125.155981\" y=\"88.166193\" style=\"fill: #a0cbe2; stroke: #a0cbe2\"/>\n    </g>\n    <g clip-path=\"url(#p4e96b086b6)\">\n     <use xlink:href=\"#C0_0_46b596a082\" x=\"125.155981\" y=\"48.893466\" style=\"fill: #a0cbe2; stroke: #a0cbe2\"/>\n    </g>\n    <g clip-path=\"url(#p4e96b086b6)\">\n     <use xlink:href=\"#C0_0_46b596a082\" x=\"116.336842\" y=\"68.52983\" style=\"fill: #a0cbe2; stroke: #a0cbe2\"/>\n    </g>\n    <g clip-path=\"url(#p4e96b086b6)\">\n     <use xlink:href=\"#C0_0_46b596a082\" x=\"116.336842\" y=\"48.893466\" style=\"fill: #a0cbe2; stroke: #a0cbe2\"/>\n    </g>\n    <g clip-path=\"url(#p4e96b086b6)\">\n     <use xlink:href=\"#C0_0_46b596a082\" x=\"107.517703\" y=\"88.166193\" style=\"fill: #a0cbe2; stroke: #a0cbe2\"/>\n    </g>\n    <g clip-path=\"url(#p4e96b086b6)\">\n     <use xlink:href=\"#C0_0_46b596a082\" x=\"94.288995\" y=\"88.166193\" style=\"fill: #a0cbe2; stroke: #a0cbe2\"/>\n    </g>\n    <g clip-path=\"url(#p4e96b086b6)\">\n     <use xlink:href=\"#C0_0_46b596a082\" x=\"94.288995\" y=\"68.52983\" style=\"fill: #a0cbe2; stroke: #a0cbe2\"/>\n    </g>\n    <g clip-path=\"url(#p4e96b086b6)\">\n     <use xlink:href=\"#C0_0_46b596a082\" x=\"160.432536\" y=\"186.348011\" style=\"fill: #a0cbe2; stroke: #a0cbe2\"/>\n    </g>\n    <g clip-path=\"url(#p4e96b086b6)\">\n     <use xlink:href=\"#C0_0_46b596a082\" x=\"160.432536\" y=\"178.493466\" style=\"fill: #a0cbe2; stroke: #a0cbe2\"/>\n    </g>\n    <g clip-path=\"url(#p4e96b086b6)\">\n     <use xlink:href=\"#C0_0_46b596a082\" x=\"151.613397\" y=\"178.493466\" style=\"fill: #a0cbe2; stroke: #a0cbe2\"/>\n    </g>\n    <g clip-path=\"url(#p4e96b086b6)\">\n     <use xlink:href=\"#C0_0_46b596a082\" x=\"151.613397\" y=\"166.711648\" style=\"fill: #a0cbe2; stroke: #a0cbe2\"/>\n    </g>\n    <g clip-path=\"url(#p4e96b086b6)\">\n     <use xlink:href=\"#C0_0_46b596a082\" x=\"138.384689\" y=\"186.348011\" style=\"fill: #a0cbe2; stroke: #a0cbe2\"/>\n    </g>\n    <g clip-path=\"url(#p4e96b086b6)\">\n     <use xlink:href=\"#C0_0_46b596a082\" x=\"138.384689\" y=\"178.493466\" style=\"fill: #a0cbe2; stroke: #a0cbe2\"/>\n    </g>\n    <g clip-path=\"url(#p4e96b086b6)\">\n     <use xlink:href=\"#C0_0_46b596a082\" x=\"138.384689\" y=\"166.711648\" style=\"fill: #a0cbe2; stroke: #a0cbe2\"/>\n    </g>\n    <g clip-path=\"url(#p4e96b086b6)\">\n     <use xlink:href=\"#C0_0_46b596a082\" x=\"129.56555\" y=\"178.493466\" style=\"fill: #a0cbe2; stroke: #a0cbe2\"/>\n    </g>\n    <g clip-path=\"url(#p4e96b086b6)\">\n     <use xlink:href=\"#C0_0_46b596a082\" x=\"129.56555\" y=\"166.711648\" style=\"fill: #a0cbe2; stroke: #a0cbe2\"/>\n    </g>\n    <g clip-path=\"url(#p4e96b086b6)\">\n     <use xlink:href=\"#C0_0_46b596a082\" x=\"116.336842\" y=\"186.348011\" style=\"fill: #a0cbe2; stroke: #a0cbe2\"/>\n    </g>\n    <g clip-path=\"url(#p4e96b086b6)\">\n     <use xlink:href=\"#C0_0_46b596a082\" x=\"116.336842\" y=\"166.711648\" style=\"fill: #a0cbe2; stroke: #a0cbe2\"/>\n    </g>\n    <g clip-path=\"url(#p4e96b086b6)\">\n     <use xlink:href=\"#C0_0_46b596a082\" x=\"72.241148\" y=\"245.257102\" style=\"fill: #a0cbe2; stroke: #a0cbe2\"/>\n    </g>\n    <g clip-path=\"url(#p4e96b086b6)\">\n     <use xlink:href=\"#C0_0_46b596a082\" x=\"72.241148\" y=\"225.620739\" style=\"fill: #a0cbe2; stroke: #a0cbe2\"/>\n    </g>\n    <g clip-path=\"url(#p4e96b086b6)\">\n     <use xlink:href=\"#C0_0_46b596a082\" x=\"63.42201\" y=\"225.620739\" style=\"fill: #a0cbe2; stroke: #a0cbe2\"/>\n    </g>\n    <g clip-path=\"url(#p4e96b086b6)\">\n     <use xlink:href=\"#C0_0_46b596a082\" x=\"63.42201\" y=\"205.984375\" style=\"fill: #a0cbe2; stroke: #a0cbe2\"/>\n    </g>\n    <g clip-path=\"url(#p4e96b086b6)\">\n     <use xlink:href=\"#C0_0_46b596a082\" x=\"50.193301\" y=\"245.257102\" style=\"fill: #a0cbe2; stroke: #a0cbe2\"/>\n    </g>\n    <g clip-path=\"url(#p4e96b086b6)\">\n     <use xlink:href=\"#C0_0_46b596a082\" x=\"50.193301\" y=\"205.984375\" style=\"fill: #a0cbe2; stroke: #a0cbe2\"/>\n    </g>\n    <g clip-path=\"url(#p4e96b086b6)\">\n     <use xlink:href=\"#C0_0_46b596a082\" x=\"36.964593\" y=\"225.620739\" style=\"fill: #a0cbe2; stroke: #a0cbe2\"/>\n    </g>\n    <g clip-path=\"url(#p4e96b086b6)\">\n     <use xlink:href=\"#C0_0_46b596a082\" x=\"28.145455\" y=\"225.620739\" style=\"fill: #a0cbe2; stroke: #a0cbe2\"/>\n    </g>\n    <g clip-path=\"url(#p4e96b086b6)\">\n     <use xlink:href=\"#C0_0_46b596a082\" x=\"28.145455\" y=\"205.984375\" style=\"fill: #a0cbe2; stroke: #a0cbe2\"/>\n    </g>\n    <g clip-path=\"url(#p4e96b086b6)\">\n     <use xlink:href=\"#C0_0_46b596a082\" x=\"182.480383\" y=\"264.893466\" style=\"fill: #a0cbe2; stroke: #a0cbe2\"/>\n    </g>\n    <g clip-path=\"url(#p4e96b086b6)\">\n     <use xlink:href=\"#C0_0_46b596a082\" x=\"182.480383\" y=\"257.03892\" style=\"fill: #a0cbe2; stroke: #a0cbe2\"/>\n    </g>\n    <g clip-path=\"url(#p4e96b086b6)\">\n     <use xlink:href=\"#C0_0_46b596a082\" x=\"173.661244\" y=\"257.03892\" style=\"fill: #a0cbe2; stroke: #a0cbe2\"/>\n    </g>\n    <g clip-path=\"url(#p4e96b086b6)\">\n     <use xlink:href=\"#C0_0_46b596a082\" x=\"173.661244\" y=\"245.257102\" style=\"fill: #a0cbe2; stroke: #a0cbe2\"/>\n    </g>\n    <g clip-path=\"url(#p4e96b086b6)\">\n     <use xlink:href=\"#C0_0_46b596a082\" x=\"169.251675\" y=\"264.893466\" style=\"fill: #a0cbe2; stroke: #a0cbe2\"/>\n    </g>\n    <g clip-path=\"url(#p4e96b086b6)\">\n     <use xlink:href=\"#C0_0_46b596a082\" x=\"160.432536\" y=\"264.893466\" style=\"fill: #a0cbe2; stroke: #a0cbe2\"/>\n    </g>\n    <g clip-path=\"url(#p4e96b086b6)\">\n     <use xlink:href=\"#C0_0_46b596a082\" x=\"160.432536\" y=\"257.03892\" style=\"fill: #a0cbe2; stroke: #a0cbe2\"/>\n    </g>\n    <g clip-path=\"url(#p4e96b086b6)\">\n     <use xlink:href=\"#C0_0_46b596a082\" x=\"160.432536\" y=\"245.257102\" style=\"fill: #a0cbe2; stroke: #a0cbe2\"/>\n    </g>\n    <g clip-path=\"url(#p4e96b086b6)\">\n     <use xlink:href=\"#C0_0_46b596a082\" x=\"151.613397\" y=\"264.893466\" style=\"fill: #a0cbe2; stroke: #a0cbe2\"/>\n    </g>\n    <g clip-path=\"url(#p4e96b086b6)\">\n     <use xlink:href=\"#C0_0_46b596a082\" x=\"151.613397\" y=\"245.257102\" style=\"fill: #a0cbe2; stroke: #a0cbe2\"/>\n    </g>\n    <g clip-path=\"url(#p4e96b086b6)\">\n     <use xlink:href=\"#C0_0_46b596a082\" x=\"142.794258\" y=\"257.03892\" style=\"fill: #a0cbe2; stroke: #a0cbe2\"/>\n    </g>\n    <g clip-path=\"url(#p4e96b086b6)\">\n     <use xlink:href=\"#C0_0_46b596a082\" x=\"138.384689\" y=\"264.893466\" style=\"fill: #a0cbe2; stroke: #a0cbe2\"/>\n    </g>\n    <g clip-path=\"url(#p4e96b086b6)\">\n     <use xlink:href=\"#C0_0_46b596a082\" x=\"138.384689\" y=\"245.257102\" style=\"fill: #a0cbe2; stroke: #a0cbe2\"/>\n    </g>\n    <g clip-path=\"url(#p4e96b086b6)\">\n     <use xlink:href=\"#C0_0_46b596a082\" x=\"222.166507\" y=\"363.075284\" style=\"fill: #a0cbe2; stroke: #a0cbe2\"/>\n    </g>\n    <g clip-path=\"url(#p4e96b086b6)\">\n     <use xlink:href=\"#C0_0_46b596a082\" x=\"213.347368\" y=\"343.43892\" style=\"fill: #a0cbe2; stroke: #a0cbe2\"/>\n    </g>\n    <g clip-path=\"url(#p4e96b086b6)\">\n     <use xlink:href=\"#C0_0_46b596a082\" x=\"213.347368\" y=\"323.802557\" style=\"fill: #a0cbe2; stroke: #a0cbe2\"/>\n    </g>\n    <g clip-path=\"url(#p4e96b086b6)\">\n     <use xlink:href=\"#C0_0_46b596a082\" x=\"204.52823\" y=\"363.075284\" style=\"fill: #a0cbe2; stroke: #a0cbe2\"/>\n    </g>\n    <g clip-path=\"url(#p4e96b086b6)\">\n     <use xlink:href=\"#C0_0_46b596a082\" x=\"204.52823\" y=\"323.802557\" style=\"fill: #a0cbe2; stroke: #a0cbe2\"/>\n    </g>\n    <g clip-path=\"url(#p4e96b086b6)\">\n     <use xlink:href=\"#C0_0_46b596a082\" x=\"195.709091\" y=\"363.075284\" style=\"fill: #a0cbe2; stroke: #a0cbe2\"/>\n    </g>\n    <g clip-path=\"url(#p4e96b086b6)\">\n     <use xlink:href=\"#C0_0_46b596a082\" x=\"195.709091\" y=\"323.802557\" style=\"fill: #a0cbe2; stroke: #a0cbe2\"/>\n    </g>\n    <g clip-path=\"url(#p4e96b086b6)\">\n     <use xlink:href=\"#C0_0_46b596a082\" x=\"182.480383\" y=\"363.075284\" style=\"fill: #a0cbe2; stroke: #a0cbe2\"/>\n    </g>\n    <g clip-path=\"url(#p4e96b086b6)\">\n     <use xlink:href=\"#C0_0_46b596a082\" x=\"248.623923\" y=\"264.893466\" style=\"fill: #a0cbe2; stroke: #a0cbe2\"/>\n    </g>\n    <g clip-path=\"url(#p4e96b086b6)\">\n     <use xlink:href=\"#C0_0_46b596a082\" x=\"248.623923\" y=\"245.257102\" style=\"fill: #a0cbe2; stroke: #a0cbe2\"/>\n    </g>\n    <g clip-path=\"url(#p4e96b086b6)\">\n     <use xlink:href=\"#C0_0_46b596a082\" x=\"248.623923\" y=\"225.620739\" style=\"fill: #a0cbe2; stroke: #a0cbe2\"/>\n    </g>\n    <g clip-path=\"url(#p4e96b086b6)\">\n     <use xlink:href=\"#C0_0_46b596a082\" x=\"239.804785\" y=\"264.893466\" style=\"fill: #a0cbe2; stroke: #a0cbe2\"/>\n    </g>\n    <g clip-path=\"url(#p4e96b086b6)\">\n     <use xlink:href=\"#C0_0_46b596a082\" x=\"239.804785\" y=\"225.620739\" style=\"fill: #a0cbe2; stroke: #a0cbe2\"/>\n    </g>\n    <g clip-path=\"url(#p4e96b086b6)\">\n     <use xlink:href=\"#C0_0_46b596a082\" x=\"235.395215\" y=\"245.257102\" style=\"fill: #a0cbe2; stroke: #a0cbe2\"/>\n    </g>\n    <g clip-path=\"url(#p4e96b086b6)\">\n     <use xlink:href=\"#C0_0_46b596a082\" x=\"235.395215\" y=\"225.620739\" style=\"fill: #a0cbe2; stroke: #a0cbe2\"/>\n    </g>\n    <g clip-path=\"url(#p4e96b086b6)\">\n     <use xlink:href=\"#C0_0_46b596a082\" x=\"226.576077\" y=\"264.893466\" style=\"fill: #a0cbe2; stroke: #a0cbe2\"/>\n    </g>\n    <g clip-path=\"url(#p4e96b086b6)\">\n     <use xlink:href=\"#C0_0_46b596a082\" x=\"226.576077\" y=\"245.257102\" style=\"fill: #a0cbe2; stroke: #a0cbe2\"/>\n    </g>\n    <g clip-path=\"url(#p4e96b086b6)\">\n     <use xlink:href=\"#C0_0_46b596a082\" x=\"447.054545\" y=\"264.893466\" style=\"fill: #a0cbe2; stroke: #a0cbe2\"/>\n    </g>\n    <g clip-path=\"url(#p4e96b086b6)\">\n     <use xlink:href=\"#C0_0_46b596a082\" x=\"447.054545\" y=\"245.257102\" style=\"fill: #a0cbe2; stroke: #a0cbe2\"/>\n    </g>\n    <g clip-path=\"url(#p4e96b086b6)\">\n     <use xlink:href=\"#C0_0_46b596a082\" x=\"261.852632\" y=\"264.893466\" style=\"fill: #a0cbe2; stroke: #a0cbe2\"/>\n    </g>\n    <g clip-path=\"url(#p4e96b086b6)\">\n     <use xlink:href=\"#C0_0_46b596a082\" x=\"433.825837\" y=\"264.893466\" style=\"fill: #a0cbe2; stroke: #a0cbe2\"/>\n    </g>\n    <g clip-path=\"url(#p4e96b086b6)\">\n     <use xlink:href=\"#C0_0_46b596a082\" x=\"261.852632\" y=\"245.257102\" style=\"fill: #a0cbe2; stroke: #a0cbe2\"/>\n    </g>\n    <g clip-path=\"url(#p4e96b086b6)\">\n     <use xlink:href=\"#C0_0_46b596a082\" x=\"226.576077\" y=\"127.43892\" style=\"fill: #a0cbe2; stroke: #a0cbe2\"/>\n    </g>\n    <g clip-path=\"url(#p4e96b086b6)\">\n     <use xlink:href=\"#C0_0_46b596a082\" x=\"425.006699\" y=\"245.257102\" style=\"fill: #a0cbe2; stroke: #a0cbe2\"/>\n    </g>\n    <g clip-path=\"url(#p4e96b086b6)\">\n     <use xlink:href=\"#C0_0_46b596a082\" x=\"416.18756\" y=\"264.893466\" style=\"fill: #a0cbe2; stroke: #a0cbe2\"/>\n    </g>\n    <g clip-path=\"url(#p4e96b086b6)\">\n     <use xlink:href=\"#C0_0_46b596a082\" x=\"416.18756\" y=\"245.257102\" style=\"fill: #a0cbe2; stroke: #a0cbe2\"/>\n    </g>\n    <g clip-path=\"url(#p4e96b086b6)\">\n     <use xlink:href=\"#C0_0_46b596a082\" x=\"411.77799\" y=\"264.893466\" style=\"fill: #a0cbe2; stroke: #a0cbe2\"/>\n    </g>\n    <g clip-path=\"url(#p4e96b086b6)\">\n     <use xlink:href=\"#C0_0_46b596a082\" x=\"402.958852\" y=\"284.52983\" style=\"fill: #a0cbe2; stroke: #a0cbe2\"/>\n    </g>\n    <g clip-path=\"url(#p4e96b086b6)\">\n     <use xlink:href=\"#C0_0_46b596a082\" x=\"402.958852\" y=\"245.257102\" style=\"fill: #a0cbe2; stroke: #a0cbe2\"/>\n    </g>\n    <g clip-path=\"url(#p4e96b086b6)\">\n     <use xlink:href=\"#C0_0_46b596a082\" x=\"358.863158\" y=\"166.711648\" style=\"fill: #a0cbe2; stroke: #a0cbe2\"/>\n    </g>\n    <g clip-path=\"url(#p4e96b086b6)\">\n     <use xlink:href=\"#C0_0_46b596a082\" x=\"345.63445\" y=\"166.711648\" style=\"fill: #a0cbe2; stroke: #a0cbe2\"/>\n    </g>\n    <g clip-path=\"url(#p4e96b086b6)\">\n     <use xlink:href=\"#C0_0_46b596a082\" x=\"336.815311\" y=\"154.92983\" style=\"fill: #a0cbe2; stroke: #a0cbe2\"/>\n    </g>\n    <g clip-path=\"url(#p4e96b086b6)\">\n     <use xlink:href=\"#C0_0_46b596a082\" x=\"327.996172\" y=\"147.075284\" style=\"fill: #a0cbe2; stroke: #a0cbe2\"/>\n    </g>\n    <g clip-path=\"url(#p4e96b086b6)\">\n     <use xlink:href=\"#C0_0_46b596a082\" x=\"319.177033\" y=\"166.711648\" style=\"fill: #a0cbe2; stroke: #a0cbe2\"/>\n    </g>\n    <g clip-path=\"url(#p4e96b086b6)\">\n     <use xlink:href=\"#C0_0_46b596a082\" x=\"314.767464\" y=\"166.711648\" style=\"fill: #a0cbe2; stroke: #a0cbe2\"/>\n    </g>\n    <g clip-path=\"url(#p4e96b086b6)\">\n     <use xlink:href=\"#C0_0_46b596a082\" x=\"314.767464\" y=\"147.075284\" style=\"fill: #a0cbe2; stroke: #a0cbe2\"/>\n    </g>\n    <g clip-path=\"url(#p4e96b086b6)\">\n     <use xlink:href=\"#C0_0_46b596a082\" x=\"305.948325\" y=\"154.92983\" style=\"fill: #a0cbe2; stroke: #a0cbe2\"/>\n    </g>\n    <g clip-path=\"url(#p4e96b086b6)\">\n     <use xlink:href=\"#C0_0_46b596a082\" x=\"292.719617\" y=\"166.711648\" style=\"fill: #a0cbe2; stroke: #a0cbe2\"/>\n    </g>\n    <g clip-path=\"url(#p4e96b086b6)\">\n     <use xlink:href=\"#C0_0_46b596a082\" x=\"292.719617\" y=\"147.075284\" style=\"fill: #a0cbe2; stroke: #a0cbe2\"/>\n    </g>\n    <g clip-path=\"url(#p4e96b086b6)\">\n     <use xlink:href=\"#C0_0_46b596a082\" x=\"323.586603\" y=\"48.893466\" style=\"fill: #a0cbe2; stroke: #a0cbe2\"/>\n    </g>\n    <g clip-path=\"url(#p4e96b086b6)\">\n     <use xlink:href=\"#C0_0_46b596a082\" x=\"314.767464\" y=\"48.893466\" style=\"fill: #a0cbe2; stroke: #a0cbe2\"/>\n    </g>\n    <g clip-path=\"url(#p4e96b086b6)\">\n     <use xlink:href=\"#C0_0_46b596a082\" x=\"314.767464\" y=\"60.675284\" style=\"fill: #a0cbe2; stroke: #a0cbe2\"/>\n    </g>\n    <g clip-path=\"url(#p4e96b086b6)\">\n     <use xlink:href=\"#C0_0_46b596a082\" x=\"301.538756\" y=\"68.52983\" style=\"fill: #a0cbe2; stroke: #a0cbe2\"/>\n    </g>\n    <g clip-path=\"url(#p4e96b086b6)\">\n     <use xlink:href=\"#C0_0_46b596a082\" x=\"292.719617\" y=\"68.52983\" style=\"fill: #a0cbe2; stroke: #a0cbe2\"/>\n    </g>\n    <g clip-path=\"url(#p4e96b086b6)\">\n     <use xlink:href=\"#C0_0_46b596a082\" x=\"292.719617\" y=\"48.893466\" style=\"fill: #a0cbe2; stroke: #a0cbe2\"/>\n    </g>\n    <g clip-path=\"url(#p4e96b086b6)\">\n     <use xlink:href=\"#C0_0_46b596a082\" x=\"283.900478\" y=\"88.166193\" style=\"fill: #a0cbe2; stroke: #a0cbe2\"/>\n    </g>\n    <g clip-path=\"url(#p4e96b086b6)\">\n     <use xlink:href=\"#C0_0_46b596a082\" x=\"270.67177\" y=\"68.52983\" style=\"fill: #a0cbe2; stroke: #a0cbe2\"/>\n    </g>\n    <g clip-path=\"url(#p4e96b086b6)\">\n     <use xlink:href=\"#C0_0_46b596a082\" x=\"270.67177\" y=\"48.893466\" style=\"fill: #a0cbe2; stroke: #a0cbe2\"/>\n    </g>\n   </g>\n   <g id=\"text_1\">\n    <!-- c101, n=100 -->\n    <g transform=\"translate(163.668359 27.184375)scale(0.25 -0.25)\">\n     <defs>\n      <path id=\"MicrosoftYaHei-63\" d=\"M 2934 156 \nQ 2538 -81 1978 -81 \nQ 1228 -81 772 400 \nQ 316 881 316 1647 \nQ 316 2497 808 3017 \nQ 1300 3538 2125 3538 \nQ 2600 3538 2938 3369 \nL 2938 2763 \nQ 2572 3031 2125 3031 \nQ 1600 3031 1270 2667 \nQ 941 2303 941 1697 \nQ 941 1100 1252 762 \nQ 1563 425 2091 425 \nQ 2538 425 2934 719 \nL 2934 156 \nz\n\" transform=\"scale(0.015625)\"/>\n      <path id=\"MicrosoftYaHei-31\" d=\"M 1781 0 \nL 1781 4141 \nQ 1638 3997 1295 3819 \nQ 953 3641 663 3569 \nL 663 4169 \nQ 1047 4275 1484 4508 \nQ 1922 4741 2156 4947 \nL 2388 4947 \nL 2388 0 \nL 1781 0 \nz\n\" transform=\"scale(0.015625)\"/>\n      <path id=\"MicrosoftYaHei-30\" d=\"M 284 2325 \nQ 284 3606 709 4264 \nQ 1134 4922 1941 4922 \nQ 3478 4922 3478 2441 \nQ 3478 1216 3045 567 \nQ 2613 -81 1831 -81 \nQ 1094 -81 689 534 \nQ 284 1150 284 2325 \nz\nM 909 2353 \nQ 909 425 1888 425 \nQ 2850 425 2850 2384 \nQ 2850 4413 1906 4413 \nQ 909 4413 909 2353 \nz\n\" transform=\"scale(0.015625)\"/>\n      <path id=\"MicrosoftYaHei-2c\" d=\"M 1109 778 \nL 575 -888 \nL 131 -888 \nL 519 778 \nL 1109 778 \nz\n\" transform=\"scale(0.015625)\"/>\n      <path id=\"MicrosoftYaHei-20\" transform=\"scale(0.015625)\"/>\n      <path id=\"MicrosoftYaHei-6e\" d=\"M 3469 0 \nL 2859 0 \nL 2859 1966 \nQ 2859 3031 2081 3031 \nQ 1678 3031 1418 2731 \nQ 1159 2431 1159 1972 \nL 1159 0 \nL 547 0 \nL 547 3456 \nL 1159 3456 \nL 1159 2884 \nL 1172 2884 \nQ 1563 3538 2306 3538 \nQ 2875 3538 3172 3173 \nQ 3469 2809 3469 2113 \nL 3469 0 \nz\n\" transform=\"scale(0.015625)\"/>\n      <path id=\"MicrosoftYaHei-3d\" d=\"M 3972 2497 \nL 788 2497 \nL 788 2969 \nL 3972 2969 \nL 3972 2497 \nz\nM 3972 1053 \nL 788 1053 \nL 788 1525 \nL 3972 1525 \nL 3972 1053 \nz\n\" transform=\"scale(0.015625)\"/>\n     </defs>\n     <use xlink:href=\"#MicrosoftYaHei-63\"/>\n     <use xlink:href=\"#MicrosoftYaHei-31\" x=\"50.146484\"/>\n     <use xlink:href=\"#MicrosoftYaHei-30\" x=\"108.789062\"/>\n     <use xlink:href=\"#MicrosoftYaHei-31\" x=\"167.431641\"/>\n     <use xlink:href=\"#MicrosoftYaHei-2c\" x=\"226.074219\"/>\n     <use xlink:href=\"#MicrosoftYaHei-20\" x=\"250.146484\"/>\n     <use xlink:href=\"#MicrosoftYaHei-6e\" x=\"279.736328\"/>\n     <use xlink:href=\"#MicrosoftYaHei-3d\" x=\"341.357422\"/>\n     <use xlink:href=\"#MicrosoftYaHei-31\" x=\"415.527344\"/>\n     <use xlink:href=\"#MicrosoftYaHei-30\" x=\"474.169922\"/>\n     <use xlink:href=\"#MicrosoftYaHei-30\" x=\"532.8125\"/>\n    </g>\n   </g>\n  </g>\n </g>\n <defs>\n  <clipPath id=\"p4e96b086b6\">\n   <rect x=\"7.2\" y=\"33.184375\" width=\"460.8\" height=\"345.6\"/>\n  </clipPath>\n </defs>\n</svg>\n",
      "text/plain": [
       "<Figure size 640x480 with 1 Axes>"
      ]
     },
     "metadata": {},
     "output_type": "display_data"
    }
   ],
   "source": [
    "plot_node('c101', 100, node_size=50, font_size=25)"
   ]
  },
  {
   "cell_type": "code",
   "execution_count": 136,
   "metadata": {},
   "outputs": [
    {
     "data": {
      "image/svg+xml": "<?xml version=\"1.0\" encoding=\"utf-8\" standalone=\"no\"?>\n<!DOCTYPE svg PUBLIC \"-//W3C//DTD SVG 1.1//EN\"\n  \"http://www.w3.org/Graphics/SVG/1.1/DTD/svg11.dtd\">\n<svg xmlns:xlink=\"http://www.w3.org/1999/xlink\" width=\"475.2pt\" height=\"385.984375pt\" viewBox=\"0 0 475.2 385.984375\" xmlns=\"http://www.w3.org/2000/svg\" version=\"1.1\">\n <metadata>\n  <rdf:RDF xmlns:dc=\"http://purl.org/dc/elements/1.1/\" xmlns:cc=\"http://creativecommons.org/ns#\" xmlns:rdf=\"http://www.w3.org/1999/02/22-rdf-syntax-ns#\">\n   <cc:Work>\n    <dc:type rdf:resource=\"http://purl.org/dc/dcmitype/StillImage\"/>\n    <dc:date>2022-10-17T17:26:19.081702</dc:date>\n    <dc:format>image/svg+xml</dc:format>\n    <dc:creator>\n     <cc:Agent>\n      <dc:title>Matplotlib v3.5.3, https://matplotlib.org/</dc:title>\n     </cc:Agent>\n    </dc:creator>\n   </cc:Work>\n  </rdf:RDF>\n </metadata>\n <defs>\n  <style type=\"text/css\">*{stroke-linejoin: round; stroke-linecap: butt}</style>\n </defs>\n <g id=\"figure_1\">\n  <g id=\"patch_1\">\n   <path d=\"M 0 385.984375 \nL 475.2 385.984375 \nL 475.2 0 \nL 0 0 \nz\n\" style=\"fill: #ffffff\"/>\n  </g>\n  <g id=\"axes_1\">\n   <g id=\"PathCollection_1\">\n    <defs>\n     <path id=\"C0_0_7164363b22\" d=\"M 0 3.535534 \nC 0.937635 3.535534 1.836992 3.163008 2.5 2.5 \nC 3.163008 1.836992 3.535534 0.937635 3.535534 -0 \nC 3.535534 -0.937635 3.163008 -1.836992 2.5 -2.5 \nC 1.836992 -3.163008 0.937635 -3.535534 0 -3.535534 \nC -0.937635 -3.535534 -1.836992 -3.163008 -2.5 -2.5 \nC -3.163008 -1.836992 -3.535534 -0.937635 -3.535534 0 \nC -3.535534 0.937635 -3.163008 1.836992 -2.5 2.5 \nC -1.836992 3.163008 -0.937635 3.535534 0 3.535534 \nz\n\"/>\n    </defs>\n    <g clip-path=\"url(#pa334da89cc)\">\n     <use xlink:href=\"#C0_0_7164363b22\" x=\"204.52823\" y=\"186.348011\" style=\"fill: #a0cbe2; stroke: #a0cbe2\"/>\n    </g>\n    <g clip-path=\"url(#pa334da89cc)\">\n     <use xlink:href=\"#C0_0_7164363b22\" x=\"204.52823\" y=\"186.348011\" style=\"fill: #ff0000; stroke: #ff0000\"/>\n    </g>\n    <g clip-path=\"url(#pa334da89cc)\">\n     <use xlink:href=\"#C0_0_7164363b22\" x=\"257.443062\" y=\"88.166193\" style=\"fill: #a0cbe2; stroke: #a0cbe2\"/>\n    </g>\n    <g clip-path=\"url(#pa334da89cc)\">\n     <use xlink:href=\"#C0_0_7164363b22\" x=\"226.576077\" y=\"107.802557\" style=\"fill: #a0cbe2; stroke: #a0cbe2\"/>\n    </g>\n    <g clip-path=\"url(#pa334da89cc)\">\n     <use xlink:href=\"#C0_0_7164363b22\" x=\"301.538756\" y=\"111.72983\" style=\"fill: #a0cbe2; stroke: #a0cbe2\"/>\n    </g>\n    <g clip-path=\"url(#pa334da89cc)\">\n     <use xlink:href=\"#C0_0_7164363b22\" x=\"292.719617\" y=\"123.511648\" style=\"fill: #a0cbe2; stroke: #a0cbe2\"/>\n    </g>\n    <g clip-path=\"url(#pa334da89cc)\">\n     <use xlink:href=\"#C0_0_7164363b22\" x=\"213.347368\" y=\"127.43892\" style=\"fill: #a0cbe2; stroke: #a0cbe2\"/>\n    </g>\n    <g clip-path=\"url(#pa334da89cc)\">\n     <use xlink:href=\"#C0_0_7164363b22\" x=\"98.698565\" y=\"217.766193\" style=\"fill: #a0cbe2; stroke: #a0cbe2\"/>\n    </g>\n    <g clip-path=\"url(#pa334da89cc)\">\n     <use xlink:href=\"#C0_0_7164363b22\" x=\"283.900478\" y=\"107.802557\" style=\"fill: #a0cbe2; stroke: #a0cbe2\"/>\n    </g>\n    <g clip-path=\"url(#pa334da89cc)\">\n     <use xlink:href=\"#C0_0_7164363b22\" x=\"178.070813\" y=\"147.075284\" style=\"fill: #a0cbe2; stroke: #a0cbe2\"/>\n    </g>\n    <g clip-path=\"url(#pa334da89cc)\">\n     <use xlink:href=\"#C0_0_7164363b22\" x=\"151.613397\" y=\"107.802557\" style=\"fill: #a0cbe2; stroke: #a0cbe2\"/>\n    </g>\n    <g clip-path=\"url(#pa334da89cc)\">\n     <use xlink:href=\"#C0_0_7164363b22\" x=\"182.480383\" y=\"123.511648\" style=\"fill: #a0cbe2; stroke: #a0cbe2\"/>\n    </g>\n    <g clip-path=\"url(#pa334da89cc)\">\n     <use xlink:href=\"#C0_0_7164363b22\" x=\"182.480383\" y=\"111.72983\" style=\"fill: #a0cbe2; stroke: #a0cbe2\"/>\n    </g>\n    <g clip-path=\"url(#pa334da89cc)\">\n     <use xlink:href=\"#C0_0_7164363b22\" x=\"138.384689\" y=\"48.893466\" style=\"fill: #a0cbe2; stroke: #a0cbe2\"/>\n    </g>\n    <g clip-path=\"url(#pa334da89cc)\">\n     <use xlink:href=\"#C0_0_7164363b22\" x=\"125.155981\" y=\"88.166193\" style=\"fill: #a0cbe2; stroke: #a0cbe2\"/>\n    </g>\n    <g clip-path=\"url(#pa334da89cc)\">\n     <use xlink:href=\"#C0_0_7164363b22\" x=\"125.155981\" y=\"48.893466\" style=\"fill: #a0cbe2; stroke: #a0cbe2\"/>\n    </g>\n    <g clip-path=\"url(#pa334da89cc)\">\n     <use xlink:href=\"#C0_0_7164363b22\" x=\"116.336842\" y=\"68.52983\" style=\"fill: #a0cbe2; stroke: #a0cbe2\"/>\n    </g>\n    <g clip-path=\"url(#pa334da89cc)\">\n     <use xlink:href=\"#C0_0_7164363b22\" x=\"116.336842\" y=\"48.893466\" style=\"fill: #a0cbe2; stroke: #a0cbe2\"/>\n    </g>\n    <g clip-path=\"url(#pa334da89cc)\">\n     <use xlink:href=\"#C0_0_7164363b22\" x=\"107.517703\" y=\"88.166193\" style=\"fill: #a0cbe2; stroke: #a0cbe2\"/>\n    </g>\n    <g clip-path=\"url(#pa334da89cc)\">\n     <use xlink:href=\"#C0_0_7164363b22\" x=\"94.288995\" y=\"88.166193\" style=\"fill: #a0cbe2; stroke: #a0cbe2\"/>\n    </g>\n    <g clip-path=\"url(#pa334da89cc)\">\n     <use xlink:href=\"#C0_0_7164363b22\" x=\"94.288995\" y=\"68.52983\" style=\"fill: #a0cbe2; stroke: #a0cbe2\"/>\n    </g>\n    <g clip-path=\"url(#pa334da89cc)\">\n     <use xlink:href=\"#C0_0_7164363b22\" x=\"160.432536\" y=\"186.348011\" style=\"fill: #a0cbe2; stroke: #a0cbe2\"/>\n    </g>\n    <g clip-path=\"url(#pa334da89cc)\">\n     <use xlink:href=\"#C0_0_7164363b22\" x=\"160.432536\" y=\"162.784375\" style=\"fill: #a0cbe2; stroke: #a0cbe2\"/>\n    </g>\n    <g clip-path=\"url(#pa334da89cc)\">\n     <use xlink:href=\"#C0_0_7164363b22\" x=\"151.613397\" y=\"178.493466\" style=\"fill: #a0cbe2; stroke: #a0cbe2\"/>\n    </g>\n    <g clip-path=\"url(#pa334da89cc)\">\n     <use xlink:href=\"#C0_0_7164363b22\" x=\"89.879426\" y=\"123.511648\" style=\"fill: #a0cbe2; stroke: #a0cbe2\"/>\n    </g>\n    <g clip-path=\"url(#pa334da89cc)\">\n     <use xlink:href=\"#C0_0_7164363b22\" x=\"138.384689\" y=\"186.348011\" style=\"fill: #a0cbe2; stroke: #a0cbe2\"/>\n    </g>\n    <g clip-path=\"url(#pa334da89cc)\">\n     <use xlink:href=\"#C0_0_7164363b22\" x=\"125.155981\" y=\"123.511648\" style=\"fill: #a0cbe2; stroke: #a0cbe2\"/>\n    </g>\n    <g clip-path=\"url(#pa334da89cc)\">\n     <use xlink:href=\"#C0_0_7164363b22\" x=\"63.42201\" y=\"139.220739\" style=\"fill: #a0cbe2; stroke: #a0cbe2\"/>\n    </g>\n    <g clip-path=\"url(#pa334da89cc)\">\n     <use xlink:href=\"#C0_0_7164363b22\" x=\"129.56555\" y=\"178.493466\" style=\"fill: #a0cbe2; stroke: #a0cbe2\"/>\n    </g>\n    <g clip-path=\"url(#pa334da89cc)\">\n     <use xlink:href=\"#C0_0_7164363b22\" x=\"45.783732\" y=\"166.711648\" style=\"fill: #a0cbe2; stroke: #a0cbe2\"/>\n    </g>\n    <g clip-path=\"url(#pa334da89cc)\">\n     <use xlink:href=\"#C0_0_7164363b22\" x=\"116.336842\" y=\"186.348011\" style=\"fill: #a0cbe2; stroke: #a0cbe2\"/>\n    </g>\n    <g clip-path=\"url(#pa334da89cc)\">\n     <use xlink:href=\"#C0_0_7164363b22\" x=\"116.336842\" y=\"166.711648\" style=\"fill: #a0cbe2; stroke: #a0cbe2\"/>\n    </g>\n    <g clip-path=\"url(#pa334da89cc)\">\n     <use xlink:href=\"#C0_0_7164363b22\" x=\"72.241148\" y=\"245.257102\" style=\"fill: #a0cbe2; stroke: #a0cbe2\"/>\n    </g>\n    <g clip-path=\"url(#pa334da89cc)\">\n     <use xlink:href=\"#C0_0_7164363b22\" x=\"72.241148\" y=\"225.620739\" style=\"fill: #a0cbe2; stroke: #a0cbe2\"/>\n    </g>\n    <g clip-path=\"url(#pa334da89cc)\">\n     <use xlink:href=\"#C0_0_7164363b22\" x=\"63.42201\" y=\"225.620739\" style=\"fill: #a0cbe2; stroke: #a0cbe2\"/>\n    </g>\n    <g clip-path=\"url(#pa334da89cc)\">\n     <use xlink:href=\"#C0_0_7164363b22\" x=\"63.42201\" y=\"205.984375\" style=\"fill: #a0cbe2; stroke: #a0cbe2\"/>\n    </g>\n    <g clip-path=\"url(#pa334da89cc)\">\n     <use xlink:href=\"#C0_0_7164363b22\" x=\"50.193301\" y=\"245.257102\" style=\"fill: #a0cbe2; stroke: #a0cbe2\"/>\n    </g>\n    <g clip-path=\"url(#pa334da89cc)\">\n     <use xlink:href=\"#C0_0_7164363b22\" x=\"50.193301\" y=\"205.984375\" style=\"fill: #a0cbe2; stroke: #a0cbe2\"/>\n    </g>\n    <g clip-path=\"url(#pa334da89cc)\">\n     <use xlink:href=\"#C0_0_7164363b22\" x=\"36.964593\" y=\"225.620739\" style=\"fill: #a0cbe2; stroke: #a0cbe2\"/>\n    </g>\n    <g clip-path=\"url(#pa334da89cc)\">\n     <use xlink:href=\"#C0_0_7164363b22\" x=\"28.145455\" y=\"225.620739\" style=\"fill: #a0cbe2; stroke: #a0cbe2\"/>\n    </g>\n    <g clip-path=\"url(#pa334da89cc)\">\n     <use xlink:href=\"#C0_0_7164363b22\" x=\"28.145455\" y=\"205.984375\" style=\"fill: #a0cbe2; stroke: #a0cbe2\"/>\n    </g>\n    <g clip-path=\"url(#pa334da89cc)\">\n     <use xlink:href=\"#C0_0_7164363b22\" x=\"186.889952\" y=\"312.020739\" style=\"fill: #a0cbe2; stroke: #a0cbe2\"/>\n    </g>\n    <g clip-path=\"url(#pa334da89cc)\">\n     <use xlink:href=\"#C0_0_7164363b22\" x=\"182.480383\" y=\"257.03892\" style=\"fill: #a0cbe2; stroke: #a0cbe2\"/>\n    </g>\n    <g clip-path=\"url(#pa334da89cc)\">\n     <use xlink:href=\"#C0_0_7164363b22\" x=\"173.661244\" y=\"257.03892\" style=\"fill: #a0cbe2; stroke: #a0cbe2\"/>\n    </g>\n    <g clip-path=\"url(#pa334da89cc)\">\n     <use xlink:href=\"#C0_0_7164363b22\" x=\"173.661244\" y=\"245.257102\" style=\"fill: #a0cbe2; stroke: #a0cbe2\"/>\n    </g>\n    <g clip-path=\"url(#pa334da89cc)\">\n     <use xlink:href=\"#C0_0_7164363b22\" x=\"169.251675\" y=\"304.166193\" style=\"fill: #a0cbe2; stroke: #a0cbe2\"/>\n    </g>\n    <g clip-path=\"url(#pa334da89cc)\">\n     <use xlink:href=\"#C0_0_7164363b22\" x=\"160.432536\" y=\"264.893466\" style=\"fill: #a0cbe2; stroke: #a0cbe2\"/>\n    </g>\n    <g clip-path=\"url(#pa334da89cc)\">\n     <use xlink:href=\"#C0_0_7164363b22\" x=\"178.070813\" y=\"284.52983\" style=\"fill: #a0cbe2; stroke: #a0cbe2\"/>\n    </g>\n    <g clip-path=\"url(#pa334da89cc)\">\n     <use xlink:href=\"#C0_0_7164363b22\" x=\"160.432536\" y=\"245.257102\" style=\"fill: #a0cbe2; stroke: #a0cbe2\"/>\n    </g>\n    <g clip-path=\"url(#pa334da89cc)\">\n     <use xlink:href=\"#C0_0_7164363b22\" x=\"186.889952\" y=\"225.620739\" style=\"fill: #a0cbe2; stroke: #a0cbe2\"/>\n    </g>\n    <g clip-path=\"url(#pa334da89cc)\">\n     <use xlink:href=\"#C0_0_7164363b22\" x=\"239.804785\" y=\"304.166193\" style=\"fill: #a0cbe2; stroke: #a0cbe2\"/>\n    </g>\n    <g clip-path=\"url(#pa334da89cc)\">\n     <use xlink:href=\"#C0_0_7164363b22\" x=\"142.794258\" y=\"257.03892\" style=\"fill: #a0cbe2; stroke: #a0cbe2\"/>\n    </g>\n    <g clip-path=\"url(#pa334da89cc)\">\n     <use xlink:href=\"#C0_0_7164363b22\" x=\"138.384689\" y=\"264.893466\" style=\"fill: #a0cbe2; stroke: #a0cbe2\"/>\n    </g>\n    <g clip-path=\"url(#pa334da89cc)\">\n     <use xlink:href=\"#C0_0_7164363b22\" x=\"138.384689\" y=\"245.257102\" style=\"fill: #a0cbe2; stroke: #a0cbe2\"/>\n    </g>\n    <g clip-path=\"url(#pa334da89cc)\">\n     <use xlink:href=\"#C0_0_7164363b22\" x=\"222.166507\" y=\"363.075284\" style=\"fill: #a0cbe2; stroke: #a0cbe2\"/>\n    </g>\n    <g clip-path=\"url(#pa334da89cc)\">\n     <use xlink:href=\"#C0_0_7164363b22\" x=\"213.347368\" y=\"343.43892\" style=\"fill: #a0cbe2; stroke: #a0cbe2\"/>\n    </g>\n    <g clip-path=\"url(#pa334da89cc)\">\n     <use xlink:href=\"#C0_0_7164363b22\" x=\"213.347368\" y=\"323.802557\" style=\"fill: #a0cbe2; stroke: #a0cbe2\"/>\n    </g>\n    <g clip-path=\"url(#pa334da89cc)\">\n     <use xlink:href=\"#C0_0_7164363b22\" x=\"204.52823\" y=\"363.075284\" style=\"fill: #a0cbe2; stroke: #a0cbe2\"/>\n    </g>\n    <g clip-path=\"url(#pa334da89cc)\">\n     <use xlink:href=\"#C0_0_7164363b22\" x=\"195.709091\" y=\"323.802557\" style=\"fill: #a0cbe2; stroke: #a0cbe2\"/>\n    </g>\n    <g clip-path=\"url(#pa334da89cc)\">\n     <use xlink:href=\"#C0_0_7164363b22\" x=\"195.709091\" y=\"363.075284\" style=\"fill: #a0cbe2; stroke: #a0cbe2\"/>\n    </g>\n    <g clip-path=\"url(#pa334da89cc)\">\n     <use xlink:href=\"#C0_0_7164363b22\" x=\"195.709091\" y=\"343.43892\" style=\"fill: #a0cbe2; stroke: #a0cbe2\"/>\n    </g>\n    <g clip-path=\"url(#pa334da89cc)\">\n     <use xlink:href=\"#C0_0_7164363b22\" x=\"182.480383\" y=\"363.075284\" style=\"fill: #a0cbe2; stroke: #a0cbe2\"/>\n    </g>\n    <g clip-path=\"url(#pa334da89cc)\">\n     <use xlink:href=\"#C0_0_7164363b22\" x=\"248.623923\" y=\"264.893466\" style=\"fill: #a0cbe2; stroke: #a0cbe2\"/>\n    </g>\n    <g clip-path=\"url(#pa334da89cc)\">\n     <use xlink:href=\"#C0_0_7164363b22\" x=\"248.623923\" y=\"245.257102\" style=\"fill: #a0cbe2; stroke: #a0cbe2\"/>\n    </g>\n    <g clip-path=\"url(#pa334da89cc)\">\n     <use xlink:href=\"#C0_0_7164363b22\" x=\"248.623923\" y=\"225.620739\" style=\"fill: #a0cbe2; stroke: #a0cbe2\"/>\n    </g>\n    <g clip-path=\"url(#pa334da89cc)\">\n     <use xlink:href=\"#C0_0_7164363b22\" x=\"239.804785\" y=\"264.893466\" style=\"fill: #a0cbe2; stroke: #a0cbe2\"/>\n    </g>\n    <g clip-path=\"url(#pa334da89cc)\">\n     <use xlink:href=\"#C0_0_7164363b22\" x=\"222.166507\" y=\"284.52983\" style=\"fill: #a0cbe2; stroke: #a0cbe2\"/>\n    </g>\n    <g clip-path=\"url(#pa334da89cc)\">\n     <use xlink:href=\"#C0_0_7164363b22\" x=\"235.395215\" y=\"245.257102\" style=\"fill: #a0cbe2; stroke: #a0cbe2\"/>\n    </g>\n    <g clip-path=\"url(#pa334da89cc)\">\n     <use xlink:href=\"#C0_0_7164363b22\" x=\"235.395215\" y=\"225.620739\" style=\"fill: #a0cbe2; stroke: #a0cbe2\"/>\n    </g>\n    <g clip-path=\"url(#pa334da89cc)\">\n     <use xlink:href=\"#C0_0_7164363b22\" x=\"213.347368\" y=\"264.893466\" style=\"fill: #a0cbe2; stroke: #a0cbe2\"/>\n    </g>\n    <g clip-path=\"url(#pa334da89cc)\">\n     <use xlink:href=\"#C0_0_7164363b22\" x=\"226.576077\" y=\"245.257102\" style=\"fill: #a0cbe2; stroke: #a0cbe2\"/>\n    </g>\n    <g clip-path=\"url(#pa334da89cc)\">\n     <use xlink:href=\"#C0_0_7164363b22\" x=\"447.054545\" y=\"264.893466\" style=\"fill: #a0cbe2; stroke: #a0cbe2\"/>\n    </g>\n    <g clip-path=\"url(#pa334da89cc)\">\n     <use xlink:href=\"#C0_0_7164363b22\" x=\"447.054545\" y=\"245.257102\" style=\"fill: #a0cbe2; stroke: #a0cbe2\"/>\n    </g>\n    <g clip-path=\"url(#pa334da89cc)\">\n     <use xlink:href=\"#C0_0_7164363b22\" x=\"261.852632\" y=\"264.893466\" style=\"fill: #a0cbe2; stroke: #a0cbe2\"/>\n    </g>\n    <g clip-path=\"url(#pa334da89cc)\">\n     <use xlink:href=\"#C0_0_7164363b22\" x=\"433.825837\" y=\"264.893466\" style=\"fill: #a0cbe2; stroke: #a0cbe2\"/>\n    </g>\n    <g clip-path=\"url(#pa334da89cc)\">\n     <use xlink:href=\"#C0_0_7164363b22\" x=\"261.852632\" y=\"245.257102\" style=\"fill: #a0cbe2; stroke: #a0cbe2\"/>\n    </g>\n    <g clip-path=\"url(#pa334da89cc)\">\n     <use xlink:href=\"#C0_0_7164363b22\" x=\"226.576077\" y=\"127.43892\" style=\"fill: #a0cbe2; stroke: #a0cbe2\"/>\n    </g>\n    <g clip-path=\"url(#pa334da89cc)\">\n     <use xlink:href=\"#C0_0_7164363b22\" x=\"425.006699\" y=\"245.257102\" style=\"fill: #a0cbe2; stroke: #a0cbe2\"/>\n    </g>\n    <g clip-path=\"url(#pa334da89cc)\">\n     <use xlink:href=\"#C0_0_7164363b22\" x=\"345.63445\" y=\"205.984375\" style=\"fill: #a0cbe2; stroke: #a0cbe2\"/>\n    </g>\n    <g clip-path=\"url(#pa334da89cc)\">\n     <use xlink:href=\"#C0_0_7164363b22\" x=\"372.091866\" y=\"225.620739\" style=\"fill: #a0cbe2; stroke: #a0cbe2\"/>\n    </g>\n    <g clip-path=\"url(#pa334da89cc)\">\n     <use xlink:href=\"#C0_0_7164363b22\" x=\"411.77799\" y=\"264.893466\" style=\"fill: #a0cbe2; stroke: #a0cbe2\"/>\n    </g>\n    <g clip-path=\"url(#pa334da89cc)\">\n     <use xlink:href=\"#C0_0_7164363b22\" x=\"402.958852\" y=\"284.52983\" style=\"fill: #a0cbe2; stroke: #a0cbe2\"/>\n    </g>\n    <g clip-path=\"url(#pa334da89cc)\">\n     <use xlink:href=\"#C0_0_7164363b22\" x=\"402.958852\" y=\"245.257102\" style=\"fill: #a0cbe2; stroke: #a0cbe2\"/>\n    </g>\n    <g clip-path=\"url(#pa334da89cc)\">\n     <use xlink:href=\"#C0_0_7164363b22\" x=\"358.863158\" y=\"166.711648\" style=\"fill: #a0cbe2; stroke: #a0cbe2\"/>\n    </g>\n    <g clip-path=\"url(#pa334da89cc)\">\n     <use xlink:href=\"#C0_0_7164363b22\" x=\"345.63445\" y=\"166.711648\" style=\"fill: #a0cbe2; stroke: #a0cbe2\"/>\n    </g>\n    <g clip-path=\"url(#pa334da89cc)\">\n     <use xlink:href=\"#C0_0_7164363b22\" x=\"336.815311\" y=\"154.92983\" style=\"fill: #a0cbe2; stroke: #a0cbe2\"/>\n    </g>\n    <g clip-path=\"url(#pa334da89cc)\">\n     <use xlink:href=\"#C0_0_7164363b22\" x=\"407.368421\" y=\"202.057102\" style=\"fill: #a0cbe2; stroke: #a0cbe2\"/>\n    </g>\n    <g clip-path=\"url(#pa334da89cc)\">\n     <use xlink:href=\"#C0_0_7164363b22\" x=\"319.177033\" y=\"166.711648\" style=\"fill: #a0cbe2; stroke: #a0cbe2\"/>\n    </g>\n    <g clip-path=\"url(#pa334da89cc)\">\n     <use xlink:href=\"#C0_0_7164363b22\" x=\"310.357895\" y=\"202.057102\" style=\"fill: #a0cbe2; stroke: #a0cbe2\"/>\n    </g>\n    <g clip-path=\"url(#pa334da89cc)\">\n     <use xlink:href=\"#C0_0_7164363b22\" x=\"314.767464\" y=\"147.075284\" style=\"fill: #a0cbe2; stroke: #a0cbe2\"/>\n    </g>\n    <g clip-path=\"url(#pa334da89cc)\">\n     <use xlink:href=\"#C0_0_7164363b22\" x=\"275.08134\" y=\"131.366193\" style=\"fill: #a0cbe2; stroke: #a0cbe2\"/>\n    </g>\n    <g clip-path=\"url(#pa334da89cc)\">\n     <use xlink:href=\"#C0_0_7164363b22\" x=\"292.719617\" y=\"166.711648\" style=\"fill: #a0cbe2; stroke: #a0cbe2\"/>\n    </g>\n    <g clip-path=\"url(#pa334da89cc)\">\n     <use xlink:href=\"#C0_0_7164363b22\" x=\"292.719617\" y=\"147.075284\" style=\"fill: #a0cbe2; stroke: #a0cbe2\"/>\n    </g>\n    <g clip-path=\"url(#pa334da89cc)\">\n     <use xlink:href=\"#C0_0_7164363b22\" x=\"323.586603\" y=\"48.893466\" style=\"fill: #a0cbe2; stroke: #a0cbe2\"/>\n    </g>\n    <g clip-path=\"url(#pa334da89cc)\">\n     <use xlink:href=\"#C0_0_7164363b22\" x=\"213.347368\" y=\"154.92983\" style=\"fill: #a0cbe2; stroke: #a0cbe2\"/>\n    </g>\n    <g clip-path=\"url(#pa334da89cc)\">\n     <use xlink:href=\"#C0_0_7164363b22\" x=\"314.767464\" y=\"60.675284\" style=\"fill: #a0cbe2; stroke: #a0cbe2\"/>\n    </g>\n    <g clip-path=\"url(#pa334da89cc)\">\n     <use xlink:href=\"#C0_0_7164363b22\" x=\"301.538756\" y=\"68.52983\" style=\"fill: #a0cbe2; stroke: #a0cbe2\"/>\n    </g>\n    <g clip-path=\"url(#pa334da89cc)\">\n     <use xlink:href=\"#C0_0_7164363b22\" x=\"301.538756\" y=\"225.620739\" style=\"fill: #a0cbe2; stroke: #a0cbe2\"/>\n    </g>\n    <g clip-path=\"url(#pa334da89cc)\">\n     <use xlink:href=\"#C0_0_7164363b22\" x=\"292.719617\" y=\"48.893466\" style=\"fill: #a0cbe2; stroke: #a0cbe2\"/>\n    </g>\n    <g clip-path=\"url(#pa334da89cc)\">\n     <use xlink:href=\"#C0_0_7164363b22\" x=\"283.900478\" y=\"88.166193\" style=\"fill: #a0cbe2; stroke: #a0cbe2\"/>\n    </g>\n    <g clip-path=\"url(#pa334da89cc)\">\n     <use xlink:href=\"#C0_0_7164363b22\" x=\"270.67177\" y=\"68.52983\" style=\"fill: #a0cbe2; stroke: #a0cbe2\"/>\n    </g>\n    <g clip-path=\"url(#pa334da89cc)\">\n     <use xlink:href=\"#C0_0_7164363b22\" x=\"270.67177\" y=\"48.893466\" style=\"fill: #a0cbe2; stroke: #a0cbe2\"/>\n    </g>\n   </g>\n   <g id=\"text_1\">\n    <!-- c201, n=100 -->\n    <g transform=\"translate(163.668359 27.184375)scale(0.25 -0.25)\">\n     <defs>\n      <path id=\"MicrosoftYaHei-63\" d=\"M 2934 156 \nQ 2538 -81 1978 -81 \nQ 1228 -81 772 400 \nQ 316 881 316 1647 \nQ 316 2497 808 3017 \nQ 1300 3538 2125 3538 \nQ 2600 3538 2938 3369 \nL 2938 2763 \nQ 2572 3031 2125 3031 \nQ 1600 3031 1270 2667 \nQ 941 2303 941 1697 \nQ 941 1100 1252 762 \nQ 1563 425 2091 425 \nQ 2538 425 2934 719 \nL 2934 156 \nz\n\" transform=\"scale(0.015625)\"/>\n      <path id=\"MicrosoftYaHei-32\" d=\"M 2666 3572 \nQ 2666 3963 2419 4186 \nQ 2172 4409 1747 4409 \nQ 1447 4409 1140 4256 \nQ 834 4103 569 3819 \nL 569 4413 \nQ 806 4659 1107 4790 \nQ 1409 4922 1816 4922 \nQ 2472 4922 2872 4570 \nQ 3272 4219 3272 3619 \nQ 3272 3084 3026 2693 \nQ 2781 2303 2188 1894 \nQ 1581 1475 1376 1294 \nQ 1172 1113 1090 947 \nQ 1009 781 1009 544 \nL 3416 544 \nL 3416 0 \nL 372 0 \nL 372 241 \nQ 372 659 486 951 \nQ 600 1244 862 1520 \nQ 1125 1797 1681 2184 \nQ 2250 2584 2458 2886 \nQ 2666 3188 2666 3572 \nz\n\" transform=\"scale(0.015625)\"/>\n      <path id=\"MicrosoftYaHei-30\" d=\"M 284 2325 \nQ 284 3606 709 4264 \nQ 1134 4922 1941 4922 \nQ 3478 4922 3478 2441 \nQ 3478 1216 3045 567 \nQ 2613 -81 1831 -81 \nQ 1094 -81 689 534 \nQ 284 1150 284 2325 \nz\nM 909 2353 \nQ 909 425 1888 425 \nQ 2850 425 2850 2384 \nQ 2850 4413 1906 4413 \nQ 909 4413 909 2353 \nz\n\" transform=\"scale(0.015625)\"/>\n      <path id=\"MicrosoftYaHei-31\" d=\"M 1781 0 \nL 1781 4141 \nQ 1638 3997 1295 3819 \nQ 953 3641 663 3569 \nL 663 4169 \nQ 1047 4275 1484 4508 \nQ 1922 4741 2156 4947 \nL 2388 4947 \nL 2388 0 \nL 1781 0 \nz\n\" transform=\"scale(0.015625)\"/>\n      <path id=\"MicrosoftYaHei-2c\" d=\"M 1109 778 \nL 575 -888 \nL 131 -888 \nL 519 778 \nL 1109 778 \nz\n\" transform=\"scale(0.015625)\"/>\n      <path id=\"MicrosoftYaHei-20\" transform=\"scale(0.015625)\"/>\n      <path id=\"MicrosoftYaHei-6e\" d=\"M 3469 0 \nL 2859 0 \nL 2859 1966 \nQ 2859 3031 2081 3031 \nQ 1678 3031 1418 2731 \nQ 1159 2431 1159 1972 \nL 1159 0 \nL 547 0 \nL 547 3456 \nL 1159 3456 \nL 1159 2884 \nL 1172 2884 \nQ 1563 3538 2306 3538 \nQ 2875 3538 3172 3173 \nQ 3469 2809 3469 2113 \nL 3469 0 \nz\n\" transform=\"scale(0.015625)\"/>\n      <path id=\"MicrosoftYaHei-3d\" d=\"M 3972 2497 \nL 788 2497 \nL 788 2969 \nL 3972 2969 \nL 3972 2497 \nz\nM 3972 1053 \nL 788 1053 \nL 788 1525 \nL 3972 1525 \nL 3972 1053 \nz\n\" transform=\"scale(0.015625)\"/>\n     </defs>\n     <use xlink:href=\"#MicrosoftYaHei-63\"/>\n     <use xlink:href=\"#MicrosoftYaHei-32\" x=\"50.146484\"/>\n     <use xlink:href=\"#MicrosoftYaHei-30\" x=\"108.789062\"/>\n     <use xlink:href=\"#MicrosoftYaHei-31\" x=\"167.431641\"/>\n     <use xlink:href=\"#MicrosoftYaHei-2c\" x=\"226.074219\"/>\n     <use xlink:href=\"#MicrosoftYaHei-20\" x=\"250.146484\"/>\n     <use xlink:href=\"#MicrosoftYaHei-6e\" x=\"279.736328\"/>\n     <use xlink:href=\"#MicrosoftYaHei-3d\" x=\"341.357422\"/>\n     <use xlink:href=\"#MicrosoftYaHei-31\" x=\"415.527344\"/>\n     <use xlink:href=\"#MicrosoftYaHei-30\" x=\"474.169922\"/>\n     <use xlink:href=\"#MicrosoftYaHei-30\" x=\"532.8125\"/>\n    </g>\n   </g>\n  </g>\n </g>\n <defs>\n  <clipPath id=\"pa334da89cc\">\n   <rect x=\"7.2\" y=\"33.184375\" width=\"460.8\" height=\"345.6\"/>\n  </clipPath>\n </defs>\n</svg>\n",
      "text/plain": [
       "<Figure size 640x480 with 1 Axes>"
      ]
     },
     "metadata": {},
     "output_type": "display_data"
    }
   ],
   "source": [
    "plot_node('c201', 100, node_size=50, font_size=25)"
   ]
  },
  {
   "cell_type": "code",
   "execution_count": 137,
   "metadata": {},
   "outputs": [
    {
     "data": {
      "image/svg+xml": "<?xml version=\"1.0\" encoding=\"utf-8\" standalone=\"no\"?>\n<!DOCTYPE svg PUBLIC \"-//W3C//DTD SVG 1.1//EN\"\n  \"http://www.w3.org/Graphics/SVG/1.1/DTD/svg11.dtd\">\n<svg xmlns:xlink=\"http://www.w3.org/1999/xlink\" width=\"475.2pt\" height=\"385.984375pt\" viewBox=\"0 0 475.2 385.984375\" xmlns=\"http://www.w3.org/2000/svg\" version=\"1.1\">\n <metadata>\n  <rdf:RDF xmlns:dc=\"http://purl.org/dc/elements/1.1/\" xmlns:cc=\"http://creativecommons.org/ns#\" xmlns:rdf=\"http://www.w3.org/1999/02/22-rdf-syntax-ns#\">\n   <cc:Work>\n    <dc:type rdf:resource=\"http://purl.org/dc/dcmitype/StillImage\"/>\n    <dc:date>2022-10-17T17:26:19.218337</dc:date>\n    <dc:format>image/svg+xml</dc:format>\n    <dc:creator>\n     <cc:Agent>\n      <dc:title>Matplotlib v3.5.3, https://matplotlib.org/</dc:title>\n     </cc:Agent>\n    </dc:creator>\n   </cc:Work>\n  </rdf:RDF>\n </metadata>\n <defs>\n  <style type=\"text/css\">*{stroke-linejoin: round; stroke-linecap: butt}</style>\n </defs>\n <g id=\"figure_1\">\n  <g id=\"patch_1\">\n   <path d=\"M 0 385.984375 \nL 475.2 385.984375 \nL 475.2 0 \nL 0 0 \nz\n\" style=\"fill: #ffffff\"/>\n  </g>\n  <g id=\"axes_1\">\n   <g id=\"PathCollection_1\">\n    <defs>\n     <path id=\"C0_0_689d6581f3\" d=\"M 0 3.535534 \nC 0.937635 3.535534 1.836992 3.163008 2.5 2.5 \nC 3.163008 1.836992 3.535534 0.937635 3.535534 -0 \nC 3.535534 -0.937635 3.163008 -1.836992 2.5 -2.5 \nC 1.836992 -3.163008 0.937635 -3.535534 0 -3.535534 \nC -0.937635 -3.535534 -1.836992 -3.163008 -2.5 -2.5 \nC -3.163008 -1.836992 -3.535534 -0.937635 -3.535534 0 \nC -3.535534 0.937635 -3.163008 1.836992 -2.5 2.5 \nC -1.836992 3.163008 -0.937635 3.535534 0 3.535534 \nz\n\"/>\n    </defs>\n    <g clip-path=\"url(#p00db04ae6d)\">\n     <use xlink:href=\"#C0_0_689d6581f3\" x=\"240.822378\" y=\"227.212876\" style=\"fill: #a0cbe2; stroke: #a0cbe2\"/>\n    </g>\n    <g clip-path=\"url(#p00db04ae6d)\">\n     <use xlink:href=\"#C0_0_689d6581f3\" x=\"240.822378\" y=\"227.212876\" style=\"fill: #ff0000; stroke: #ff0000\"/>\n    </g>\n    <g clip-path=\"url(#p00db04ae6d)\">\n     <use xlink:href=\"#C0_0_689d6581f3\" x=\"279.490909\" y=\"167.773073\" style=\"fill: #a0cbe2; stroke: #a0cbe2\"/>\n    </g>\n    <g clip-path=\"url(#p00db04ae6d)\">\n     <use xlink:href=\"#C0_0_689d6581f3\" x=\"240.822378\" y=\"303.635481\" style=\"fill: #a0cbe2; stroke: #a0cbe2\"/>\n    </g>\n    <g clip-path=\"url(#p00db04ae6d)\">\n     <use xlink:href=\"#C0_0_689d6581f3\" x=\"369.717483\" y=\"184.755874\" style=\"fill: #a0cbe2; stroke: #a0cbe2\"/>\n    </g>\n    <g clip-path=\"url(#p00db04ae6d)\">\n     <use xlink:href=\"#C0_0_689d6581f3\" x=\"369.717483\" y=\"290.89838\" style=\"fill: #a0cbe2; stroke: #a0cbe2\"/>\n    </g>\n    <g clip-path=\"url(#p00db04ae6d)\">\n     <use xlink:href=\"#C0_0_689d6581f3\" x=\"111.927273\" y=\"248.441377\" style=\"fill: #a0cbe2; stroke: #a0cbe2\"/>\n    </g>\n    <g clip-path=\"url(#p00db04ae6d)\">\n     <use xlink:href=\"#C0_0_689d6581f3\" x=\"176.374825\" y=\"248.441377\" style=\"fill: #a0cbe2; stroke: #a0cbe2\"/>\n    </g>\n    <g clip-path=\"url(#p00db04ae6d)\">\n     <use xlink:href=\"#C0_0_689d6581f3\" x=\"144.151049\" y=\"163.527373\" style=\"fill: #a0cbe2; stroke: #a0cbe2\"/>\n    </g>\n    <g clip-path=\"url(#p00db04ae6d)\">\n     <use xlink:href=\"#C0_0_689d6581f3\" x=\"79.703497\" y=\"193.247274\" style=\"fill: #a0cbe2; stroke: #a0cbe2\"/>\n    </g>\n    <g clip-path=\"url(#p00db04ae6d)\">\n     <use xlink:href=\"#C0_0_689d6581f3\" x=\"369.717483\" y=\"121.07037\" style=\"fill: #a0cbe2; stroke: #a0cbe2\"/>\n    </g>\n    <g clip-path=\"url(#p00db04ae6d)\">\n     <use xlink:href=\"#C0_0_689d6581f3\" x=\"208.598601\" y=\"121.07037\" style=\"fill: #a0cbe2; stroke: #a0cbe2\"/>\n    </g>\n    <g clip-path=\"url(#p00db04ae6d)\">\n     <use xlink:href=\"#C0_0_689d6581f3\" x=\"144.151049\" y=\"99.841869\" style=\"fill: #a0cbe2; stroke: #a0cbe2\"/>\n    </g>\n    <g clip-path=\"url(#p00db04ae6d)\">\n     <use xlink:href=\"#C0_0_689d6581f3\" x=\"337.493706\" y=\"227.212876\" style=\"fill: #a0cbe2; stroke: #a0cbe2\"/>\n    </g>\n    <g clip-path=\"url(#p00db04ae6d)\">\n     <use xlink:href=\"#C0_0_689d6581f3\" x=\"208.598601\" y=\"269.669879\" style=\"fill: #a0cbe2; stroke: #a0cbe2\"/>\n    </g>\n    <g clip-path=\"url(#p00db04ae6d)\">\n     <use xlink:href=\"#C0_0_689d6581f3\" x=\"111.927273\" y=\"333.355382\" style=\"fill: #a0cbe2; stroke: #a0cbe2\"/>\n    </g>\n    <g clip-path=\"url(#p00db04ae6d)\">\n     <use xlink:href=\"#C0_0_689d6581f3\" x=\"208.598601\" y=\"354.583884\" style=\"fill: #a0cbe2; stroke: #a0cbe2\"/>\n    </g>\n    <g clip-path=\"url(#p00db04ae6d)\">\n     <use xlink:href=\"#C0_0_689d6581f3\" x=\"79.703497\" y=\"290.89838\" style=\"fill: #a0cbe2; stroke: #a0cbe2\"/>\n    </g>\n    <g clip-path=\"url(#p00db04ae6d)\">\n     <use xlink:href=\"#C0_0_689d6581f3\" x=\"47.47972\" y=\"248.441377\" style=\"fill: #a0cbe2; stroke: #a0cbe2\"/>\n    </g>\n    <g clip-path=\"url(#p00db04ae6d)\">\n     <use xlink:href=\"#C0_0_689d6581f3\" x=\"144.151049\" y=\"205.984375\" style=\"fill: #a0cbe2; stroke: #a0cbe2\"/>\n    </g>\n    <g clip-path=\"url(#p00db04ae6d)\">\n     <use xlink:href=\"#C0_0_689d6581f3\" x=\"111.927273\" y=\"121.07037\" style=\"fill: #a0cbe2; stroke: #a0cbe2\"/>\n    </g>\n    <g clip-path=\"url(#p00db04ae6d)\">\n     <use xlink:href=\"#C0_0_689d6581f3\" x=\"305.26993\" y=\"99.841869\" style=\"fill: #a0cbe2; stroke: #a0cbe2\"/>\n    </g>\n    <g clip-path=\"url(#p00db04ae6d)\">\n     <use xlink:href=\"#C0_0_689d6581f3\" x=\"305.26993\" y=\"290.89838\" style=\"fill: #a0cbe2; stroke: #a0cbe2\"/>\n    </g>\n    <g clip-path=\"url(#p00db04ae6d)\">\n     <use xlink:href=\"#C0_0_689d6581f3\" x=\"305.26993\" y=\"333.355382\" style=\"fill: #a0cbe2; stroke: #a0cbe2\"/>\n    </g>\n    <g clip-path=\"url(#p00db04ae6d)\">\n     <use xlink:href=\"#C0_0_689d6581f3\" x=\"369.717483\" y=\"354.583884\" style=\"fill: #a0cbe2; stroke: #a0cbe2\"/>\n    </g>\n    <g clip-path=\"url(#p00db04ae6d)\">\n     <use xlink:href=\"#C0_0_689d6581f3\" x=\"434.165035\" y=\"227.212876\" style=\"fill: #a0cbe2; stroke: #a0cbe2\"/>\n    </g>\n    <g clip-path=\"url(#p00db04ae6d)\">\n     <use xlink:href=\"#C0_0_689d6581f3\" x=\"434.165035\" y=\"290.89838\" style=\"fill: #a0cbe2; stroke: #a0cbe2\"/>\n    </g>\n    <g clip-path=\"url(#p00db04ae6d)\">\n     <use xlink:href=\"#C0_0_689d6581f3\" x=\"305.26993\" y=\"248.441377\" style=\"fill: #a0cbe2; stroke: #a0cbe2\"/>\n    </g>\n    <g clip-path=\"url(#p00db04ae6d)\">\n     <use xlink:href=\"#C0_0_689d6581f3\" x=\"240.822378\" y=\"205.984375\" style=\"fill: #a0cbe2; stroke: #a0cbe2\"/>\n    </g>\n    <g clip-path=\"url(#p00db04ae6d)\">\n     <use xlink:href=\"#C0_0_689d6581f3\" x=\"279.490909\" y=\"218.721476\" style=\"fill: #a0cbe2; stroke: #a0cbe2\"/>\n    </g>\n    <g clip-path=\"url(#p00db04ae6d)\">\n     <use xlink:href=\"#C0_0_689d6581f3\" x=\"427.72028\" y=\"197.492975\" style=\"fill: #a0cbe2; stroke: #a0cbe2\"/>\n    </g>\n    <g clip-path=\"url(#p00db04ae6d)\">\n     <use xlink:href=\"#C0_0_689d6581f3\" x=\"273.046154\" y=\"121.07037\" style=\"fill: #a0cbe2; stroke: #a0cbe2\"/>\n    </g>\n    <g clip-path=\"url(#p00db04ae6d)\">\n     <use xlink:href=\"#C0_0_689d6581f3\" x=\"215.043357\" y=\"155.035972\" style=\"fill: #a0cbe2; stroke: #a0cbe2\"/>\n    </g>\n    <g clip-path=\"url(#p00db04ae6d)\">\n     <use xlink:href=\"#C0_0_689d6581f3\" x=\"240.822378\" y=\"82.859068\" style=\"fill: #a0cbe2; stroke: #a0cbe2\"/>\n    </g>\n    <g clip-path=\"url(#p00db04ae6d)\">\n     <use xlink:href=\"#C0_0_689d6581f3\" x=\"356.827972\" y=\"155.035972\" style=\"fill: #a0cbe2; stroke: #a0cbe2\"/>\n    </g>\n    <g clip-path=\"url(#p00db04ae6d)\">\n     <use xlink:href=\"#C0_0_689d6581f3\" x=\"434.165035\" y=\"142.298871\" style=\"fill: #a0cbe2; stroke: #a0cbe2\"/>\n    </g>\n    <g clip-path=\"url(#p00db04ae6d)\">\n     <use xlink:href=\"#C0_0_689d6581f3\" x=\"421.275524\" y=\"99.841869\" style=\"fill: #a0cbe2; stroke: #a0cbe2\"/>\n    </g>\n    <g clip-path=\"url(#p00db04ae6d)\">\n     <use xlink:href=\"#C0_0_689d6581f3\" x=\"28.145455\" y=\"121.07037\" style=\"fill: #a0cbe2; stroke: #a0cbe2\"/>\n    </g>\n    <g clip-path=\"url(#p00db04ae6d)\">\n     <use xlink:href=\"#C0_0_689d6581f3\" x=\"144.151049\" y=\"290.89838\" style=\"fill: #a0cbe2; stroke: #a0cbe2\"/>\n    </g>\n    <g clip-path=\"url(#p00db04ae6d)\">\n     <use xlink:href=\"#C0_0_689d6581f3\" x=\"47.47972\" y=\"354.583884\" style=\"fill: #a0cbe2; stroke: #a0cbe2\"/>\n    </g>\n    <g clip-path=\"url(#p00db04ae6d)\">\n     <use xlink:href=\"#C0_0_689d6581f3\" x=\"401.941259\" y=\"324.863982\" style=\"fill: #a0cbe2; stroke: #a0cbe2\"/>\n    </g>\n    <g clip-path=\"url(#p00db04ae6d)\">\n     <use xlink:href=\"#C0_0_689d6581f3\" x=\"273.046154\" y=\"269.669879\" style=\"fill: #a0cbe2; stroke: #a0cbe2\"/>\n    </g>\n    <g clip-path=\"url(#p00db04ae6d)\">\n     <use xlink:href=\"#C0_0_689d6581f3\" x=\"285.935664\" y=\"346.092483\" style=\"fill: #a0cbe2; stroke: #a0cbe2\"/>\n    </g>\n    <g clip-path=\"url(#p00db04ae6d)\">\n     <use xlink:href=\"#C0_0_689d6581f3\" x=\"169.93007\" y=\"324.863982\" style=\"fill: #a0cbe2; stroke: #a0cbe2\"/>\n    </g>\n    <g clip-path=\"url(#p00db04ae6d)\">\n     <use xlink:href=\"#C0_0_689d6581f3\" x=\"163.485315\" y=\"363.075284\" style=\"fill: #a0cbe2; stroke: #a0cbe2\"/>\n    </g>\n    <g clip-path=\"url(#p00db04ae6d)\">\n     <use xlink:href=\"#C0_0_689d6581f3\" x=\"86.148252\" y=\"316.372581\" style=\"fill: #a0cbe2; stroke: #a0cbe2\"/>\n    </g>\n    <g clip-path=\"url(#p00db04ae6d)\">\n     <use xlink:href=\"#C0_0_689d6581f3\" x=\"53.924476\" y=\"214.475775\" style=\"fill: #a0cbe2; stroke: #a0cbe2\"/>\n    </g>\n    <g clip-path=\"url(#p00db04ae6d)\">\n     <use xlink:href=\"#C0_0_689d6581f3\" x=\"28.145455\" y=\"172.018773\" style=\"fill: #a0cbe2; stroke: #a0cbe2\"/>\n    </g>\n    <g clip-path=\"url(#p00db04ae6d)\">\n     <use xlink:href=\"#C0_0_689d6581f3\" x=\"66.813986\" y=\"138.053171\" style=\"fill: #a0cbe2; stroke: #a0cbe2\"/>\n    </g>\n    <g clip-path=\"url(#p00db04ae6d)\">\n     <use xlink:href=\"#C0_0_689d6581f3\" x=\"99.037762\" y=\"155.035972\" style=\"fill: #a0cbe2; stroke: #a0cbe2\"/>\n    </g>\n    <g clip-path=\"url(#p00db04ae6d)\">\n     <use xlink:href=\"#C0_0_689d6581f3\" x=\"53.924476\" y=\"87.104768\" style=\"fill: #a0cbe2; stroke: #a0cbe2\"/>\n    </g>\n    <g clip-path=\"url(#p00db04ae6d)\">\n     <use xlink:href=\"#C0_0_689d6581f3\" x=\"318.159441\" y=\"176.264473\" style=\"fill: #a0cbe2; stroke: #a0cbe2\"/>\n    </g>\n    <g clip-path=\"url(#p00db04ae6d)\">\n     <use xlink:href=\"#C0_0_689d6581f3\" x=\"331.048951\" y=\"129.561771\" style=\"fill: #a0cbe2; stroke: #a0cbe2\"/>\n    </g>\n    <g clip-path=\"url(#p00db04ae6d)\">\n     <use xlink:href=\"#C0_0_689d6581f3\" x=\"189.264336\" y=\"193.247274\" style=\"fill: #a0cbe2; stroke: #a0cbe2\"/>\n    </g>\n    <g clip-path=\"url(#p00db04ae6d)\">\n     <use xlink:href=\"#C0_0_689d6581f3\" x=\"253.711888\" y=\"244.195677\" style=\"fill: #a0cbe2; stroke: #a0cbe2\"/>\n    </g>\n    <g clip-path=\"url(#p00db04ae6d)\">\n     <use xlink:href=\"#C0_0_689d6581f3\" x=\"382.606993\" y=\"252.687078\" style=\"fill: #a0cbe2; stroke: #a0cbe2\"/>\n    </g>\n    <g clip-path=\"url(#p00db04ae6d)\">\n     <use xlink:href=\"#C0_0_689d6581f3\" x=\"421.275524\" y=\"278.161279\" style=\"fill: #a0cbe2; stroke: #a0cbe2\"/>\n    </g>\n    <g clip-path=\"url(#p00db04ae6d)\">\n     <use xlink:href=\"#C0_0_689d6581f3\" x=\"356.827972\" y=\"324.863982\" style=\"fill: #a0cbe2; stroke: #a0cbe2\"/>\n    </g>\n    <g clip-path=\"url(#p00db04ae6d)\">\n     <use xlink:href=\"#C0_0_689d6581f3\" x=\"221.488112\" y=\"324.863982\" style=\"fill: #a0cbe2; stroke: #a0cbe2\"/>\n    </g>\n    <g clip-path=\"url(#p00db04ae6d)\">\n     <use xlink:href=\"#C0_0_689d6581f3\" x=\"247.267133\" y=\"265.424178\" style=\"fill: #a0cbe2; stroke: #a0cbe2\"/>\n    </g>\n    <g clip-path=\"url(#p00db04ae6d)\">\n     <use xlink:href=\"#C0_0_689d6581f3\" x=\"150.595804\" y=\"273.915579\" style=\"fill: #a0cbe2; stroke: #a0cbe2\"/>\n    </g>\n    <g clip-path=\"url(#p00db04ae6d)\">\n     <use xlink:href=\"#C0_0_689d6581f3\" x=\"124.816783\" y=\"231.458576\" style=\"fill: #a0cbe2; stroke: #a0cbe2\"/>\n    </g>\n    <g clip-path=\"url(#p00db04ae6d)\">\n     <use xlink:href=\"#C0_0_689d6581f3\" x=\"92.593007\" y=\"273.915579\" style=\"fill: #a0cbe2; stroke: #a0cbe2\"/>\n    </g>\n    <g clip-path=\"url(#p00db04ae6d)\">\n     <use xlink:href=\"#C0_0_689d6581f3\" x=\"169.93007\" y=\"129.561771\" style=\"fill: #a0cbe2; stroke: #a0cbe2\"/>\n    </g>\n    <g clip-path=\"url(#p00db04ae6d)\">\n     <use xlink:href=\"#C0_0_689d6581f3\" x=\"189.264336\" y=\"82.859068\" style=\"fill: #a0cbe2; stroke: #a0cbe2\"/>\n    </g>\n    <g clip-path=\"url(#p00db04ae6d)\">\n     <use xlink:href=\"#C0_0_689d6581f3\" x=\"111.927273\" y=\"48.893466\" style=\"fill: #a0cbe2; stroke: #a0cbe2\"/>\n    </g>\n    <g clip-path=\"url(#p00db04ae6d)\">\n     <use xlink:href=\"#C0_0_689d6581f3\" x=\"414.830769\" y=\"48.893466\" style=\"fill: #a0cbe2; stroke: #a0cbe2\"/>\n    </g>\n    <g clip-path=\"url(#p00db04ae6d)\">\n     <use xlink:href=\"#C0_0_689d6581f3\" x=\"331.048951\" y=\"65.876267\" style=\"fill: #a0cbe2; stroke: #a0cbe2\"/>\n    </g>\n    <g clip-path=\"url(#p00db04ae6d)\">\n     <use xlink:href=\"#C0_0_689d6581f3\" x=\"447.054545\" y=\"354.583884\" style=\"fill: #a0cbe2; stroke: #a0cbe2\"/>\n    </g>\n    <g clip-path=\"url(#p00db04ae6d)\">\n     <use xlink:href=\"#C0_0_689d6581f3\" x=\"376.162238\" y=\"210.230075\" style=\"fill: #a0cbe2; stroke: #a0cbe2\"/>\n    </g>\n    <g clip-path=\"url(#p00db04ae6d)\">\n     <use xlink:href=\"#C0_0_689d6581f3\" x=\"253.711888\" y=\"176.264473\" style=\"fill: #a0cbe2; stroke: #a0cbe2\"/>\n    </g>\n    <g clip-path=\"url(#p00db04ae6d)\">\n     <use xlink:href=\"#C0_0_689d6581f3\" x=\"253.711888\" y=\"138.053171\" style=\"fill: #a0cbe2; stroke: #a0cbe2\"/>\n    </g>\n    <g clip-path=\"url(#p00db04ae6d)\">\n     <use xlink:href=\"#C0_0_689d6581f3\" x=\"382.606993\" y=\"87.104768\" style=\"fill: #a0cbe2; stroke: #a0cbe2\"/>\n    </g>\n    <g clip-path=\"url(#p00db04ae6d)\">\n     <use xlink:href=\"#C0_0_689d6581f3\" x=\"318.159441\" y=\"307.881181\" style=\"fill: #a0cbe2; stroke: #a0cbe2\"/>\n    </g>\n    <g clip-path=\"url(#p00db04ae6d)\">\n     <use xlink:href=\"#C0_0_689d6581f3\" x=\"298.825175\" y=\"303.635481\" style=\"fill: #a0cbe2; stroke: #a0cbe2\"/>\n    </g>\n    <g clip-path=\"url(#p00db04ae6d)\">\n     <use xlink:href=\"#C0_0_689d6581f3\" x=\"311.714685\" y=\"320.618282\" style=\"fill: #a0cbe2; stroke: #a0cbe2\"/>\n    </g>\n    <g clip-path=\"url(#p00db04ae6d)\">\n     <use xlink:href=\"#C0_0_689d6581f3\" x=\"331.048951\" y=\"329.109682\" style=\"fill: #a0cbe2; stroke: #a0cbe2\"/>\n    </g>\n    <g clip-path=\"url(#p00db04ae6d)\">\n     <use xlink:href=\"#C0_0_689d6581f3\" x=\"331.048951\" y=\"197.492975\" style=\"fill: #a0cbe2; stroke: #a0cbe2\"/>\n    </g>\n    <g clip-path=\"url(#p00db04ae6d)\">\n     <use xlink:href=\"#C0_0_689d6581f3\" x=\"356.827972\" y=\"193.247274\" style=\"fill: #a0cbe2; stroke: #a0cbe2\"/>\n    </g>\n    <g clip-path=\"url(#p00db04ae6d)\">\n     <use xlink:href=\"#C0_0_689d6581f3\" x=\"408.386014\" y=\"155.035972\" style=\"fill: #a0cbe2; stroke: #a0cbe2\"/>\n    </g>\n    <g clip-path=\"url(#p00db04ae6d)\">\n     <use xlink:href=\"#C0_0_689d6581f3\" x=\"382.606993\" y=\"172.018773\" style=\"fill: #a0cbe2; stroke: #a0cbe2\"/>\n    </g>\n    <g clip-path=\"url(#p00db04ae6d)\">\n     <use xlink:href=\"#C0_0_689d6581f3\" x=\"376.162238\" y=\"218.721476\" style=\"fill: #a0cbe2; stroke: #a0cbe2\"/>\n    </g>\n    <g clip-path=\"url(#p00db04ae6d)\">\n     <use xlink:href=\"#C0_0_689d6581f3\" x=\"369.717483\" y=\"146.544572\" style=\"fill: #a0cbe2; stroke: #a0cbe2\"/>\n    </g>\n    <g clip-path=\"url(#p00db04ae6d)\">\n     <use xlink:href=\"#C0_0_689d6581f3\" x=\"111.927273\" y=\"176.264473\" style=\"fill: #a0cbe2; stroke: #a0cbe2\"/>\n    </g>\n    <g clip-path=\"url(#p00db04ae6d)\">\n     <use xlink:href=\"#C0_0_689d6581f3\" x=\"105.482517\" y=\"218.721476\" style=\"fill: #a0cbe2; stroke: #a0cbe2\"/>\n    </g>\n    <g clip-path=\"url(#p00db04ae6d)\">\n     <use xlink:href=\"#C0_0_689d6581f3\" x=\"86.148252\" y=\"244.195677\" style=\"fill: #a0cbe2; stroke: #a0cbe2\"/>\n    </g>\n    <g clip-path=\"url(#p00db04ae6d)\">\n     <use xlink:href=\"#C0_0_689d6581f3\" x=\"118.372028\" y=\"282.406979\" style=\"fill: #a0cbe2; stroke: #a0cbe2\"/>\n    </g>\n    <g clip-path=\"url(#p00db04ae6d)\">\n     <use xlink:href=\"#C0_0_689d6581f3\" x=\"41.034965\" y=\"299.38978\" style=\"fill: #a0cbe2; stroke: #a0cbe2\"/>\n    </g>\n    <g clip-path=\"url(#p00db04ae6d)\">\n     <use xlink:href=\"#C0_0_689d6581f3\" x=\"195.709091\" y=\"299.38978\" style=\"fill: #a0cbe2; stroke: #a0cbe2\"/>\n    </g>\n    <g clip-path=\"url(#p00db04ae6d)\">\n     <use xlink:href=\"#C0_0_689d6581f3\" x=\"182.81958\" y=\"155.035972\" style=\"fill: #a0cbe2; stroke: #a0cbe2\"/>\n    </g>\n    <g clip-path=\"url(#p00db04ae6d)\">\n     <use xlink:href=\"#C0_0_689d6581f3\" x=\"182.81958\" y=\"227.212876\" style=\"fill: #a0cbe2; stroke: #a0cbe2\"/>\n    </g>\n    <g clip-path=\"url(#p00db04ae6d)\">\n     <use xlink:href=\"#C0_0_689d6581f3\" x=\"215.043357\" y=\"91.350468\" style=\"fill: #a0cbe2; stroke: #a0cbe2\"/>\n    </g>\n    <g clip-path=\"url(#p00db04ae6d)\">\n     <use xlink:href=\"#C0_0_689d6581f3\" x=\"111.927273\" y=\"295.14408\" style=\"fill: #a0cbe2; stroke: #a0cbe2\"/>\n    </g>\n    <g clip-path=\"url(#p00db04ae6d)\">\n     <use xlink:href=\"#C0_0_689d6581f3\" x=\"157.040559\" y=\"282.406979\" style=\"fill: #a0cbe2; stroke: #a0cbe2\"/>\n    </g>\n    <g clip-path=\"url(#p00db04ae6d)\">\n     <use xlink:href=\"#C0_0_689d6581f3\" x=\"131.261538\" y=\"273.915579\" style=\"fill: #a0cbe2; stroke: #a0cbe2\"/>\n    </g>\n    <g clip-path=\"url(#p00db04ae6d)\">\n     <use xlink:href=\"#C0_0_689d6581f3\" x=\"182.81958\" y=\"261.178478\" style=\"fill: #a0cbe2; stroke: #a0cbe2\"/>\n    </g>\n    <g clip-path=\"url(#p00db04ae6d)\">\n     <use xlink:href=\"#C0_0_689d6581f3\" x=\"176.374825\" y=\"273.915579\" style=\"fill: #a0cbe2; stroke: #a0cbe2\"/>\n    </g>\n    <g clip-path=\"url(#p00db04ae6d)\">\n     <use xlink:href=\"#C0_0_689d6581f3\" x=\"157.040559\" y=\"261.178478\" style=\"fill: #a0cbe2; stroke: #a0cbe2\"/>\n    </g>\n    <g clip-path=\"url(#p00db04ae6d)\">\n     <use xlink:href=\"#C0_0_689d6581f3\" x=\"176.374825\" y=\"286.65268\" style=\"fill: #a0cbe2; stroke: #a0cbe2\"/>\n    </g>\n    <g clip-path=\"url(#p00db04ae6d)\">\n     <use xlink:href=\"#C0_0_689d6581f3\" x=\"137.706294\" y=\"286.65268\" style=\"fill: #a0cbe2; stroke: #a0cbe2\"/>\n    </g>\n    <g clip-path=\"url(#p00db04ae6d)\">\n     <use xlink:href=\"#C0_0_689d6581f3\" x=\"144.151049\" y=\"265.424178\" style=\"fill: #a0cbe2; stroke: #a0cbe2\"/>\n    </g>\n    <g clip-path=\"url(#p00db04ae6d)\">\n     <use xlink:href=\"#C0_0_689d6581f3\" x=\"131.261538\" y=\"299.38978\" style=\"fill: #a0cbe2; stroke: #a0cbe2\"/>\n    </g>\n   </g>\n   <g id=\"text_1\">\n    <!-- r101, n=100 -->\n    <g transform=\"translate(165.1625 27.184375)scale(0.25 -0.25)\">\n     <defs>\n      <path id=\"MicrosoftYaHei-72\" d=\"M 2400 2850 \nQ 2247 2959 1978 2959 \nQ 1622 2959 1390 2626 \nQ 1159 2294 1159 1750 \nL 1159 0 \nL 547 0 \nL 547 3456 \nL 1159 3456 \nL 1159 2753 \nL 1172 2753 \nQ 1434 3516 2078 3516 \nQ 2288 3516 2400 3469 \nL 2400 2850 \nz\n\" transform=\"scale(0.015625)\"/>\n      <path id=\"MicrosoftYaHei-31\" d=\"M 1781 0 \nL 1781 4141 \nQ 1638 3997 1295 3819 \nQ 953 3641 663 3569 \nL 663 4169 \nQ 1047 4275 1484 4508 \nQ 1922 4741 2156 4947 \nL 2388 4947 \nL 2388 0 \nL 1781 0 \nz\n\" transform=\"scale(0.015625)\"/>\n      <path id=\"MicrosoftYaHei-30\" d=\"M 284 2325 \nQ 284 3606 709 4264 \nQ 1134 4922 1941 4922 \nQ 3478 4922 3478 2441 \nQ 3478 1216 3045 567 \nQ 2613 -81 1831 -81 \nQ 1094 -81 689 534 \nQ 284 1150 284 2325 \nz\nM 909 2353 \nQ 909 425 1888 425 \nQ 2850 425 2850 2384 \nQ 2850 4413 1906 4413 \nQ 909 4413 909 2353 \nz\n\" transform=\"scale(0.015625)\"/>\n      <path id=\"MicrosoftYaHei-2c\" d=\"M 1109 778 \nL 575 -888 \nL 131 -888 \nL 519 778 \nL 1109 778 \nz\n\" transform=\"scale(0.015625)\"/>\n      <path id=\"MicrosoftYaHei-20\" transform=\"scale(0.015625)\"/>\n      <path id=\"MicrosoftYaHei-6e\" d=\"M 3469 0 \nL 2859 0 \nL 2859 1966 \nQ 2859 3031 2081 3031 \nQ 1678 3031 1418 2731 \nQ 1159 2431 1159 1972 \nL 1159 0 \nL 547 0 \nL 547 3456 \nL 1159 3456 \nL 1159 2884 \nL 1172 2884 \nQ 1563 3538 2306 3538 \nQ 2875 3538 3172 3173 \nQ 3469 2809 3469 2113 \nL 3469 0 \nz\n\" transform=\"scale(0.015625)\"/>\n      <path id=\"MicrosoftYaHei-3d\" d=\"M 3972 2497 \nL 788 2497 \nL 788 2969 \nL 3972 2969 \nL 3972 2497 \nz\nM 3972 1053 \nL 788 1053 \nL 788 1525 \nL 3972 1525 \nL 3972 1053 \nz\n\" transform=\"scale(0.015625)\"/>\n     </defs>\n     <use xlink:href=\"#MicrosoftYaHei-72\"/>\n     <use xlink:href=\"#MicrosoftYaHei-31\" x=\"38.183594\"/>\n     <use xlink:href=\"#MicrosoftYaHei-30\" x=\"96.826172\"/>\n     <use xlink:href=\"#MicrosoftYaHei-31\" x=\"155.46875\"/>\n     <use xlink:href=\"#MicrosoftYaHei-2c\" x=\"214.111328\"/>\n     <use xlink:href=\"#MicrosoftYaHei-20\" x=\"238.183594\"/>\n     <use xlink:href=\"#MicrosoftYaHei-6e\" x=\"267.773438\"/>\n     <use xlink:href=\"#MicrosoftYaHei-3d\" x=\"329.394531\"/>\n     <use xlink:href=\"#MicrosoftYaHei-31\" x=\"403.564453\"/>\n     <use xlink:href=\"#MicrosoftYaHei-30\" x=\"462.207031\"/>\n     <use xlink:href=\"#MicrosoftYaHei-30\" x=\"520.849609\"/>\n    </g>\n   </g>\n  </g>\n </g>\n <defs>\n  <clipPath id=\"p00db04ae6d\">\n   <rect x=\"7.2\" y=\"33.184375\" width=\"460.8\" height=\"345.6\"/>\n  </clipPath>\n </defs>\n</svg>\n",
      "text/plain": [
       "<Figure size 640x480 with 1 Axes>"
      ]
     },
     "metadata": {},
     "output_type": "display_data"
    }
   ],
   "source": [
    "plot_node('r101', 100, node_size=50, font_size=25)"
   ]
  },
  {
   "cell_type": "code",
   "execution_count": 141,
   "metadata": {},
   "outputs": [
    {
     "data": {
      "image/svg+xml": "<?xml version=\"1.0\" encoding=\"utf-8\" standalone=\"no\"?>\n<!DOCTYPE svg PUBLIC \"-//W3C//DTD SVG 1.1//EN\"\n  \"http://www.w3.org/Graphics/SVG/1.1/DTD/svg11.dtd\">\n<svg xmlns:xlink=\"http://www.w3.org/1999/xlink\" width=\"475.2pt\" height=\"385.984375pt\" viewBox=\"0 0 475.2 385.984375\" xmlns=\"http://www.w3.org/2000/svg\" version=\"1.1\">\n <metadata>\n  <rdf:RDF xmlns:dc=\"http://purl.org/dc/elements/1.1/\" xmlns:cc=\"http://creativecommons.org/ns#\" xmlns:rdf=\"http://www.w3.org/1999/02/22-rdf-syntax-ns#\">\n   <cc:Work>\n    <dc:type rdf:resource=\"http://purl.org/dc/dcmitype/StillImage\"/>\n    <dc:date>2022-10-17T17:34:30.354243</dc:date>\n    <dc:format>image/svg+xml</dc:format>\n    <dc:creator>\n     <cc:Agent>\n      <dc:title>Matplotlib v3.5.3, https://matplotlib.org/</dc:title>\n     </cc:Agent>\n    </dc:creator>\n   </cc:Work>\n  </rdf:RDF>\n </metadata>\n <defs>\n  <style type=\"text/css\">*{stroke-linejoin: round; stroke-linecap: butt}</style>\n </defs>\n <g id=\"figure_1\">\n  <g id=\"patch_1\">\n   <path d=\"M 0 385.984375 \nL 475.2 385.984375 \nL 475.2 0 \nL 0 0 \nz\n\" style=\"fill: #ffffff\"/>\n  </g>\n  <g id=\"axes_1\">\n   <g id=\"PathCollection_1\">\n    <defs>\n     <path id=\"C0_0_bab621edb9\" d=\"M 0 3.535534 \nC 0.937635 3.535534 1.836992 3.163008 2.5 2.5 \nC 3.163008 1.836992 3.535534 0.937635 3.535534 -0 \nC 3.535534 -0.937635 3.163008 -1.836992 2.5 -2.5 \nC 1.836992 -3.163008 0.937635 -3.535534 0 -3.535534 \nC -0.937635 -3.535534 -1.836992 -3.163008 -2.5 -2.5 \nC -3.163008 -1.836992 -3.535534 -0.937635 -3.535534 0 \nC -3.535534 0.937635 -3.163008 1.836992 -2.5 2.5 \nC -1.836992 3.163008 -0.937635 3.535534 0 3.535534 \nz\n\"/>\n    </defs>\n    <g clip-path=\"url(#pc8d43cef4a)\">\n     <use xlink:href=\"#C0_0_bab621edb9\" x=\"240.822378\" y=\"227.212876\" style=\"fill: #a0cbe2; stroke: #a0cbe2\"/>\n    </g>\n    <g clip-path=\"url(#pc8d43cef4a)\">\n     <use xlink:href=\"#C0_0_bab621edb9\" x=\"240.822378\" y=\"227.212876\" style=\"fill: #ff0000; stroke: #ff0000\"/>\n    </g>\n    <g clip-path=\"url(#pc8d43cef4a)\">\n     <use xlink:href=\"#C0_0_bab621edb9\" x=\"279.490909\" y=\"167.773073\" style=\"fill: #a0cbe2; stroke: #a0cbe2\"/>\n    </g>\n    <g clip-path=\"url(#pc8d43cef4a)\">\n     <use xlink:href=\"#C0_0_bab621edb9\" x=\"240.822378\" y=\"303.635481\" style=\"fill: #a0cbe2; stroke: #a0cbe2\"/>\n    </g>\n    <g clip-path=\"url(#pc8d43cef4a)\">\n     <use xlink:href=\"#C0_0_bab621edb9\" x=\"369.717483\" y=\"184.755874\" style=\"fill: #a0cbe2; stroke: #a0cbe2\"/>\n    </g>\n    <g clip-path=\"url(#pc8d43cef4a)\">\n     <use xlink:href=\"#C0_0_bab621edb9\" x=\"369.717483\" y=\"290.89838\" style=\"fill: #a0cbe2; stroke: #a0cbe2\"/>\n    </g>\n    <g clip-path=\"url(#pc8d43cef4a)\">\n     <use xlink:href=\"#C0_0_bab621edb9\" x=\"111.927273\" y=\"248.441377\" style=\"fill: #a0cbe2; stroke: #a0cbe2\"/>\n    </g>\n    <g clip-path=\"url(#pc8d43cef4a)\">\n     <use xlink:href=\"#C0_0_bab621edb9\" x=\"176.374825\" y=\"248.441377\" style=\"fill: #a0cbe2; stroke: #a0cbe2\"/>\n    </g>\n    <g clip-path=\"url(#pc8d43cef4a)\">\n     <use xlink:href=\"#C0_0_bab621edb9\" x=\"144.151049\" y=\"163.527373\" style=\"fill: #a0cbe2; stroke: #a0cbe2\"/>\n    </g>\n    <g clip-path=\"url(#pc8d43cef4a)\">\n     <use xlink:href=\"#C0_0_bab621edb9\" x=\"79.703497\" y=\"193.247274\" style=\"fill: #a0cbe2; stroke: #a0cbe2\"/>\n    </g>\n    <g clip-path=\"url(#pc8d43cef4a)\">\n     <use xlink:href=\"#C0_0_bab621edb9\" x=\"369.717483\" y=\"121.07037\" style=\"fill: #a0cbe2; stroke: #a0cbe2\"/>\n    </g>\n    <g clip-path=\"url(#pc8d43cef4a)\">\n     <use xlink:href=\"#C0_0_bab621edb9\" x=\"208.598601\" y=\"121.07037\" style=\"fill: #a0cbe2; stroke: #a0cbe2\"/>\n    </g>\n    <g clip-path=\"url(#pc8d43cef4a)\">\n     <use xlink:href=\"#C0_0_bab621edb9\" x=\"144.151049\" y=\"99.841869\" style=\"fill: #a0cbe2; stroke: #a0cbe2\"/>\n    </g>\n    <g clip-path=\"url(#pc8d43cef4a)\">\n     <use xlink:href=\"#C0_0_bab621edb9\" x=\"337.493706\" y=\"227.212876\" style=\"fill: #a0cbe2; stroke: #a0cbe2\"/>\n    </g>\n    <g clip-path=\"url(#pc8d43cef4a)\">\n     <use xlink:href=\"#C0_0_bab621edb9\" x=\"208.598601\" y=\"269.669879\" style=\"fill: #a0cbe2; stroke: #a0cbe2\"/>\n    </g>\n    <g clip-path=\"url(#pc8d43cef4a)\">\n     <use xlink:href=\"#C0_0_bab621edb9\" x=\"111.927273\" y=\"333.355382\" style=\"fill: #a0cbe2; stroke: #a0cbe2\"/>\n    </g>\n    <g clip-path=\"url(#pc8d43cef4a)\">\n     <use xlink:href=\"#C0_0_bab621edb9\" x=\"208.598601\" y=\"354.583884\" style=\"fill: #a0cbe2; stroke: #a0cbe2\"/>\n    </g>\n    <g clip-path=\"url(#pc8d43cef4a)\">\n     <use xlink:href=\"#C0_0_bab621edb9\" x=\"79.703497\" y=\"290.89838\" style=\"fill: #a0cbe2; stroke: #a0cbe2\"/>\n    </g>\n    <g clip-path=\"url(#pc8d43cef4a)\">\n     <use xlink:href=\"#C0_0_bab621edb9\" x=\"47.47972\" y=\"248.441377\" style=\"fill: #a0cbe2; stroke: #a0cbe2\"/>\n    </g>\n    <g clip-path=\"url(#pc8d43cef4a)\">\n     <use xlink:href=\"#C0_0_bab621edb9\" x=\"144.151049\" y=\"205.984375\" style=\"fill: #a0cbe2; stroke: #a0cbe2\"/>\n    </g>\n    <g clip-path=\"url(#pc8d43cef4a)\">\n     <use xlink:href=\"#C0_0_bab621edb9\" x=\"111.927273\" y=\"121.07037\" style=\"fill: #a0cbe2; stroke: #a0cbe2\"/>\n    </g>\n    <g clip-path=\"url(#pc8d43cef4a)\">\n     <use xlink:href=\"#C0_0_bab621edb9\" x=\"305.26993\" y=\"99.841869\" style=\"fill: #a0cbe2; stroke: #a0cbe2\"/>\n    </g>\n    <g clip-path=\"url(#pc8d43cef4a)\">\n     <use xlink:href=\"#C0_0_bab621edb9\" x=\"305.26993\" y=\"290.89838\" style=\"fill: #a0cbe2; stroke: #a0cbe2\"/>\n    </g>\n    <g clip-path=\"url(#pc8d43cef4a)\">\n     <use xlink:href=\"#C0_0_bab621edb9\" x=\"305.26993\" y=\"333.355382\" style=\"fill: #a0cbe2; stroke: #a0cbe2\"/>\n    </g>\n    <g clip-path=\"url(#pc8d43cef4a)\">\n     <use xlink:href=\"#C0_0_bab621edb9\" x=\"369.717483\" y=\"354.583884\" style=\"fill: #a0cbe2; stroke: #a0cbe2\"/>\n    </g>\n    <g clip-path=\"url(#pc8d43cef4a)\">\n     <use xlink:href=\"#C0_0_bab621edb9\" x=\"434.165035\" y=\"227.212876\" style=\"fill: #a0cbe2; stroke: #a0cbe2\"/>\n    </g>\n    <g clip-path=\"url(#pc8d43cef4a)\">\n     <use xlink:href=\"#C0_0_bab621edb9\" x=\"434.165035\" y=\"290.89838\" style=\"fill: #a0cbe2; stroke: #a0cbe2\"/>\n    </g>\n    <g clip-path=\"url(#pc8d43cef4a)\">\n     <use xlink:href=\"#C0_0_bab621edb9\" x=\"305.26993\" y=\"248.441377\" style=\"fill: #a0cbe2; stroke: #a0cbe2\"/>\n    </g>\n    <g clip-path=\"url(#pc8d43cef4a)\">\n     <use xlink:href=\"#C0_0_bab621edb9\" x=\"240.822378\" y=\"205.984375\" style=\"fill: #a0cbe2; stroke: #a0cbe2\"/>\n    </g>\n    <g clip-path=\"url(#pc8d43cef4a)\">\n     <use xlink:href=\"#C0_0_bab621edb9\" x=\"279.490909\" y=\"218.721476\" style=\"fill: #a0cbe2; stroke: #a0cbe2\"/>\n    </g>\n    <g clip-path=\"url(#pc8d43cef4a)\">\n     <use xlink:href=\"#C0_0_bab621edb9\" x=\"427.72028\" y=\"197.492975\" style=\"fill: #a0cbe2; stroke: #a0cbe2\"/>\n    </g>\n    <g clip-path=\"url(#pc8d43cef4a)\">\n     <use xlink:href=\"#C0_0_bab621edb9\" x=\"273.046154\" y=\"121.07037\" style=\"fill: #a0cbe2; stroke: #a0cbe2\"/>\n    </g>\n    <g clip-path=\"url(#pc8d43cef4a)\">\n     <use xlink:href=\"#C0_0_bab621edb9\" x=\"215.043357\" y=\"155.035972\" style=\"fill: #a0cbe2; stroke: #a0cbe2\"/>\n    </g>\n    <g clip-path=\"url(#pc8d43cef4a)\">\n     <use xlink:href=\"#C0_0_bab621edb9\" x=\"240.822378\" y=\"82.859068\" style=\"fill: #a0cbe2; stroke: #a0cbe2\"/>\n    </g>\n    <g clip-path=\"url(#pc8d43cef4a)\">\n     <use xlink:href=\"#C0_0_bab621edb9\" x=\"356.827972\" y=\"155.035972\" style=\"fill: #a0cbe2; stroke: #a0cbe2\"/>\n    </g>\n    <g clip-path=\"url(#pc8d43cef4a)\">\n     <use xlink:href=\"#C0_0_bab621edb9\" x=\"434.165035\" y=\"142.298871\" style=\"fill: #a0cbe2; stroke: #a0cbe2\"/>\n    </g>\n    <g clip-path=\"url(#pc8d43cef4a)\">\n     <use xlink:href=\"#C0_0_bab621edb9\" x=\"421.275524\" y=\"99.841869\" style=\"fill: #a0cbe2; stroke: #a0cbe2\"/>\n    </g>\n    <g clip-path=\"url(#pc8d43cef4a)\">\n     <use xlink:href=\"#C0_0_bab621edb9\" x=\"28.145455\" y=\"121.07037\" style=\"fill: #a0cbe2; stroke: #a0cbe2\"/>\n    </g>\n    <g clip-path=\"url(#pc8d43cef4a)\">\n     <use xlink:href=\"#C0_0_bab621edb9\" x=\"144.151049\" y=\"290.89838\" style=\"fill: #a0cbe2; stroke: #a0cbe2\"/>\n    </g>\n    <g clip-path=\"url(#pc8d43cef4a)\">\n     <use xlink:href=\"#C0_0_bab621edb9\" x=\"47.47972\" y=\"354.583884\" style=\"fill: #a0cbe2; stroke: #a0cbe2\"/>\n    </g>\n    <g clip-path=\"url(#pc8d43cef4a)\">\n     <use xlink:href=\"#C0_0_bab621edb9\" x=\"401.941259\" y=\"324.863982\" style=\"fill: #a0cbe2; stroke: #a0cbe2\"/>\n    </g>\n    <g clip-path=\"url(#pc8d43cef4a)\">\n     <use xlink:href=\"#C0_0_bab621edb9\" x=\"273.046154\" y=\"269.669879\" style=\"fill: #a0cbe2; stroke: #a0cbe2\"/>\n    </g>\n    <g clip-path=\"url(#pc8d43cef4a)\">\n     <use xlink:href=\"#C0_0_bab621edb9\" x=\"285.935664\" y=\"346.092483\" style=\"fill: #a0cbe2; stroke: #a0cbe2\"/>\n    </g>\n    <g clip-path=\"url(#pc8d43cef4a)\">\n     <use xlink:href=\"#C0_0_bab621edb9\" x=\"169.93007\" y=\"324.863982\" style=\"fill: #a0cbe2; stroke: #a0cbe2\"/>\n    </g>\n    <g clip-path=\"url(#pc8d43cef4a)\">\n     <use xlink:href=\"#C0_0_bab621edb9\" x=\"163.485315\" y=\"363.075284\" style=\"fill: #a0cbe2; stroke: #a0cbe2\"/>\n    </g>\n    <g clip-path=\"url(#pc8d43cef4a)\">\n     <use xlink:href=\"#C0_0_bab621edb9\" x=\"86.148252\" y=\"316.372581\" style=\"fill: #a0cbe2; stroke: #a0cbe2\"/>\n    </g>\n    <g clip-path=\"url(#pc8d43cef4a)\">\n     <use xlink:href=\"#C0_0_bab621edb9\" x=\"53.924476\" y=\"214.475775\" style=\"fill: #a0cbe2; stroke: #a0cbe2\"/>\n    </g>\n    <g clip-path=\"url(#pc8d43cef4a)\">\n     <use xlink:href=\"#C0_0_bab621edb9\" x=\"28.145455\" y=\"172.018773\" style=\"fill: #a0cbe2; stroke: #a0cbe2\"/>\n    </g>\n    <g clip-path=\"url(#pc8d43cef4a)\">\n     <use xlink:href=\"#C0_0_bab621edb9\" x=\"66.813986\" y=\"138.053171\" style=\"fill: #a0cbe2; stroke: #a0cbe2\"/>\n    </g>\n    <g clip-path=\"url(#pc8d43cef4a)\">\n     <use xlink:href=\"#C0_0_bab621edb9\" x=\"99.037762\" y=\"155.035972\" style=\"fill: #a0cbe2; stroke: #a0cbe2\"/>\n    </g>\n    <g clip-path=\"url(#pc8d43cef4a)\">\n     <use xlink:href=\"#C0_0_bab621edb9\" x=\"53.924476\" y=\"87.104768\" style=\"fill: #a0cbe2; stroke: #a0cbe2\"/>\n    </g>\n    <g clip-path=\"url(#pc8d43cef4a)\">\n     <use xlink:href=\"#C0_0_bab621edb9\" x=\"318.159441\" y=\"176.264473\" style=\"fill: #a0cbe2; stroke: #a0cbe2\"/>\n    </g>\n    <g clip-path=\"url(#pc8d43cef4a)\">\n     <use xlink:href=\"#C0_0_bab621edb9\" x=\"331.048951\" y=\"129.561771\" style=\"fill: #a0cbe2; stroke: #a0cbe2\"/>\n    </g>\n    <g clip-path=\"url(#pc8d43cef4a)\">\n     <use xlink:href=\"#C0_0_bab621edb9\" x=\"189.264336\" y=\"193.247274\" style=\"fill: #a0cbe2; stroke: #a0cbe2\"/>\n    </g>\n    <g clip-path=\"url(#pc8d43cef4a)\">\n     <use xlink:href=\"#C0_0_bab621edb9\" x=\"253.711888\" y=\"244.195677\" style=\"fill: #a0cbe2; stroke: #a0cbe2\"/>\n    </g>\n    <g clip-path=\"url(#pc8d43cef4a)\">\n     <use xlink:href=\"#C0_0_bab621edb9\" x=\"382.606993\" y=\"252.687078\" style=\"fill: #a0cbe2; stroke: #a0cbe2\"/>\n    </g>\n    <g clip-path=\"url(#pc8d43cef4a)\">\n     <use xlink:href=\"#C0_0_bab621edb9\" x=\"421.275524\" y=\"278.161279\" style=\"fill: #a0cbe2; stroke: #a0cbe2\"/>\n    </g>\n    <g clip-path=\"url(#pc8d43cef4a)\">\n     <use xlink:href=\"#C0_0_bab621edb9\" x=\"356.827972\" y=\"324.863982\" style=\"fill: #a0cbe2; stroke: #a0cbe2\"/>\n    </g>\n    <g clip-path=\"url(#pc8d43cef4a)\">\n     <use xlink:href=\"#C0_0_bab621edb9\" x=\"221.488112\" y=\"324.863982\" style=\"fill: #a0cbe2; stroke: #a0cbe2\"/>\n    </g>\n    <g clip-path=\"url(#pc8d43cef4a)\">\n     <use xlink:href=\"#C0_0_bab621edb9\" x=\"247.267133\" y=\"265.424178\" style=\"fill: #a0cbe2; stroke: #a0cbe2\"/>\n    </g>\n    <g clip-path=\"url(#pc8d43cef4a)\">\n     <use xlink:href=\"#C0_0_bab621edb9\" x=\"150.595804\" y=\"273.915579\" style=\"fill: #a0cbe2; stroke: #a0cbe2\"/>\n    </g>\n    <g clip-path=\"url(#pc8d43cef4a)\">\n     <use xlink:href=\"#C0_0_bab621edb9\" x=\"124.816783\" y=\"231.458576\" style=\"fill: #a0cbe2; stroke: #a0cbe2\"/>\n    </g>\n    <g clip-path=\"url(#pc8d43cef4a)\">\n     <use xlink:href=\"#C0_0_bab621edb9\" x=\"92.593007\" y=\"273.915579\" style=\"fill: #a0cbe2; stroke: #a0cbe2\"/>\n    </g>\n    <g clip-path=\"url(#pc8d43cef4a)\">\n     <use xlink:href=\"#C0_0_bab621edb9\" x=\"169.93007\" y=\"129.561771\" style=\"fill: #a0cbe2; stroke: #a0cbe2\"/>\n    </g>\n    <g clip-path=\"url(#pc8d43cef4a)\">\n     <use xlink:href=\"#C0_0_bab621edb9\" x=\"189.264336\" y=\"82.859068\" style=\"fill: #a0cbe2; stroke: #a0cbe2\"/>\n    </g>\n    <g clip-path=\"url(#pc8d43cef4a)\">\n     <use xlink:href=\"#C0_0_bab621edb9\" x=\"111.927273\" y=\"48.893466\" style=\"fill: #a0cbe2; stroke: #a0cbe2\"/>\n    </g>\n    <g clip-path=\"url(#pc8d43cef4a)\">\n     <use xlink:href=\"#C0_0_bab621edb9\" x=\"414.830769\" y=\"48.893466\" style=\"fill: #a0cbe2; stroke: #a0cbe2\"/>\n    </g>\n    <g clip-path=\"url(#pc8d43cef4a)\">\n     <use xlink:href=\"#C0_0_bab621edb9\" x=\"331.048951\" y=\"65.876267\" style=\"fill: #a0cbe2; stroke: #a0cbe2\"/>\n    </g>\n    <g clip-path=\"url(#pc8d43cef4a)\">\n     <use xlink:href=\"#C0_0_bab621edb9\" x=\"447.054545\" y=\"354.583884\" style=\"fill: #a0cbe2; stroke: #a0cbe2\"/>\n    </g>\n    <g clip-path=\"url(#pc8d43cef4a)\">\n     <use xlink:href=\"#C0_0_bab621edb9\" x=\"376.162238\" y=\"210.230075\" style=\"fill: #a0cbe2; stroke: #a0cbe2\"/>\n    </g>\n    <g clip-path=\"url(#pc8d43cef4a)\">\n     <use xlink:href=\"#C0_0_bab621edb9\" x=\"253.711888\" y=\"176.264473\" style=\"fill: #a0cbe2; stroke: #a0cbe2\"/>\n    </g>\n    <g clip-path=\"url(#pc8d43cef4a)\">\n     <use xlink:href=\"#C0_0_bab621edb9\" x=\"253.711888\" y=\"138.053171\" style=\"fill: #a0cbe2; stroke: #a0cbe2\"/>\n    </g>\n    <g clip-path=\"url(#pc8d43cef4a)\">\n     <use xlink:href=\"#C0_0_bab621edb9\" x=\"382.606993\" y=\"87.104768\" style=\"fill: #a0cbe2; stroke: #a0cbe2\"/>\n    </g>\n    <g clip-path=\"url(#pc8d43cef4a)\">\n     <use xlink:href=\"#C0_0_bab621edb9\" x=\"318.159441\" y=\"307.881181\" style=\"fill: #a0cbe2; stroke: #a0cbe2\"/>\n    </g>\n    <g clip-path=\"url(#pc8d43cef4a)\">\n     <use xlink:href=\"#C0_0_bab621edb9\" x=\"298.825175\" y=\"303.635481\" style=\"fill: #a0cbe2; stroke: #a0cbe2\"/>\n    </g>\n    <g clip-path=\"url(#pc8d43cef4a)\">\n     <use xlink:href=\"#C0_0_bab621edb9\" x=\"311.714685\" y=\"320.618282\" style=\"fill: #a0cbe2; stroke: #a0cbe2\"/>\n    </g>\n    <g clip-path=\"url(#pc8d43cef4a)\">\n     <use xlink:href=\"#C0_0_bab621edb9\" x=\"331.048951\" y=\"329.109682\" style=\"fill: #a0cbe2; stroke: #a0cbe2\"/>\n    </g>\n    <g clip-path=\"url(#pc8d43cef4a)\">\n     <use xlink:href=\"#C0_0_bab621edb9\" x=\"331.048951\" y=\"197.492975\" style=\"fill: #a0cbe2; stroke: #a0cbe2\"/>\n    </g>\n    <g clip-path=\"url(#pc8d43cef4a)\">\n     <use xlink:href=\"#C0_0_bab621edb9\" x=\"356.827972\" y=\"193.247274\" style=\"fill: #a0cbe2; stroke: #a0cbe2\"/>\n    </g>\n    <g clip-path=\"url(#pc8d43cef4a)\">\n     <use xlink:href=\"#C0_0_bab621edb9\" x=\"408.386014\" y=\"155.035972\" style=\"fill: #a0cbe2; stroke: #a0cbe2\"/>\n    </g>\n    <g clip-path=\"url(#pc8d43cef4a)\">\n     <use xlink:href=\"#C0_0_bab621edb9\" x=\"382.606993\" y=\"172.018773\" style=\"fill: #a0cbe2; stroke: #a0cbe2\"/>\n    </g>\n    <g clip-path=\"url(#pc8d43cef4a)\">\n     <use xlink:href=\"#C0_0_bab621edb9\" x=\"376.162238\" y=\"218.721476\" style=\"fill: #a0cbe2; stroke: #a0cbe2\"/>\n    </g>\n    <g clip-path=\"url(#pc8d43cef4a)\">\n     <use xlink:href=\"#C0_0_bab621edb9\" x=\"369.717483\" y=\"146.544572\" style=\"fill: #a0cbe2; stroke: #a0cbe2\"/>\n    </g>\n    <g clip-path=\"url(#pc8d43cef4a)\">\n     <use xlink:href=\"#C0_0_bab621edb9\" x=\"111.927273\" y=\"176.264473\" style=\"fill: #a0cbe2; stroke: #a0cbe2\"/>\n    </g>\n    <g clip-path=\"url(#pc8d43cef4a)\">\n     <use xlink:href=\"#C0_0_bab621edb9\" x=\"105.482517\" y=\"218.721476\" style=\"fill: #a0cbe2; stroke: #a0cbe2\"/>\n    </g>\n    <g clip-path=\"url(#pc8d43cef4a)\">\n     <use xlink:href=\"#C0_0_bab621edb9\" x=\"86.148252\" y=\"244.195677\" style=\"fill: #a0cbe2; stroke: #a0cbe2\"/>\n    </g>\n    <g clip-path=\"url(#pc8d43cef4a)\">\n     <use xlink:href=\"#C0_0_bab621edb9\" x=\"118.372028\" y=\"282.406979\" style=\"fill: #a0cbe2; stroke: #a0cbe2\"/>\n    </g>\n    <g clip-path=\"url(#pc8d43cef4a)\">\n     <use xlink:href=\"#C0_0_bab621edb9\" x=\"41.034965\" y=\"299.38978\" style=\"fill: #a0cbe2; stroke: #a0cbe2\"/>\n    </g>\n    <g clip-path=\"url(#pc8d43cef4a)\">\n     <use xlink:href=\"#C0_0_bab621edb9\" x=\"195.709091\" y=\"299.38978\" style=\"fill: #a0cbe2; stroke: #a0cbe2\"/>\n    </g>\n    <g clip-path=\"url(#pc8d43cef4a)\">\n     <use xlink:href=\"#C0_0_bab621edb9\" x=\"182.81958\" y=\"155.035972\" style=\"fill: #a0cbe2; stroke: #a0cbe2\"/>\n    </g>\n    <g clip-path=\"url(#pc8d43cef4a)\">\n     <use xlink:href=\"#C0_0_bab621edb9\" x=\"182.81958\" y=\"227.212876\" style=\"fill: #a0cbe2; stroke: #a0cbe2\"/>\n    </g>\n    <g clip-path=\"url(#pc8d43cef4a)\">\n     <use xlink:href=\"#C0_0_bab621edb9\" x=\"215.043357\" y=\"91.350468\" style=\"fill: #a0cbe2; stroke: #a0cbe2\"/>\n    </g>\n    <g clip-path=\"url(#pc8d43cef4a)\">\n     <use xlink:href=\"#C0_0_bab621edb9\" x=\"111.927273\" y=\"295.14408\" style=\"fill: #a0cbe2; stroke: #a0cbe2\"/>\n    </g>\n    <g clip-path=\"url(#pc8d43cef4a)\">\n     <use xlink:href=\"#C0_0_bab621edb9\" x=\"157.040559\" y=\"282.406979\" style=\"fill: #a0cbe2; stroke: #a0cbe2\"/>\n    </g>\n    <g clip-path=\"url(#pc8d43cef4a)\">\n     <use xlink:href=\"#C0_0_bab621edb9\" x=\"131.261538\" y=\"273.915579\" style=\"fill: #a0cbe2; stroke: #a0cbe2\"/>\n    </g>\n    <g clip-path=\"url(#pc8d43cef4a)\">\n     <use xlink:href=\"#C0_0_bab621edb9\" x=\"182.81958\" y=\"261.178478\" style=\"fill: #a0cbe2; stroke: #a0cbe2\"/>\n    </g>\n    <g clip-path=\"url(#pc8d43cef4a)\">\n     <use xlink:href=\"#C0_0_bab621edb9\" x=\"176.374825\" y=\"273.915579\" style=\"fill: #a0cbe2; stroke: #a0cbe2\"/>\n    </g>\n    <g clip-path=\"url(#pc8d43cef4a)\">\n     <use xlink:href=\"#C0_0_bab621edb9\" x=\"157.040559\" y=\"261.178478\" style=\"fill: #a0cbe2; stroke: #a0cbe2\"/>\n    </g>\n    <g clip-path=\"url(#pc8d43cef4a)\">\n     <use xlink:href=\"#C0_0_bab621edb9\" x=\"176.374825\" y=\"286.65268\" style=\"fill: #a0cbe2; stroke: #a0cbe2\"/>\n    </g>\n    <g clip-path=\"url(#pc8d43cef4a)\">\n     <use xlink:href=\"#C0_0_bab621edb9\" x=\"137.706294\" y=\"286.65268\" style=\"fill: #a0cbe2; stroke: #a0cbe2\"/>\n    </g>\n    <g clip-path=\"url(#pc8d43cef4a)\">\n     <use xlink:href=\"#C0_0_bab621edb9\" x=\"144.151049\" y=\"265.424178\" style=\"fill: #a0cbe2; stroke: #a0cbe2\"/>\n    </g>\n    <g clip-path=\"url(#pc8d43cef4a)\">\n     <use xlink:href=\"#C0_0_bab621edb9\" x=\"131.261538\" y=\"299.38978\" style=\"fill: #a0cbe2; stroke: #a0cbe2\"/>\n    </g>\n   </g>\n   <g id=\"text_1\">\n    <!-- r202, n=100 -->\n    <g transform=\"translate(165.1625 27.184375)scale(0.25 -0.25)\">\n     <defs>\n      <path id=\"MicrosoftYaHei-72\" d=\"M 2400 2850 \nQ 2247 2959 1978 2959 \nQ 1622 2959 1390 2626 \nQ 1159 2294 1159 1750 \nL 1159 0 \nL 547 0 \nL 547 3456 \nL 1159 3456 \nL 1159 2753 \nL 1172 2753 \nQ 1434 3516 2078 3516 \nQ 2288 3516 2400 3469 \nL 2400 2850 \nz\n\" transform=\"scale(0.015625)\"/>\n      <path id=\"MicrosoftYaHei-32\" d=\"M 2666 3572 \nQ 2666 3963 2419 4186 \nQ 2172 4409 1747 4409 \nQ 1447 4409 1140 4256 \nQ 834 4103 569 3819 \nL 569 4413 \nQ 806 4659 1107 4790 \nQ 1409 4922 1816 4922 \nQ 2472 4922 2872 4570 \nQ 3272 4219 3272 3619 \nQ 3272 3084 3026 2693 \nQ 2781 2303 2188 1894 \nQ 1581 1475 1376 1294 \nQ 1172 1113 1090 947 \nQ 1009 781 1009 544 \nL 3416 544 \nL 3416 0 \nL 372 0 \nL 372 241 \nQ 372 659 486 951 \nQ 600 1244 862 1520 \nQ 1125 1797 1681 2184 \nQ 2250 2584 2458 2886 \nQ 2666 3188 2666 3572 \nz\n\" transform=\"scale(0.015625)\"/>\n      <path id=\"MicrosoftYaHei-30\" d=\"M 284 2325 \nQ 284 3606 709 4264 \nQ 1134 4922 1941 4922 \nQ 3478 4922 3478 2441 \nQ 3478 1216 3045 567 \nQ 2613 -81 1831 -81 \nQ 1094 -81 689 534 \nQ 284 1150 284 2325 \nz\nM 909 2353 \nQ 909 425 1888 425 \nQ 2850 425 2850 2384 \nQ 2850 4413 1906 4413 \nQ 909 4413 909 2353 \nz\n\" transform=\"scale(0.015625)\"/>\n      <path id=\"MicrosoftYaHei-2c\" d=\"M 1109 778 \nL 575 -888 \nL 131 -888 \nL 519 778 \nL 1109 778 \nz\n\" transform=\"scale(0.015625)\"/>\n      <path id=\"MicrosoftYaHei-20\" transform=\"scale(0.015625)\"/>\n      <path id=\"MicrosoftYaHei-6e\" d=\"M 3469 0 \nL 2859 0 \nL 2859 1966 \nQ 2859 3031 2081 3031 \nQ 1678 3031 1418 2731 \nQ 1159 2431 1159 1972 \nL 1159 0 \nL 547 0 \nL 547 3456 \nL 1159 3456 \nL 1159 2884 \nL 1172 2884 \nQ 1563 3538 2306 3538 \nQ 2875 3538 3172 3173 \nQ 3469 2809 3469 2113 \nL 3469 0 \nz\n\" transform=\"scale(0.015625)\"/>\n      <path id=\"MicrosoftYaHei-3d\" d=\"M 3972 2497 \nL 788 2497 \nL 788 2969 \nL 3972 2969 \nL 3972 2497 \nz\nM 3972 1053 \nL 788 1053 \nL 788 1525 \nL 3972 1525 \nL 3972 1053 \nz\n\" transform=\"scale(0.015625)\"/>\n      <path id=\"MicrosoftYaHei-31\" d=\"M 1781 0 \nL 1781 4141 \nQ 1638 3997 1295 3819 \nQ 953 3641 663 3569 \nL 663 4169 \nQ 1047 4275 1484 4508 \nQ 1922 4741 2156 4947 \nL 2388 4947 \nL 2388 0 \nL 1781 0 \nz\n\" transform=\"scale(0.015625)\"/>\n     </defs>\n     <use xlink:href=\"#MicrosoftYaHei-72\"/>\n     <use xlink:href=\"#MicrosoftYaHei-32\" x=\"38.183594\"/>\n     <use xlink:href=\"#MicrosoftYaHei-30\" x=\"96.826172\"/>\n     <use xlink:href=\"#MicrosoftYaHei-32\" x=\"155.46875\"/>\n     <use xlink:href=\"#MicrosoftYaHei-2c\" x=\"214.111328\"/>\n     <use xlink:href=\"#MicrosoftYaHei-20\" x=\"238.183594\"/>\n     <use xlink:href=\"#MicrosoftYaHei-6e\" x=\"267.773438\"/>\n     <use xlink:href=\"#MicrosoftYaHei-3d\" x=\"329.394531\"/>\n     <use xlink:href=\"#MicrosoftYaHei-31\" x=\"403.564453\"/>\n     <use xlink:href=\"#MicrosoftYaHei-30\" x=\"462.207031\"/>\n     <use xlink:href=\"#MicrosoftYaHei-30\" x=\"520.849609\"/>\n    </g>\n   </g>\n  </g>\n </g>\n <defs>\n  <clipPath id=\"pc8d43cef4a\">\n   <rect x=\"7.2\" y=\"33.184375\" width=\"460.8\" height=\"345.6\"/>\n  </clipPath>\n </defs>\n</svg>\n",
      "text/plain": [
       "<Figure size 640x480 with 1 Axes>"
      ]
     },
     "metadata": {},
     "output_type": "display_data"
    }
   ],
   "source": [
    "plot_node('r201', 100, node_size=50, font_size=25)"
   ]
  },
  {
   "cell_type": "code",
   "execution_count": 139,
   "metadata": {},
   "outputs": [
    {
     "data": {
      "image/svg+xml": "<?xml version=\"1.0\" encoding=\"utf-8\" standalone=\"no\"?>\n<!DOCTYPE svg PUBLIC \"-//W3C//DTD SVG 1.1//EN\"\n  \"http://www.w3.org/Graphics/SVG/1.1/DTD/svg11.dtd\">\n<svg xmlns:xlink=\"http://www.w3.org/1999/xlink\" width=\"475.2pt\" height=\"385.984375pt\" viewBox=\"0 0 475.2 385.984375\" xmlns=\"http://www.w3.org/2000/svg\" version=\"1.1\">\n <metadata>\n  <rdf:RDF xmlns:dc=\"http://purl.org/dc/elements/1.1/\" xmlns:cc=\"http://creativecommons.org/ns#\" xmlns:rdf=\"http://www.w3.org/1999/02/22-rdf-syntax-ns#\">\n   <cc:Work>\n    <dc:type rdf:resource=\"http://purl.org/dc/dcmitype/StillImage\"/>\n    <dc:date>2022-10-17T17:26:19.515543</dc:date>\n    <dc:format>image/svg+xml</dc:format>\n    <dc:creator>\n     <cc:Agent>\n      <dc:title>Matplotlib v3.5.3, https://matplotlib.org/</dc:title>\n     </cc:Agent>\n    </dc:creator>\n   </cc:Work>\n  </rdf:RDF>\n </metadata>\n <defs>\n  <style type=\"text/css\">*{stroke-linejoin: round; stroke-linecap: butt}</style>\n </defs>\n <g id=\"figure_1\">\n  <g id=\"patch_1\">\n   <path d=\"M 0 385.984375 \nL 475.2 385.984375 \nL 475.2 0 \nL 0 0 \nz\n\" style=\"fill: #ffffff\"/>\n  </g>\n  <g id=\"axes_1\">\n   <g id=\"PathCollection_1\">\n    <defs>\n     <path id=\"C0_0_5f27dafd62\" d=\"M 0 3.535534 \nC 0.937635 3.535534 1.836992 3.163008 2.5 2.5 \nC 3.163008 1.836992 3.535534 0.937635 3.535534 -0 \nC 3.535534 -0.937635 3.163008 -1.836992 2.5 -2.5 \nC 1.836992 -3.163008 0.937635 -3.535534 0 -3.535534 \nC -0.937635 -3.535534 -1.836992 -3.163008 -2.5 -2.5 \nC -3.163008 -1.836992 -3.535534 -0.937635 -3.535534 0 \nC -3.535534 0.937635 -3.163008 1.836992 -2.5 2.5 \nC -1.836992 3.163008 -0.937635 3.535534 0 3.535534 \nz\n\"/>\n    </defs>\n    <g clip-path=\"url(#p544da32d10)\">\n     <use xlink:href=\"#C0_0_5f27dafd62\" x=\"204.52823\" y=\"182.995461\" style=\"fill: #a0cbe2; stroke: #a0cbe2\"/>\n    </g>\n    <g clip-path=\"url(#p544da32d10)\">\n     <use xlink:href=\"#C0_0_5f27dafd62\" x=\"204.52823\" y=\"182.995461\" style=\"fill: #ff0000; stroke: #ff0000\"/>\n    </g>\n    <g clip-path=\"url(#p544da32d10)\">\n     <use xlink:href=\"#C0_0_5f27dafd62\" x=\"138.384689\" y=\"48.893466\" style=\"fill: #a0cbe2; stroke: #a0cbe2\"/>\n    </g>\n    <g clip-path=\"url(#p544da32d10)\">\n     <use xlink:href=\"#C0_0_5f27dafd62\" x=\"125.155981\" y=\"87.208322\" style=\"fill: #a0cbe2; stroke: #a0cbe2\"/>\n    </g>\n    <g clip-path=\"url(#p544da32d10)\">\n     <use xlink:href=\"#C0_0_5f27dafd62\" x=\"125.155981\" y=\"48.893466\" style=\"fill: #a0cbe2; stroke: #a0cbe2\"/>\n    </g>\n    <g clip-path=\"url(#p544da32d10)\">\n     <use xlink:href=\"#C0_0_5f27dafd62\" x=\"116.336842\" y=\"68.050894\" style=\"fill: #a0cbe2; stroke: #a0cbe2\"/>\n    </g>\n    <g clip-path=\"url(#p544da32d10)\">\n     <use xlink:href=\"#C0_0_5f27dafd62\" x=\"116.336842\" y=\"48.893466\" style=\"fill: #a0cbe2; stroke: #a0cbe2\"/>\n    </g>\n    <g clip-path=\"url(#p544da32d10)\">\n     <use xlink:href=\"#C0_0_5f27dafd62\" x=\"107.517703\" y=\"87.208322\" style=\"fill: #a0cbe2; stroke: #a0cbe2\"/>\n    </g>\n    <g clip-path=\"url(#p544da32d10)\">\n     <use xlink:href=\"#C0_0_5f27dafd62\" x=\"94.288995\" y=\"87.208322\" style=\"fill: #a0cbe2; stroke: #a0cbe2\"/>\n    </g>\n    <g clip-path=\"url(#p544da32d10)\">\n     <use xlink:href=\"#C0_0_5f27dafd62\" x=\"94.288995\" y=\"68.050894\" style=\"fill: #a0cbe2; stroke: #a0cbe2\"/>\n    </g>\n    <g clip-path=\"url(#p544da32d10)\">\n     <use xlink:href=\"#C0_0_5f27dafd62\" x=\"72.241148\" y=\"240.467745\" style=\"fill: #a0cbe2; stroke: #a0cbe2\"/>\n    </g>\n    <g clip-path=\"url(#p544da32d10)\">\n     <use xlink:href=\"#C0_0_5f27dafd62\" x=\"72.241148\" y=\"221.310317\" style=\"fill: #a0cbe2; stroke: #a0cbe2\"/>\n    </g>\n    <g clip-path=\"url(#p544da32d10)\">\n     <use xlink:href=\"#C0_0_5f27dafd62\" x=\"63.42201\" y=\"221.310317\" style=\"fill: #a0cbe2; stroke: #a0cbe2\"/>\n    </g>\n    <g clip-path=\"url(#p544da32d10)\">\n     <use xlink:href=\"#C0_0_5f27dafd62\" x=\"63.42201\" y=\"202.152889\" style=\"fill: #a0cbe2; stroke: #a0cbe2\"/>\n    </g>\n    <g clip-path=\"url(#p544da32d10)\">\n     <use xlink:href=\"#C0_0_5f27dafd62\" x=\"50.193301\" y=\"240.467745\" style=\"fill: #a0cbe2; stroke: #a0cbe2\"/>\n    </g>\n    <g clip-path=\"url(#p544da32d10)\">\n     <use xlink:href=\"#C0_0_5f27dafd62\" x=\"50.193301\" y=\"202.152889\" style=\"fill: #a0cbe2; stroke: #a0cbe2\"/>\n    </g>\n    <g clip-path=\"url(#p544da32d10)\">\n     <use xlink:href=\"#C0_0_5f27dafd62\" x=\"36.964593\" y=\"221.310317\" style=\"fill: #a0cbe2; stroke: #a0cbe2\"/>\n    </g>\n    <g clip-path=\"url(#p544da32d10)\">\n     <use xlink:href=\"#C0_0_5f27dafd62\" x=\"28.145455\" y=\"221.310317\" style=\"fill: #a0cbe2; stroke: #a0cbe2\"/>\n    </g>\n    <g clip-path=\"url(#p544da32d10)\">\n     <use xlink:href=\"#C0_0_5f27dafd62\" x=\"28.145455\" y=\"202.152889\" style=\"fill: #a0cbe2; stroke: #a0cbe2\"/>\n    </g>\n    <g clip-path=\"url(#p544da32d10)\">\n     <use xlink:href=\"#C0_0_5f27dafd62\" x=\"222.166507\" y=\"355.412313\" style=\"fill: #a0cbe2; stroke: #a0cbe2\"/>\n    </g>\n    <g clip-path=\"url(#p544da32d10)\">\n     <use xlink:href=\"#C0_0_5f27dafd62\" x=\"213.347368\" y=\"336.254885\" style=\"fill: #a0cbe2; stroke: #a0cbe2\"/>\n    </g>\n    <g clip-path=\"url(#p544da32d10)\">\n     <use xlink:href=\"#C0_0_5f27dafd62\" x=\"213.347368\" y=\"317.097457\" style=\"fill: #a0cbe2; stroke: #a0cbe2\"/>\n    </g>\n    <g clip-path=\"url(#p544da32d10)\">\n     <use xlink:href=\"#C0_0_5f27dafd62\" x=\"204.52823\" y=\"355.412313\" style=\"fill: #a0cbe2; stroke: #a0cbe2\"/>\n    </g>\n    <g clip-path=\"url(#p544da32d10)\">\n     <use xlink:href=\"#C0_0_5f27dafd62\" x=\"204.52823\" y=\"317.097457\" style=\"fill: #a0cbe2; stroke: #a0cbe2\"/>\n    </g>\n    <g clip-path=\"url(#p544da32d10)\">\n     <use xlink:href=\"#C0_0_5f27dafd62\" x=\"195.709091\" y=\"355.412313\" style=\"fill: #a0cbe2; stroke: #a0cbe2\"/>\n    </g>\n    <g clip-path=\"url(#p544da32d10)\">\n     <use xlink:href=\"#C0_0_5f27dafd62\" x=\"195.709091\" y=\"317.097457\" style=\"fill: #a0cbe2; stroke: #a0cbe2\"/>\n    </g>\n    <g clip-path=\"url(#p544da32d10)\">\n     <use xlink:href=\"#C0_0_5f27dafd62\" x=\"182.480383\" y=\"355.412313\" style=\"fill: #a0cbe2; stroke: #a0cbe2\"/>\n    </g>\n    <g clip-path=\"url(#p544da32d10)\">\n     <use xlink:href=\"#C0_0_5f27dafd62\" x=\"447.054545\" y=\"259.625173\" style=\"fill: #a0cbe2; stroke: #a0cbe2\"/>\n    </g>\n    <g clip-path=\"url(#p544da32d10)\">\n     <use xlink:href=\"#C0_0_5f27dafd62\" x=\"447.054545\" y=\"240.467745\" style=\"fill: #a0cbe2; stroke: #a0cbe2\"/>\n    </g>\n    <g clip-path=\"url(#p544da32d10)\">\n     <use xlink:href=\"#C0_0_5f27dafd62\" x=\"433.825837\" y=\"259.625173\" style=\"fill: #a0cbe2; stroke: #a0cbe2\"/>\n    </g>\n    <g clip-path=\"url(#p544da32d10)\">\n     <use xlink:href=\"#C0_0_5f27dafd62\" x=\"425.006699\" y=\"240.467745\" style=\"fill: #a0cbe2; stroke: #a0cbe2\"/>\n    </g>\n    <g clip-path=\"url(#p544da32d10)\">\n     <use xlink:href=\"#C0_0_5f27dafd62\" x=\"416.18756\" y=\"259.625173\" style=\"fill: #a0cbe2; stroke: #a0cbe2\"/>\n    </g>\n    <g clip-path=\"url(#p544da32d10)\">\n     <use xlink:href=\"#C0_0_5f27dafd62\" x=\"416.18756\" y=\"240.467745\" style=\"fill: #a0cbe2; stroke: #a0cbe2\"/>\n    </g>\n    <g clip-path=\"url(#p544da32d10)\">\n     <use xlink:href=\"#C0_0_5f27dafd62\" x=\"411.77799\" y=\"259.625173\" style=\"fill: #a0cbe2; stroke: #a0cbe2\"/>\n    </g>\n    <g clip-path=\"url(#p544da32d10)\">\n     <use xlink:href=\"#C0_0_5f27dafd62\" x=\"402.958852\" y=\"278.782601\" style=\"fill: #a0cbe2; stroke: #a0cbe2\"/>\n    </g>\n    <g clip-path=\"url(#p544da32d10)\">\n     <use xlink:href=\"#C0_0_5f27dafd62\" x=\"402.958852\" y=\"240.467745\" style=\"fill: #a0cbe2; stroke: #a0cbe2\"/>\n    </g>\n    <g clip-path=\"url(#p544da32d10)\">\n     <use xlink:href=\"#C0_0_5f27dafd62\" x=\"323.586603\" y=\"48.893466\" style=\"fill: #a0cbe2; stroke: #a0cbe2\"/>\n    </g>\n    <g clip-path=\"url(#p544da32d10)\">\n     <use xlink:href=\"#C0_0_5f27dafd62\" x=\"314.767464\" y=\"48.893466\" style=\"fill: #a0cbe2; stroke: #a0cbe2\"/>\n    </g>\n    <g clip-path=\"url(#p544da32d10)\">\n     <use xlink:href=\"#C0_0_5f27dafd62\" x=\"314.767464\" y=\"60.387923\" style=\"fill: #a0cbe2; stroke: #a0cbe2\"/>\n    </g>\n    <g clip-path=\"url(#p544da32d10)\">\n     <use xlink:href=\"#C0_0_5f27dafd62\" x=\"301.538756\" y=\"68.050894\" style=\"fill: #a0cbe2; stroke: #a0cbe2\"/>\n    </g>\n    <g clip-path=\"url(#p544da32d10)\">\n     <use xlink:href=\"#C0_0_5f27dafd62\" x=\"292.719617\" y=\"68.050894\" style=\"fill: #a0cbe2; stroke: #a0cbe2\"/>\n    </g>\n    <g clip-path=\"url(#p544da32d10)\">\n     <use xlink:href=\"#C0_0_5f27dafd62\" x=\"292.719617\" y=\"48.893466\" style=\"fill: #a0cbe2; stroke: #a0cbe2\"/>\n    </g>\n    <g clip-path=\"url(#p544da32d10)\">\n     <use xlink:href=\"#C0_0_5f27dafd62\" x=\"283.900478\" y=\"87.208322\" style=\"fill: #a0cbe2; stroke: #a0cbe2\"/>\n    </g>\n    <g clip-path=\"url(#p544da32d10)\">\n     <use xlink:href=\"#C0_0_5f27dafd62\" x=\"270.67177\" y=\"68.050894\" style=\"fill: #a0cbe2; stroke: #a0cbe2\"/>\n    </g>\n    <g clip-path=\"url(#p544da32d10)\">\n     <use xlink:href=\"#C0_0_5f27dafd62\" x=\"270.67177\" y=\"48.893466\" style=\"fill: #a0cbe2; stroke: #a0cbe2\"/>\n    </g>\n    <g clip-path=\"url(#p544da32d10)\">\n     <use xlink:href=\"#C0_0_5f27dafd62\" x=\"270.67177\" y=\"60.387923\" style=\"fill: #a0cbe2; stroke: #a0cbe2\"/>\n    </g>\n    <g clip-path=\"url(#p544da32d10)\">\n     <use xlink:href=\"#C0_0_5f27dafd62\" x=\"116.336842\" y=\"60.387923\" style=\"fill: #a0cbe2; stroke: #a0cbe2\"/>\n    </g>\n    <g clip-path=\"url(#p544da32d10)\">\n     <use xlink:href=\"#C0_0_5f27dafd62\" x=\"107.517703\" y=\"68.050894\" style=\"fill: #a0cbe2; stroke: #a0cbe2\"/>\n    </g>\n    <g clip-path=\"url(#p544da32d10)\">\n     <use xlink:href=\"#C0_0_5f27dafd62\" x=\"36.964593\" y=\"202.152889\" style=\"fill: #a0cbe2; stroke: #a0cbe2\"/>\n    </g>\n    <g clip-path=\"url(#p544da32d10)\">\n     <use xlink:href=\"#C0_0_5f27dafd62\" x=\"213.347368\" y=\"355.412313\" style=\"fill: #a0cbe2; stroke: #a0cbe2\"/>\n    </g>\n    <g clip-path=\"url(#p544da32d10)\">\n     <use xlink:href=\"#C0_0_5f27dafd62\" x=\"213.347368\" y=\"328.591914\" style=\"fill: #a0cbe2; stroke: #a0cbe2\"/>\n    </g>\n    <g clip-path=\"url(#p544da32d10)\">\n     <use xlink:href=\"#C0_0_5f27dafd62\" x=\"345.63445\" y=\"240.467745\" style=\"fill: #a0cbe2; stroke: #a0cbe2\"/>\n    </g>\n    <g clip-path=\"url(#p544da32d10)\">\n     <use xlink:href=\"#C0_0_5f27dafd62\" x=\"270.67177\" y=\"297.940029\" style=\"fill: #a0cbe2; stroke: #a0cbe2\"/>\n    </g>\n    <g clip-path=\"url(#p544da32d10)\">\n     <use xlink:href=\"#C0_0_5f27dafd62\" x=\"138.384689\" y=\"259.625173\" style=\"fill: #a0cbe2; stroke: #a0cbe2\"/>\n    </g>\n    <g clip-path=\"url(#p544da32d10)\">\n     <use xlink:href=\"#C0_0_5f27dafd62\" x=\"116.336842\" y=\"182.995461\" style=\"fill: #a0cbe2; stroke: #a0cbe2\"/>\n    </g>\n    <g clip-path=\"url(#p544da32d10)\">\n     <use xlink:href=\"#C0_0_5f27dafd62\" x=\"270.67177\" y=\"144.680606\" style=\"fill: #a0cbe2; stroke: #a0cbe2\"/>\n    </g>\n    <g clip-path=\"url(#p544da32d10)\">\n     <use xlink:href=\"#C0_0_5f27dafd62\" x=\"160.432536\" y=\"144.680606\" style=\"fill: #a0cbe2; stroke: #a0cbe2\"/>\n    </g>\n    <g clip-path=\"url(#p544da32d10)\">\n     <use xlink:href=\"#C0_0_5f27dafd62\" x=\"248.623923\" y=\"240.467745\" style=\"fill: #a0cbe2; stroke: #a0cbe2\"/>\n    </g>\n    <g clip-path=\"url(#p544da32d10)\">\n     <use xlink:href=\"#C0_0_5f27dafd62\" x=\"160.432536\" y=\"278.782601\" style=\"fill: #a0cbe2; stroke: #a0cbe2\"/>\n    </g>\n    <g clip-path=\"url(#p544da32d10)\">\n     <use xlink:href=\"#C0_0_5f27dafd62\" x=\"94.288995\" y=\"336.254885\" style=\"fill: #a0cbe2; stroke: #a0cbe2\"/>\n    </g>\n    <g clip-path=\"url(#p544da32d10)\">\n     <use xlink:href=\"#C0_0_5f27dafd62\" x=\"72.241148\" y=\"297.940029\" style=\"fill: #a0cbe2; stroke: #a0cbe2\"/>\n    </g>\n    <g clip-path=\"url(#p544da32d10)\">\n     <use xlink:href=\"#C0_0_5f27dafd62\" x=\"94.288995\" y=\"144.680606\" style=\"fill: #a0cbe2; stroke: #a0cbe2\"/>\n    </g>\n    <g clip-path=\"url(#p544da32d10)\">\n     <use xlink:href=\"#C0_0_5f27dafd62\" x=\"226.576077\" y=\"125.523178\" style=\"fill: #a0cbe2; stroke: #a0cbe2\"/>\n    </g>\n    <g clip-path=\"url(#p544da32d10)\">\n     <use xlink:href=\"#C0_0_5f27dafd62\" x=\"314.767464\" y=\"240.467745\" style=\"fill: #a0cbe2; stroke: #a0cbe2\"/>\n    </g>\n    <g clip-path=\"url(#p544da32d10)\">\n     <use xlink:href=\"#C0_0_5f27dafd62\" x=\"314.767464\" y=\"297.940029\" style=\"fill: #a0cbe2; stroke: #a0cbe2\"/>\n    </g>\n    <g clip-path=\"url(#p544da32d10)\">\n     <use xlink:href=\"#C0_0_5f27dafd62\" x=\"226.576077\" y=\"259.625173\" style=\"fill: #a0cbe2; stroke: #a0cbe2\"/>\n    </g>\n    <g clip-path=\"url(#p544da32d10)\">\n     <use xlink:href=\"#C0_0_5f27dafd62\" x=\"182.480383\" y=\"221.310317\" style=\"fill: #a0cbe2; stroke: #a0cbe2\"/>\n    </g>\n    <g clip-path=\"url(#p544da32d10)\">\n     <use xlink:href=\"#C0_0_5f27dafd62\" x=\"208.937799\" y=\"232.804774\" style=\"fill: #a0cbe2; stroke: #a0cbe2\"/>\n    </g>\n    <g clip-path=\"url(#p544da32d10)\">\n     <use xlink:href=\"#C0_0_5f27dafd62\" x=\"310.357895\" y=\"213.647346\" style=\"fill: #a0cbe2; stroke: #a0cbe2\"/>\n    </g>\n    <g clip-path=\"url(#p544da32d10)\">\n     <use xlink:href=\"#C0_0_5f27dafd62\" x=\"204.52823\" y=\"144.680606\" style=\"fill: #a0cbe2; stroke: #a0cbe2\"/>\n    </g>\n    <g clip-path=\"url(#p544da32d10)\">\n     <use xlink:href=\"#C0_0_5f27dafd62\" x=\"164.842105\" y=\"175.33249\" style=\"fill: #a0cbe2; stroke: #a0cbe2\"/>\n    </g>\n    <g clip-path=\"url(#p544da32d10)\">\n     <use xlink:href=\"#C0_0_5f27dafd62\" x=\"182.480383\" y=\"110.197235\" style=\"fill: #a0cbe2; stroke: #a0cbe2\"/>\n    </g>\n    <g clip-path=\"url(#p544da32d10)\">\n     <use xlink:href=\"#C0_0_5f27dafd62\" x=\"314.767464\" y=\"163.838034\" style=\"fill: #a0cbe2; stroke: #a0cbe2\"/>\n    </g>\n    <g clip-path=\"url(#p544da32d10)\">\n     <use xlink:href=\"#C0_0_5f27dafd62\" x=\"305.948325\" y=\"125.523178\" style=\"fill: #a0cbe2; stroke: #a0cbe2\"/>\n    </g>\n    <g clip-path=\"url(#p544da32d10)\">\n     <use xlink:href=\"#C0_0_5f27dafd62\" x=\"36.964593\" y=\"144.680606\" style=\"fill: #a0cbe2; stroke: #a0cbe2\"/>\n    </g>\n    <g clip-path=\"url(#p544da32d10)\">\n     <use xlink:href=\"#C0_0_5f27dafd62\" x=\"116.336842\" y=\"297.940029\" style=\"fill: #a0cbe2; stroke: #a0cbe2\"/>\n    </g>\n    <g clip-path=\"url(#p544da32d10)\">\n     <use xlink:href=\"#C0_0_5f27dafd62\" x=\"50.193301\" y=\"355.412313\" style=\"fill: #a0cbe2; stroke: #a0cbe2\"/>\n    </g>\n    <g clip-path=\"url(#p544da32d10)\">\n     <use xlink:href=\"#C0_0_5f27dafd62\" x=\"292.719617\" y=\"328.591914\" style=\"fill: #a0cbe2; stroke: #a0cbe2\"/>\n    </g>\n    <g clip-path=\"url(#p544da32d10)\">\n     <use xlink:href=\"#C0_0_5f27dafd62\" x=\"129.56555\" y=\"363.075284\" style=\"fill: #a0cbe2; stroke: #a0cbe2\"/>\n    </g>\n    <g clip-path=\"url(#p544da32d10)\">\n     <use xlink:href=\"#C0_0_5f27dafd62\" x=\"63.42201\" y=\"160.006548\" style=\"fill: #a0cbe2; stroke: #a0cbe2\"/>\n    </g>\n    <g clip-path=\"url(#p544da32d10)\">\n     <use xlink:href=\"#C0_0_5f27dafd62\" x=\"54.602871\" y=\"114.028721\" style=\"fill: #a0cbe2; stroke: #a0cbe2\"/>\n    </g>\n    <g clip-path=\"url(#p544da32d10)\">\n     <use xlink:href=\"#C0_0_5f27dafd62\" x=\"235.395215\" y=\"194.489918\" style=\"fill: #a0cbe2; stroke: #a0cbe2\"/>\n    </g>\n    <g clip-path=\"url(#p544da32d10)\">\n     <use xlink:href=\"#C0_0_5f27dafd62\" x=\"244.214354\" y=\"152.343577\" style=\"fill: #a0cbe2; stroke: #a0cbe2\"/>\n    </g>\n    <g clip-path=\"url(#p544da32d10)\">\n     <use xlink:href=\"#C0_0_5f27dafd62\" x=\"147.203828\" y=\"209.815861\" style=\"fill: #a0cbe2; stroke: #a0cbe2\"/>\n    </g>\n    <g clip-path=\"url(#p544da32d10)\">\n     <use xlink:href=\"#C0_0_5f27dafd62\" x=\"191.299522\" y=\"255.793688\" style=\"fill: #a0cbe2; stroke: #a0cbe2\"/>\n    </g>\n    <g clip-path=\"url(#p544da32d10)\">\n     <use xlink:href=\"#C0_0_5f27dafd62\" x=\"279.490909\" y=\"263.456659\" style=\"fill: #a0cbe2; stroke: #a0cbe2\"/>\n    </g>\n    <g clip-path=\"url(#p544da32d10)\">\n     <use xlink:href=\"#C0_0_5f27dafd62\" x=\"305.948325\" y=\"286.445572\" style=\"fill: #a0cbe2; stroke: #a0cbe2\"/>\n    </g>\n    <g clip-path=\"url(#p544da32d10)\">\n     <use xlink:href=\"#C0_0_5f27dafd62\" x=\"120.746411\" y=\"282.614087\" style=\"fill: #a0cbe2; stroke: #a0cbe2\"/>\n    </g>\n    <g clip-path=\"url(#p544da32d10)\">\n     <use xlink:href=\"#C0_0_5f27dafd62\" x=\"81.060287\" y=\"282.614087\" style=\"fill: #a0cbe2; stroke: #a0cbe2\"/>\n    </g>\n    <g clip-path=\"url(#p544da32d10)\">\n     <use xlink:href=\"#C0_0_5f27dafd62\" x=\"133.97512\" y=\"152.343577\" style=\"fill: #a0cbe2; stroke: #a0cbe2\"/>\n    </g>\n    <g clip-path=\"url(#p544da32d10)\">\n     <use xlink:href=\"#C0_0_5f27dafd62\" x=\"323.586603\" y=\"355.412313\" style=\"fill: #a0cbe2; stroke: #a0cbe2\"/>\n    </g>\n    <g clip-path=\"url(#p544da32d10)\">\n     <use xlink:href=\"#C0_0_5f27dafd62\" x=\"191.299522\" y=\"194.489918\" style=\"fill: #a0cbe2; stroke: #a0cbe2\"/>\n    </g>\n    <g clip-path=\"url(#p544da32d10)\">\n     <use xlink:href=\"#C0_0_5f27dafd62\" x=\"244.214354\" y=\"213.647346\" style=\"fill: #a0cbe2; stroke: #a0cbe2\"/>\n    </g>\n    <g clip-path=\"url(#p544da32d10)\">\n     <use xlink:href=\"#C0_0_5f27dafd62\" x=\"261.852632\" y=\"209.815861\" style=\"fill: #a0cbe2; stroke: #a0cbe2\"/>\n    </g>\n    <g clip-path=\"url(#p544da32d10)\">\n     <use xlink:href=\"#C0_0_5f27dafd62\" x=\"297.129187\" y=\"175.33249\" style=\"fill: #a0cbe2; stroke: #a0cbe2\"/>\n    </g>\n    <g clip-path=\"url(#p544da32d10)\">\n     <use xlink:href=\"#C0_0_5f27dafd62\" x=\"279.490909\" y=\"190.658433\" style=\"fill: #a0cbe2; stroke: #a0cbe2\"/>\n    </g>\n    <g clip-path=\"url(#p544da32d10)\">\n     <use xlink:href=\"#C0_0_5f27dafd62\" x=\"275.08134\" y=\"232.804774\" style=\"fill: #a0cbe2; stroke: #a0cbe2\"/>\n    </g>\n    <g clip-path=\"url(#p544da32d10)\">\n     <use xlink:href=\"#C0_0_5f27dafd62\" x=\"270.67177\" y=\"167.669519\" style=\"fill: #a0cbe2; stroke: #a0cbe2\"/>\n    </g>\n    <g clip-path=\"url(#p544da32d10)\">\n     <use xlink:href=\"#C0_0_5f27dafd62\" x=\"45.783732\" y=\"305.603\" style=\"fill: #a0cbe2; stroke: #a0cbe2\"/>\n    </g>\n    <g clip-path=\"url(#p544da32d10)\">\n     <use xlink:href=\"#C0_0_5f27dafd62\" x=\"142.794258\" y=\"175.33249\" style=\"fill: #a0cbe2; stroke: #a0cbe2\"/>\n    </g>\n    <g clip-path=\"url(#p544da32d10)\">\n     <use xlink:href=\"#C0_0_5f27dafd62\" x=\"142.794258\" y=\"240.467745\" style=\"fill: #a0cbe2; stroke: #a0cbe2\"/>\n    </g>\n    <g clip-path=\"url(#p544da32d10)\">\n     <use xlink:href=\"#C0_0_5f27dafd62\" x=\"164.842105\" y=\"117.860206\" style=\"fill: #a0cbe2; stroke: #a0cbe2\"/>\n    </g>\n   </g>\n   <g id=\"text_1\">\n    <!-- rc101, n=100 -->\n    <g transform=\"translate(159.066797 27.184375)scale(0.25 -0.25)\">\n     <defs>\n      <path id=\"MicrosoftYaHei-72\" d=\"M 2400 2850 \nQ 2247 2959 1978 2959 \nQ 1622 2959 1390 2626 \nQ 1159 2294 1159 1750 \nL 1159 0 \nL 547 0 \nL 547 3456 \nL 1159 3456 \nL 1159 2753 \nL 1172 2753 \nQ 1434 3516 2078 3516 \nQ 2288 3516 2400 3469 \nL 2400 2850 \nz\n\" transform=\"scale(0.015625)\"/>\n      <path id=\"MicrosoftYaHei-63\" d=\"M 2934 156 \nQ 2538 -81 1978 -81 \nQ 1228 -81 772 400 \nQ 316 881 316 1647 \nQ 316 2497 808 3017 \nQ 1300 3538 2125 3538 \nQ 2600 3538 2938 3369 \nL 2938 2763 \nQ 2572 3031 2125 3031 \nQ 1600 3031 1270 2667 \nQ 941 2303 941 1697 \nQ 941 1100 1252 762 \nQ 1563 425 2091 425 \nQ 2538 425 2934 719 \nL 2934 156 \nz\n\" transform=\"scale(0.015625)\"/>\n      <path id=\"MicrosoftYaHei-31\" d=\"M 1781 0 \nL 1781 4141 \nQ 1638 3997 1295 3819 \nQ 953 3641 663 3569 \nL 663 4169 \nQ 1047 4275 1484 4508 \nQ 1922 4741 2156 4947 \nL 2388 4947 \nL 2388 0 \nL 1781 0 \nz\n\" transform=\"scale(0.015625)\"/>\n      <path id=\"MicrosoftYaHei-30\" d=\"M 284 2325 \nQ 284 3606 709 4264 \nQ 1134 4922 1941 4922 \nQ 3478 4922 3478 2441 \nQ 3478 1216 3045 567 \nQ 2613 -81 1831 -81 \nQ 1094 -81 689 534 \nQ 284 1150 284 2325 \nz\nM 909 2353 \nQ 909 425 1888 425 \nQ 2850 425 2850 2384 \nQ 2850 4413 1906 4413 \nQ 909 4413 909 2353 \nz\n\" transform=\"scale(0.015625)\"/>\n      <path id=\"MicrosoftYaHei-2c\" d=\"M 1109 778 \nL 575 -888 \nL 131 -888 \nL 519 778 \nL 1109 778 \nz\n\" transform=\"scale(0.015625)\"/>\n      <path id=\"MicrosoftYaHei-20\" transform=\"scale(0.015625)\"/>\n      <path id=\"MicrosoftYaHei-6e\" d=\"M 3469 0 \nL 2859 0 \nL 2859 1966 \nQ 2859 3031 2081 3031 \nQ 1678 3031 1418 2731 \nQ 1159 2431 1159 1972 \nL 1159 0 \nL 547 0 \nL 547 3456 \nL 1159 3456 \nL 1159 2884 \nL 1172 2884 \nQ 1563 3538 2306 3538 \nQ 2875 3538 3172 3173 \nQ 3469 2809 3469 2113 \nL 3469 0 \nz\n\" transform=\"scale(0.015625)\"/>\n      <path id=\"MicrosoftYaHei-3d\" d=\"M 3972 2497 \nL 788 2497 \nL 788 2969 \nL 3972 2969 \nL 3972 2497 \nz\nM 3972 1053 \nL 788 1053 \nL 788 1525 \nL 3972 1525 \nL 3972 1053 \nz\n\" transform=\"scale(0.015625)\"/>\n     </defs>\n     <use xlink:href=\"#MicrosoftYaHei-72\"/>\n     <use xlink:href=\"#MicrosoftYaHei-63\" x=\"36.808594\"/>\n     <use xlink:href=\"#MicrosoftYaHei-31\" x=\"86.955078\"/>\n     <use xlink:href=\"#MicrosoftYaHei-30\" x=\"145.597656\"/>\n     <use xlink:href=\"#MicrosoftYaHei-31\" x=\"204.240234\"/>\n     <use xlink:href=\"#MicrosoftYaHei-2c\" x=\"262.882812\"/>\n     <use xlink:href=\"#MicrosoftYaHei-20\" x=\"286.955078\"/>\n     <use xlink:href=\"#MicrosoftYaHei-6e\" x=\"316.544922\"/>\n     <use xlink:href=\"#MicrosoftYaHei-3d\" x=\"378.166016\"/>\n     <use xlink:href=\"#MicrosoftYaHei-31\" x=\"452.335938\"/>\n     <use xlink:href=\"#MicrosoftYaHei-30\" x=\"510.978516\"/>\n     <use xlink:href=\"#MicrosoftYaHei-30\" x=\"569.621094\"/>\n    </g>\n   </g>\n  </g>\n </g>\n <defs>\n  <clipPath id=\"p544da32d10\">\n   <rect x=\"7.2\" y=\"33.184375\" width=\"460.8\" height=\"345.6\"/>\n  </clipPath>\n </defs>\n</svg>\n",
      "text/plain": [
       "<Figure size 640x480 with 1 Axes>"
      ]
     },
     "metadata": {},
     "output_type": "display_data"
    }
   ],
   "source": [
    "plot_node('rc101', 100, node_size=50, font_size=25)"
   ]
  },
  {
   "cell_type": "code",
   "execution_count": 140,
   "metadata": {},
   "outputs": [
    {
     "data": {
      "image/svg+xml": "<?xml version=\"1.0\" encoding=\"utf-8\" standalone=\"no\"?>\n<!DOCTYPE svg PUBLIC \"-//W3C//DTD SVG 1.1//EN\"\n  \"http://www.w3.org/Graphics/SVG/1.1/DTD/svg11.dtd\">\n<svg xmlns:xlink=\"http://www.w3.org/1999/xlink\" width=\"475.2pt\" height=\"385.984375pt\" viewBox=\"0 0 475.2 385.984375\" xmlns=\"http://www.w3.org/2000/svg\" version=\"1.1\">\n <metadata>\n  <rdf:RDF xmlns:dc=\"http://purl.org/dc/elements/1.1/\" xmlns:cc=\"http://creativecommons.org/ns#\" xmlns:rdf=\"http://www.w3.org/1999/02/22-rdf-syntax-ns#\">\n   <cc:Work>\n    <dc:type rdf:resource=\"http://purl.org/dc/dcmitype/StillImage\"/>\n    <dc:date>2022-10-17T17:26:20.481958</dc:date>\n    <dc:format>image/svg+xml</dc:format>\n    <dc:creator>\n     <cc:Agent>\n      <dc:title>Matplotlib v3.5.3, https://matplotlib.org/</dc:title>\n     </cc:Agent>\n    </dc:creator>\n   </cc:Work>\n  </rdf:RDF>\n </metadata>\n <defs>\n  <style type=\"text/css\">*{stroke-linejoin: round; stroke-linecap: butt}</style>\n </defs>\n <g id=\"figure_1\">\n  <g id=\"patch_1\">\n   <path d=\"M 0 385.984375 \nL 475.2 385.984375 \nL 475.2 0 \nL 0 0 \nz\n\" style=\"fill: #ffffff\"/>\n  </g>\n  <g id=\"axes_1\">\n   <g id=\"PathCollection_1\">\n    <defs>\n     <path id=\"C0_0_10ddf20da0\" d=\"M 0 3.535534 \nC 0.937635 3.535534 1.836992 3.163008 2.5 2.5 \nC 3.163008 1.836992 3.535534 0.937635 3.535534 -0 \nC 3.535534 -0.937635 3.163008 -1.836992 2.5 -2.5 \nC 1.836992 -3.163008 0.937635 -3.535534 0 -3.535534 \nC -0.937635 -3.535534 -1.836992 -3.163008 -2.5 -2.5 \nC -3.163008 -1.836992 -3.535534 -0.937635 -3.535534 0 \nC -3.535534 0.937635 -3.163008 1.836992 -2.5 2.5 \nC -1.836992 3.163008 -0.937635 3.535534 0 3.535534 \nz\n\"/>\n    </defs>\n    <g clip-path=\"url(#pe62c61d37e)\">\n     <use xlink:href=\"#C0_0_10ddf20da0\" x=\"204.52823\" y=\"182.995461\" style=\"fill: #a0cbe2; stroke: #a0cbe2\"/>\n    </g>\n    <g clip-path=\"url(#pe62c61d37e)\">\n     <use xlink:href=\"#C0_0_10ddf20da0\" x=\"204.52823\" y=\"182.995461\" style=\"fill: #ff0000; stroke: #ff0000\"/>\n    </g>\n    <g clip-path=\"url(#pe62c61d37e)\">\n     <use xlink:href=\"#C0_0_10ddf20da0\" x=\"138.384689\" y=\"48.893466\" style=\"fill: #a0cbe2; stroke: #a0cbe2\"/>\n    </g>\n    <g clip-path=\"url(#pe62c61d37e)\">\n     <use xlink:href=\"#C0_0_10ddf20da0\" x=\"125.155981\" y=\"87.208322\" style=\"fill: #a0cbe2; stroke: #a0cbe2\"/>\n    </g>\n    <g clip-path=\"url(#pe62c61d37e)\">\n     <use xlink:href=\"#C0_0_10ddf20da0\" x=\"125.155981\" y=\"48.893466\" style=\"fill: #a0cbe2; stroke: #a0cbe2\"/>\n    </g>\n    <g clip-path=\"url(#pe62c61d37e)\">\n     <use xlink:href=\"#C0_0_10ddf20da0\" x=\"116.336842\" y=\"68.050894\" style=\"fill: #a0cbe2; stroke: #a0cbe2\"/>\n    </g>\n    <g clip-path=\"url(#pe62c61d37e)\">\n     <use xlink:href=\"#C0_0_10ddf20da0\" x=\"116.336842\" y=\"48.893466\" style=\"fill: #a0cbe2; stroke: #a0cbe2\"/>\n    </g>\n    <g clip-path=\"url(#pe62c61d37e)\">\n     <use xlink:href=\"#C0_0_10ddf20da0\" x=\"107.517703\" y=\"87.208322\" style=\"fill: #a0cbe2; stroke: #a0cbe2\"/>\n    </g>\n    <g clip-path=\"url(#pe62c61d37e)\">\n     <use xlink:href=\"#C0_0_10ddf20da0\" x=\"94.288995\" y=\"87.208322\" style=\"fill: #a0cbe2; stroke: #a0cbe2\"/>\n    </g>\n    <g clip-path=\"url(#pe62c61d37e)\">\n     <use xlink:href=\"#C0_0_10ddf20da0\" x=\"94.288995\" y=\"68.050894\" style=\"fill: #a0cbe2; stroke: #a0cbe2\"/>\n    </g>\n    <g clip-path=\"url(#pe62c61d37e)\">\n     <use xlink:href=\"#C0_0_10ddf20da0\" x=\"72.241148\" y=\"240.467745\" style=\"fill: #a0cbe2; stroke: #a0cbe2\"/>\n    </g>\n    <g clip-path=\"url(#pe62c61d37e)\">\n     <use xlink:href=\"#C0_0_10ddf20da0\" x=\"72.241148\" y=\"221.310317\" style=\"fill: #a0cbe2; stroke: #a0cbe2\"/>\n    </g>\n    <g clip-path=\"url(#pe62c61d37e)\">\n     <use xlink:href=\"#C0_0_10ddf20da0\" x=\"63.42201\" y=\"221.310317\" style=\"fill: #a0cbe2; stroke: #a0cbe2\"/>\n    </g>\n    <g clip-path=\"url(#pe62c61d37e)\">\n     <use xlink:href=\"#C0_0_10ddf20da0\" x=\"63.42201\" y=\"202.152889\" style=\"fill: #a0cbe2; stroke: #a0cbe2\"/>\n    </g>\n    <g clip-path=\"url(#pe62c61d37e)\">\n     <use xlink:href=\"#C0_0_10ddf20da0\" x=\"50.193301\" y=\"240.467745\" style=\"fill: #a0cbe2; stroke: #a0cbe2\"/>\n    </g>\n    <g clip-path=\"url(#pe62c61d37e)\">\n     <use xlink:href=\"#C0_0_10ddf20da0\" x=\"50.193301\" y=\"202.152889\" style=\"fill: #a0cbe2; stroke: #a0cbe2\"/>\n    </g>\n    <g clip-path=\"url(#pe62c61d37e)\">\n     <use xlink:href=\"#C0_0_10ddf20da0\" x=\"36.964593\" y=\"221.310317\" style=\"fill: #a0cbe2; stroke: #a0cbe2\"/>\n    </g>\n    <g clip-path=\"url(#pe62c61d37e)\">\n     <use xlink:href=\"#C0_0_10ddf20da0\" x=\"28.145455\" y=\"221.310317\" style=\"fill: #a0cbe2; stroke: #a0cbe2\"/>\n    </g>\n    <g clip-path=\"url(#pe62c61d37e)\">\n     <use xlink:href=\"#C0_0_10ddf20da0\" x=\"28.145455\" y=\"202.152889\" style=\"fill: #a0cbe2; stroke: #a0cbe2\"/>\n    </g>\n    <g clip-path=\"url(#pe62c61d37e)\">\n     <use xlink:href=\"#C0_0_10ddf20da0\" x=\"222.166507\" y=\"355.412313\" style=\"fill: #a0cbe2; stroke: #a0cbe2\"/>\n    </g>\n    <g clip-path=\"url(#pe62c61d37e)\">\n     <use xlink:href=\"#C0_0_10ddf20da0\" x=\"213.347368\" y=\"336.254885\" style=\"fill: #a0cbe2; stroke: #a0cbe2\"/>\n    </g>\n    <g clip-path=\"url(#pe62c61d37e)\">\n     <use xlink:href=\"#C0_0_10ddf20da0\" x=\"213.347368\" y=\"317.097457\" style=\"fill: #a0cbe2; stroke: #a0cbe2\"/>\n    </g>\n    <g clip-path=\"url(#pe62c61d37e)\">\n     <use xlink:href=\"#C0_0_10ddf20da0\" x=\"204.52823\" y=\"355.412313\" style=\"fill: #a0cbe2; stroke: #a0cbe2\"/>\n    </g>\n    <g clip-path=\"url(#pe62c61d37e)\">\n     <use xlink:href=\"#C0_0_10ddf20da0\" x=\"204.52823\" y=\"317.097457\" style=\"fill: #a0cbe2; stroke: #a0cbe2\"/>\n    </g>\n    <g clip-path=\"url(#pe62c61d37e)\">\n     <use xlink:href=\"#C0_0_10ddf20da0\" x=\"195.709091\" y=\"355.412313\" style=\"fill: #a0cbe2; stroke: #a0cbe2\"/>\n    </g>\n    <g clip-path=\"url(#pe62c61d37e)\">\n     <use xlink:href=\"#C0_0_10ddf20da0\" x=\"195.709091\" y=\"317.097457\" style=\"fill: #a0cbe2; stroke: #a0cbe2\"/>\n    </g>\n    <g clip-path=\"url(#pe62c61d37e)\">\n     <use xlink:href=\"#C0_0_10ddf20da0\" x=\"182.480383\" y=\"355.412313\" style=\"fill: #a0cbe2; stroke: #a0cbe2\"/>\n    </g>\n    <g clip-path=\"url(#pe62c61d37e)\">\n     <use xlink:href=\"#C0_0_10ddf20da0\" x=\"447.054545\" y=\"259.625173\" style=\"fill: #a0cbe2; stroke: #a0cbe2\"/>\n    </g>\n    <g clip-path=\"url(#pe62c61d37e)\">\n     <use xlink:href=\"#C0_0_10ddf20da0\" x=\"447.054545\" y=\"240.467745\" style=\"fill: #a0cbe2; stroke: #a0cbe2\"/>\n    </g>\n    <g clip-path=\"url(#pe62c61d37e)\">\n     <use xlink:href=\"#C0_0_10ddf20da0\" x=\"433.825837\" y=\"259.625173\" style=\"fill: #a0cbe2; stroke: #a0cbe2\"/>\n    </g>\n    <g clip-path=\"url(#pe62c61d37e)\">\n     <use xlink:href=\"#C0_0_10ddf20da0\" x=\"425.006699\" y=\"240.467745\" style=\"fill: #a0cbe2; stroke: #a0cbe2\"/>\n    </g>\n    <g clip-path=\"url(#pe62c61d37e)\">\n     <use xlink:href=\"#C0_0_10ddf20da0\" x=\"416.18756\" y=\"259.625173\" style=\"fill: #a0cbe2; stroke: #a0cbe2\"/>\n    </g>\n    <g clip-path=\"url(#pe62c61d37e)\">\n     <use xlink:href=\"#C0_0_10ddf20da0\" x=\"416.18756\" y=\"240.467745\" style=\"fill: #a0cbe2; stroke: #a0cbe2\"/>\n    </g>\n    <g clip-path=\"url(#pe62c61d37e)\">\n     <use xlink:href=\"#C0_0_10ddf20da0\" x=\"411.77799\" y=\"259.625173\" style=\"fill: #a0cbe2; stroke: #a0cbe2\"/>\n    </g>\n    <g clip-path=\"url(#pe62c61d37e)\">\n     <use xlink:href=\"#C0_0_10ddf20da0\" x=\"402.958852\" y=\"278.782601\" style=\"fill: #a0cbe2; stroke: #a0cbe2\"/>\n    </g>\n    <g clip-path=\"url(#pe62c61d37e)\">\n     <use xlink:href=\"#C0_0_10ddf20da0\" x=\"402.958852\" y=\"240.467745\" style=\"fill: #a0cbe2; stroke: #a0cbe2\"/>\n    </g>\n    <g clip-path=\"url(#pe62c61d37e)\">\n     <use xlink:href=\"#C0_0_10ddf20da0\" x=\"323.586603\" y=\"48.893466\" style=\"fill: #a0cbe2; stroke: #a0cbe2\"/>\n    </g>\n    <g clip-path=\"url(#pe62c61d37e)\">\n     <use xlink:href=\"#C0_0_10ddf20da0\" x=\"314.767464\" y=\"48.893466\" style=\"fill: #a0cbe2; stroke: #a0cbe2\"/>\n    </g>\n    <g clip-path=\"url(#pe62c61d37e)\">\n     <use xlink:href=\"#C0_0_10ddf20da0\" x=\"314.767464\" y=\"60.387923\" style=\"fill: #a0cbe2; stroke: #a0cbe2\"/>\n    </g>\n    <g clip-path=\"url(#pe62c61d37e)\">\n     <use xlink:href=\"#C0_0_10ddf20da0\" x=\"301.538756\" y=\"68.050894\" style=\"fill: #a0cbe2; stroke: #a0cbe2\"/>\n    </g>\n    <g clip-path=\"url(#pe62c61d37e)\">\n     <use xlink:href=\"#C0_0_10ddf20da0\" x=\"292.719617\" y=\"68.050894\" style=\"fill: #a0cbe2; stroke: #a0cbe2\"/>\n    </g>\n    <g clip-path=\"url(#pe62c61d37e)\">\n     <use xlink:href=\"#C0_0_10ddf20da0\" x=\"292.719617\" y=\"48.893466\" style=\"fill: #a0cbe2; stroke: #a0cbe2\"/>\n    </g>\n    <g clip-path=\"url(#pe62c61d37e)\">\n     <use xlink:href=\"#C0_0_10ddf20da0\" x=\"283.900478\" y=\"87.208322\" style=\"fill: #a0cbe2; stroke: #a0cbe2\"/>\n    </g>\n    <g clip-path=\"url(#pe62c61d37e)\">\n     <use xlink:href=\"#C0_0_10ddf20da0\" x=\"270.67177\" y=\"68.050894\" style=\"fill: #a0cbe2; stroke: #a0cbe2\"/>\n    </g>\n    <g clip-path=\"url(#pe62c61d37e)\">\n     <use xlink:href=\"#C0_0_10ddf20da0\" x=\"270.67177\" y=\"48.893466\" style=\"fill: #a0cbe2; stroke: #a0cbe2\"/>\n    </g>\n    <g clip-path=\"url(#pe62c61d37e)\">\n     <use xlink:href=\"#C0_0_10ddf20da0\" x=\"270.67177\" y=\"60.387923\" style=\"fill: #a0cbe2; stroke: #a0cbe2\"/>\n    </g>\n    <g clip-path=\"url(#pe62c61d37e)\">\n     <use xlink:href=\"#C0_0_10ddf20da0\" x=\"116.336842\" y=\"60.387923\" style=\"fill: #a0cbe2; stroke: #a0cbe2\"/>\n    </g>\n    <g clip-path=\"url(#pe62c61d37e)\">\n     <use xlink:href=\"#C0_0_10ddf20da0\" x=\"107.517703\" y=\"68.050894\" style=\"fill: #a0cbe2; stroke: #a0cbe2\"/>\n    </g>\n    <g clip-path=\"url(#pe62c61d37e)\">\n     <use xlink:href=\"#C0_0_10ddf20da0\" x=\"36.964593\" y=\"202.152889\" style=\"fill: #a0cbe2; stroke: #a0cbe2\"/>\n    </g>\n    <g clip-path=\"url(#pe62c61d37e)\">\n     <use xlink:href=\"#C0_0_10ddf20da0\" x=\"213.347368\" y=\"355.412313\" style=\"fill: #a0cbe2; stroke: #a0cbe2\"/>\n    </g>\n    <g clip-path=\"url(#pe62c61d37e)\">\n     <use xlink:href=\"#C0_0_10ddf20da0\" x=\"213.347368\" y=\"328.591914\" style=\"fill: #a0cbe2; stroke: #a0cbe2\"/>\n    </g>\n    <g clip-path=\"url(#pe62c61d37e)\">\n     <use xlink:href=\"#C0_0_10ddf20da0\" x=\"345.63445\" y=\"240.467745\" style=\"fill: #a0cbe2; stroke: #a0cbe2\"/>\n    </g>\n    <g clip-path=\"url(#pe62c61d37e)\">\n     <use xlink:href=\"#C0_0_10ddf20da0\" x=\"270.67177\" y=\"297.940029\" style=\"fill: #a0cbe2; stroke: #a0cbe2\"/>\n    </g>\n    <g clip-path=\"url(#pe62c61d37e)\">\n     <use xlink:href=\"#C0_0_10ddf20da0\" x=\"138.384689\" y=\"259.625173\" style=\"fill: #a0cbe2; stroke: #a0cbe2\"/>\n    </g>\n    <g clip-path=\"url(#pe62c61d37e)\">\n     <use xlink:href=\"#C0_0_10ddf20da0\" x=\"116.336842\" y=\"182.995461\" style=\"fill: #a0cbe2; stroke: #a0cbe2\"/>\n    </g>\n    <g clip-path=\"url(#pe62c61d37e)\">\n     <use xlink:href=\"#C0_0_10ddf20da0\" x=\"270.67177\" y=\"144.680606\" style=\"fill: #a0cbe2; stroke: #a0cbe2\"/>\n    </g>\n    <g clip-path=\"url(#pe62c61d37e)\">\n     <use xlink:href=\"#C0_0_10ddf20da0\" x=\"160.432536\" y=\"144.680606\" style=\"fill: #a0cbe2; stroke: #a0cbe2\"/>\n    </g>\n    <g clip-path=\"url(#pe62c61d37e)\">\n     <use xlink:href=\"#C0_0_10ddf20da0\" x=\"248.623923\" y=\"240.467745\" style=\"fill: #a0cbe2; stroke: #a0cbe2\"/>\n    </g>\n    <g clip-path=\"url(#pe62c61d37e)\">\n     <use xlink:href=\"#C0_0_10ddf20da0\" x=\"160.432536\" y=\"278.782601\" style=\"fill: #a0cbe2; stroke: #a0cbe2\"/>\n    </g>\n    <g clip-path=\"url(#pe62c61d37e)\">\n     <use xlink:href=\"#C0_0_10ddf20da0\" x=\"94.288995\" y=\"336.254885\" style=\"fill: #a0cbe2; stroke: #a0cbe2\"/>\n    </g>\n    <g clip-path=\"url(#pe62c61d37e)\">\n     <use xlink:href=\"#C0_0_10ddf20da0\" x=\"72.241148\" y=\"297.940029\" style=\"fill: #a0cbe2; stroke: #a0cbe2\"/>\n    </g>\n    <g clip-path=\"url(#pe62c61d37e)\">\n     <use xlink:href=\"#C0_0_10ddf20da0\" x=\"94.288995\" y=\"144.680606\" style=\"fill: #a0cbe2; stroke: #a0cbe2\"/>\n    </g>\n    <g clip-path=\"url(#pe62c61d37e)\">\n     <use xlink:href=\"#C0_0_10ddf20da0\" x=\"226.576077\" y=\"125.523178\" style=\"fill: #a0cbe2; stroke: #a0cbe2\"/>\n    </g>\n    <g clip-path=\"url(#pe62c61d37e)\">\n     <use xlink:href=\"#C0_0_10ddf20da0\" x=\"314.767464\" y=\"240.467745\" style=\"fill: #a0cbe2; stroke: #a0cbe2\"/>\n    </g>\n    <g clip-path=\"url(#pe62c61d37e)\">\n     <use xlink:href=\"#C0_0_10ddf20da0\" x=\"314.767464\" y=\"297.940029\" style=\"fill: #a0cbe2; stroke: #a0cbe2\"/>\n    </g>\n    <g clip-path=\"url(#pe62c61d37e)\">\n     <use xlink:href=\"#C0_0_10ddf20da0\" x=\"226.576077\" y=\"259.625173\" style=\"fill: #a0cbe2; stroke: #a0cbe2\"/>\n    </g>\n    <g clip-path=\"url(#pe62c61d37e)\">\n     <use xlink:href=\"#C0_0_10ddf20da0\" x=\"182.480383\" y=\"221.310317\" style=\"fill: #a0cbe2; stroke: #a0cbe2\"/>\n    </g>\n    <g clip-path=\"url(#pe62c61d37e)\">\n     <use xlink:href=\"#C0_0_10ddf20da0\" x=\"208.937799\" y=\"232.804774\" style=\"fill: #a0cbe2; stroke: #a0cbe2\"/>\n    </g>\n    <g clip-path=\"url(#pe62c61d37e)\">\n     <use xlink:href=\"#C0_0_10ddf20da0\" x=\"310.357895\" y=\"213.647346\" style=\"fill: #a0cbe2; stroke: #a0cbe2\"/>\n    </g>\n    <g clip-path=\"url(#pe62c61d37e)\">\n     <use xlink:href=\"#C0_0_10ddf20da0\" x=\"204.52823\" y=\"144.680606\" style=\"fill: #a0cbe2; stroke: #a0cbe2\"/>\n    </g>\n    <g clip-path=\"url(#pe62c61d37e)\">\n     <use xlink:href=\"#C0_0_10ddf20da0\" x=\"164.842105\" y=\"175.33249\" style=\"fill: #a0cbe2; stroke: #a0cbe2\"/>\n    </g>\n    <g clip-path=\"url(#pe62c61d37e)\">\n     <use xlink:href=\"#C0_0_10ddf20da0\" x=\"182.480383\" y=\"110.197235\" style=\"fill: #a0cbe2; stroke: #a0cbe2\"/>\n    </g>\n    <g clip-path=\"url(#pe62c61d37e)\">\n     <use xlink:href=\"#C0_0_10ddf20da0\" x=\"314.767464\" y=\"163.838034\" style=\"fill: #a0cbe2; stroke: #a0cbe2\"/>\n    </g>\n    <g clip-path=\"url(#pe62c61d37e)\">\n     <use xlink:href=\"#C0_0_10ddf20da0\" x=\"305.948325\" y=\"125.523178\" style=\"fill: #a0cbe2; stroke: #a0cbe2\"/>\n    </g>\n    <g clip-path=\"url(#pe62c61d37e)\">\n     <use xlink:href=\"#C0_0_10ddf20da0\" x=\"36.964593\" y=\"144.680606\" style=\"fill: #a0cbe2; stroke: #a0cbe2\"/>\n    </g>\n    <g clip-path=\"url(#pe62c61d37e)\">\n     <use xlink:href=\"#C0_0_10ddf20da0\" x=\"116.336842\" y=\"297.940029\" style=\"fill: #a0cbe2; stroke: #a0cbe2\"/>\n    </g>\n    <g clip-path=\"url(#pe62c61d37e)\">\n     <use xlink:href=\"#C0_0_10ddf20da0\" x=\"50.193301\" y=\"355.412313\" style=\"fill: #a0cbe2; stroke: #a0cbe2\"/>\n    </g>\n    <g clip-path=\"url(#pe62c61d37e)\">\n     <use xlink:href=\"#C0_0_10ddf20da0\" x=\"292.719617\" y=\"328.591914\" style=\"fill: #a0cbe2; stroke: #a0cbe2\"/>\n    </g>\n    <g clip-path=\"url(#pe62c61d37e)\">\n     <use xlink:href=\"#C0_0_10ddf20da0\" x=\"129.56555\" y=\"363.075284\" style=\"fill: #a0cbe2; stroke: #a0cbe2\"/>\n    </g>\n    <g clip-path=\"url(#pe62c61d37e)\">\n     <use xlink:href=\"#C0_0_10ddf20da0\" x=\"63.42201\" y=\"160.006548\" style=\"fill: #a0cbe2; stroke: #a0cbe2\"/>\n    </g>\n    <g clip-path=\"url(#pe62c61d37e)\">\n     <use xlink:href=\"#C0_0_10ddf20da0\" x=\"54.602871\" y=\"114.028721\" style=\"fill: #a0cbe2; stroke: #a0cbe2\"/>\n    </g>\n    <g clip-path=\"url(#pe62c61d37e)\">\n     <use xlink:href=\"#C0_0_10ddf20da0\" x=\"235.395215\" y=\"194.489918\" style=\"fill: #a0cbe2; stroke: #a0cbe2\"/>\n    </g>\n    <g clip-path=\"url(#pe62c61d37e)\">\n     <use xlink:href=\"#C0_0_10ddf20da0\" x=\"244.214354\" y=\"152.343577\" style=\"fill: #a0cbe2; stroke: #a0cbe2\"/>\n    </g>\n    <g clip-path=\"url(#pe62c61d37e)\">\n     <use xlink:href=\"#C0_0_10ddf20da0\" x=\"147.203828\" y=\"209.815861\" style=\"fill: #a0cbe2; stroke: #a0cbe2\"/>\n    </g>\n    <g clip-path=\"url(#pe62c61d37e)\">\n     <use xlink:href=\"#C0_0_10ddf20da0\" x=\"191.299522\" y=\"255.793688\" style=\"fill: #a0cbe2; stroke: #a0cbe2\"/>\n    </g>\n    <g clip-path=\"url(#pe62c61d37e)\">\n     <use xlink:href=\"#C0_0_10ddf20da0\" x=\"279.490909\" y=\"263.456659\" style=\"fill: #a0cbe2; stroke: #a0cbe2\"/>\n    </g>\n    <g clip-path=\"url(#pe62c61d37e)\">\n     <use xlink:href=\"#C0_0_10ddf20da0\" x=\"305.948325\" y=\"286.445572\" style=\"fill: #a0cbe2; stroke: #a0cbe2\"/>\n    </g>\n    <g clip-path=\"url(#pe62c61d37e)\">\n     <use xlink:href=\"#C0_0_10ddf20da0\" x=\"120.746411\" y=\"282.614087\" style=\"fill: #a0cbe2; stroke: #a0cbe2\"/>\n    </g>\n    <g clip-path=\"url(#pe62c61d37e)\">\n     <use xlink:href=\"#C0_0_10ddf20da0\" x=\"81.060287\" y=\"282.614087\" style=\"fill: #a0cbe2; stroke: #a0cbe2\"/>\n    </g>\n    <g clip-path=\"url(#pe62c61d37e)\">\n     <use xlink:href=\"#C0_0_10ddf20da0\" x=\"133.97512\" y=\"152.343577\" style=\"fill: #a0cbe2; stroke: #a0cbe2\"/>\n    </g>\n    <g clip-path=\"url(#pe62c61d37e)\">\n     <use xlink:href=\"#C0_0_10ddf20da0\" x=\"323.586603\" y=\"355.412313\" style=\"fill: #a0cbe2; stroke: #a0cbe2\"/>\n    </g>\n    <g clip-path=\"url(#pe62c61d37e)\">\n     <use xlink:href=\"#C0_0_10ddf20da0\" x=\"191.299522\" y=\"194.489918\" style=\"fill: #a0cbe2; stroke: #a0cbe2\"/>\n    </g>\n    <g clip-path=\"url(#pe62c61d37e)\">\n     <use xlink:href=\"#C0_0_10ddf20da0\" x=\"244.214354\" y=\"213.647346\" style=\"fill: #a0cbe2; stroke: #a0cbe2\"/>\n    </g>\n    <g clip-path=\"url(#pe62c61d37e)\">\n     <use xlink:href=\"#C0_0_10ddf20da0\" x=\"261.852632\" y=\"209.815861\" style=\"fill: #a0cbe2; stroke: #a0cbe2\"/>\n    </g>\n    <g clip-path=\"url(#pe62c61d37e)\">\n     <use xlink:href=\"#C0_0_10ddf20da0\" x=\"297.129187\" y=\"175.33249\" style=\"fill: #a0cbe2; stroke: #a0cbe2\"/>\n    </g>\n    <g clip-path=\"url(#pe62c61d37e)\">\n     <use xlink:href=\"#C0_0_10ddf20da0\" x=\"279.490909\" y=\"190.658433\" style=\"fill: #a0cbe2; stroke: #a0cbe2\"/>\n    </g>\n    <g clip-path=\"url(#pe62c61d37e)\">\n     <use xlink:href=\"#C0_0_10ddf20da0\" x=\"275.08134\" y=\"232.804774\" style=\"fill: #a0cbe2; stroke: #a0cbe2\"/>\n    </g>\n    <g clip-path=\"url(#pe62c61d37e)\">\n     <use xlink:href=\"#C0_0_10ddf20da0\" x=\"270.67177\" y=\"167.669519\" style=\"fill: #a0cbe2; stroke: #a0cbe2\"/>\n    </g>\n    <g clip-path=\"url(#pe62c61d37e)\">\n     <use xlink:href=\"#C0_0_10ddf20da0\" x=\"45.783732\" y=\"305.603\" style=\"fill: #a0cbe2; stroke: #a0cbe2\"/>\n    </g>\n    <g clip-path=\"url(#pe62c61d37e)\">\n     <use xlink:href=\"#C0_0_10ddf20da0\" x=\"142.794258\" y=\"175.33249\" style=\"fill: #a0cbe2; stroke: #a0cbe2\"/>\n    </g>\n    <g clip-path=\"url(#pe62c61d37e)\">\n     <use xlink:href=\"#C0_0_10ddf20da0\" x=\"142.794258\" y=\"240.467745\" style=\"fill: #a0cbe2; stroke: #a0cbe2\"/>\n    </g>\n    <g clip-path=\"url(#pe62c61d37e)\">\n     <use xlink:href=\"#C0_0_10ddf20da0\" x=\"164.842105\" y=\"117.860206\" style=\"fill: #a0cbe2; stroke: #a0cbe2\"/>\n    </g>\n   </g>\n   <g id=\"text_1\">\n    <!-- rc201, n=100 -->\n    <g transform=\"translate(159.066797 27.184375)scale(0.25 -0.25)\">\n     <defs>\n      <path id=\"MicrosoftYaHei-72\" d=\"M 2400 2850 \nQ 2247 2959 1978 2959 \nQ 1622 2959 1390 2626 \nQ 1159 2294 1159 1750 \nL 1159 0 \nL 547 0 \nL 547 3456 \nL 1159 3456 \nL 1159 2753 \nL 1172 2753 \nQ 1434 3516 2078 3516 \nQ 2288 3516 2400 3469 \nL 2400 2850 \nz\n\" transform=\"scale(0.015625)\"/>\n      <path id=\"MicrosoftYaHei-63\" d=\"M 2934 156 \nQ 2538 -81 1978 -81 \nQ 1228 -81 772 400 \nQ 316 881 316 1647 \nQ 316 2497 808 3017 \nQ 1300 3538 2125 3538 \nQ 2600 3538 2938 3369 \nL 2938 2763 \nQ 2572 3031 2125 3031 \nQ 1600 3031 1270 2667 \nQ 941 2303 941 1697 \nQ 941 1100 1252 762 \nQ 1563 425 2091 425 \nQ 2538 425 2934 719 \nL 2934 156 \nz\n\" transform=\"scale(0.015625)\"/>\n      <path id=\"MicrosoftYaHei-32\" d=\"M 2666 3572 \nQ 2666 3963 2419 4186 \nQ 2172 4409 1747 4409 \nQ 1447 4409 1140 4256 \nQ 834 4103 569 3819 \nL 569 4413 \nQ 806 4659 1107 4790 \nQ 1409 4922 1816 4922 \nQ 2472 4922 2872 4570 \nQ 3272 4219 3272 3619 \nQ 3272 3084 3026 2693 \nQ 2781 2303 2188 1894 \nQ 1581 1475 1376 1294 \nQ 1172 1113 1090 947 \nQ 1009 781 1009 544 \nL 3416 544 \nL 3416 0 \nL 372 0 \nL 372 241 \nQ 372 659 486 951 \nQ 600 1244 862 1520 \nQ 1125 1797 1681 2184 \nQ 2250 2584 2458 2886 \nQ 2666 3188 2666 3572 \nz\n\" transform=\"scale(0.015625)\"/>\n      <path id=\"MicrosoftYaHei-30\" d=\"M 284 2325 \nQ 284 3606 709 4264 \nQ 1134 4922 1941 4922 \nQ 3478 4922 3478 2441 \nQ 3478 1216 3045 567 \nQ 2613 -81 1831 -81 \nQ 1094 -81 689 534 \nQ 284 1150 284 2325 \nz\nM 909 2353 \nQ 909 425 1888 425 \nQ 2850 425 2850 2384 \nQ 2850 4413 1906 4413 \nQ 909 4413 909 2353 \nz\n\" transform=\"scale(0.015625)\"/>\n      <path id=\"MicrosoftYaHei-31\" d=\"M 1781 0 \nL 1781 4141 \nQ 1638 3997 1295 3819 \nQ 953 3641 663 3569 \nL 663 4169 \nQ 1047 4275 1484 4508 \nQ 1922 4741 2156 4947 \nL 2388 4947 \nL 2388 0 \nL 1781 0 \nz\n\" transform=\"scale(0.015625)\"/>\n      <path id=\"MicrosoftYaHei-2c\" d=\"M 1109 778 \nL 575 -888 \nL 131 -888 \nL 519 778 \nL 1109 778 \nz\n\" transform=\"scale(0.015625)\"/>\n      <path id=\"MicrosoftYaHei-20\" transform=\"scale(0.015625)\"/>\n      <path id=\"MicrosoftYaHei-6e\" d=\"M 3469 0 \nL 2859 0 \nL 2859 1966 \nQ 2859 3031 2081 3031 \nQ 1678 3031 1418 2731 \nQ 1159 2431 1159 1972 \nL 1159 0 \nL 547 0 \nL 547 3456 \nL 1159 3456 \nL 1159 2884 \nL 1172 2884 \nQ 1563 3538 2306 3538 \nQ 2875 3538 3172 3173 \nQ 3469 2809 3469 2113 \nL 3469 0 \nz\n\" transform=\"scale(0.015625)\"/>\n      <path id=\"MicrosoftYaHei-3d\" d=\"M 3972 2497 \nL 788 2497 \nL 788 2969 \nL 3972 2969 \nL 3972 2497 \nz\nM 3972 1053 \nL 788 1053 \nL 788 1525 \nL 3972 1525 \nL 3972 1053 \nz\n\" transform=\"scale(0.015625)\"/>\n     </defs>\n     <use xlink:href=\"#MicrosoftYaHei-72\"/>\n     <use xlink:href=\"#MicrosoftYaHei-63\" x=\"36.808594\"/>\n     <use xlink:href=\"#MicrosoftYaHei-32\" x=\"86.955078\"/>\n     <use xlink:href=\"#MicrosoftYaHei-30\" x=\"145.597656\"/>\n     <use xlink:href=\"#MicrosoftYaHei-31\" x=\"204.240234\"/>\n     <use xlink:href=\"#MicrosoftYaHei-2c\" x=\"262.882812\"/>\n     <use xlink:href=\"#MicrosoftYaHei-20\" x=\"286.955078\"/>\n     <use xlink:href=\"#MicrosoftYaHei-6e\" x=\"316.544922\"/>\n     <use xlink:href=\"#MicrosoftYaHei-3d\" x=\"378.166016\"/>\n     <use xlink:href=\"#MicrosoftYaHei-31\" x=\"452.335938\"/>\n     <use xlink:href=\"#MicrosoftYaHei-30\" x=\"510.978516\"/>\n     <use xlink:href=\"#MicrosoftYaHei-30\" x=\"569.621094\"/>\n    </g>\n   </g>\n  </g>\n </g>\n <defs>\n  <clipPath id=\"pe62c61d37e\">\n   <rect x=\"7.2\" y=\"33.184375\" width=\"460.8\" height=\"345.6\"/>\n  </clipPath>\n </defs>\n</svg>\n",
      "text/plain": [
       "<Figure size 640x480 with 1 Axes>"
      ]
     },
     "metadata": {},
     "output_type": "display_data"
    }
   ],
   "source": [
    "plot_node('rc201', 100, node_size=50, font_size=25)"
   ]
  },
  {
   "attachments": {},
   "cell_type": "markdown",
   "metadata": {},
   "source": [
    "### Solomon数据集规律"
   ]
  },
  {
   "cell_type": "code",
   "execution_count": 142,
   "metadata": {},
   "outputs": [],
   "source": [
    "instance_name = 'c101'\n",
    "n = 100\n",
    "data_path = f'../data/100/{instance_name}.txt'\n",
    "data = SolomonDataSet(path=data_path, n_vertices=n)\n",
    "G = data.G"
   ]
  },
  {
   "cell_type": "code",
   "execution_count": 152,
   "metadata": {},
   "outputs": [],
   "source": [
    "demand = [d['demand'] for (v,d) in list(G.nodes(data=True))[2:]]\n",
    "tw_span = [d['tw_span'] for (v,d) in list(G.nodes(data=True))[2:]]"
   ]
  },
  {
   "cell_type": "code",
   "execution_count": 160,
   "metadata": {},
   "outputs": [],
   "source": [
    "def get_node_featrue(instance_name, n):\n",
    "    data_path = f'../data/100/{instance_name}.txt'\n",
    "    data = SolomonDataSet(path=data_path, n_vertices=n)\n",
    "    G = data.G\n",
    "    demand = [d['demand'] for (v,d) in list(G.nodes(data=True))[2:]]\n",
    "    tw_span = [d['tw_span'] for (v,d) in list(G.nodes(data=True))[2:]]\n",
    "    return demand, tw_span"
   ]
  },
  {
   "cell_type": "code",
   "execution_count": 161,
   "metadata": {},
   "outputs": [],
   "source": [
    "probNum = {\n",
    "        'c1': 9, 'c2': 8,\n",
    "        'r1': 12, 'r2': 11,\n",
    "        'rc1': 8, 'rc2': 8,\n",
    "    }\n",
    "result = pd.DataFrame(columns=['class', 'type', 'instance', 'avg_demand', 'max_tw', 'min_tw', 'avg_tw'])\n",
    "for prob_type in ['c1', 'c2', 'r1', 'r2', 'rc1', 'rc2']:\n",
    "    for prob in range(probNum[prob_type]):\n",
    "    # for prob in range(1): # for test\n",
    "        instance_name = '{}{:02d}'.format(prob_type, prob + 1)\n",
    "        demand, tw_span = get_node_featrue(instance_name, 100)\n",
    "        result.loc[len(result)] = [prob_type[:-1], prob_type[-1], instance_name, sum(demand)/100, max(tw_span), min(tw_span), sum(tw_span)/100]\n"
   ]
  },
  {
   "cell_type": "code",
   "execution_count": 162,
   "metadata": {},
   "outputs": [
    {
     "data": {
      "text/html": [
       "<div>\n",
       "<style scoped>\n",
       "    .dataframe tbody tr th:only-of-type {\n",
       "        vertical-align: middle;\n",
       "    }\n",
       "\n",
       "    .dataframe tbody tr th {\n",
       "        vertical-align: top;\n",
       "    }\n",
       "\n",
       "    .dataframe thead th {\n",
       "        text-align: right;\n",
       "    }\n",
       "</style>\n",
       "<table border=\"1\" class=\"dataframe\">\n",
       "  <thead>\n",
       "    <tr style=\"text-align: right;\">\n",
       "      <th></th>\n",
       "      <th>class</th>\n",
       "      <th>type</th>\n",
       "      <th>instance</th>\n",
       "      <th>avg_demand</th>\n",
       "      <th>max_tw</th>\n",
       "      <th>min_tw</th>\n",
       "      <th>avg_tw</th>\n",
       "    </tr>\n",
       "  </thead>\n",
       "  <tbody>\n",
       "    <tr>\n",
       "      <th>0</th>\n",
       "      <td>c</td>\n",
       "      <td>1</td>\n",
       "      <td>c101</td>\n",
       "      <td>18.10</td>\n",
       "      <td>89</td>\n",
       "      <td>37</td>\n",
       "      <td>60.76</td>\n",
       "    </tr>\n",
       "    <tr>\n",
       "      <th>1</th>\n",
       "      <td>c</td>\n",
       "      <td>1</td>\n",
       "      <td>c102</td>\n",
       "      <td>18.10</td>\n",
       "      <td>1135</td>\n",
       "      <td>43</td>\n",
       "      <td>325.69</td>\n",
       "    </tr>\n",
       "    <tr>\n",
       "      <th>2</th>\n",
       "      <td>c</td>\n",
       "      <td>1</td>\n",
       "      <td>c103</td>\n",
       "      <td>18.10</td>\n",
       "      <td>1136</td>\n",
       "      <td>43</td>\n",
       "      <td>588.49</td>\n",
       "    </tr>\n",
       "    <tr>\n",
       "      <th>3</th>\n",
       "      <td>c</td>\n",
       "      <td>1</td>\n",
       "      <td>c104</td>\n",
       "      <td>18.10</td>\n",
       "      <td>1136</td>\n",
       "      <td>43</td>\n",
       "      <td>852.94</td>\n",
       "    </tr>\n",
       "    <tr>\n",
       "      <th>4</th>\n",
       "      <td>c</td>\n",
       "      <td>1</td>\n",
       "      <td>c105</td>\n",
       "      <td>18.10</td>\n",
       "      <td>177</td>\n",
       "      <td>75</td>\n",
       "      <td>121.61</td>\n",
       "    </tr>\n",
       "    <tr>\n",
       "      <th>5</th>\n",
       "      <td>c</td>\n",
       "      <td>1</td>\n",
       "      <td>c106</td>\n",
       "      <td>18.10</td>\n",
       "      <td>387</td>\n",
       "      <td>29</td>\n",
       "      <td>156.15</td>\n",
       "    </tr>\n",
       "    <tr>\n",
       "      <th>6</th>\n",
       "      <td>c</td>\n",
       "      <td>1</td>\n",
       "      <td>c107</td>\n",
       "      <td>18.10</td>\n",
       "      <td>180</td>\n",
       "      <td>180</td>\n",
       "      <td>180.00</td>\n",
       "    </tr>\n",
       "    <tr>\n",
       "      <th>7</th>\n",
       "      <td>c</td>\n",
       "      <td>1</td>\n",
       "      <td>c108</td>\n",
       "      <td>18.10</td>\n",
       "      <td>353</td>\n",
       "      <td>149</td>\n",
       "      <td>243.28</td>\n",
       "    </tr>\n",
       "    <tr>\n",
       "      <th>8</th>\n",
       "      <td>c</td>\n",
       "      <td>1</td>\n",
       "      <td>c109</td>\n",
       "      <td>18.10</td>\n",
       "      <td>360</td>\n",
       "      <td>360</td>\n",
       "      <td>360.00</td>\n",
       "    </tr>\n",
       "    <tr>\n",
       "      <th>9</th>\n",
       "      <td>c</td>\n",
       "      <td>2</td>\n",
       "      <td>c201</td>\n",
       "      <td>18.10</td>\n",
       "      <td>160</td>\n",
       "      <td>160</td>\n",
       "      <td>160.00</td>\n",
       "    </tr>\n",
       "    <tr>\n",
       "      <th>10</th>\n",
       "      <td>c</td>\n",
       "      <td>2</td>\n",
       "      <td>c202</td>\n",
       "      <td>18.10</td>\n",
       "      <td>3289</td>\n",
       "      <td>160</td>\n",
       "      <td>937.74</td>\n",
       "    </tr>\n",
       "    <tr>\n",
       "      <th>11</th>\n",
       "      <td>c</td>\n",
       "      <td>2</td>\n",
       "      <td>c203</td>\n",
       "      <td>18.10</td>\n",
       "      <td>3290</td>\n",
       "      <td>160</td>\n",
       "      <td>1714.82</td>\n",
       "    </tr>\n",
       "    <tr>\n",
       "      <th>12</th>\n",
       "      <td>c</td>\n",
       "      <td>2</td>\n",
       "      <td>c204</td>\n",
       "      <td>18.10</td>\n",
       "      <td>3291</td>\n",
       "      <td>160</td>\n",
       "      <td>2492.58</td>\n",
       "    </tr>\n",
       "    <tr>\n",
       "      <th>13</th>\n",
       "      <td>c</td>\n",
       "      <td>2</td>\n",
       "      <td>c205</td>\n",
       "      <td>18.10</td>\n",
       "      <td>320</td>\n",
       "      <td>320</td>\n",
       "      <td>320.00</td>\n",
       "    </tr>\n",
       "    <tr>\n",
       "      <th>14</th>\n",
       "      <td>c</td>\n",
       "      <td>2</td>\n",
       "      <td>c206</td>\n",
       "      <td>18.10</td>\n",
       "      <td>707</td>\n",
       "      <td>299</td>\n",
       "      <td>486.64</td>\n",
       "    </tr>\n",
       "    <tr>\n",
       "      <th>15</th>\n",
       "      <td>c</td>\n",
       "      <td>2</td>\n",
       "      <td>c207</td>\n",
       "      <td>18.10</td>\n",
       "      <td>1253</td>\n",
       "      <td>177</td>\n",
       "      <td>612.32</td>\n",
       "    </tr>\n",
       "    <tr>\n",
       "      <th>16</th>\n",
       "      <td>c</td>\n",
       "      <td>2</td>\n",
       "      <td>c208</td>\n",
       "      <td>18.10</td>\n",
       "      <td>640</td>\n",
       "      <td>640</td>\n",
       "      <td>640.00</td>\n",
       "    </tr>\n",
       "    <tr>\n",
       "      <th>17</th>\n",
       "      <td>r</td>\n",
       "      <td>1</td>\n",
       "      <td>r101</td>\n",
       "      <td>14.58</td>\n",
       "      <td>10</td>\n",
       "      <td>10</td>\n",
       "      <td>10.00</td>\n",
       "    </tr>\n",
       "    <tr>\n",
       "      <th>18</th>\n",
       "      <td>r</td>\n",
       "      <td>1</td>\n",
       "      <td>r102</td>\n",
       "      <td>14.58</td>\n",
       "      <td>208</td>\n",
       "      <td>10</td>\n",
       "      <td>57.39</td>\n",
       "    </tr>\n",
       "    <tr>\n",
       "      <th>19</th>\n",
       "      <td>r</td>\n",
       "      <td>1</td>\n",
       "      <td>r103</td>\n",
       "      <td>14.58</td>\n",
       "      <td>213</td>\n",
       "      <td>10</td>\n",
       "      <td>102.99</td>\n",
       "    </tr>\n",
       "    <tr>\n",
       "      <th>20</th>\n",
       "      <td>r</td>\n",
       "      <td>1</td>\n",
       "      <td>r104</td>\n",
       "      <td>14.58</td>\n",
       "      <td>215</td>\n",
       "      <td>10</td>\n",
       "      <td>148.31</td>\n",
       "    </tr>\n",
       "    <tr>\n",
       "      <th>21</th>\n",
       "      <td>r</td>\n",
       "      <td>1</td>\n",
       "      <td>r105</td>\n",
       "      <td>14.58</td>\n",
       "      <td>30</td>\n",
       "      <td>30</td>\n",
       "      <td>30.00</td>\n",
       "    </tr>\n",
       "    <tr>\n",
       "      <th>22</th>\n",
       "      <td>r</td>\n",
       "      <td>1</td>\n",
       "      <td>r106</td>\n",
       "      <td>14.58</td>\n",
       "      <td>208</td>\n",
       "      <td>30</td>\n",
       "      <td>72.39</td>\n",
       "    </tr>\n",
       "    <tr>\n",
       "      <th>23</th>\n",
       "      <td>r</td>\n",
       "      <td>1</td>\n",
       "      <td>r107</td>\n",
       "      <td>14.58</td>\n",
       "      <td>213</td>\n",
       "      <td>30</td>\n",
       "      <td>112.99</td>\n",
       "    </tr>\n",
       "    <tr>\n",
       "      <th>24</th>\n",
       "      <td>r</td>\n",
       "      <td>1</td>\n",
       "      <td>r108</td>\n",
       "      <td>14.58</td>\n",
       "      <td>215</td>\n",
       "      <td>30</td>\n",
       "      <td>153.31</td>\n",
       "    </tr>\n",
       "    <tr>\n",
       "      <th>25</th>\n",
       "      <td>r</td>\n",
       "      <td>1</td>\n",
       "      <td>r109</td>\n",
       "      <td>14.58</td>\n",
       "      <td>83</td>\n",
       "      <td>37</td>\n",
       "      <td>58.89</td>\n",
       "    </tr>\n",
       "    <tr>\n",
       "      <th>26</th>\n",
       "      <td>r</td>\n",
       "      <td>1</td>\n",
       "      <td>r110</td>\n",
       "      <td>14.58</td>\n",
       "      <td>177</td>\n",
       "      <td>23</td>\n",
       "      <td>86.50</td>\n",
       "    </tr>\n",
       "    <tr>\n",
       "      <th>27</th>\n",
       "      <td>r</td>\n",
       "      <td>1</td>\n",
       "      <td>r111</td>\n",
       "      <td>14.58</td>\n",
       "      <td>191</td>\n",
       "      <td>19</td>\n",
       "      <td>93.10</td>\n",
       "    </tr>\n",
       "    <tr>\n",
       "      <th>28</th>\n",
       "      <td>r</td>\n",
       "      <td>1</td>\n",
       "      <td>r112</td>\n",
       "      <td>14.58</td>\n",
       "      <td>166</td>\n",
       "      <td>73</td>\n",
       "      <td>117.64</td>\n",
       "    </tr>\n",
       "    <tr>\n",
       "      <th>29</th>\n",
       "      <td>r</td>\n",
       "      <td>2</td>\n",
       "      <td>r201</td>\n",
       "      <td>14.58</td>\n",
       "      <td>212</td>\n",
       "      <td>27</td>\n",
       "      <td>115.96</td>\n",
       "    </tr>\n",
       "    <tr>\n",
       "      <th>30</th>\n",
       "      <td>r</td>\n",
       "      <td>2</td>\n",
       "      <td>r202</td>\n",
       "      <td>14.58</td>\n",
       "      <td>978</td>\n",
       "      <td>27</td>\n",
       "      <td>328.81</td>\n",
       "    </tr>\n",
       "    <tr>\n",
       "      <th>31</th>\n",
       "      <td>r</td>\n",
       "      <td>2</td>\n",
       "      <td>r203</td>\n",
       "      <td>14.58</td>\n",
       "      <td>983</td>\n",
       "      <td>27</td>\n",
       "      <td>541.66</td>\n",
       "    </tr>\n",
       "    <tr>\n",
       "      <th>32</th>\n",
       "      <td>r</td>\n",
       "      <td>2</td>\n",
       "      <td>r204</td>\n",
       "      <td>14.58</td>\n",
       "      <td>985</td>\n",
       "      <td>27</td>\n",
       "      <td>751.26</td>\n",
       "    </tr>\n",
       "    <tr>\n",
       "      <th>33</th>\n",
       "      <td>r</td>\n",
       "      <td>2</td>\n",
       "      <td>r205</td>\n",
       "      <td>14.58</td>\n",
       "      <td>240</td>\n",
       "      <td>240</td>\n",
       "      <td>240.00</td>\n",
       "    </tr>\n",
       "    <tr>\n",
       "      <th>34</th>\n",
       "      <td>r</td>\n",
       "      <td>2</td>\n",
       "      <td>r206</td>\n",
       "      <td>14.58</td>\n",
       "      <td>978</td>\n",
       "      <td>240</td>\n",
       "      <td>422.39</td>\n",
       "    </tr>\n",
       "    <tr>\n",
       "      <th>35</th>\n",
       "      <td>r</td>\n",
       "      <td>2</td>\n",
       "      <td>r207</td>\n",
       "      <td>14.58</td>\n",
       "      <td>983</td>\n",
       "      <td>240</td>\n",
       "      <td>602.99</td>\n",
       "    </tr>\n",
       "    <tr>\n",
       "      <th>36</th>\n",
       "      <td>r</td>\n",
       "      <td>2</td>\n",
       "      <td>r208</td>\n",
       "      <td>14.58</td>\n",
       "      <td>985</td>\n",
       "      <td>240</td>\n",
       "      <td>783.31</td>\n",
       "    </tr>\n",
       "    <tr>\n",
       "      <th>37</th>\n",
       "      <td>r</td>\n",
       "      <td>2</td>\n",
       "      <td>r209</td>\n",
       "      <td>14.58</td>\n",
       "      <td>764</td>\n",
       "      <td>91</td>\n",
       "      <td>349.50</td>\n",
       "    </tr>\n",
       "    <tr>\n",
       "      <th>38</th>\n",
       "      <td>r</td>\n",
       "      <td>2</td>\n",
       "      <td>r210</td>\n",
       "      <td>14.58</td>\n",
       "      <td>955</td>\n",
       "      <td>73</td>\n",
       "      <td>383.27</td>\n",
       "    </tr>\n",
       "    <tr>\n",
       "      <th>39</th>\n",
       "      <td>r</td>\n",
       "      <td>2</td>\n",
       "      <td>r211</td>\n",
       "      <td>14.58</td>\n",
       "      <td>664</td>\n",
       "      <td>293</td>\n",
       "      <td>471.94</td>\n",
       "    </tr>\n",
       "    <tr>\n",
       "      <th>40</th>\n",
       "      <td>rc</td>\n",
       "      <td>1</td>\n",
       "      <td>rc101</td>\n",
       "      <td>17.24</td>\n",
       "      <td>30</td>\n",
       "      <td>30</td>\n",
       "      <td>30.00</td>\n",
       "    </tr>\n",
       "    <tr>\n",
       "      <th>41</th>\n",
       "      <td>rc</td>\n",
       "      <td>1</td>\n",
       "      <td>rc102</td>\n",
       "      <td>17.24</td>\n",
       "      <td>217</td>\n",
       "      <td>30</td>\n",
       "      <td>71.46</td>\n",
       "    </tr>\n",
       "    <tr>\n",
       "      <th>42</th>\n",
       "      <td>rc</td>\n",
       "      <td>1</td>\n",
       "      <td>rc103</td>\n",
       "      <td>17.24</td>\n",
       "      <td>225</td>\n",
       "      <td>30</td>\n",
       "      <td>112.50</td>\n",
       "    </tr>\n",
       "    <tr>\n",
       "      <th>43</th>\n",
       "      <td>rc</td>\n",
       "      <td>1</td>\n",
       "      <td>rc104</td>\n",
       "      <td>17.24</td>\n",
       "      <td>225</td>\n",
       "      <td>30</td>\n",
       "      <td>154.60</td>\n",
       "    </tr>\n",
       "    <tr>\n",
       "      <th>44</th>\n",
       "      <td>rc</td>\n",
       "      <td>1</td>\n",
       "      <td>rc105</td>\n",
       "      <td>17.24</td>\n",
       "      <td>120</td>\n",
       "      <td>10</td>\n",
       "      <td>54.33</td>\n",
       "    </tr>\n",
       "    <tr>\n",
       "      <th>45</th>\n",
       "      <td>rc</td>\n",
       "      <td>1</td>\n",
       "      <td>rc106</td>\n",
       "      <td>17.24</td>\n",
       "      <td>60</td>\n",
       "      <td>60</td>\n",
       "      <td>60.00</td>\n",
       "    </tr>\n",
       "    <tr>\n",
       "      <th>46</th>\n",
       "      <td>rc</td>\n",
       "      <td>1</td>\n",
       "      <td>rc107</td>\n",
       "      <td>17.24</td>\n",
       "      <td>155</td>\n",
       "      <td>41</td>\n",
       "      <td>88.21</td>\n",
       "    </tr>\n",
       "    <tr>\n",
       "      <th>47</th>\n",
       "      <td>rc</td>\n",
       "      <td>1</td>\n",
       "      <td>rc108</td>\n",
       "      <td>17.24</td>\n",
       "      <td>180</td>\n",
       "      <td>27</td>\n",
       "      <td>112.33</td>\n",
       "    </tr>\n",
       "    <tr>\n",
       "      <th>48</th>\n",
       "      <td>rc</td>\n",
       "      <td>2</td>\n",
       "      <td>rc201</td>\n",
       "      <td>17.24</td>\n",
       "      <td>120</td>\n",
       "      <td>120</td>\n",
       "      <td>120.00</td>\n",
       "    </tr>\n",
       "    <tr>\n",
       "      <th>49</th>\n",
       "      <td>rc</td>\n",
       "      <td>2</td>\n",
       "      <td>rc202</td>\n",
       "      <td>17.24</td>\n",
       "      <td>937</td>\n",
       "      <td>120</td>\n",
       "      <td>318.96</td>\n",
       "    </tr>\n",
       "    <tr>\n",
       "      <th>50</th>\n",
       "      <td>rc</td>\n",
       "      <td>2</td>\n",
       "      <td>rc203</td>\n",
       "      <td>17.24</td>\n",
       "      <td>945</td>\n",
       "      <td>120</td>\n",
       "      <td>517.50</td>\n",
       "    </tr>\n",
       "    <tr>\n",
       "      <th>51</th>\n",
       "      <td>rc</td>\n",
       "      <td>2</td>\n",
       "      <td>rc204</td>\n",
       "      <td>17.24</td>\n",
       "      <td>945</td>\n",
       "      <td>120</td>\n",
       "      <td>717.10</td>\n",
       "    </tr>\n",
       "    <tr>\n",
       "      <th>52</th>\n",
       "      <td>rc</td>\n",
       "      <td>2</td>\n",
       "      <td>rc205</td>\n",
       "      <td>17.24</td>\n",
       "      <td>480</td>\n",
       "      <td>60</td>\n",
       "      <td>223.06</td>\n",
       "    </tr>\n",
       "    <tr>\n",
       "      <th>53</th>\n",
       "      <td>rc</td>\n",
       "      <td>2</td>\n",
       "      <td>rc206</td>\n",
       "      <td>17.24</td>\n",
       "      <td>240</td>\n",
       "      <td>240</td>\n",
       "      <td>240.00</td>\n",
       "    </tr>\n",
       "    <tr>\n",
       "      <th>54</th>\n",
       "      <td>rc</td>\n",
       "      <td>2</td>\n",
       "      <td>rc207</td>\n",
       "      <td>17.24</td>\n",
       "      <td>764</td>\n",
       "      <td>91</td>\n",
       "      <td>349.50</td>\n",
       "    </tr>\n",
       "    <tr>\n",
       "      <th>55</th>\n",
       "      <td>rc</td>\n",
       "      <td>2</td>\n",
       "      <td>rc208</td>\n",
       "      <td>17.24</td>\n",
       "      <td>664</td>\n",
       "      <td>293</td>\n",
       "      <td>471.93</td>\n",
       "    </tr>\n",
       "  </tbody>\n",
       "</table>\n",
       "</div>"
      ],
      "text/plain": [
       "   class type instance  avg_demand max_tw min_tw   avg_tw\n",
       "0      c    1     c101       18.10     89     37    60.76\n",
       "1      c    1     c102       18.10   1135     43   325.69\n",
       "2      c    1     c103       18.10   1136     43   588.49\n",
       "3      c    1     c104       18.10   1136     43   852.94\n",
       "4      c    1     c105       18.10    177     75   121.61\n",
       "5      c    1     c106       18.10    387     29   156.15\n",
       "6      c    1     c107       18.10    180    180   180.00\n",
       "7      c    1     c108       18.10    353    149   243.28\n",
       "8      c    1     c109       18.10    360    360   360.00\n",
       "9      c    2     c201       18.10    160    160   160.00\n",
       "10     c    2     c202       18.10   3289    160   937.74\n",
       "11     c    2     c203       18.10   3290    160  1714.82\n",
       "12     c    2     c204       18.10   3291    160  2492.58\n",
       "13     c    2     c205       18.10    320    320   320.00\n",
       "14     c    2     c206       18.10    707    299   486.64\n",
       "15     c    2     c207       18.10   1253    177   612.32\n",
       "16     c    2     c208       18.10    640    640   640.00\n",
       "17     r    1     r101       14.58     10     10    10.00\n",
       "18     r    1     r102       14.58    208     10    57.39\n",
       "19     r    1     r103       14.58    213     10   102.99\n",
       "20     r    1     r104       14.58    215     10   148.31\n",
       "21     r    1     r105       14.58     30     30    30.00\n",
       "22     r    1     r106       14.58    208     30    72.39\n",
       "23     r    1     r107       14.58    213     30   112.99\n",
       "24     r    1     r108       14.58    215     30   153.31\n",
       "25     r    1     r109       14.58     83     37    58.89\n",
       "26     r    1     r110       14.58    177     23    86.50\n",
       "27     r    1     r111       14.58    191     19    93.10\n",
       "28     r    1     r112       14.58    166     73   117.64\n",
       "29     r    2     r201       14.58    212     27   115.96\n",
       "30     r    2     r202       14.58    978     27   328.81\n",
       "31     r    2     r203       14.58    983     27   541.66\n",
       "32     r    2     r204       14.58    985     27   751.26\n",
       "33     r    2     r205       14.58    240    240   240.00\n",
       "34     r    2     r206       14.58    978    240   422.39\n",
       "35     r    2     r207       14.58    983    240   602.99\n",
       "36     r    2     r208       14.58    985    240   783.31\n",
       "37     r    2     r209       14.58    764     91   349.50\n",
       "38     r    2     r210       14.58    955     73   383.27\n",
       "39     r    2     r211       14.58    664    293   471.94\n",
       "40    rc    1    rc101       17.24     30     30    30.00\n",
       "41    rc    1    rc102       17.24    217     30    71.46\n",
       "42    rc    1    rc103       17.24    225     30   112.50\n",
       "43    rc    1    rc104       17.24    225     30   154.60\n",
       "44    rc    1    rc105       17.24    120     10    54.33\n",
       "45    rc    1    rc106       17.24     60     60    60.00\n",
       "46    rc    1    rc107       17.24    155     41    88.21\n",
       "47    rc    1    rc108       17.24    180     27   112.33\n",
       "48    rc    2    rc201       17.24    120    120   120.00\n",
       "49    rc    2    rc202       17.24    937    120   318.96\n",
       "50    rc    2    rc203       17.24    945    120   517.50\n",
       "51    rc    2    rc204       17.24    945    120   717.10\n",
       "52    rc    2    rc205       17.24    480     60   223.06\n",
       "53    rc    2    rc206       17.24    240    240   240.00\n",
       "54    rc    2    rc207       17.24    764     91   349.50\n",
       "55    rc    2    rc208       17.24    664    293   471.93"
      ]
     },
     "execution_count": 162,
     "metadata": {},
     "output_type": "execute_result"
    }
   ],
   "source": [
    "result"
   ]
  },
  {
   "cell_type": "code",
   "execution_count": 163,
   "metadata": {},
   "outputs": [],
   "source": [
    "_, tw1 = get_node_featrue('c201', 100)\n",
    "_, tw2 = get_node_featrue('c202', 100)"
   ]
  },
  {
   "cell_type": "code",
   "execution_count": 165,
   "metadata": {},
   "outputs": [
    {
     "data": {
      "text/plain": [
       "160"
      ]
     },
     "execution_count": 165,
     "metadata": {},
     "output_type": "execute_result"
    }
   ],
   "source": [
    "max(tw1)"
   ]
  },
  {
   "cell_type": "code",
   "execution_count": 166,
   "metadata": {},
   "outputs": [
    {
     "data": {
      "text/plain": [
       "[3272,\n",
       " 3279,\n",
       " 3270,\n",
       " 160,\n",
       " 3284,\n",
       " 160,\n",
       " 3273,\n",
       " 160,\n",
       " 160,\n",
       " 160,\n",
       " 160,\n",
       " 3261,\n",
       " 160,\n",
       " 160,\n",
       " 160,\n",
       " 160,\n",
       " 160,\n",
       " 160,\n",
       " 160,\n",
       " 160,\n",
       " 3288,\n",
       " 160,\n",
       " 160,\n",
       " 160,\n",
       " 160,\n",
       " 3265,\n",
       " 160,\n",
       " 160,\n",
       " 160,\n",
       " 160,\n",
       " 3266,\n",
       " 160,\n",
       " 160,\n",
       " 3267,\n",
       " 160,\n",
       " 160,\n",
       " 3260,\n",
       " 160,\n",
       " 160,\n",
       " 160,\n",
       " 160,\n",
       " 160,\n",
       " 160,\n",
       " 160,\n",
       " 160,\n",
       " 160,\n",
       " 160,\n",
       " 3289,\n",
       " 160,\n",
       " 3277,\n",
       " 160,\n",
       " 3278,\n",
       " 160,\n",
       " 160,\n",
       " 160,\n",
       " 160,\n",
       " 160,\n",
       " 160,\n",
       " 3259,\n",
       " 160,\n",
       " 160,\n",
       " 160,\n",
       " 160,\n",
       " 160,\n",
       " 160,\n",
       " 160,\n",
       " 160,\n",
       " 160,\n",
       " 160,\n",
       " 160,\n",
       " 160,\n",
       " 3276,\n",
       " 160,\n",
       " 160,\n",
       " 3284,\n",
       " 160,\n",
       " 160,\n",
       " 160,\n",
       " 160,\n",
       " 160,\n",
       " 160,\n",
       " 3264,\n",
       " 3267,\n",
       " 160,\n",
       " 3253,\n",
       " 160,\n",
       " 160,\n",
       " 160,\n",
       " 160,\n",
       " 160,\n",
       " 3277,\n",
       " 160,\n",
       " 160,\n",
       " 3259,\n",
       " 3262,\n",
       " 3275,\n",
       " 160,\n",
       " 3269,\n",
       " 160,\n",
       " 160]"
      ]
     },
     "execution_count": 166,
     "metadata": {},
     "output_type": "execute_result"
    }
   ],
   "source": [
    "tw2"
   ]
  },
  {
   "attachments": {},
   "cell_type": "markdown",
   "metadata": {},
   "source": [
    "### eps衰减"
   ]
  },
  {
   "cell_type": "code",
   "execution_count": 25,
   "metadata": {},
   "outputs": [
    {
     "data": {
      "text/plain": [
       "Text(0, 0.5, 'eps_threshold')"
      ]
     },
     "execution_count": 25,
     "metadata": {},
     "output_type": "execute_result"
    },
    {
     "data": {
      "image/svg+xml": "<?xml version=\"1.0\" encoding=\"utf-8\" standalone=\"no\"?>\n<!DOCTYPE svg PUBLIC \"-//W3C//DTD SVG 1.1//EN\"\n  \"http://www.w3.org/Graphics/SVG/1.1/DTD/svg11.dtd\">\n<svg xmlns:xlink=\"http://www.w3.org/1999/xlink\" width=\"424.488815pt\" height=\"320.546375pt\" viewBox=\"0 0 424.488815 320.546375\" xmlns=\"http://www.w3.org/2000/svg\" version=\"1.1\">\n <metadata>\n  <rdf:RDF xmlns:dc=\"http://purl.org/dc/elements/1.1/\" xmlns:cc=\"http://creativecommons.org/ns#\" xmlns:rdf=\"http://www.w3.org/1999/02/22-rdf-syntax-ns#\">\n   <cc:Work>\n    <dc:type rdf:resource=\"http://purl.org/dc/dcmitype/StillImage\"/>\n    <dc:date>2022-12-01T16:17:03.062750</dc:date>\n    <dc:format>image/svg+xml</dc:format>\n    <dc:creator>\n     <cc:Agent>\n      <dc:title>Matplotlib v3.5.3, https://matplotlib.org/</dc:title>\n     </cc:Agent>\n    </dc:creator>\n   </cc:Work>\n  </rdf:RDF>\n </metadata>\n <defs>\n  <style type=\"text/css\">*{stroke-linejoin: round; stroke-linecap: butt}</style>\n </defs>\n <g id=\"figure_1\">\n  <g id=\"patch_1\">\n   <path d=\"M 0 320.546375 \nL 424.488815 320.546375 \nL 424.488815 0 \nL 0 0 \nz\n\" style=\"fill: #ffffff\"/>\n  </g>\n  <g id=\"axes_1\">\n   <g id=\"patch_2\">\n    <path d=\"M 56.989063 273.312 \nL 414.109063 273.312 \nL 414.109063 7.2 \nL 56.989063 7.2 \nz\n\" style=\"fill: #ffffff\"/>\n   </g>\n   <g id=\"matplotlib.axis_1\">\n    <g id=\"xtick_1\">\n     <g id=\"line2d_1\">\n      <defs>\n       <path id=\"m022b85cc30\" d=\"M 0 0 \nL 0 3.5 \n\" style=\"stroke: #000000; stroke-width: 0.8\"/>\n      </defs>\n      <g>\n       <use xlink:href=\"#m022b85cc30\" x=\"73.22179\" y=\"273.312\" style=\"stroke: #000000; stroke-width: 0.8\"/>\n      </g>\n     </g>\n     <g id=\"text_1\">\n      <!-- 0 -->\n      <g transform=\"translate(68.449915 291.709656)scale(0.15 -0.15)\">\n       <defs>\n        <path id=\"DejaVuSans-30\" d=\"M 2034 4250 \nQ 1547 4250 1301 3770 \nQ 1056 3291 1056 2328 \nQ 1056 1369 1301 889 \nQ 1547 409 2034 409 \nQ 2525 409 2770 889 \nQ 3016 1369 3016 2328 \nQ 3016 3291 2770 3770 \nQ 2525 4250 2034 4250 \nz\nM 2034 4750 \nQ 2819 4750 3233 4129 \nQ 3647 3509 3647 2328 \nQ 3647 1150 3233 529 \nQ 2819 -91 2034 -91 \nQ 1250 -91 836 529 \nQ 422 1150 422 2328 \nQ 422 3509 836 4129 \nQ 1250 4750 2034 4750 \nz\n\" transform=\"scale(0.015625)\"/>\n       </defs>\n       <use xlink:href=\"#DejaVuSans-30\"/>\n      </g>\n     </g>\n    </g>\n    <g id=\"xtick_2\">\n     <g id=\"line2d_2\">\n      <g>\n       <use xlink:href=\"#m022b85cc30\" x=\"138.217695\" y=\"273.312\" style=\"stroke: #000000; stroke-width: 0.8\"/>\n      </g>\n     </g>\n     <g id=\"text_2\">\n      <!-- 200 -->\n      <g transform=\"translate(123.90207 291.709656)scale(0.15 -0.15)\">\n       <defs>\n        <path id=\"DejaVuSans-32\" d=\"M 1228 531 \nL 3431 531 \nL 3431 0 \nL 469 0 \nL 469 531 \nQ 828 903 1448 1529 \nQ 2069 2156 2228 2338 \nQ 2531 2678 2651 2914 \nQ 2772 3150 2772 3378 \nQ 2772 3750 2511 3984 \nQ 2250 4219 1831 4219 \nQ 1534 4219 1204 4116 \nQ 875 4013 500 3803 \nL 500 4441 \nQ 881 4594 1212 4672 \nQ 1544 4750 1819 4750 \nQ 2544 4750 2975 4387 \nQ 3406 4025 3406 3419 \nQ 3406 3131 3298 2873 \nQ 3191 2616 2906 2266 \nQ 2828 2175 2409 1742 \nQ 1991 1309 1228 531 \nz\n\" transform=\"scale(0.015625)\"/>\n       </defs>\n       <use xlink:href=\"#DejaVuSans-32\"/>\n       <use xlink:href=\"#DejaVuSans-30\" x=\"63.623047\"/>\n       <use xlink:href=\"#DejaVuSans-30\" x=\"127.246094\"/>\n      </g>\n     </g>\n    </g>\n    <g id=\"xtick_3\">\n     <g id=\"line2d_3\">\n      <g>\n       <use xlink:href=\"#m022b85cc30\" x=\"203.2136\" y=\"273.312\" style=\"stroke: #000000; stroke-width: 0.8\"/>\n      </g>\n     </g>\n     <g id=\"text_3\">\n      <!-- 400 -->\n      <g transform=\"translate(188.897975 291.709656)scale(0.15 -0.15)\">\n       <defs>\n        <path id=\"DejaVuSans-34\" d=\"M 2419 4116 \nL 825 1625 \nL 2419 1625 \nL 2419 4116 \nz\nM 2253 4666 \nL 3047 4666 \nL 3047 1625 \nL 3713 1625 \nL 3713 1100 \nL 3047 1100 \nL 3047 0 \nL 2419 0 \nL 2419 1100 \nL 313 1100 \nL 313 1709 \nL 2253 4666 \nz\n\" transform=\"scale(0.015625)\"/>\n       </defs>\n       <use xlink:href=\"#DejaVuSans-34\"/>\n       <use xlink:href=\"#DejaVuSans-30\" x=\"63.623047\"/>\n       <use xlink:href=\"#DejaVuSans-30\" x=\"127.246094\"/>\n      </g>\n     </g>\n    </g>\n    <g id=\"xtick_4\">\n     <g id=\"line2d_4\">\n      <g>\n       <use xlink:href=\"#m022b85cc30\" x=\"268.209505\" y=\"273.312\" style=\"stroke: #000000; stroke-width: 0.8\"/>\n      </g>\n     </g>\n     <g id=\"text_4\">\n      <!-- 600 -->\n      <g transform=\"translate(253.89388 291.709656)scale(0.15 -0.15)\">\n       <defs>\n        <path id=\"DejaVuSans-36\" d=\"M 2113 2584 \nQ 1688 2584 1439 2293 \nQ 1191 2003 1191 1497 \nQ 1191 994 1439 701 \nQ 1688 409 2113 409 \nQ 2538 409 2786 701 \nQ 3034 994 3034 1497 \nQ 3034 2003 2786 2293 \nQ 2538 2584 2113 2584 \nz\nM 3366 4563 \nL 3366 3988 \nQ 3128 4100 2886 4159 \nQ 2644 4219 2406 4219 \nQ 1781 4219 1451 3797 \nQ 1122 3375 1075 2522 \nQ 1259 2794 1537 2939 \nQ 1816 3084 2150 3084 \nQ 2853 3084 3261 2657 \nQ 3669 2231 3669 1497 \nQ 3669 778 3244 343 \nQ 2819 -91 2113 -91 \nQ 1303 -91 875 529 \nQ 447 1150 447 2328 \nQ 447 3434 972 4092 \nQ 1497 4750 2381 4750 \nQ 2619 4750 2861 4703 \nQ 3103 4656 3366 4563 \nz\n\" transform=\"scale(0.015625)\"/>\n       </defs>\n       <use xlink:href=\"#DejaVuSans-36\"/>\n       <use xlink:href=\"#DejaVuSans-30\" x=\"63.623047\"/>\n       <use xlink:href=\"#DejaVuSans-30\" x=\"127.246094\"/>\n      </g>\n     </g>\n    </g>\n    <g id=\"xtick_5\">\n     <g id=\"line2d_5\">\n      <g>\n       <use xlink:href=\"#m022b85cc30\" x=\"333.20541\" y=\"273.312\" style=\"stroke: #000000; stroke-width: 0.8\"/>\n      </g>\n     </g>\n     <g id=\"text_5\">\n      <!-- 800 -->\n      <g transform=\"translate(318.889785 291.709656)scale(0.15 -0.15)\">\n       <defs>\n        <path id=\"DejaVuSans-38\" d=\"M 2034 2216 \nQ 1584 2216 1326 1975 \nQ 1069 1734 1069 1313 \nQ 1069 891 1326 650 \nQ 1584 409 2034 409 \nQ 2484 409 2743 651 \nQ 3003 894 3003 1313 \nQ 3003 1734 2745 1975 \nQ 2488 2216 2034 2216 \nz\nM 1403 2484 \nQ 997 2584 770 2862 \nQ 544 3141 544 3541 \nQ 544 4100 942 4425 \nQ 1341 4750 2034 4750 \nQ 2731 4750 3128 4425 \nQ 3525 4100 3525 3541 \nQ 3525 3141 3298 2862 \nQ 3072 2584 2669 2484 \nQ 3125 2378 3379 2068 \nQ 3634 1759 3634 1313 \nQ 3634 634 3220 271 \nQ 2806 -91 2034 -91 \nQ 1263 -91 848 271 \nQ 434 634 434 1313 \nQ 434 1759 690 2068 \nQ 947 2378 1403 2484 \nz\nM 1172 3481 \nQ 1172 3119 1398 2916 \nQ 1625 2713 2034 2713 \nQ 2441 2713 2670 2916 \nQ 2900 3119 2900 3481 \nQ 2900 3844 2670 4047 \nQ 2441 4250 2034 4250 \nQ 1625 4250 1398 4047 \nQ 1172 3844 1172 3481 \nz\n\" transform=\"scale(0.015625)\"/>\n       </defs>\n       <use xlink:href=\"#DejaVuSans-38\"/>\n       <use xlink:href=\"#DejaVuSans-30\" x=\"63.623047\"/>\n       <use xlink:href=\"#DejaVuSans-30\" x=\"127.246094\"/>\n      </g>\n     </g>\n    </g>\n    <g id=\"xtick_6\">\n     <g id=\"line2d_6\">\n      <g>\n       <use xlink:href=\"#m022b85cc30\" x=\"398.201315\" y=\"273.312\" style=\"stroke: #000000; stroke-width: 0.8\"/>\n      </g>\n     </g>\n     <g id=\"text_6\">\n      <!-- 1000 -->\n      <g transform=\"translate(379.113815 291.709656)scale(0.15 -0.15)\">\n       <defs>\n        <path id=\"DejaVuSans-31\" d=\"M 794 531 \nL 1825 531 \nL 1825 4091 \nL 703 3866 \nL 703 4441 \nL 1819 4666 \nL 2450 4666 \nL 2450 531 \nL 3481 531 \nL 3481 0 \nL 794 0 \nL 794 531 \nz\n\" transform=\"scale(0.015625)\"/>\n       </defs>\n       <use xlink:href=\"#DejaVuSans-31\"/>\n       <use xlink:href=\"#DejaVuSans-30\" x=\"63.623047\"/>\n       <use xlink:href=\"#DejaVuSans-30\" x=\"127.246094\"/>\n       <use xlink:href=\"#DejaVuSans-30\" x=\"190.869141\"/>\n      </g>\n     </g>\n    </g>\n    <g id=\"text_7\">\n     <!-- step -->\n     <g transform=\"translate(219.325625 310.226844)scale(0.15 -0.15)\">\n      <defs>\n       <path id=\"DejaVuSans-73\" d=\"M 2834 3397 \nL 2834 2853 \nQ 2591 2978 2328 3040 \nQ 2066 3103 1784 3103 \nQ 1356 3103 1142 2972 \nQ 928 2841 928 2578 \nQ 928 2378 1081 2264 \nQ 1234 2150 1697 2047 \nL 1894 2003 \nQ 2506 1872 2764 1633 \nQ 3022 1394 3022 966 \nQ 3022 478 2636 193 \nQ 2250 -91 1575 -91 \nQ 1294 -91 989 -36 \nQ 684 19 347 128 \nL 347 722 \nQ 666 556 975 473 \nQ 1284 391 1588 391 \nQ 1994 391 2212 530 \nQ 2431 669 2431 922 \nQ 2431 1156 2273 1281 \nQ 2116 1406 1581 1522 \nL 1381 1569 \nQ 847 1681 609 1914 \nQ 372 2147 372 2553 \nQ 372 3047 722 3315 \nQ 1072 3584 1716 3584 \nQ 2034 3584 2315 3537 \nQ 2597 3491 2834 3397 \nz\n\" transform=\"scale(0.015625)\"/>\n       <path id=\"DejaVuSans-74\" d=\"M 1172 4494 \nL 1172 3500 \nL 2356 3500 \nL 2356 3053 \nL 1172 3053 \nL 1172 1153 \nQ 1172 725 1289 603 \nQ 1406 481 1766 481 \nL 2356 481 \nL 2356 0 \nL 1766 0 \nQ 1100 0 847 248 \nQ 594 497 594 1153 \nL 594 3053 \nL 172 3053 \nL 172 3500 \nL 594 3500 \nL 594 4494 \nL 1172 4494 \nz\n\" transform=\"scale(0.015625)\"/>\n       <path id=\"DejaVuSans-65\" d=\"M 3597 1894 \nL 3597 1613 \nL 953 1613 \nQ 991 1019 1311 708 \nQ 1631 397 2203 397 \nQ 2534 397 2845 478 \nQ 3156 559 3463 722 \nL 3463 178 \nQ 3153 47 2828 -22 \nQ 2503 -91 2169 -91 \nQ 1331 -91 842 396 \nQ 353 884 353 1716 \nQ 353 2575 817 3079 \nQ 1281 3584 2069 3584 \nQ 2775 3584 3186 3129 \nQ 3597 2675 3597 1894 \nz\nM 3022 2063 \nQ 3016 2534 2758 2815 \nQ 2500 3097 2075 3097 \nQ 1594 3097 1305 2825 \nQ 1016 2553 972 2059 \nL 3022 2063 \nz\n\" transform=\"scale(0.015625)\"/>\n       <path id=\"DejaVuSans-70\" d=\"M 1159 525 \nL 1159 -1331 \nL 581 -1331 \nL 581 3500 \nL 1159 3500 \nL 1159 2969 \nQ 1341 3281 1617 3432 \nQ 1894 3584 2278 3584 \nQ 2916 3584 3314 3078 \nQ 3713 2572 3713 1747 \nQ 3713 922 3314 415 \nQ 2916 -91 2278 -91 \nQ 1894 -91 1617 61 \nQ 1341 213 1159 525 \nz\nM 3116 1747 \nQ 3116 2381 2855 2742 \nQ 2594 3103 2138 3103 \nQ 1681 3103 1420 2742 \nQ 1159 2381 1159 1747 \nQ 1159 1113 1420 752 \nQ 1681 391 2138 391 \nQ 2594 391 2855 752 \nQ 3116 1113 3116 1747 \nz\n\" transform=\"scale(0.015625)\"/>\n      </defs>\n      <use xlink:href=\"#DejaVuSans-73\"/>\n      <use xlink:href=\"#DejaVuSans-74\" x=\"52.099609\"/>\n      <use xlink:href=\"#DejaVuSans-65\" x=\"91.308594\"/>\n      <use xlink:href=\"#DejaVuSans-70\" x=\"152.832031\"/>\n     </g>\n    </g>\n   </g>\n   <g id=\"matplotlib.axis_2\">\n    <g id=\"ytick_1\">\n     <g id=\"line2d_7\">\n      <defs>\n       <path id=\"m9592900702\" d=\"M 0 0 \nL -3.5 0 \n\" style=\"stroke: #000000; stroke-width: 0.8\"/>\n      </defs>\n      <g>\n       <use xlink:href=\"#m9592900702\" x=\"56.989063\" y=\"261.216\" style=\"stroke: #000000; stroke-width: 0.8\"/>\n      </g>\n     </g>\n     <g id=\"text_8\">\n      <!-- 0.1 -->\n      <g transform=\"translate(26.134375 266.914828)scale(0.15 -0.15)\">\n       <defs>\n        <path id=\"DejaVuSans-2e\" d=\"M 684 794 \nL 1344 794 \nL 1344 0 \nL 684 0 \nL 684 794 \nz\n\" transform=\"scale(0.015625)\"/>\n       </defs>\n       <use xlink:href=\"#DejaVuSans-30\"/>\n       <use xlink:href=\"#DejaVuSans-2e\" x=\"63.623047\"/>\n       <use xlink:href=\"#DejaVuSans-31\" x=\"95.410156\"/>\n      </g>\n     </g>\n    </g>\n    <g id=\"ytick_2\">\n     <g id=\"line2d_8\">\n      <g>\n       <use xlink:href=\"#m9592900702\" x=\"56.989063\" y=\"230.976\" style=\"stroke: #000000; stroke-width: 0.8\"/>\n      </g>\n     </g>\n     <g id=\"text_9\">\n      <!-- 0.2 -->\n      <g transform=\"translate(26.134375 236.674828)scale(0.15 -0.15)\">\n       <use xlink:href=\"#DejaVuSans-30\"/>\n       <use xlink:href=\"#DejaVuSans-2e\" x=\"63.623047\"/>\n       <use xlink:href=\"#DejaVuSans-32\" x=\"95.410156\"/>\n      </g>\n     </g>\n    </g>\n    <g id=\"ytick_3\">\n     <g id=\"line2d_9\">\n      <g>\n       <use xlink:href=\"#m9592900702\" x=\"56.989063\" y=\"200.736\" style=\"stroke: #000000; stroke-width: 0.8\"/>\n      </g>\n     </g>\n     <g id=\"text_10\">\n      <!-- 0.3 -->\n      <g transform=\"translate(26.134375 206.434828)scale(0.15 -0.15)\">\n       <defs>\n        <path id=\"DejaVuSans-33\" d=\"M 2597 2516 \nQ 3050 2419 3304 2112 \nQ 3559 1806 3559 1356 \nQ 3559 666 3084 287 \nQ 2609 -91 1734 -91 \nQ 1441 -91 1130 -33 \nQ 819 25 488 141 \nL 488 750 \nQ 750 597 1062 519 \nQ 1375 441 1716 441 \nQ 2309 441 2620 675 \nQ 2931 909 2931 1356 \nQ 2931 1769 2642 2001 \nQ 2353 2234 1838 2234 \nL 1294 2234 \nL 1294 2753 \nL 1863 2753 \nQ 2328 2753 2575 2939 \nQ 2822 3125 2822 3475 \nQ 2822 3834 2567 4026 \nQ 2313 4219 1838 4219 \nQ 1578 4219 1281 4162 \nQ 984 4106 628 3988 \nL 628 4550 \nQ 988 4650 1302 4700 \nQ 1616 4750 1894 4750 \nQ 2613 4750 3031 4423 \nQ 3450 4097 3450 3541 \nQ 3450 3153 3228 2886 \nQ 3006 2619 2597 2516 \nz\n\" transform=\"scale(0.015625)\"/>\n       </defs>\n       <use xlink:href=\"#DejaVuSans-30\"/>\n       <use xlink:href=\"#DejaVuSans-2e\" x=\"63.623047\"/>\n       <use xlink:href=\"#DejaVuSans-33\" x=\"95.410156\"/>\n      </g>\n     </g>\n    </g>\n    <g id=\"ytick_4\">\n     <g id=\"line2d_10\">\n      <g>\n       <use xlink:href=\"#m9592900702\" x=\"56.989063\" y=\"170.496\" style=\"stroke: #000000; stroke-width: 0.8\"/>\n      </g>\n     </g>\n     <g id=\"text_11\">\n      <!-- 0.4 -->\n      <g transform=\"translate(26.134375 176.194828)scale(0.15 -0.15)\">\n       <use xlink:href=\"#DejaVuSans-30\"/>\n       <use xlink:href=\"#DejaVuSans-2e\" x=\"63.623047\"/>\n       <use xlink:href=\"#DejaVuSans-34\" x=\"95.410156\"/>\n      </g>\n     </g>\n    </g>\n    <g id=\"ytick_5\">\n     <g id=\"line2d_11\">\n      <g>\n       <use xlink:href=\"#m9592900702\" x=\"56.989063\" y=\"140.256\" style=\"stroke: #000000; stroke-width: 0.8\"/>\n      </g>\n     </g>\n     <g id=\"text_12\">\n      <!-- 0.5 -->\n      <g transform=\"translate(26.134375 145.954828)scale(0.15 -0.15)\">\n       <defs>\n        <path id=\"DejaVuSans-35\" d=\"M 691 4666 \nL 3169 4666 \nL 3169 4134 \nL 1269 4134 \nL 1269 2991 \nQ 1406 3038 1543 3061 \nQ 1681 3084 1819 3084 \nQ 2600 3084 3056 2656 \nQ 3513 2228 3513 1497 \nQ 3513 744 3044 326 \nQ 2575 -91 1722 -91 \nQ 1428 -91 1123 -41 \nQ 819 9 494 109 \nL 494 744 \nQ 775 591 1075 516 \nQ 1375 441 1709 441 \nQ 2250 441 2565 725 \nQ 2881 1009 2881 1497 \nQ 2881 1984 2565 2268 \nQ 2250 2553 1709 2553 \nQ 1456 2553 1204 2497 \nQ 953 2441 691 2322 \nL 691 4666 \nz\n\" transform=\"scale(0.015625)\"/>\n       </defs>\n       <use xlink:href=\"#DejaVuSans-30\"/>\n       <use xlink:href=\"#DejaVuSans-2e\" x=\"63.623047\"/>\n       <use xlink:href=\"#DejaVuSans-35\" x=\"95.410156\"/>\n      </g>\n     </g>\n    </g>\n    <g id=\"ytick_6\">\n     <g id=\"line2d_12\">\n      <g>\n       <use xlink:href=\"#m9592900702\" x=\"56.989063\" y=\"110.016\" style=\"stroke: #000000; stroke-width: 0.8\"/>\n      </g>\n     </g>\n     <g id=\"text_13\">\n      <!-- 0.6 -->\n      <g transform=\"translate(26.134375 115.714828)scale(0.15 -0.15)\">\n       <use xlink:href=\"#DejaVuSans-30\"/>\n       <use xlink:href=\"#DejaVuSans-2e\" x=\"63.623047\"/>\n       <use xlink:href=\"#DejaVuSans-36\" x=\"95.410156\"/>\n      </g>\n     </g>\n    </g>\n    <g id=\"ytick_7\">\n     <g id=\"line2d_13\">\n      <g>\n       <use xlink:href=\"#m9592900702\" x=\"56.989063\" y=\"79.776\" style=\"stroke: #000000; stroke-width: 0.8\"/>\n      </g>\n     </g>\n     <g id=\"text_14\">\n      <!-- 0.7 -->\n      <g transform=\"translate(26.134375 85.474828)scale(0.15 -0.15)\">\n       <defs>\n        <path id=\"DejaVuSans-37\" d=\"M 525 4666 \nL 3525 4666 \nL 3525 4397 \nL 1831 0 \nL 1172 0 \nL 2766 4134 \nL 525 4134 \nL 525 4666 \nz\n\" transform=\"scale(0.015625)\"/>\n       </defs>\n       <use xlink:href=\"#DejaVuSans-30\"/>\n       <use xlink:href=\"#DejaVuSans-2e\" x=\"63.623047\"/>\n       <use xlink:href=\"#DejaVuSans-37\" x=\"95.410156\"/>\n      </g>\n     </g>\n    </g>\n    <g id=\"ytick_8\">\n     <g id=\"line2d_14\">\n      <g>\n       <use xlink:href=\"#m9592900702\" x=\"56.989063\" y=\"49.536\" style=\"stroke: #000000; stroke-width: 0.8\"/>\n      </g>\n     </g>\n     <g id=\"text_15\">\n      <!-- 0.8 -->\n      <g transform=\"translate(26.134375 55.234828)scale(0.15 -0.15)\">\n       <use xlink:href=\"#DejaVuSans-30\"/>\n       <use xlink:href=\"#DejaVuSans-2e\" x=\"63.623047\"/>\n       <use xlink:href=\"#DejaVuSans-38\" x=\"95.410156\"/>\n      </g>\n     </g>\n    </g>\n    <g id=\"ytick_9\">\n     <g id=\"line2d_15\">\n      <g>\n       <use xlink:href=\"#m9592900702\" x=\"56.989063\" y=\"19.296\" style=\"stroke: #000000; stroke-width: 0.8\"/>\n      </g>\n     </g>\n     <g id=\"text_16\">\n      <!-- 0.9 -->\n      <g transform=\"translate(26.134375 24.994828)scale(0.15 -0.15)\">\n       <defs>\n        <path id=\"DejaVuSans-39\" d=\"M 703 97 \nL 703 672 \nQ 941 559 1184 500 \nQ 1428 441 1663 441 \nQ 2288 441 2617 861 \nQ 2947 1281 2994 2138 \nQ 2813 1869 2534 1725 \nQ 2256 1581 1919 1581 \nQ 1219 1581 811 2004 \nQ 403 2428 403 3163 \nQ 403 3881 828 4315 \nQ 1253 4750 1959 4750 \nQ 2769 4750 3195 4129 \nQ 3622 3509 3622 2328 \nQ 3622 1225 3098 567 \nQ 2575 -91 1691 -91 \nQ 1453 -91 1209 -44 \nQ 966 3 703 97 \nz\nM 1959 2075 \nQ 2384 2075 2632 2365 \nQ 2881 2656 2881 3163 \nQ 2881 3666 2632 3958 \nQ 2384 4250 1959 4250 \nQ 1534 4250 1286 3958 \nQ 1038 3666 1038 3163 \nQ 1038 2656 1286 2365 \nQ 1534 2075 1959 2075 \nz\n\" transform=\"scale(0.015625)\"/>\n       </defs>\n       <use xlink:href=\"#DejaVuSans-30\"/>\n       <use xlink:href=\"#DejaVuSans-2e\" x=\"63.623047\"/>\n       <use xlink:href=\"#DejaVuSans-39\" x=\"95.410156\"/>\n      </g>\n     </g>\n    </g>\n    <g id=\"text_17\">\n     <!-- eps_threshold -->\n     <g transform=\"translate(18.597656 192.606)rotate(-90)scale(0.15 -0.15)\">\n      <defs>\n       <path id=\"DejaVuSans-5f\" d=\"M 3263 -1063 \nL 3263 -1509 \nL -63 -1509 \nL -63 -1063 \nL 3263 -1063 \nz\n\" transform=\"scale(0.015625)\"/>\n       <path id=\"DejaVuSans-68\" d=\"M 3513 2113 \nL 3513 0 \nL 2938 0 \nL 2938 2094 \nQ 2938 2591 2744 2837 \nQ 2550 3084 2163 3084 \nQ 1697 3084 1428 2787 \nQ 1159 2491 1159 1978 \nL 1159 0 \nL 581 0 \nL 581 4863 \nL 1159 4863 \nL 1159 2956 \nQ 1366 3272 1645 3428 \nQ 1925 3584 2291 3584 \nQ 2894 3584 3203 3211 \nQ 3513 2838 3513 2113 \nz\n\" transform=\"scale(0.015625)\"/>\n       <path id=\"DejaVuSans-72\" d=\"M 2631 2963 \nQ 2534 3019 2420 3045 \nQ 2306 3072 2169 3072 \nQ 1681 3072 1420 2755 \nQ 1159 2438 1159 1844 \nL 1159 0 \nL 581 0 \nL 581 3500 \nL 1159 3500 \nL 1159 2956 \nQ 1341 3275 1631 3429 \nQ 1922 3584 2338 3584 \nQ 2397 3584 2469 3576 \nQ 2541 3569 2628 3553 \nL 2631 2963 \nz\n\" transform=\"scale(0.015625)\"/>\n       <path id=\"DejaVuSans-6f\" d=\"M 1959 3097 \nQ 1497 3097 1228 2736 \nQ 959 2375 959 1747 \nQ 959 1119 1226 758 \nQ 1494 397 1959 397 \nQ 2419 397 2687 759 \nQ 2956 1122 2956 1747 \nQ 2956 2369 2687 2733 \nQ 2419 3097 1959 3097 \nz\nM 1959 3584 \nQ 2709 3584 3137 3096 \nQ 3566 2609 3566 1747 \nQ 3566 888 3137 398 \nQ 2709 -91 1959 -91 \nQ 1206 -91 779 398 \nQ 353 888 353 1747 \nQ 353 2609 779 3096 \nQ 1206 3584 1959 3584 \nz\n\" transform=\"scale(0.015625)\"/>\n       <path id=\"DejaVuSans-6c\" d=\"M 603 4863 \nL 1178 4863 \nL 1178 0 \nL 603 0 \nL 603 4863 \nz\n\" transform=\"scale(0.015625)\"/>\n       <path id=\"DejaVuSans-64\" d=\"M 2906 2969 \nL 2906 4863 \nL 3481 4863 \nL 3481 0 \nL 2906 0 \nL 2906 525 \nQ 2725 213 2448 61 \nQ 2172 -91 1784 -91 \nQ 1150 -91 751 415 \nQ 353 922 353 1747 \nQ 353 2572 751 3078 \nQ 1150 3584 1784 3584 \nQ 2172 3584 2448 3432 \nQ 2725 3281 2906 2969 \nz\nM 947 1747 \nQ 947 1113 1208 752 \nQ 1469 391 1925 391 \nQ 2381 391 2643 752 \nQ 2906 1113 2906 1747 \nQ 2906 2381 2643 2742 \nQ 2381 3103 1925 3103 \nQ 1469 3103 1208 2742 \nQ 947 2381 947 1747 \nz\n\" transform=\"scale(0.015625)\"/>\n      </defs>\n      <use xlink:href=\"#DejaVuSans-65\"/>\n      <use xlink:href=\"#DejaVuSans-70\" x=\"61.523438\"/>\n      <use xlink:href=\"#DejaVuSans-73\" x=\"125\"/>\n      <use xlink:href=\"#DejaVuSans-5f\" x=\"177.099609\"/>\n      <use xlink:href=\"#DejaVuSans-74\" x=\"227.099609\"/>\n      <use xlink:href=\"#DejaVuSans-68\" x=\"266.308594\"/>\n      <use xlink:href=\"#DejaVuSans-72\" x=\"329.6875\"/>\n      <use xlink:href=\"#DejaVuSans-65\" x=\"368.550781\"/>\n      <use xlink:href=\"#DejaVuSans-73\" x=\"430.074219\"/>\n      <use xlink:href=\"#DejaVuSans-68\" x=\"482.173828\"/>\n      <use xlink:href=\"#DejaVuSans-6f\" x=\"545.552734\"/>\n      <use xlink:href=\"#DejaVuSans-6c\" x=\"606.734375\"/>\n      <use xlink:href=\"#DejaVuSans-64\" x=\"634.517578\"/>\n     </g>\n    </g>\n   </g>\n   <g id=\"line2d_16\">\n    <path d=\"M 73.22179 19.296 \nL 77.121544 33.384324 \nL 81.021298 46.652208 \nL 84.921053 59.14743 \nL 88.820807 70.914988 \nL 92.720561 81.997256 \nL 96.620316 92.434143 \nL 100.52007 102.263233 \nL 104.419824 111.519922 \nL 108.319578 120.237543 \nL 112.219333 128.447489 \nL 116.119087 136.179325 \nL 120.343821 144.0482 \nL 124.568555 151.421867 \nL 128.793289 158.33149 \nL 133.018022 164.806274 \nL 137.242756 170.873582 \nL 141.46749 176.55906 \nL 145.692224 181.886736 \nL 149.916958 186.879128 \nL 154.466671 191.90476 \nL 159.016384 196.590628 \nL 163.566098 200.959702 \nL 168.115811 205.0334 \nL 172.990504 209.092959 \nL 177.865197 212.859188 \nL 182.73989 216.353283 \nL 187.939562 219.802493 \nL 193.139234 222.986514 \nL 198.663886 226.101748 \nL 204.188538 228.963128 \nL 210.03817 231.739094 \nL 216.212781 234.4105 \nL 222.387392 236.839804 \nL 228.886982 239.159506 \nL 235.711552 241.357997 \nL 242.861102 243.426523 \nL 250.335631 245.359063 \nL 258.460119 247.222302 \nL 266.909587 248.928198 \nL 276.009013 250.533498 \nL 285.758399 252.021485 \nL 296.157744 253.380951 \nL 307.532027 254.638813 \nL 319.881249 255.776935 \nL 333.530389 256.80718 \nL 348.804427 257.730515 \nL 366.028342 258.541915 \nL 385.852093 259.24487 \nL 397.876335 259.577785 \nL 397.876335 259.577785 \n\" clip-path=\"url(#p05245f1ffa)\" style=\"fill: none; stroke: #1f77b4; stroke-width: 1.5; stroke-linecap: square\"/>\n   </g>\n   <g id=\"line2d_17\">\n    <path d=\"M 73.22179 261.216 \nL 397.876335 261.216 \nL 397.876335 261.216 \n\" clip-path=\"url(#p05245f1ffa)\" style=\"fill: none; stroke: #ff7f0e; stroke-width: 1.5; stroke-linecap: square\"/>\n   </g>\n   <g id=\"patch_3\">\n    <path d=\"M 56.989063 273.312 \nL 56.989063 7.2 \n\" style=\"fill: none; stroke: #000000; stroke-width: 0.8; stroke-linejoin: miter; stroke-linecap: square\"/>\n   </g>\n   <g id=\"patch_4\">\n    <path d=\"M 414.109063 273.312 \nL 414.109063 7.2 \n\" style=\"fill: none; stroke: #000000; stroke-width: 0.8; stroke-linejoin: miter; stroke-linecap: square\"/>\n   </g>\n   <g id=\"patch_5\">\n    <path d=\"M 56.989063 273.312 \nL 414.109062 273.312 \n\" style=\"fill: none; stroke: #000000; stroke-width: 0.8; stroke-linejoin: miter; stroke-linecap: square\"/>\n   </g>\n   <g id=\"patch_6\">\n    <path d=\"M 56.989063 7.2 \nL 414.109062 7.2 \n\" style=\"fill: none; stroke: #000000; stroke-width: 0.8; stroke-linejoin: miter; stroke-linecap: square\"/>\n   </g>\n  </g>\n </g>\n <defs>\n  <clipPath id=\"p05245f1ffa\">\n   <rect x=\"56.989063\" y=\"7.2\" width=\"357.12\" height=\"266.112\"/>\n  </clipPath>\n </defs>\n</svg>\n",
      "text/plain": [
       "<Figure size 640x480 with 1 Axes>"
      ]
     },
     "metadata": {},
     "output_type": "display_data"
    }
   ],
   "source": [
    "import math\n",
    "\n",
    "EPS_END = 0.1\n",
    "EPS_START = 0.9\n",
    "EPS_DECAY = 200     # (0.9 - 0.05) * exp(-1.* 1000 / 200) = 0.005\n",
    "x = list(range(1000))\n",
    "eps_threshold = [EPS_END + (EPS_START - EPS_END) * math.exp(-1. * xi / EPS_DECAY) for xi in x]\n",
    "plt.plot(x, eps_threshold)\n",
    "plt.plot(x, [EPS_END]*1000)\n",
    "\n",
    "fontsize = 15\n",
    "plt.xticks(fontsize=fontsize) # ,rotation=90\n",
    "plt.yticks(fontsize=fontsize)\n",
    "plt.xlabel(\"step\", fontsize=fontsize)\n",
    "plt.ylabel(\"eps_threshold\", fontsize=fontsize)\n",
    "# plt.savefig(\"F:/Users/Documents/汇报/img/eps_threshold_0.1.png\")"
   ]
  },
  {
   "cell_type": "code",
   "execution_count": 26,
   "metadata": {},
   "outputs": [
    {
     "data": {
      "text/plain": [
       "0.005727254949222647"
      ]
     },
     "execution_count": 26,
     "metadata": {},
     "output_type": "execute_result"
    }
   ],
   "source": [
    "(0.9 - 0.05) * math.exp(-1.* 1000 / 200)"
   ]
  },
  {
   "attachments": {},
   "cell_type": "markdown",
   "metadata": {},
   "source": [
    "### lr衰减"
   ]
  },
  {
   "cell_type": "code",
   "execution_count": 16,
   "metadata": {},
   "outputs": [
    {
     "data": {
      "text/plain": [
       "Text(0, 0.5, 'lr_decay')"
      ]
     },
     "execution_count": 16,
     "metadata": {},
     "output_type": "execute_result"
    },
    {
     "data": {
      "image/svg+xml": "<?xml version=\"1.0\" encoding=\"utf-8\" standalone=\"no\"?>\n<!DOCTYPE svg PUBLIC \"-//W3C//DTD SVG 1.1//EN\"\n  \"http://www.w3.org/Graphics/SVG/1.1/DTD/svg11.dtd\">\n<svg xmlns:xlink=\"http://www.w3.org/1999/xlink\" width=\"424.488815pt\" height=\"320.546375pt\" viewBox=\"0 0 424.488815 320.546375\" xmlns=\"http://www.w3.org/2000/svg\" version=\"1.1\">\n <metadata>\n  <rdf:RDF xmlns:dc=\"http://purl.org/dc/elements/1.1/\" xmlns:cc=\"http://creativecommons.org/ns#\" xmlns:rdf=\"http://www.w3.org/1999/02/22-rdf-syntax-ns#\">\n   <cc:Work>\n    <dc:type rdf:resource=\"http://purl.org/dc/dcmitype/StillImage\"/>\n    <dc:date>2022-12-01T15:59:23.852663</dc:date>\n    <dc:format>image/svg+xml</dc:format>\n    <dc:creator>\n     <cc:Agent>\n      <dc:title>Matplotlib v3.5.3, https://matplotlib.org/</dc:title>\n     </cc:Agent>\n    </dc:creator>\n   </cc:Work>\n  </rdf:RDF>\n </metadata>\n <defs>\n  <style type=\"text/css\">*{stroke-linejoin: round; stroke-linecap: butt}</style>\n </defs>\n <g id=\"figure_1\">\n  <g id=\"patch_1\">\n   <path d=\"M 0 320.546375 \nL 424.488815 320.546375 \nL 424.488815 0 \nL 0 0 \nz\n\" style=\"fill: #ffffff\"/>\n  </g>\n  <g id=\"axes_1\">\n   <g id=\"patch_2\">\n    <path d=\"M 56.989063 273.312 \nL 414.109063 273.312 \nL 414.109063 7.2 \nL 56.989063 7.2 \nz\n\" style=\"fill: #ffffff\"/>\n   </g>\n   <g id=\"matplotlib.axis_1\">\n    <g id=\"xtick_1\">\n     <g id=\"line2d_1\">\n      <defs>\n       <path id=\"mad1cbf86b7\" d=\"M 0 0 \nL 0 3.5 \n\" style=\"stroke: #000000; stroke-width: 0.8\"/>\n      </defs>\n      <g>\n       <use xlink:href=\"#mad1cbf86b7\" x=\"73.22179\" y=\"273.312\" style=\"stroke: #000000; stroke-width: 0.8\"/>\n      </g>\n     </g>\n     <g id=\"text_1\">\n      <!-- 0 -->\n      <g transform=\"translate(68.449915 291.709656)scale(0.15 -0.15)\">\n       <defs>\n        <path id=\"DejaVuSans-30\" d=\"M 2034 4250 \nQ 1547 4250 1301 3770 \nQ 1056 3291 1056 2328 \nQ 1056 1369 1301 889 \nQ 1547 409 2034 409 \nQ 2525 409 2770 889 \nQ 3016 1369 3016 2328 \nQ 3016 3291 2770 3770 \nQ 2525 4250 2034 4250 \nz\nM 2034 4750 \nQ 2819 4750 3233 4129 \nQ 3647 3509 3647 2328 \nQ 3647 1150 3233 529 \nQ 2819 -91 2034 -91 \nQ 1250 -91 836 529 \nQ 422 1150 422 2328 \nQ 422 3509 836 4129 \nQ 1250 4750 2034 4750 \nz\n\" transform=\"scale(0.015625)\"/>\n       </defs>\n       <use xlink:href=\"#DejaVuSans-30\"/>\n      </g>\n     </g>\n    </g>\n    <g id=\"xtick_2\">\n     <g id=\"line2d_2\">\n      <g>\n       <use xlink:href=\"#mad1cbf86b7\" x=\"138.217695\" y=\"273.312\" style=\"stroke: #000000; stroke-width: 0.8\"/>\n      </g>\n     </g>\n     <g id=\"text_2\">\n      <!-- 200 -->\n      <g transform=\"translate(123.90207 291.709656)scale(0.15 -0.15)\">\n       <defs>\n        <path id=\"DejaVuSans-32\" d=\"M 1228 531 \nL 3431 531 \nL 3431 0 \nL 469 0 \nL 469 531 \nQ 828 903 1448 1529 \nQ 2069 2156 2228 2338 \nQ 2531 2678 2651 2914 \nQ 2772 3150 2772 3378 \nQ 2772 3750 2511 3984 \nQ 2250 4219 1831 4219 \nQ 1534 4219 1204 4116 \nQ 875 4013 500 3803 \nL 500 4441 \nQ 881 4594 1212 4672 \nQ 1544 4750 1819 4750 \nQ 2544 4750 2975 4387 \nQ 3406 4025 3406 3419 \nQ 3406 3131 3298 2873 \nQ 3191 2616 2906 2266 \nQ 2828 2175 2409 1742 \nQ 1991 1309 1228 531 \nz\n\" transform=\"scale(0.015625)\"/>\n       </defs>\n       <use xlink:href=\"#DejaVuSans-32\"/>\n       <use xlink:href=\"#DejaVuSans-30\" x=\"63.623047\"/>\n       <use xlink:href=\"#DejaVuSans-30\" x=\"127.246094\"/>\n      </g>\n     </g>\n    </g>\n    <g id=\"xtick_3\">\n     <g id=\"line2d_3\">\n      <g>\n       <use xlink:href=\"#mad1cbf86b7\" x=\"203.2136\" y=\"273.312\" style=\"stroke: #000000; stroke-width: 0.8\"/>\n      </g>\n     </g>\n     <g id=\"text_3\">\n      <!-- 400 -->\n      <g transform=\"translate(188.897975 291.709656)scale(0.15 -0.15)\">\n       <defs>\n        <path id=\"DejaVuSans-34\" d=\"M 2419 4116 \nL 825 1625 \nL 2419 1625 \nL 2419 4116 \nz\nM 2253 4666 \nL 3047 4666 \nL 3047 1625 \nL 3713 1625 \nL 3713 1100 \nL 3047 1100 \nL 3047 0 \nL 2419 0 \nL 2419 1100 \nL 313 1100 \nL 313 1709 \nL 2253 4666 \nz\n\" transform=\"scale(0.015625)\"/>\n       </defs>\n       <use xlink:href=\"#DejaVuSans-34\"/>\n       <use xlink:href=\"#DejaVuSans-30\" x=\"63.623047\"/>\n       <use xlink:href=\"#DejaVuSans-30\" x=\"127.246094\"/>\n      </g>\n     </g>\n    </g>\n    <g id=\"xtick_4\">\n     <g id=\"line2d_4\">\n      <g>\n       <use xlink:href=\"#mad1cbf86b7\" x=\"268.209505\" y=\"273.312\" style=\"stroke: #000000; stroke-width: 0.8\"/>\n      </g>\n     </g>\n     <g id=\"text_4\">\n      <!-- 600 -->\n      <g transform=\"translate(253.89388 291.709656)scale(0.15 -0.15)\">\n       <defs>\n        <path id=\"DejaVuSans-36\" d=\"M 2113 2584 \nQ 1688 2584 1439 2293 \nQ 1191 2003 1191 1497 \nQ 1191 994 1439 701 \nQ 1688 409 2113 409 \nQ 2538 409 2786 701 \nQ 3034 994 3034 1497 \nQ 3034 2003 2786 2293 \nQ 2538 2584 2113 2584 \nz\nM 3366 4563 \nL 3366 3988 \nQ 3128 4100 2886 4159 \nQ 2644 4219 2406 4219 \nQ 1781 4219 1451 3797 \nQ 1122 3375 1075 2522 \nQ 1259 2794 1537 2939 \nQ 1816 3084 2150 3084 \nQ 2853 3084 3261 2657 \nQ 3669 2231 3669 1497 \nQ 3669 778 3244 343 \nQ 2819 -91 2113 -91 \nQ 1303 -91 875 529 \nQ 447 1150 447 2328 \nQ 447 3434 972 4092 \nQ 1497 4750 2381 4750 \nQ 2619 4750 2861 4703 \nQ 3103 4656 3366 4563 \nz\n\" transform=\"scale(0.015625)\"/>\n       </defs>\n       <use xlink:href=\"#DejaVuSans-36\"/>\n       <use xlink:href=\"#DejaVuSans-30\" x=\"63.623047\"/>\n       <use xlink:href=\"#DejaVuSans-30\" x=\"127.246094\"/>\n      </g>\n     </g>\n    </g>\n    <g id=\"xtick_5\">\n     <g id=\"line2d_5\">\n      <g>\n       <use xlink:href=\"#mad1cbf86b7\" x=\"333.20541\" y=\"273.312\" style=\"stroke: #000000; stroke-width: 0.8\"/>\n      </g>\n     </g>\n     <g id=\"text_5\">\n      <!-- 800 -->\n      <g transform=\"translate(318.889785 291.709656)scale(0.15 -0.15)\">\n       <defs>\n        <path id=\"DejaVuSans-38\" d=\"M 2034 2216 \nQ 1584 2216 1326 1975 \nQ 1069 1734 1069 1313 \nQ 1069 891 1326 650 \nQ 1584 409 2034 409 \nQ 2484 409 2743 651 \nQ 3003 894 3003 1313 \nQ 3003 1734 2745 1975 \nQ 2488 2216 2034 2216 \nz\nM 1403 2484 \nQ 997 2584 770 2862 \nQ 544 3141 544 3541 \nQ 544 4100 942 4425 \nQ 1341 4750 2034 4750 \nQ 2731 4750 3128 4425 \nQ 3525 4100 3525 3541 \nQ 3525 3141 3298 2862 \nQ 3072 2584 2669 2484 \nQ 3125 2378 3379 2068 \nQ 3634 1759 3634 1313 \nQ 3634 634 3220 271 \nQ 2806 -91 2034 -91 \nQ 1263 -91 848 271 \nQ 434 634 434 1313 \nQ 434 1759 690 2068 \nQ 947 2378 1403 2484 \nz\nM 1172 3481 \nQ 1172 3119 1398 2916 \nQ 1625 2713 2034 2713 \nQ 2441 2713 2670 2916 \nQ 2900 3119 2900 3481 \nQ 2900 3844 2670 4047 \nQ 2441 4250 2034 4250 \nQ 1625 4250 1398 4047 \nQ 1172 3844 1172 3481 \nz\n\" transform=\"scale(0.015625)\"/>\n       </defs>\n       <use xlink:href=\"#DejaVuSans-38\"/>\n       <use xlink:href=\"#DejaVuSans-30\" x=\"63.623047\"/>\n       <use xlink:href=\"#DejaVuSans-30\" x=\"127.246094\"/>\n      </g>\n     </g>\n    </g>\n    <g id=\"xtick_6\">\n     <g id=\"line2d_6\">\n      <g>\n       <use xlink:href=\"#mad1cbf86b7\" x=\"398.201315\" y=\"273.312\" style=\"stroke: #000000; stroke-width: 0.8\"/>\n      </g>\n     </g>\n     <g id=\"text_6\">\n      <!-- 1000 -->\n      <g transform=\"translate(379.113815 291.709656)scale(0.15 -0.15)\">\n       <defs>\n        <path id=\"DejaVuSans-31\" d=\"M 794 531 \nL 1825 531 \nL 1825 4091 \nL 703 3866 \nL 703 4441 \nL 1819 4666 \nL 2450 4666 \nL 2450 531 \nL 3481 531 \nL 3481 0 \nL 794 0 \nL 794 531 \nz\n\" transform=\"scale(0.015625)\"/>\n       </defs>\n       <use xlink:href=\"#DejaVuSans-31\"/>\n       <use xlink:href=\"#DejaVuSans-30\" x=\"63.623047\"/>\n       <use xlink:href=\"#DejaVuSans-30\" x=\"127.246094\"/>\n       <use xlink:href=\"#DejaVuSans-30\" x=\"190.869141\"/>\n      </g>\n     </g>\n    </g>\n    <g id=\"text_7\">\n     <!-- epoch -->\n     <g transform=\"translate(212.706875 310.226844)scale(0.15 -0.15)\">\n      <defs>\n       <path id=\"DejaVuSans-65\" d=\"M 3597 1894 \nL 3597 1613 \nL 953 1613 \nQ 991 1019 1311 708 \nQ 1631 397 2203 397 \nQ 2534 397 2845 478 \nQ 3156 559 3463 722 \nL 3463 178 \nQ 3153 47 2828 -22 \nQ 2503 -91 2169 -91 \nQ 1331 -91 842 396 \nQ 353 884 353 1716 \nQ 353 2575 817 3079 \nQ 1281 3584 2069 3584 \nQ 2775 3584 3186 3129 \nQ 3597 2675 3597 1894 \nz\nM 3022 2063 \nQ 3016 2534 2758 2815 \nQ 2500 3097 2075 3097 \nQ 1594 3097 1305 2825 \nQ 1016 2553 972 2059 \nL 3022 2063 \nz\n\" transform=\"scale(0.015625)\"/>\n       <path id=\"DejaVuSans-70\" d=\"M 1159 525 \nL 1159 -1331 \nL 581 -1331 \nL 581 3500 \nL 1159 3500 \nL 1159 2969 \nQ 1341 3281 1617 3432 \nQ 1894 3584 2278 3584 \nQ 2916 3584 3314 3078 \nQ 3713 2572 3713 1747 \nQ 3713 922 3314 415 \nQ 2916 -91 2278 -91 \nQ 1894 -91 1617 61 \nQ 1341 213 1159 525 \nz\nM 3116 1747 \nQ 3116 2381 2855 2742 \nQ 2594 3103 2138 3103 \nQ 1681 3103 1420 2742 \nQ 1159 2381 1159 1747 \nQ 1159 1113 1420 752 \nQ 1681 391 2138 391 \nQ 2594 391 2855 752 \nQ 3116 1113 3116 1747 \nz\n\" transform=\"scale(0.015625)\"/>\n       <path id=\"DejaVuSans-6f\" d=\"M 1959 3097 \nQ 1497 3097 1228 2736 \nQ 959 2375 959 1747 \nQ 959 1119 1226 758 \nQ 1494 397 1959 397 \nQ 2419 397 2687 759 \nQ 2956 1122 2956 1747 \nQ 2956 2369 2687 2733 \nQ 2419 3097 1959 3097 \nz\nM 1959 3584 \nQ 2709 3584 3137 3096 \nQ 3566 2609 3566 1747 \nQ 3566 888 3137 398 \nQ 2709 -91 1959 -91 \nQ 1206 -91 779 398 \nQ 353 888 353 1747 \nQ 353 2609 779 3096 \nQ 1206 3584 1959 3584 \nz\n\" transform=\"scale(0.015625)\"/>\n       <path id=\"DejaVuSans-63\" d=\"M 3122 3366 \nL 3122 2828 \nQ 2878 2963 2633 3030 \nQ 2388 3097 2138 3097 \nQ 1578 3097 1268 2742 \nQ 959 2388 959 1747 \nQ 959 1106 1268 751 \nQ 1578 397 2138 397 \nQ 2388 397 2633 464 \nQ 2878 531 3122 666 \nL 3122 134 \nQ 2881 22 2623 -34 \nQ 2366 -91 2075 -91 \nQ 1284 -91 818 406 \nQ 353 903 353 1747 \nQ 353 2603 823 3093 \nQ 1294 3584 2113 3584 \nQ 2378 3584 2631 3529 \nQ 2884 3475 3122 3366 \nz\n\" transform=\"scale(0.015625)\"/>\n       <path id=\"DejaVuSans-68\" d=\"M 3513 2113 \nL 3513 0 \nL 2938 0 \nL 2938 2094 \nQ 2938 2591 2744 2837 \nQ 2550 3084 2163 3084 \nQ 1697 3084 1428 2787 \nQ 1159 2491 1159 1978 \nL 1159 0 \nL 581 0 \nL 581 4863 \nL 1159 4863 \nL 1159 2956 \nQ 1366 3272 1645 3428 \nQ 1925 3584 2291 3584 \nQ 2894 3584 3203 3211 \nQ 3513 2838 3513 2113 \nz\n\" transform=\"scale(0.015625)\"/>\n      </defs>\n      <use xlink:href=\"#DejaVuSans-65\"/>\n      <use xlink:href=\"#DejaVuSans-70\" x=\"61.523438\"/>\n      <use xlink:href=\"#DejaVuSans-6f\" x=\"125\"/>\n      <use xlink:href=\"#DejaVuSans-63\" x=\"186.181641\"/>\n      <use xlink:href=\"#DejaVuSans-68\" x=\"241.162109\"/>\n     </g>\n    </g>\n   </g>\n   <g id=\"matplotlib.axis_2\">\n    <g id=\"ytick_1\">\n     <g id=\"line2d_7\">\n      <defs>\n       <path id=\"m8f76e0b110\" d=\"M 0 0 \nL -3.5 0 \n\" style=\"stroke: #000000; stroke-width: 0.8\"/>\n      </defs>\n      <g>\n       <use xlink:href=\"#m8f76e0b110\" x=\"56.989063\" y=\"261.22655\" style=\"stroke: #000000; stroke-width: 0.8\"/>\n      </g>\n     </g>\n     <g id=\"text_8\">\n      <!-- 0.0 -->\n      <g transform=\"translate(26.134375 266.925378)scale(0.15 -0.15)\">\n       <defs>\n        <path id=\"DejaVuSans-2e\" d=\"M 684 794 \nL 1344 794 \nL 1344 0 \nL 684 0 \nL 684 794 \nz\n\" transform=\"scale(0.015625)\"/>\n       </defs>\n       <use xlink:href=\"#DejaVuSans-30\"/>\n       <use xlink:href=\"#DejaVuSans-2e\" x=\"63.623047\"/>\n       <use xlink:href=\"#DejaVuSans-30\" x=\"95.410156\"/>\n      </g>\n     </g>\n    </g>\n    <g id=\"ytick_2\">\n     <g id=\"line2d_8\">\n      <g>\n       <use xlink:href=\"#m8f76e0b110\" x=\"56.989063\" y=\"212.84044\" style=\"stroke: #000000; stroke-width: 0.8\"/>\n      </g>\n     </g>\n     <g id=\"text_9\">\n      <!-- 0.2 -->\n      <g transform=\"translate(26.134375 218.539268)scale(0.15 -0.15)\">\n       <use xlink:href=\"#DejaVuSans-30\"/>\n       <use xlink:href=\"#DejaVuSans-2e\" x=\"63.623047\"/>\n       <use xlink:href=\"#DejaVuSans-32\" x=\"95.410156\"/>\n      </g>\n     </g>\n    </g>\n    <g id=\"ytick_3\">\n     <g id=\"line2d_9\">\n      <g>\n       <use xlink:href=\"#m8f76e0b110\" x=\"56.989063\" y=\"164.45433\" style=\"stroke: #000000; stroke-width: 0.8\"/>\n      </g>\n     </g>\n     <g id=\"text_10\">\n      <!-- 0.4 -->\n      <g transform=\"translate(26.134375 170.153158)scale(0.15 -0.15)\">\n       <use xlink:href=\"#DejaVuSans-30\"/>\n       <use xlink:href=\"#DejaVuSans-2e\" x=\"63.623047\"/>\n       <use xlink:href=\"#DejaVuSans-34\" x=\"95.410156\"/>\n      </g>\n     </g>\n    </g>\n    <g id=\"ytick_4\">\n     <g id=\"line2d_10\">\n      <g>\n       <use xlink:href=\"#m8f76e0b110\" x=\"56.989063\" y=\"116.06822\" style=\"stroke: #000000; stroke-width: 0.8\"/>\n      </g>\n     </g>\n     <g id=\"text_11\">\n      <!-- 0.6 -->\n      <g transform=\"translate(26.134375 121.767048)scale(0.15 -0.15)\">\n       <use xlink:href=\"#DejaVuSans-30\"/>\n       <use xlink:href=\"#DejaVuSans-2e\" x=\"63.623047\"/>\n       <use xlink:href=\"#DejaVuSans-36\" x=\"95.410156\"/>\n      </g>\n     </g>\n    </g>\n    <g id=\"ytick_5\">\n     <g id=\"line2d_11\">\n      <g>\n       <use xlink:href=\"#m8f76e0b110\" x=\"56.989063\" y=\"67.68211\" style=\"stroke: #000000; stroke-width: 0.8\"/>\n      </g>\n     </g>\n     <g id=\"text_12\">\n      <!-- 0.8 -->\n      <g transform=\"translate(26.134375 73.380938)scale(0.15 -0.15)\">\n       <use xlink:href=\"#DejaVuSans-30\"/>\n       <use xlink:href=\"#DejaVuSans-2e\" x=\"63.623047\"/>\n       <use xlink:href=\"#DejaVuSans-38\" x=\"95.410156\"/>\n      </g>\n     </g>\n    </g>\n    <g id=\"ytick_6\">\n     <g id=\"line2d_12\">\n      <g>\n       <use xlink:href=\"#m8f76e0b110\" x=\"56.989063\" y=\"19.296\" style=\"stroke: #000000; stroke-width: 0.8\"/>\n      </g>\n     </g>\n     <g id=\"text_13\">\n      <!-- 1.0 -->\n      <g transform=\"translate(26.134375 24.994828)scale(0.15 -0.15)\">\n       <use xlink:href=\"#DejaVuSans-31\"/>\n       <use xlink:href=\"#DejaVuSans-2e\" x=\"63.623047\"/>\n       <use xlink:href=\"#DejaVuSans-30\" x=\"95.410156\"/>\n      </g>\n     </g>\n    </g>\n    <g id=\"text_14\">\n     <!-- lr_decay -->\n     <g transform=\"translate(18.597656 171.707953)rotate(-90)scale(0.15 -0.15)\">\n      <defs>\n       <path id=\"DejaVuSans-6c\" d=\"M 603 4863 \nL 1178 4863 \nL 1178 0 \nL 603 0 \nL 603 4863 \nz\n\" transform=\"scale(0.015625)\"/>\n       <path id=\"DejaVuSans-72\" d=\"M 2631 2963 \nQ 2534 3019 2420 3045 \nQ 2306 3072 2169 3072 \nQ 1681 3072 1420 2755 \nQ 1159 2438 1159 1844 \nL 1159 0 \nL 581 0 \nL 581 3500 \nL 1159 3500 \nL 1159 2956 \nQ 1341 3275 1631 3429 \nQ 1922 3584 2338 3584 \nQ 2397 3584 2469 3576 \nQ 2541 3569 2628 3553 \nL 2631 2963 \nz\n\" transform=\"scale(0.015625)\"/>\n       <path id=\"DejaVuSans-5f\" d=\"M 3263 -1063 \nL 3263 -1509 \nL -63 -1509 \nL -63 -1063 \nL 3263 -1063 \nz\n\" transform=\"scale(0.015625)\"/>\n       <path id=\"DejaVuSans-64\" d=\"M 2906 2969 \nL 2906 4863 \nL 3481 4863 \nL 3481 0 \nL 2906 0 \nL 2906 525 \nQ 2725 213 2448 61 \nQ 2172 -91 1784 -91 \nQ 1150 -91 751 415 \nQ 353 922 353 1747 \nQ 353 2572 751 3078 \nQ 1150 3584 1784 3584 \nQ 2172 3584 2448 3432 \nQ 2725 3281 2906 2969 \nz\nM 947 1747 \nQ 947 1113 1208 752 \nQ 1469 391 1925 391 \nQ 2381 391 2643 752 \nQ 2906 1113 2906 1747 \nQ 2906 2381 2643 2742 \nQ 2381 3103 1925 3103 \nQ 1469 3103 1208 2742 \nQ 947 2381 947 1747 \nz\n\" transform=\"scale(0.015625)\"/>\n       <path id=\"DejaVuSans-61\" d=\"M 2194 1759 \nQ 1497 1759 1228 1600 \nQ 959 1441 959 1056 \nQ 959 750 1161 570 \nQ 1363 391 1709 391 \nQ 2188 391 2477 730 \nQ 2766 1069 2766 1631 \nL 2766 1759 \nL 2194 1759 \nz\nM 3341 1997 \nL 3341 0 \nL 2766 0 \nL 2766 531 \nQ 2569 213 2275 61 \nQ 1981 -91 1556 -91 \nQ 1019 -91 701 211 \nQ 384 513 384 1019 \nQ 384 1609 779 1909 \nQ 1175 2209 1959 2209 \nL 2766 2209 \nL 2766 2266 \nQ 2766 2663 2505 2880 \nQ 2244 3097 1772 3097 \nQ 1472 3097 1187 3025 \nQ 903 2953 641 2809 \nL 641 3341 \nQ 956 3463 1253 3523 \nQ 1550 3584 1831 3584 \nQ 2591 3584 2966 3190 \nQ 3341 2797 3341 1997 \nz\n\" transform=\"scale(0.015625)\"/>\n       <path id=\"DejaVuSans-79\" d=\"M 2059 -325 \nQ 1816 -950 1584 -1140 \nQ 1353 -1331 966 -1331 \nL 506 -1331 \nL 506 -850 \nL 844 -850 \nQ 1081 -850 1212 -737 \nQ 1344 -625 1503 -206 \nL 1606 56 \nL 191 3500 \nL 800 3500 \nL 1894 763 \nL 2988 3500 \nL 3597 3500 \nL 2059 -325 \nz\n\" transform=\"scale(0.015625)\"/>\n      </defs>\n      <use xlink:href=\"#DejaVuSans-6c\"/>\n      <use xlink:href=\"#DejaVuSans-72\" x=\"27.783203\"/>\n      <use xlink:href=\"#DejaVuSans-5f\" x=\"68.896484\"/>\n      <use xlink:href=\"#DejaVuSans-64\" x=\"118.896484\"/>\n      <use xlink:href=\"#DejaVuSans-65\" x=\"182.373047\"/>\n      <use xlink:href=\"#DejaVuSans-63\" x=\"243.896484\"/>\n      <use xlink:href=\"#DejaVuSans-61\" x=\"298.876953\"/>\n      <use xlink:href=\"#DejaVuSans-79\" x=\"360.15625\"/>\n     </g>\n    </g>\n   </g>\n   <g id=\"line2d_13\">\n    <path d=\"M 73.22179 19.296 \nL 75.821626 37.986419 \nL 78.421462 55.232903 \nL 81.021298 71.147005 \nL 83.621135 85.831659 \nL 86.220971 99.381844 \nL 88.820807 111.885207 \nL 91.420643 123.422618 \nL 94.020479 134.068703 \nL 96.945295 145.065663 \nL 99.870111 155.111577 \nL 102.794927 164.288692 \nL 105.719742 172.672144 \nL 108.644558 180.330573 \nL 111.569374 187.32668 \nL 114.494189 193.717744 \nL 117.419005 199.556091 \nL 120.343821 204.889522 \nL 123.268637 209.761704 \nL 126.193452 214.212525 \nL 129.118268 218.278427 \nL 132.043084 221.992699 \nL 135.292879 225.744159 \nL 138.542674 229.136911 \nL 141.79247 232.205256 \nL 145.042265 234.980212 \nL 148.61704 237.727199 \nL 152.191814 240.186682 \nL 155.766589 242.388752 \nL 159.666343 244.529011 \nL 163.566098 246.426104 \nL 167.790832 248.238847 \nL 172.340545 249.943538 \nL 177.215238 251.522501 \nL 182.41491 252.963962 \nL 187.939562 254.261658 \nL 194.114173 255.472374 \nL 200.613764 256.52017 \nL 208.088293 257.4915 \nL 216.212781 258.321348 \nL 225.637187 259.055864 \nL 236.686491 259.684162 \nL 249.685672 260.194736 \nL 265.934648 260.602296 \nL 287.383297 260.904974 \nL 318.581331 261.104014 \nL 374.802789 261.205015 \nL 397.876335 261.216 \nL 397.876335 261.216 \n\" clip-path=\"url(#pa5733f63d4)\" style=\"fill: none; stroke: #1f77b4; stroke-width: 1.5; stroke-linecap: square\"/>\n   </g>\n   <g id=\"line2d_14\">\n    <path d=\"M 73.22179 237.033495 \nL 397.876335 237.033495 \nL 397.876335 237.033495 \n\" clip-path=\"url(#pa5733f63d4)\" style=\"fill: none; stroke: #ff7f0e; stroke-width: 1.5; stroke-linecap: square\"/>\n   </g>\n   <g id=\"line2d_15\">\n    <path d=\"M 73.22179 258.807244 \nL 397.876335 258.807244 \nL 397.876335 258.807244 \n\" clip-path=\"url(#pa5733f63d4)\" style=\"fill: none; stroke: #2ca02c; stroke-width: 1.5; stroke-linecap: square\"/>\n   </g>\n   <g id=\"patch_3\">\n    <path d=\"M 56.989063 273.312 \nL 56.989063 7.2 \n\" style=\"fill: none; stroke: #000000; stroke-width: 0.8; stroke-linejoin: miter; stroke-linecap: square\"/>\n   </g>\n   <g id=\"patch_4\">\n    <path d=\"M 414.109063 273.312 \nL 414.109063 7.2 \n\" style=\"fill: none; stroke: #000000; stroke-width: 0.8; stroke-linejoin: miter; stroke-linecap: square\"/>\n   </g>\n   <g id=\"patch_5\">\n    <path d=\"M 56.989063 273.312 \nL 414.109062 273.312 \n\" style=\"fill: none; stroke: #000000; stroke-width: 0.8; stroke-linejoin: miter; stroke-linecap: square\"/>\n   </g>\n   <g id=\"patch_6\">\n    <path d=\"M 56.989063 7.2 \nL 414.109062 7.2 \n\" style=\"fill: none; stroke: #000000; stroke-width: 0.8; stroke-linejoin: miter; stroke-linecap: square\"/>\n   </g>\n   <g id=\"legend_1\">\n    <g id=\"patch_7\">\n     <path d=\"M 292.705156 85.66875 \nL 403.609063 85.66875 \nQ 406.609063 85.66875 406.609063 82.66875 \nL 406.609063 17.7 \nQ 406.609063 14.7 403.609063 14.7 \nL 292.705156 14.7 \nQ 289.705156 14.7 289.705156 17.7 \nL 289.705156 82.66875 \nQ 289.705156 85.66875 292.705156 85.66875 \nz\n\" style=\"fill: #ffffff; opacity: 0.8; stroke: #cccccc; stroke-linejoin: miter\"/>\n    </g>\n    <g id=\"line2d_16\">\n     <path d=\"M 295.705156 26.847656 \nL 310.705156 26.847656 \nL 325.705156 26.847656 \n\" style=\"fill: none; stroke: #1f77b4; stroke-width: 1.5; stroke-linecap: square\"/>\n    </g>\n    <g id=\"text_15\">\n     <!-- lr_decay -->\n     <g transform=\"translate(337.705156 32.097656)scale(0.15 -0.15)\">\n      <use xlink:href=\"#DejaVuSans-6c\"/>\n      <use xlink:href=\"#DejaVuSans-72\" x=\"27.783203\"/>\n      <use xlink:href=\"#DejaVuSans-5f\" x=\"68.896484\"/>\n      <use xlink:href=\"#DejaVuSans-64\" x=\"118.896484\"/>\n      <use xlink:href=\"#DejaVuSans-65\" x=\"182.373047\"/>\n      <use xlink:href=\"#DejaVuSans-63\" x=\"243.896484\"/>\n      <use xlink:href=\"#DejaVuSans-61\" x=\"298.876953\"/>\n      <use xlink:href=\"#DejaVuSans-79\" x=\"360.15625\"/>\n     </g>\n    </g>\n    <g id=\"line2d_17\">\n     <path d=\"M 295.705156 49.282031 \nL 310.705156 49.282031 \nL 325.705156 49.282031 \n\" style=\"fill: none; stroke: #ff7f0e; stroke-width: 1.5; stroke-linecap: square\"/>\n    </g>\n    <g id=\"text_16\">\n     <!-- lr=0.1 -->\n     <g transform=\"translate(337.705156 54.532031)scale(0.15 -0.15)\">\n      <defs>\n       <path id=\"DejaVuSans-3d\" d=\"M 678 2906 \nL 4684 2906 \nL 4684 2381 \nL 678 2381 \nL 678 2906 \nz\nM 678 1631 \nL 4684 1631 \nL 4684 1100 \nL 678 1100 \nL 678 1631 \nz\n\" transform=\"scale(0.015625)\"/>\n      </defs>\n      <use xlink:href=\"#DejaVuSans-6c\"/>\n      <use xlink:href=\"#DejaVuSans-72\" x=\"27.783203\"/>\n      <use xlink:href=\"#DejaVuSans-3d\" x=\"68.896484\"/>\n      <use xlink:href=\"#DejaVuSans-30\" x=\"152.685547\"/>\n      <use xlink:href=\"#DejaVuSans-2e\" x=\"216.308594\"/>\n      <use xlink:href=\"#DejaVuSans-31\" x=\"248.095703\"/>\n     </g>\n    </g>\n    <g id=\"line2d_18\">\n     <path d=\"M 295.705156 71.299219 \nL 310.705156 71.299219 \nL 325.705156 71.299219 \n\" style=\"fill: none; stroke: #2ca02c; stroke-width: 1.5; stroke-linecap: square\"/>\n    </g>\n    <g id=\"text_17\">\n     <!-- lr=0.01 -->\n     <g transform=\"translate(337.705156 76.549219)scale(0.15 -0.15)\">\n      <use xlink:href=\"#DejaVuSans-6c\"/>\n      <use xlink:href=\"#DejaVuSans-72\" x=\"27.783203\"/>\n      <use xlink:href=\"#DejaVuSans-3d\" x=\"68.896484\"/>\n      <use xlink:href=\"#DejaVuSans-30\" x=\"152.685547\"/>\n      <use xlink:href=\"#DejaVuSans-2e\" x=\"216.308594\"/>\n      <use xlink:href=\"#DejaVuSans-30\" x=\"248.095703\"/>\n      <use xlink:href=\"#DejaVuSans-31\" x=\"311.71875\"/>\n     </g>\n    </g>\n   </g>\n  </g>\n </g>\n <defs>\n  <clipPath id=\"pa5733f63d4\">\n   <rect x=\"56.989063\" y=\"7.2\" width=\"357.12\" height=\"266.112\"/>\n  </clipPath>\n </defs>\n</svg>\n",
      "text/plain": [
       "<Figure size 640x480 with 1 Axes>"
      ]
     },
     "metadata": {},
     "output_type": "display_data"
    }
   ],
   "source": [
    "from matplotlib import pyplot as plt\n",
    "import matplotlib\n",
    "%matplotlib inline\n",
    "%config InlineBackend.figure_format = 'svg'\n",
    "\n",
    "x = list(range(1000))\n",
    "lr = 1\n",
    "lr_decay = [lr * 0.99 ** xi for xi in x]\n",
    "plt.plot(x, lr_decay, label=f\"lr_decay\")\n",
    "plt.plot(x, [0.1]*1000, label=\"lr=0.1\")\n",
    "plt.plot(x, [0.01]*1000, label=\"lr=0.01\")\n",
    "fontsize = 15\n",
    "plt.legend(fontsize=fontsize)\n",
    "plt.xticks(fontsize=fontsize) # ,rotation=90\n",
    "plt.yticks(fontsize=fontsize)\n",
    "plt.xlabel(\"epoch\", fontsize=fontsize)\n",
    "plt.ylabel(\"lr_decay\", fontsize=fontsize)\n",
    "# plt.savefig(\"F:/Users/Documents/汇报/img/eps_threshold_0.1.png\")"
   ]
  },
  {
   "attachments": {},
   "cell_type": "markdown",
   "metadata": {},
   "source": [
    "### gap_reward"
   ]
  },
  {
   "cell_type": "code",
   "execution_count": 36,
   "metadata": {},
   "outputs": [
    {
     "data": {
      "image/svg+xml": "<?xml version=\"1.0\" encoding=\"utf-8\" standalone=\"no\"?>\n<!DOCTYPE svg PUBLIC \"-//W3C//DTD SVG 1.1//EN\"\n  \"http://www.w3.org/Graphics/SVG/1.1/DTD/svg11.dtd\">\n<svg xmlns:xlink=\"http://www.w3.org/1999/xlink\" width=\"397.6075pt\" height=\"297.190125pt\" viewBox=\"0 0 397.6075 297.190125\" xmlns=\"http://www.w3.org/2000/svg\" version=\"1.1\">\n <metadata>\n  <rdf:RDF xmlns:dc=\"http://purl.org/dc/elements/1.1/\" xmlns:cc=\"http://creativecommons.org/ns#\" xmlns:rdf=\"http://www.w3.org/1999/02/22-rdf-syntax-ns#\">\n   <cc:Work>\n    <dc:type rdf:resource=\"http://purl.org/dc/dcmitype/StillImage\"/>\n    <dc:date>2022-12-01T21:36:09.064437</dc:date>\n    <dc:format>image/svg+xml</dc:format>\n    <dc:creator>\n     <cc:Agent>\n      <dc:title>Matplotlib v3.5.3, https://matplotlib.org/</dc:title>\n     </cc:Agent>\n    </dc:creator>\n   </cc:Work>\n  </rdf:RDF>\n </metadata>\n <defs>\n  <style type=\"text/css\">*{stroke-linejoin: round; stroke-linecap: butt}</style>\n </defs>\n <g id=\"figure_1\">\n  <g id=\"patch_1\">\n   <path d=\"M 0 297.190125 \nL 397.6075 297.190125 \nL 397.6075 0 \nL 0 0 \nz\n\" style=\"fill: #ffffff\"/>\n  </g>\n  <g id=\"axes_1\">\n   <g id=\"patch_2\">\n    <path d=\"M 33.2875 273.312 \nL 390.4075 273.312 \nL 390.4075 7.2 \nL 33.2875 7.2 \nz\n\" style=\"fill: #ffffff\"/>\n   </g>\n   <g id=\"matplotlib.axis_1\">\n    <g id=\"xtick_1\">\n     <g id=\"line2d_1\">\n      <defs>\n       <path id=\"m684cffd5d1\" d=\"M 0 0 \nL 0 3.5 \n\" style=\"stroke: #000000; stroke-width: 0.8\"/>\n      </defs>\n      <g>\n       <use xlink:href=\"#m684cffd5d1\" x=\"79.034277\" y=\"273.312\" style=\"stroke: #000000; stroke-width: 0.8\"/>\n      </g>\n     </g>\n     <g id=\"text_1\">\n      <!-- 0.0 -->\n      <g transform=\"translate(71.082714 287.910437)scale(0.1 -0.1)\">\n       <defs>\n        <path id=\"DejaVuSans-30\" d=\"M 2034 4250 \nQ 1547 4250 1301 3770 \nQ 1056 3291 1056 2328 \nQ 1056 1369 1301 889 \nQ 1547 409 2034 409 \nQ 2525 409 2770 889 \nQ 3016 1369 3016 2328 \nQ 3016 3291 2770 3770 \nQ 2525 4250 2034 4250 \nz\nM 2034 4750 \nQ 2819 4750 3233 4129 \nQ 3647 3509 3647 2328 \nQ 3647 1150 3233 529 \nQ 2819 -91 2034 -91 \nQ 1250 -91 836 529 \nQ 422 1150 422 2328 \nQ 422 3509 836 4129 \nQ 1250 4750 2034 4750 \nz\n\" transform=\"scale(0.015625)\"/>\n        <path id=\"DejaVuSans-2e\" d=\"M 684 794 \nL 1344 794 \nL 1344 0 \nL 684 0 \nL 684 794 \nz\n\" transform=\"scale(0.015625)\"/>\n       </defs>\n       <use xlink:href=\"#DejaVuSans-30\"/>\n       <use xlink:href=\"#DejaVuSans-2e\" x=\"63.623047\"/>\n       <use xlink:href=\"#DejaVuSans-30\" x=\"95.410156\"/>\n      </g>\n     </g>\n    </g>\n    <g id=\"xtick_2\">\n     <g id=\"line2d_2\">\n      <g>\n       <use xlink:href=\"#m684cffd5d1\" x=\"138.062376\" y=\"273.312\" style=\"stroke: #000000; stroke-width: 0.8\"/>\n      </g>\n     </g>\n     <g id=\"text_2\">\n      <!-- 0.2 -->\n      <g transform=\"translate(130.110814 287.910437)scale(0.1 -0.1)\">\n       <defs>\n        <path id=\"DejaVuSans-32\" d=\"M 1228 531 \nL 3431 531 \nL 3431 0 \nL 469 0 \nL 469 531 \nQ 828 903 1448 1529 \nQ 2069 2156 2228 2338 \nQ 2531 2678 2651 2914 \nQ 2772 3150 2772 3378 \nQ 2772 3750 2511 3984 \nQ 2250 4219 1831 4219 \nQ 1534 4219 1204 4116 \nQ 875 4013 500 3803 \nL 500 4441 \nQ 881 4594 1212 4672 \nQ 1544 4750 1819 4750 \nQ 2544 4750 2975 4387 \nQ 3406 4025 3406 3419 \nQ 3406 3131 3298 2873 \nQ 3191 2616 2906 2266 \nQ 2828 2175 2409 1742 \nQ 1991 1309 1228 531 \nz\n\" transform=\"scale(0.015625)\"/>\n       </defs>\n       <use xlink:href=\"#DejaVuSans-30\"/>\n       <use xlink:href=\"#DejaVuSans-2e\" x=\"63.623047\"/>\n       <use xlink:href=\"#DejaVuSans-32\" x=\"95.410156\"/>\n      </g>\n     </g>\n    </g>\n    <g id=\"xtick_3\">\n     <g id=\"line2d_3\">\n      <g>\n       <use xlink:href=\"#m684cffd5d1\" x=\"197.090475\" y=\"273.312\" style=\"stroke: #000000; stroke-width: 0.8\"/>\n      </g>\n     </g>\n     <g id=\"text_3\">\n      <!-- 0.4 -->\n      <g transform=\"translate(189.138913 287.910437)scale(0.1 -0.1)\">\n       <defs>\n        <path id=\"DejaVuSans-34\" d=\"M 2419 4116 \nL 825 1625 \nL 2419 1625 \nL 2419 4116 \nz\nM 2253 4666 \nL 3047 4666 \nL 3047 1625 \nL 3713 1625 \nL 3713 1100 \nL 3047 1100 \nL 3047 0 \nL 2419 0 \nL 2419 1100 \nL 313 1100 \nL 313 1709 \nL 2253 4666 \nz\n\" transform=\"scale(0.015625)\"/>\n       </defs>\n       <use xlink:href=\"#DejaVuSans-30\"/>\n       <use xlink:href=\"#DejaVuSans-2e\" x=\"63.623047\"/>\n       <use xlink:href=\"#DejaVuSans-34\" x=\"95.410156\"/>\n      </g>\n     </g>\n    </g>\n    <g id=\"xtick_4\">\n     <g id=\"line2d_4\">\n      <g>\n       <use xlink:href=\"#m684cffd5d1\" x=\"256.118574\" y=\"273.312\" style=\"stroke: #000000; stroke-width: 0.8\"/>\n      </g>\n     </g>\n     <g id=\"text_4\">\n      <!-- 0.6 -->\n      <g transform=\"translate(248.167012 287.910437)scale(0.1 -0.1)\">\n       <defs>\n        <path id=\"DejaVuSans-36\" d=\"M 2113 2584 \nQ 1688 2584 1439 2293 \nQ 1191 2003 1191 1497 \nQ 1191 994 1439 701 \nQ 1688 409 2113 409 \nQ 2538 409 2786 701 \nQ 3034 994 3034 1497 \nQ 3034 2003 2786 2293 \nQ 2538 2584 2113 2584 \nz\nM 3366 4563 \nL 3366 3988 \nQ 3128 4100 2886 4159 \nQ 2644 4219 2406 4219 \nQ 1781 4219 1451 3797 \nQ 1122 3375 1075 2522 \nQ 1259 2794 1537 2939 \nQ 1816 3084 2150 3084 \nQ 2853 3084 3261 2657 \nQ 3669 2231 3669 1497 \nQ 3669 778 3244 343 \nQ 2819 -91 2113 -91 \nQ 1303 -91 875 529 \nQ 447 1150 447 2328 \nQ 447 3434 972 4092 \nQ 1497 4750 2381 4750 \nQ 2619 4750 2861 4703 \nQ 3103 4656 3366 4563 \nz\n\" transform=\"scale(0.015625)\"/>\n       </defs>\n       <use xlink:href=\"#DejaVuSans-30\"/>\n       <use xlink:href=\"#DejaVuSans-2e\" x=\"63.623047\"/>\n       <use xlink:href=\"#DejaVuSans-36\" x=\"95.410156\"/>\n      </g>\n     </g>\n    </g>\n    <g id=\"xtick_5\">\n     <g id=\"line2d_5\">\n      <g>\n       <use xlink:href=\"#m684cffd5d1\" x=\"315.146674\" y=\"273.312\" style=\"stroke: #000000; stroke-width: 0.8\"/>\n      </g>\n     </g>\n     <g id=\"text_5\">\n      <!-- 0.8 -->\n      <g transform=\"translate(307.195111 287.910437)scale(0.1 -0.1)\">\n       <defs>\n        <path id=\"DejaVuSans-38\" d=\"M 2034 2216 \nQ 1584 2216 1326 1975 \nQ 1069 1734 1069 1313 \nQ 1069 891 1326 650 \nQ 1584 409 2034 409 \nQ 2484 409 2743 651 \nQ 3003 894 3003 1313 \nQ 3003 1734 2745 1975 \nQ 2488 2216 2034 2216 \nz\nM 1403 2484 \nQ 997 2584 770 2862 \nQ 544 3141 544 3541 \nQ 544 4100 942 4425 \nQ 1341 4750 2034 4750 \nQ 2731 4750 3128 4425 \nQ 3525 4100 3525 3541 \nQ 3525 3141 3298 2862 \nQ 3072 2584 2669 2484 \nQ 3125 2378 3379 2068 \nQ 3634 1759 3634 1313 \nQ 3634 634 3220 271 \nQ 2806 -91 2034 -91 \nQ 1263 -91 848 271 \nQ 434 634 434 1313 \nQ 434 1759 690 2068 \nQ 947 2378 1403 2484 \nz\nM 1172 3481 \nQ 1172 3119 1398 2916 \nQ 1625 2713 2034 2713 \nQ 2441 2713 2670 2916 \nQ 2900 3119 2900 3481 \nQ 2900 3844 2670 4047 \nQ 2441 4250 2034 4250 \nQ 1625 4250 1398 4047 \nQ 1172 3844 1172 3481 \nz\n\" transform=\"scale(0.015625)\"/>\n       </defs>\n       <use xlink:href=\"#DejaVuSans-30\"/>\n       <use xlink:href=\"#DejaVuSans-2e\" x=\"63.623047\"/>\n       <use xlink:href=\"#DejaVuSans-38\" x=\"95.410156\"/>\n      </g>\n     </g>\n    </g>\n    <g id=\"xtick_6\">\n     <g id=\"line2d_6\">\n      <g>\n       <use xlink:href=\"#m684cffd5d1\" x=\"374.174773\" y=\"273.312\" style=\"stroke: #000000; stroke-width: 0.8\"/>\n      </g>\n     </g>\n     <g id=\"text_6\">\n      <!-- 1.0 -->\n      <g transform=\"translate(366.22321 287.910437)scale(0.1 -0.1)\">\n       <defs>\n        <path id=\"DejaVuSans-31\" d=\"M 794 531 \nL 1825 531 \nL 1825 4091 \nL 703 3866 \nL 703 4441 \nL 1819 4666 \nL 2450 4666 \nL 2450 531 \nL 3481 531 \nL 3481 0 \nL 794 0 \nL 794 531 \nz\n\" transform=\"scale(0.015625)\"/>\n       </defs>\n       <use xlink:href=\"#DejaVuSans-31\"/>\n       <use xlink:href=\"#DejaVuSans-2e\" x=\"63.623047\"/>\n       <use xlink:href=\"#DejaVuSans-30\" x=\"95.410156\"/>\n      </g>\n     </g>\n    </g>\n   </g>\n   <g id=\"matplotlib.axis_2\">\n    <g id=\"ytick_1\">\n     <g id=\"line2d_7\">\n      <defs>\n       <path id=\"mbf53a94ee6\" d=\"M 0 0 \nL -3.5 0 \n\" style=\"stroke: #000000; stroke-width: 0.8\"/>\n      </defs>\n      <g>\n       <use xlink:href=\"#mbf53a94ee6\" x=\"33.2875\" y=\"262.752104\" style=\"stroke: #000000; stroke-width: 0.8\"/>\n      </g>\n     </g>\n     <g id=\"text_7\">\n      <!-- 0 -->\n      <g transform=\"translate(19.925 266.551323)scale(0.1 -0.1)\">\n       <use xlink:href=\"#DejaVuSans-30\"/>\n      </g>\n     </g>\n    </g>\n    <g id=\"ytick_2\">\n     <g id=\"line2d_8\">\n      <g>\n       <use xlink:href=\"#mbf53a94ee6\" x=\"33.2875\" y=\"232.030021\" style=\"stroke: #000000; stroke-width: 0.8\"/>\n      </g>\n     </g>\n     <g id=\"text_8\">\n      <!-- 20 -->\n      <g transform=\"translate(13.5625 235.82924)scale(0.1 -0.1)\">\n       <use xlink:href=\"#DejaVuSans-32\"/>\n       <use xlink:href=\"#DejaVuSans-30\" x=\"63.623047\"/>\n      </g>\n     </g>\n    </g>\n    <g id=\"ytick_3\">\n     <g id=\"line2d_9\">\n      <g>\n       <use xlink:href=\"#mbf53a94ee6\" x=\"33.2875\" y=\"201.307937\" style=\"stroke: #000000; stroke-width: 0.8\"/>\n      </g>\n     </g>\n     <g id=\"text_9\">\n      <!-- 40 -->\n      <g transform=\"translate(13.5625 205.107156)scale(0.1 -0.1)\">\n       <use xlink:href=\"#DejaVuSans-34\"/>\n       <use xlink:href=\"#DejaVuSans-30\" x=\"63.623047\"/>\n      </g>\n     </g>\n    </g>\n    <g id=\"ytick_4\">\n     <g id=\"line2d_10\">\n      <g>\n       <use xlink:href=\"#mbf53a94ee6\" x=\"33.2875\" y=\"170.585854\" style=\"stroke: #000000; stroke-width: 0.8\"/>\n      </g>\n     </g>\n     <g id=\"text_10\">\n      <!-- 60 -->\n      <g transform=\"translate(13.5625 174.385073)scale(0.1 -0.1)\">\n       <use xlink:href=\"#DejaVuSans-36\"/>\n       <use xlink:href=\"#DejaVuSans-30\" x=\"63.623047\"/>\n      </g>\n     </g>\n    </g>\n    <g id=\"ytick_5\">\n     <g id=\"line2d_11\">\n      <g>\n       <use xlink:href=\"#mbf53a94ee6\" x=\"33.2875\" y=\"139.863771\" style=\"stroke: #000000; stroke-width: 0.8\"/>\n      </g>\n     </g>\n     <g id=\"text_11\">\n      <!-- 80 -->\n      <g transform=\"translate(13.5625 143.662989)scale(0.1 -0.1)\">\n       <use xlink:href=\"#DejaVuSans-38\"/>\n       <use xlink:href=\"#DejaVuSans-30\" x=\"63.623047\"/>\n      </g>\n     </g>\n    </g>\n    <g id=\"ytick_6\">\n     <g id=\"line2d_12\">\n      <g>\n       <use xlink:href=\"#mbf53a94ee6\" x=\"33.2875\" y=\"109.141687\" style=\"stroke: #000000; stroke-width: 0.8\"/>\n      </g>\n     </g>\n     <g id=\"text_12\">\n      <!-- 100 -->\n      <g transform=\"translate(7.2 112.940906)scale(0.1 -0.1)\">\n       <use xlink:href=\"#DejaVuSans-31\"/>\n       <use xlink:href=\"#DejaVuSans-30\" x=\"63.623047\"/>\n       <use xlink:href=\"#DejaVuSans-30\" x=\"127.246094\"/>\n      </g>\n     </g>\n    </g>\n    <g id=\"ytick_7\">\n     <g id=\"line2d_13\">\n      <g>\n       <use xlink:href=\"#mbf53a94ee6\" x=\"33.2875\" y=\"78.419604\" style=\"stroke: #000000; stroke-width: 0.8\"/>\n      </g>\n     </g>\n     <g id=\"text_13\">\n      <!-- 120 -->\n      <g transform=\"translate(7.2 82.218823)scale(0.1 -0.1)\">\n       <use xlink:href=\"#DejaVuSans-31\"/>\n       <use xlink:href=\"#DejaVuSans-32\" x=\"63.623047\"/>\n       <use xlink:href=\"#DejaVuSans-30\" x=\"127.246094\"/>\n      </g>\n     </g>\n    </g>\n    <g id=\"ytick_8\">\n     <g id=\"line2d_14\">\n      <g>\n       <use xlink:href=\"#mbf53a94ee6\" x=\"33.2875\" y=\"47.69752\" style=\"stroke: #000000; stroke-width: 0.8\"/>\n      </g>\n     </g>\n     <g id=\"text_14\">\n      <!-- 140 -->\n      <g transform=\"translate(7.2 51.496739)scale(0.1 -0.1)\">\n       <use xlink:href=\"#DejaVuSans-31\"/>\n       <use xlink:href=\"#DejaVuSans-34\" x=\"63.623047\"/>\n       <use xlink:href=\"#DejaVuSans-30\" x=\"127.246094\"/>\n      </g>\n     </g>\n    </g>\n    <g id=\"ytick_9\">\n     <g id=\"line2d_15\">\n      <g>\n       <use xlink:href=\"#mbf53a94ee6\" x=\"33.2875\" y=\"16.975437\" style=\"stroke: #000000; stroke-width: 0.8\"/>\n      </g>\n     </g>\n     <g id=\"text_15\">\n      <!-- 160 -->\n      <g transform=\"translate(7.2 20.774656)scale(0.1 -0.1)\">\n       <use xlink:href=\"#DejaVuSans-31\"/>\n       <use xlink:href=\"#DejaVuSans-36\" x=\"63.623047\"/>\n       <use xlink:href=\"#DejaVuSans-30\" x=\"127.246094\"/>\n      </g>\n     </g>\n    </g>\n   </g>\n   <g id=\"line2d_16\">\n    <path d=\"M 49.520227 19.296 \nL 56.14583 43.20753 \nL 62.771433 64.770541 \nL 69.397036 84.215697 \nL 76.022639 101.751009 \nL 82.648242 117.564054 \nL 89.273845 131.82399 \nL 95.899448 144.683357 \nL 102.525051 156.279716 \nL 109.150654 166.737115 \nL 115.776257 176.16742 \nL 122.40186 184.671509 \nL 129.027463 192.340351 \nL 135.653066 199.255983 \nL 142.278669 205.492382 \nL 148.904272 211.11626 \nL 155.529875 216.187778 \nL 162.155478 220.761187 \nL 168.781081 224.885409 \nL 175.406684 228.604563 \nL 182.032287 231.958432 \nL 188.65789 234.982894 \nL 195.283493 237.710303 \nL 201.909096 240.169834 \nL 208.534699 242.387797 \nL 215.160301 244.387918 \nL 221.785904 246.191593 \nL 228.411507 247.818117 \nL 235.03711 249.284889 \nL 241.662713 250.607598 \nL 248.288316 251.800395 \nL 254.913919 252.876039 \nL 261.539522 253.846037 \nL 268.165125 254.720764 \nL 274.790728 255.509578 \nL 281.416331 256.220917 \nL 288.041934 256.862391 \nL 294.667537 257.440861 \nL 301.29314 257.962515 \nL 307.918743 258.432935 \nL 314.544346 258.85715 \nL 321.169949 259.239701 \nL 327.795552 259.584679 \nL 334.421155 259.895774 \nL 341.046758 260.176314 \nL 347.672361 260.4293 \nL 354.297964 260.657439 \nL 360.923567 260.863171 \nL 367.54917 261.048696 \nL 374.174773 261.216 \n\" clip-path=\"url(#p4522eb10e5)\" style=\"fill: none; stroke: #1f77b4; stroke-width: 1.5; stroke-linecap: square\"/>\n   </g>\n   <g id=\"line2d_17\">\n    <path d=\"M 49.520227 69.368047 \nL 56.14583 79.110242 \nL 62.771433 88.36165 \nL 69.397036 97.146996 \nL 76.022639 105.489758 \nL 82.648242 113.412234 \nL 89.273845 120.935595 \nL 95.899448 128.079949 \nL 102.525051 134.864388 \nL 109.150654 141.307045 \nL 115.776257 147.425137 \nL 122.40186 153.235015 \nL 129.027463 158.752206 \nL 135.653066 163.991456 \nL 142.278669 168.966765 \nL 148.904272 173.691431 \nL 155.529875 178.17808 \nL 162.155478 182.438704 \nL 168.781081 186.484688 \nL 175.406684 190.326845 \nL 182.032287 193.975445 \nL 188.65789 197.440237 \nL 195.283493 200.730483 \nL 201.909096 203.854974 \nL 208.534699 206.822061 \nL 215.160301 209.639673 \nL 221.785904 212.315342 \nL 228.411507 214.856217 \nL 235.03711 217.26909 \nL 241.662713 219.560408 \nL 248.288316 221.736295 \nL 254.913919 223.802567 \nL 261.539522 225.764745 \nL 268.165125 227.628074 \nL 274.790728 229.397533 \nL 281.416331 231.077851 \nL 288.041934 232.673519 \nL 294.667537 234.188801 \nL 301.29314 235.627748 \nL 307.918743 236.994204 \nL 314.544346 238.291821 \nL 321.169949 239.524067 \nL 327.795552 240.694237 \nL 334.421155 241.805456 \nL 341.046758 242.860694 \nL 347.672361 243.862773 \nL 354.297964 244.814369 \nL 360.923567 245.718026 \nL 367.54917 246.57616 \nL 374.174773 247.391062 \n\" clip-path=\"url(#p4522eb10e5)\" style=\"fill: none; stroke: #ff7f0e; stroke-width: 1.5; stroke-linecap: square\"/>\n   </g>\n   <g id=\"line2d_18\">\n    <path d=\"M 49.520227 261.216 \nL 56.14583 261.216 \nL 62.771433 261.216 \nL 69.397036 261.216 \nL 76.022639 261.216 \nL 82.648242 261.216 \nL 89.273845 261.216 \nL 95.899448 261.216 \nL 102.525051 261.216 \nL 109.150654 261.216 \nL 115.776257 261.216 \nL 122.40186 261.216 \nL 129.027463 261.216 \nL 135.653066 261.216 \nL 142.278669 261.216 \nL 148.904272 261.216 \nL 155.529875 261.216 \nL 162.155478 261.216 \nL 168.781081 261.216 \nL 175.406684 261.216 \nL 182.032287 261.216 \nL 188.65789 261.216 \nL 195.283493 261.216 \nL 201.909096 261.216 \nL 208.534699 261.216 \nL 215.160301 261.216 \nL 221.785904 261.216 \nL 228.411507 261.216 \nL 235.03711 261.216 \nL 241.662713 261.216 \nL 248.288316 261.216 \nL 254.913919 261.216 \nL 261.539522 261.216 \nL 268.165125 261.216 \nL 274.790728 261.216 \nL 281.416331 261.216 \nL 288.041934 261.216 \nL 294.667537 261.216 \nL 301.29314 261.216 \nL 307.918743 261.216 \nL 314.544346 261.216 \nL 321.169949 261.216 \nL 327.795552 261.216 \nL 334.421155 261.216 \nL 341.046758 261.216 \nL 347.672361 261.216 \nL 354.297964 261.216 \nL 360.923567 261.216 \nL 367.54917 261.216 \nL 374.174773 261.216 \n\" clip-path=\"url(#p4522eb10e5)\" style=\"fill: none; stroke: #2ca02c; stroke-width: 1.5; stroke-linecap: square\"/>\n   </g>\n   <g id=\"patch_3\">\n    <path d=\"M 33.2875 273.312 \nL 33.2875 7.2 \n\" style=\"fill: none; stroke: #000000; stroke-width: 0.8; stroke-linejoin: miter; stroke-linecap: square\"/>\n   </g>\n   <g id=\"patch_4\">\n    <path d=\"M 390.4075 273.312 \nL 390.4075 7.2 \n\" style=\"fill: none; stroke: #000000; stroke-width: 0.8; stroke-linejoin: miter; stroke-linecap: square\"/>\n   </g>\n   <g id=\"patch_5\">\n    <path d=\"M 33.2875 273.312 \nL 390.4075 273.312 \n\" style=\"fill: none; stroke: #000000; stroke-width: 0.8; stroke-linejoin: miter; stroke-linecap: square\"/>\n   </g>\n   <g id=\"patch_6\">\n    <path d=\"M 33.2875 7.2 \nL 390.4075 7.2 \n\" style=\"fill: none; stroke: #000000; stroke-width: 0.8; stroke-linejoin: miter; stroke-linecap: square\"/>\n   </g>\n  </g>\n </g>\n <defs>\n  <clipPath id=\"p4522eb10e5\">\n   <rect x=\"33.2875\" y=\"7.2\" width=\"357.12\" height=\"266.112\"/>\n  </clipPath>\n </defs>\n</svg>\n",
      "text/plain": [
       "<Figure size 640x480 with 1 Axes>"
      ]
     },
     "metadata": {},
     "output_type": "display_data"
    }
   ],
   "source": [
    "import numpy as np\n",
    "gap = np.linspace(-0.1,1)\n",
    "plt.plot(gap, [100**(1-g) for g in gap])\n",
    "plt.plot(gap, [100 * 10**(-g) for g in gap])\n",
    "plt.plot(gap, [1]*len(gap))\n",
    "plt.show()"
   ]
  },
  {
   "cell_type": "markdown",
   "metadata": {},
   "source": [
    "## 计算特征的均值和方差"
   ]
  },
  {
   "cell_type": "code",
   "execution_count": 2,
   "metadata": {},
   "outputs": [],
   "source": [
    "import os\n",
    "import pickle\n",
    "from matplotlib import pyplot as plt\n",
    "import matplotlib\n",
    "%matplotlib inline\n",
    "%config InlineBackend.figure_format = 'svg'\n",
    "\n",
    "# 设置matplotlib正常显示中文和负号\n",
    "# matplotlib.rcParams['font.sans-serif']=['SimHei']   # 用黑体显示中文\n",
    "# matplotlib.rcParams['axes.unicode_minus']=False     # 正常显示负号"
   ]
  },
  {
   "cell_type": "code",
   "execution_count": 2,
   "metadata": {},
   "outputs": [],
   "source": [
    "path = os.path.join('..', 'no_post_process')"
   ]
  },
  {
   "cell_type": "code",
   "execution_count": 4,
   "metadata": {},
   "outputs": [],
   "source": [
    "with open(path + '/memory_a=100_e=0.05_g=0.95_lr=0.1_seed=523_06.44-11.28.pkl',\"rb\") as f:\n",
    "    memory = pickle.load(f)"
   ]
  },
  {
   "cell_type": "code",
   "execution_count": 7,
   "metadata": {},
   "outputs": [],
   "source": [
    "from collections import namedtuple, deque\n",
    "\n",
    "Transition = namedtuple('Transition',\n",
    "                        ('state', 'action', 'next_state', 'reward', 'done'))\n",
    "batch = Transition(*zip(*memory))"
   ]
  },
  {
   "cell_type": "code",
   "execution_count": 11,
   "metadata": {},
   "outputs": [],
   "source": [
    "state = batch.state"
   ]
  },
  {
   "cell_type": "code",
   "execution_count": 22,
   "metadata": {},
   "outputs": [],
   "source": [
    "import numpy as np\n",
    "\n",
    "state_array = np.array([s.cpu().numpy() for s in state])"
   ]
  },
  {
   "cell_type": "code",
   "execution_count": 23,
   "metadata": {},
   "outputs": [
    {
     "data": {
      "text/plain": [
       "(100000, 14)"
      ]
     },
     "execution_count": 23,
     "metadata": {},
     "output_type": "execute_result"
    }
   ],
   "source": [
    "state_array.shape"
   ]
  },
  {
   "cell_type": "code",
   "execution_count": 34,
   "metadata": {},
   "outputs": [
    {
     "data": {
      "text/plain": [
       "array([0.954917  , 1.1277101 , 0.33333334, 0.13815789, 0.3329346 ,\n",
       "       0.7358393 , 0.58611166, 0.6753589 , 0.6879298 , 0.67452073,\n",
       "       0.33401698, 0.35626873, 0.31293154, 0.03773148], dtype=float32)"
      ]
     },
     "execution_count": 34,
     "metadata": {},
     "output_type": "execute_result"
    }
   ],
   "source": [
    "state_array[10000]"
   ]
  },
  {
   "cell_type": "code",
   "execution_count": 28,
   "metadata": {},
   "outputs": [
    {
     "data": {
      "text/plain": [
       "array([0.06044082, 0.20721085, 0.14330077, 0.2406444 , 0.05192028,\n",
       "       0.01829603, 0.01080656, 0.00560187, 0.01209558, 0.00559653,\n",
       "       0.02418068, 0.0264779 , 0.02734187, 0.00158831], dtype=float32)"
      ]
     },
     "execution_count": 28,
     "metadata": {},
     "output_type": "execute_result"
    }
   ],
   "source": [
    "state_array.std(axis=0)"
   ]
  },
  {
   "cell_type": "code",
   "execution_count": 29,
   "metadata": {},
   "outputs": [
    {
     "data": {
      "text/plain": [
       "array([0.95413005, 1.4853836 , 0.19878565, 0.31273198, 0.3727517 ,\n",
       "       0.7851811 , 0.59754086, 0.68442655, 0.69573   , 0.6840644 ,\n",
       "       0.35038525, 0.37444982, 0.33625013, 0.03794398], dtype=float32)"
      ]
     },
     "execution_count": 29,
     "metadata": {},
     "output_type": "execute_result"
    }
   ],
   "source": [
    "state_array.mean(axis=0)"
   ]
  },
  {
   "cell_type": "code",
   "execution_count": 35,
   "metadata": {},
   "outputs": [],
   "source": [
    "state_mean = state_array.mean(axis=0)\n",
    "state_std = state_array.std(axis=0)\n",
    "norm_state = (state_array - state_mean) / state_std"
   ]
  },
  {
   "cell_type": "code",
   "execution_count": 37,
   "metadata": {},
   "outputs": [
    {
     "data": {
      "text/plain": [
       "array([1.0001413 , 1.0000025 , 0.99986446, 0.99990857, 1.0000013 ,\n",
       "       0.9999984 , 0.999965  , 0.9999601 , 0.9999869 , 0.9999577 ,\n",
       "       1.0000257 , 1.0000468 , 0.9999582 , 0.99996716], dtype=float32)"
      ]
     },
     "execution_count": 37,
     "metadata": {},
     "output_type": "execute_result"
    }
   ],
   "source": [
    "norm_state.std(0)"
   ]
  },
  {
   "cell_type": "code",
   "execution_count": 38,
   "metadata": {},
   "outputs": [
    {
     "data": {
      "text/plain": [
       "array([ 0.75892323,  1.4329327 , -1.3871918 , -1.2995607 , -0.80437416,\n",
       "        1.0266699 , -0.997215  ,  0.13288468, -0.4363472 ,  0.1730777 ,\n",
       "       -0.5671736 , -0.6151899 , -1.1542761 ,  1.3317168 ], dtype=float32)"
      ]
     },
     "execution_count": 38,
     "metadata": {},
     "output_type": "execute_result"
    }
   ],
   "source": [
    "norm_state[100]"
   ]
  },
  {
   "cell_type": "markdown",
   "metadata": {},
   "source": [
    "### 多次测量取平均"
   ]
  },
  {
   "cell_type": "code",
   "execution_count": 39,
   "metadata": {},
   "outputs": [
    {
     "name": "stdout",
     "output_type": "stream",
     "text": [
      "[0.95413005 1.4853836  0.19878565 0.31273198 0.3727517  0.7851811\n",
      " 0.59754086 0.68442655 0.69573    0.6840644  0.35038525 0.37444982\n",
      " 0.33625013 0.03794398]\n",
      "[0.95722693 1.4820637  0.19291174 0.30196476 0.36751524 0.78393376\n",
      " 0.5974532  0.68461615 0.6951465  0.6842484  0.35157228 0.37572894\n",
      " 0.33835757 0.03782194]\n",
      "[0.96013206 1.3576344  0.18577375 0.2731778  0.35895392 0.7739369\n",
      " 0.597235   0.6845961  0.69507563 0.6842113  0.35203764 0.37602556\n",
      " 0.3376192  0.03789463]\n"
     ]
    }
   ],
   "source": [
    "file_list = [\n",
    "    \"memory_a=100_e=0.05_g=0.95_lr=0.1_seed=523_06.44-11.28.pkl\",\n",
    "    \"memory_a=100_e=0.05_g=0.95_lr=0.01_seed=123_18.13-11.28.pkl\",\n",
    "    \"memory_a=100_e=0.05_g=0.95_lr=0.01_seed=523_06.14-11.29.pkl\"\n",
    "]\n",
    "state_mean_list = []\n",
    "for file in file_list:\n",
    "    with open(path + '/' + file, \"rb\") as f:\n",
    "        memory = pickle.load(f)\n",
    "    batch = Transition(*zip(*memory))\n",
    "    state = batch.state\n",
    "    state_array = np.array([s.cpu().numpy() for s in state])\n",
    "    state_mean = state_array.mean(axis=0)\n",
    "    print(state_mean)\n",
    "    state_mean_list.append(state_mean)"
   ]
  },
  {
   "cell_type": "code",
   "execution_count": 41,
   "metadata": {},
   "outputs": [
    {
     "data": {
      "text/plain": [
       "array([0.95413005, 1.4853836 , 0.19878565, 0.31273198, 0.3727517 ,\n",
       "       0.7851811 , 0.59754086, 0.68442655, 0.69573   , 0.6840644 ,\n",
       "       0.35038525, 0.37444982, 0.33625013, 0.03794398], dtype=float32)"
      ]
     },
     "execution_count": 41,
     "metadata": {},
     "output_type": "execute_result"
    }
   ],
   "source": [
    "state_mean_list[0]"
   ]
  },
  {
   "cell_type": "code",
   "execution_count": 42,
   "metadata": {},
   "outputs": [
    {
     "data": {
      "text/plain": [
       "array([0.95722693, 1.4820637 , 0.19291174, 0.30196476, 0.36751524,\n",
       "       0.78393376, 0.5974532 , 0.68461615, 0.6951465 , 0.6842484 ,\n",
       "       0.35157228, 0.37572894, 0.33835757, 0.03782194], dtype=float32)"
      ]
     },
     "execution_count": 42,
     "metadata": {},
     "output_type": "execute_result"
    }
   ],
   "source": [
    "state_mean_list[1]"
   ]
  },
  {
   "cell_type": "code",
   "execution_count": 43,
   "metadata": {},
   "outputs": [
    {
     "data": {
      "text/plain": [
       "array([0.95567846, 1.4837236 , 0.1958487 , 0.30734837, 0.37013346,\n",
       "       0.78455746, 0.597497  , 0.6845213 , 0.69543827, 0.6841564 ,\n",
       "       0.35097876, 0.37508938, 0.33730385, 0.03788296], dtype=float32)"
      ]
     },
     "execution_count": 43,
     "metadata": {},
     "output_type": "execute_result"
    }
   ],
   "source": [
    "(state_mean_list[0] + state_mean_list[1]) / 2"
   ]
  },
  {
   "cell_type": "code",
   "execution_count": null,
   "metadata": {},
   "outputs": [],
   "source": []
  },
  {
   "cell_type": "markdown",
   "metadata": {},
   "source": []
  },
  {
   "cell_type": "code",
   "execution_count": null,
   "metadata": {},
   "outputs": [],
   "source": []
  }
 ],
 "metadata": {
  "kernelspec": {
   "display_name": "Python 3.7.0 ('pytorch')",
   "language": "python",
   "name": "python3"
  },
  "language_info": {
   "codemirror_mode": {
    "name": "ipython",
    "version": 3
   },
   "file_extension": ".py",
   "mimetype": "text/x-python",
   "name": "python",
   "nbconvert_exporter": "python",
   "pygments_lexer": "ipython3",
   "version": "3.7.0"
  },
  "orig_nbformat": 4,
  "vscode": {
   "interpreter": {
    "hash": "1e0b58d81b9fa0633d676dba5d80a041f8e4117ac017a70d5199bc054e30a544"
   }
  }
 },
 "nbformat": 4,
 "nbformat_minor": 2
}
